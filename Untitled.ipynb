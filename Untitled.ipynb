{
 "cells": [
  {
   "cell_type": "code",
   "execution_count": 2,
   "id": "3c5b9347-9e3e-4bb2-b917-70c8081ebbe6",
   "metadata": {},
   "outputs": [],
   "source": [
    "from sympy import Matrix, symbols\n",
    "n = symbols(\"n\")"
   ]
  },
  {
   "cell_type": "code",
   "execution_count": 10,
   "id": "50ffd022-8475-4412-b4ba-6174c6f5cbd9",
   "metadata": {},
   "outputs": [
    {
     "name": "stdout",
     "output_type": "stream",
     "text": [
      "El rango es 2\n"
     ]
    }
   ],
   "source": [
    "# Por ejemplo: para n = 2\n",
    "\n",
    "A = Matrix([\n",
    "    [1/n, -1/(n*(n-1))], \n",
    "    [-1/(n*(n-1)), 1/n]\n",
    "])\n",
    "print(f\"El rango es {A.rank()}\") #Calcula el rango"
   ]
  },
  {
   "cell_type": "code",
   "execution_count": 11,
   "id": "4bf2037b-a4bc-4d1c-aa73-d27ccf2a3d09",
   "metadata": {},
   "outputs": [
    {
     "name": "stdout",
     "output_type": "stream",
     "text": [
      "El rango es 3\n"
     ]
    }
   ],
   "source": [
    "# Por ejemplo: para n = 3\n",
    "\n",
    "A = Matrix([\n",
    "    [1/n, -1/(n*(n-1)), -1/(n*(n-1))], \n",
    "    [-1/(n*(n-1)), 1/n, -1/(n*(n-1))],\n",
    "    [-1/(n*(n-1)), -1/(n*(n-1)), 1/n]\n",
    "])\n",
    "print(f\"El rango es {A.rank()}\")"
   ]
  },
  {
   "cell_type": "code",
   "execution_count": 12,
   "id": "816a0730-9e1d-4ab1-9fee-3345fd317fd1",
   "metadata": {},
   "outputs": [
    {
     "name": "stdout",
     "output_type": "stream",
     "text": [
      "El rango es 4\n"
     ]
    }
   ],
   "source": [
    "# Por ejemplo: para n = 4\n",
    "\n",
    "A = Matrix([\n",
    "    [1/n, -1/(n*(n-1)), -1/(n*(n-1)), -1/(n*(n-1))], \n",
    "    [-1/(n*(n-1)), 1/n, -1/(n*(n-1)), -1/(n*(n-1))],\n",
    "    [-1/(n*(n-1)), -1/(n*(n-1)), 1/n, -1/(n*(n-1))],\n",
    "    [-1/(n*(n-1)), -1/(n*(n-1)), -1/(n*(n-1)), 1/n]\n",
    "])\n",
    "print(f\"El rango es {A.rank()}\")"
   ]
  },
  {
   "cell_type": "code",
   "execution_count": null,
   "id": "31acb5ce-d07e-45dc-a16c-0d1fb3188365",
   "metadata": {},
   "outputs": [],
   "source": []
  }
 ],
 "metadata": {
  "kernelspec": {
   "display_name": "Python 3 (ipykernel)",
   "language": "python",
   "name": "python3"
  },
  "language_info": {
   "codemirror_mode": {
    "name": "ipython",
    "version": 3
   },
   "file_extension": ".py",
   "mimetype": "text/x-python",
   "name": "python",
   "nbconvert_exporter": "python",
   "pygments_lexer": "ipython3",
   "version": "3.11.4"
  }
 },
 "nbformat": 4,
 "nbformat_minor": 5
}
