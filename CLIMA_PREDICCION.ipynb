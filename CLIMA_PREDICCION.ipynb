{
  "nbformat": 4,
  "nbformat_minor": 0,
  "metadata": {
    "colab": {
      "provenance": [],
      "authorship_tag": "ABX9TyPiI3Cp1l0gMHHmJucSkAsx",
      "include_colab_link": true
    },
    "kernelspec": {
      "name": "python3",
      "display_name": "Python 3"
    },
    "language_info": {
      "name": "python"
    }
  },
  "cells": [
    {
      "cell_type": "markdown",
      "metadata": {
        "id": "view-in-github",
        "colab_type": "text"
      },
      "source": [
        "<a href=\"https://colab.research.google.com/github/LuisMi1245/Protocolo_Swapping_QISKIT/blob/main/CLIMA_PREDICCION.ipynb\" target=\"_parent\"><img src=\"https://colab.research.google.com/assets/colab-badge.svg\" alt=\"Open In Colab\"/></a>"
      ]
    },
    {
      "cell_type": "code",
      "execution_count": 1,
      "metadata": {
        "colab": {
          "base_uri": "https://localhost:8080/"
        },
        "collapsed": true,
        "id": "XPuRznRwo6Nl",
        "outputId": "b8d28135-daee-4e52-98f0-c29b94bc10f7"
      },
      "outputs": [
        {
          "output_type": "stream",
          "name": "stdout",
          "text": [
            "Requirement already satisfied: torch in /usr/local/lib/python3.11/dist-packages (2.6.0+cu124)\n",
            "Requirement already satisfied: torchvision in /usr/local/lib/python3.11/dist-packages (0.21.0+cu124)\n",
            "Requirement already satisfied: torchaudio in /usr/local/lib/python3.11/dist-packages (2.6.0+cu124)\n",
            "Requirement already satisfied: filelock in /usr/local/lib/python3.11/dist-packages (from torch) (3.18.0)\n",
            "Requirement already satisfied: typing-extensions>=4.10.0 in /usr/local/lib/python3.11/dist-packages (from torch) (4.13.2)\n",
            "Requirement already satisfied: networkx in /usr/local/lib/python3.11/dist-packages (from torch) (3.5)\n",
            "Requirement already satisfied: jinja2 in /usr/local/lib/python3.11/dist-packages (from torch) (3.1.6)\n",
            "Requirement already satisfied: fsspec in /usr/local/lib/python3.11/dist-packages (from torch) (2025.3.2)\n",
            "Requirement already satisfied: nvidia-cuda-nvrtc-cu12==12.4.127 in /usr/local/lib/python3.11/dist-packages (from torch) (12.4.127)\n",
            "Requirement already satisfied: nvidia-cuda-runtime-cu12==12.4.127 in /usr/local/lib/python3.11/dist-packages (from torch) (12.4.127)\n",
            "Requirement already satisfied: nvidia-cuda-cupti-cu12==12.4.127 in /usr/local/lib/python3.11/dist-packages (from torch) (12.4.127)\n",
            "Requirement already satisfied: nvidia-cudnn-cu12==9.1.0.70 in /usr/local/lib/python3.11/dist-packages (from torch) (9.1.0.70)\n",
            "Requirement already satisfied: nvidia-cublas-cu12==12.4.5.8 in /usr/local/lib/python3.11/dist-packages (from torch) (12.4.5.8)\n",
            "Requirement already satisfied: nvidia-cufft-cu12==11.2.1.3 in /usr/local/lib/python3.11/dist-packages (from torch) (11.2.1.3)\n",
            "Requirement already satisfied: nvidia-curand-cu12==10.3.5.147 in /usr/local/lib/python3.11/dist-packages (from torch) (10.3.5.147)\n",
            "Requirement already satisfied: nvidia-cusolver-cu12==11.6.1.9 in /usr/local/lib/python3.11/dist-packages (from torch) (11.6.1.9)\n",
            "Requirement already satisfied: nvidia-cusparse-cu12==12.3.1.170 in /usr/local/lib/python3.11/dist-packages (from torch) (12.3.1.170)\n",
            "Requirement already satisfied: nvidia-cusparselt-cu12==0.6.2 in /usr/local/lib/python3.11/dist-packages (from torch) (0.6.2)\n",
            "Requirement already satisfied: nvidia-nccl-cu12==2.21.5 in /usr/local/lib/python3.11/dist-packages (from torch) (2.21.5)\n",
            "Requirement already satisfied: nvidia-nvtx-cu12==12.4.127 in /usr/local/lib/python3.11/dist-packages (from torch) (12.4.127)\n",
            "Requirement already satisfied: nvidia-nvjitlink-cu12==12.4.127 in /usr/local/lib/python3.11/dist-packages (from torch) (12.4.127)\n",
            "Requirement already satisfied: triton==3.2.0 in /usr/local/lib/python3.11/dist-packages (from torch) (3.2.0)\n",
            "Requirement already satisfied: sympy==1.13.1 in /usr/local/lib/python3.11/dist-packages (from torch) (1.13.1)\n",
            "Requirement already satisfied: mpmath<1.4,>=1.1.0 in /usr/local/lib/python3.11/dist-packages (from sympy==1.13.1->torch) (1.3.0)\n",
            "Requirement already satisfied: numpy in /usr/local/lib/python3.11/dist-packages (from torchvision) (2.0.2)\n",
            "Requirement already satisfied: pillow!=8.3.*,>=5.3.0 in /usr/local/lib/python3.11/dist-packages (from torchvision) (11.2.1)\n",
            "Requirement already satisfied: MarkupSafe>=2.0 in /usr/local/lib/python3.11/dist-packages (from jinja2->torch) (3.0.2)\n"
          ]
        }
      ],
      "source": [
        "!pip3 install torch torchvision torchaudio"
      ]
    },
    {
      "cell_type": "markdown",
      "source": [
        "# PASO 1 y 2: IMPORTAR LIBRERÍAS Y CREAR LOS DATOS"
      ],
      "metadata": {
        "id": "0dHPfAnJwICE"
      }
    },
    {
      "cell_type": "code",
      "source": [
        "\n",
        "import torch\n",
        "import torch.nn as nn\n",
        "\n",
        "print(\"¡PyTorch está listo! ✨\")\n",
        "\n",
        "# Datos de entrada\n",
        "X_datos = torch.tensor([\n",
        "    # Día 1: Llovió\n",
        "    [25.0, 80.0, 1.0],\n",
        "    # Día 2: Llovió\n",
        "    [22.0, 85.0, 1.0],\n",
        "    # Día 3: No llovió\n",
        "    [28.0, 60.0, 0.0],\n",
        "    # Día 4: No llovió\n",
        "    [30.0, 50.0, 0.0],\n",
        "    # Día 5: Sí llovió\n",
        "    [20.0, 90.0, 1.0],\n",
        "    # Día 6: Sí llovió\n",
        "    [23.0, 88.0, 1.0],\n",
        "], dtype=torch.float32)\n",
        "\n",
        "# Datos de salida. Cada fila corresponde a la predicción para el día siguiente de X_datos.\n",
        "y_datos = torch.tensor([\n",
        "    [1.0],  # Predicción para el Día 2 -> Sí llovió (coincide con X_datos[1])\n",
        "    [0.0],  # Predicción para el Día 3 -> No llovió (coincide con X_datos[2])\n",
        "    [0.0],  # Predicción para el Día 4 -> No llovió (coincide con X_datos[3])\n",
        "    [1.0],  # Predicción para el Día 5 -> Sí llovió (coincide con X_datos[4])\n",
        "    [1.0],  # Predicción para el Día 6 -> Sí llovió (coincide con X_datos[5])\n",
        "    [0.0],  # Predicción para el Día 7 (Asumimos que no llovió después)\n",
        "], dtype=torch.float32)\n",
        "\n",
        "print(\"Usando el conjunto de datos...\")"
      ],
      "metadata": {
        "colab": {
          "base_uri": "https://localhost:8080/"
        },
        "id": "M5jMW4Umq06_",
        "outputId": "02e78de4-cf5e-4333-d0f4-44996a377e1c"
      },
      "execution_count": 2,
      "outputs": [
        {
          "output_type": "stream",
          "name": "stdout",
          "text": [
            "¡PyTorch está listo! ✨\n",
            "Usando el conjunto de datos...\n"
          ]
        }
      ]
    },
    {
      "cell_type": "markdown",
      "source": [
        "# PASO 3: DISEÑAR LA ARQUITECTURA DE LA RED NEURONAL"
      ],
      "metadata": {
        "id": "E3DXAUC9wPU2"
      }
    },
    {
      "cell_type": "code",
      "source": [
        "class PredecirLluvia(nn.Module):\n",
        "    def __init__(self):\n",
        "        super(PredecirLluvia, self).__init__()\n",
        "        self.capa1 = nn.Linear(3, 5)\n",
        "        self.capa2 = nn.Linear(5, 1)\n",
        "\n",
        "    def forward(self, x):\n",
        "        x = torch.relu(self.capa1(x))\n",
        "        x = torch.sigmoid(self.capa2(x))\n",
        "        return x\n",
        "\n",
        "modelo = PredecirLluvia()"
      ],
      "metadata": {
        "id": "VxQTcC0-q11n"
      },
      "execution_count": 3,
      "outputs": []
    },
    {
      "cell_type": "markdown",
      "source": [
        "# PASO 4: DEFINIR FUNCIÓN DE PÉRDIDA Y OPTIMIZADOR"
      ],
      "metadata": {
        "id": "jbdKR2ZewYXo"
      }
    },
    {
      "cell_type": "code",
      "source": [
        "funcion_de_perdida = nn.BCELoss()\n",
        "optimizador = torch.optim.Adam(modelo.parameters(), lr=0.01)"
      ],
      "metadata": {
        "id": "atrXyTHlq8q_"
      },
      "execution_count": 4,
      "outputs": []
    },
    {
      "cell_type": "code",
      "source": [
        "# ===================================================================\n",
        "# PASO 5: EL ENTRENAMIENTO\n",
        "# ===================================================================\n",
        "epocas = 000\n",
        "print(\"\\n--- ¡Comenzando el entrenamiento! ---\")\n",
        "\n",
        "for epoca in range(epocas):\n",
        "    predicciones = modelo(X_datos)\n",
        "    perdida = funcion_de_perdida(predicciones, y_datos)\n",
        "    optimizador.zero_grad()\n",
        "    perdida.backward()\n",
        "    optimizador.step()\n",
        "    if (epoca + 1) % 100 == 0:\n",
        "        print(f'Época [{epoca+1}/{epocas}], Pérdida: {perdida.item():.4f}')\n",
        "\n",
        "print(\"--- ¡Entrenamiento completado! ---\")"
      ],
      "metadata": {
        "colab": {
          "base_uri": "https://localhost:8080/"
        },
        "id": "eEtG922hq_hZ",
        "outputId": "85fe1013-5cdc-4d65-8c58-0f0d79e142e3"
      },
      "execution_count": 5,
      "outputs": [
        {
          "output_type": "stream",
          "name": "stdout",
          "text": [
            "\n",
            "--- ¡Comenzando el entrenamiento! ---\n",
            "--- ¡Entrenamiento completado! ---\n"
          ]
        }
      ]
    },
    {
      "cell_type": "markdown",
      "source": [
        "# PASO 6: HACER UNA NUEVA PREDICCIÓN"
      ],
      "metadata": {
        "id": "IcncuBuKwbhd"
      }
    },
    {
      "cell_type": "code",
      "source": [
        "modelo.eval()\n",
        "nuevo_dato = torch.tensor([[27.0, 68.0, 0.0]], dtype=torch.float32) # Día con 27°C, 68% humedad, no llovió\n",
        "\n",
        "with torch.no_grad():\n",
        "    prediccion_final = modelo(nuevo_dato)\n",
        "    resultado_texto = \"Sí lloverá 🌧️\" if prediccion_final.item() > 0.5 else \"No lloverá ☀️\"\n",
        "\n",
        "print(f\"\\nPredicción para el nuevo dato:\")\n",
        "print(f\"Probabilidad de lluvia: {prediccion_final.item()*100:.2f}%\")\n",
        "print(f\"Resultado: ¡{resultado_texto}!\")"
      ],
      "metadata": {
        "colab": {
          "base_uri": "https://localhost:8080/"
        },
        "id": "i_7CJXkVqBBW",
        "outputId": "be3f178f-4a61-4bd2-e1fe-c2a19d2710d4"
      },
      "execution_count": 6,
      "outputs": [
        {
          "output_type": "stream",
          "name": "stdout",
          "text": [
            "\n",
            "Predicción para el nuevo dato:\n",
            "Probabilidad de lluvia: 2.41%\n",
            "Resultado: ¡No lloverá ☀️!\n"
          ]
        }
      ]
    }
  ]
}