{
 "cells": [
  {
   "cell_type": "markdown",
   "id": "31687945-d030-49f4-985e-576d4c24c737",
   "metadata": {},
   "source": [
    "# Teletransportación con diferentes estados de Bell Entrelazados"
   ]
  },
  {
   "cell_type": "code",
   "execution_count": 1,
   "id": "ec1bbe9a-0f28-4285-9b5c-97ead509e057",
   "metadata": {},
   "outputs": [],
   "source": [
    "# Importamos algunas cosas necesarias\n",
    "import numpy as np\n",
    "from qiskit import QuantumCircuit, QuantumRegister, ClassicalRegister\n",
    "from qiskit import IBMQ, Aer, execute\n",
    "from qiskit.visualization import plot_histogram, plot_bloch_multivector, array_to_latex\n",
    "from qiskit.extensions import Initialize\n",
    "from qiskit.quantum_info import random_statevector, Statevector\n",
    "from qiskit.result import marginal_counts\n",
    "from qiskit import quantum_info"
   ]
  },
  {
   "cell_type": "code",
   "execution_count": 2,
   "id": "3958e657-7f36-4805-8b94-7c2b391ebbf6",
   "metadata": {},
   "outputs": [],
   "source": [
    "# Preparación de estado inicial\n",
    "psi = Statevector(random_statevector(2))\n",
    "psi.draw('latex')"
   ]
  },
  {
   "cell_type": "code",
   "execution_count": 3,
   "id": "c985e630-8e0a-463b-b3cb-bbf58dad5730",
   "metadata": {},
   "outputs": [],
   "source": [
    "plot_bloch_multivector(psi)"
   ]
  },
  {
   "cell_type": "code",
   "execution_count": 4,
   "id": "3e079967-e259-488a-aa2f-be76fcb33a48",
   "metadata": {},
   "outputs": [],
   "source": [
    "# Función que genera los 4 estados de Bell\n",
    "def crear_estado_de_bell(circuito, qubit1, qubit2, bell):\n",
    "    circuito.h(qubit1)\n",
    "    circuito.cx(qubit1, qubit2)\n",
    "    match bell:\n",
    "        case \"01\":\n",
    "            circuito.x(qubit1)\n",
    "        case \"10\":\n",
    "            circuito.z(qubit1)\n",
    "        case \"11\":\n",
    "            circuito.x(qubit2)\n",
    "            circuito.z(qubit1)\n",
    "        case \"00\":\n",
    "            print(\"nada\")\n",
    "            \n",
    "def alice_operaciones(circuito, qubit0, qubit1):\n",
    "    circuito.cx(qubit0, qubit1)\n",
    "    circuito.h(qubit0)\n",
    "\n",
    "def medir_luego_enviar(circuito, qubit0, qubit1, bit1, bit2):\n",
    "    circuito.measure(qubit0, bit1)\n",
    "    circuito.measure(qubit1, bit2)\n",
    "    \n",
    "def bob_operaciones(circuito, qubits, bit1, bit2, bell):\n",
    "    circuito.x(qubits[2]).c_if(bit2, not int(bell[1])) #El bit2 es resultado de medir q1\n",
    "    circuito.z(qubits[2]).c_if(bit1, not int(bell[0])) #El bit1 es resultado de medir q0\n",
    "    #Se aplicarán las puertas X ó Z en función del estado de Bell utilizado\n",
    "    \n",
    "def teleportation(psi, bell_state=\"00\"):\n",
    "    q0_init_transform = Initialize(psi)\n",
    "    q2_reverse_transform = q0_init_transform.gates_to_uncompute()\n",
    "    \n",
    "    qubits = QuantumRegister(3, name=\"q\")    # Registramos 3 qúbits de nombre \"q\"\n",
    "    cbit1 = ClassicalRegister(1, name=\"cbit1\") # Primer bit clásico \n",
    "    cbit2 = ClassicalRegister(1, name=\"cbit2\") # Segundo bit clásico\n",
    "    circuito = QuantumCircuit(qubits, cbit1, cbit2)\n",
    "\n",
    "    #Inicializamos el qúbit de Alice:\n",
    "    circuito.append(q0_init_transform, [0]) #agrega la instrucción \"q0_init_transform\" al final del circuito \n",
    "    circuito.barrier()\n",
    "    \n",
    "    #El Telamon crea un par de Bell\n",
    "    crear_estado_de_bell(circuito, qubits[1], qubits[2], bell_state)\n",
    "    circuito.barrier()\n",
    "    \n",
    "    #Alice realiza operaciones con sus qubits\n",
    "    alice_operaciones(circuito, qubits[0], qubits[1])\n",
    "    #circuito.save_statevector()\n",
    "    \n",
    "    #Alice mide sus qúbits y envía por whatsapp a Bob\n",
    "    medir_luego_enviar(circuito, qubits[0], qubits[1], cbit1, cbit2)\n",
    "    circuito.barrier()\n",
    "    \n",
    "    #Bob recibe bits de Alice y efectúa algunas operaciones\n",
    "    bob_operaciones(circuito, qubits, cbit1, cbit2, bell_state)\n",
    "    \n",
    "    return [circuito, qubits]"
   ]
  },
  {
   "cell_type": "markdown",
   "id": "e1646b17-8c87-4dea-b96c-779299c7ab2a",
   "metadata": {},
   "source": [
    "## Función de Teletransportación"
   ]
  },
  {
   "cell_type": "markdown",
   "id": "fac42692-cbc8-41e1-92cf-5e5c0420ac2a",
   "metadata": {},
   "source": [
    "El parámetro **bell_state** recibe como argumento el estado de Bell deseado (\"00\", \"01\", \"10\", \"11\") de acuerdo a lo siguiente:\n",
    "\n",
    "<img src=\"img/estados_bell.png\" width=\"500\">\n",
    "\n",
    "Tomemos como ejemplo **bell_state=\"01\"**:"
   ]
  },
  {
   "cell_type": "code",
   "execution_count": 6,
   "id": "c4d64791-0228-46ed-94d3-388f8ea19b47",
   "metadata": {},
   "outputs": [
    {
     "data": {
      "image/png": "[encoded data removed]",
      "text/plain": [
       "<Figure size 1409.9x451.5 with 1 Axes>"
      ]
     },
     "execution_count": 6,
     "metadata": {},
     "output_type": "execute_result"
    }
   ],
   "source": [
    "qc, qubits = teleportation(psi, bell_state=\"11\")\n",
    "qc.draw(output=\"mpl\")"
   ]
  },
  {
   "cell_type": "code",
   "execution_count": null,
   "id": "42a94263-bd34-48a2-b87a-35101367c660",
   "metadata": {},
   "outputs": [],
   "source": [
    "sim = Aer.get_backend(\"aer_simulator\") \n",
    "qc.save_statevector() \n",
    "\n",
    "#Ejecutamos el circuito en el simulador y accedemos a los resultados, específicamente\n",
    "#accedemos a los vectores de estado\n",
    "out = execute(qc, sim).result().get_statevector()\n",
    "plot_bloch_multivector(out)"
   ]
  },
  {
   "cell_type": "code",
   "execution_count": null,
   "id": "5926a02f-665c-4b47-9b73-7f0bbdb8ca86",
   "metadata": {},
   "outputs": [],
   "source": [
    "out.draw('latex')"
   ]
  }
 ],
 "metadata": {
  "kernelspec": {
   "display_name": "Python 3 (ipykernel)",
   "language": "python",
   "name": "python3"
  },
  "language_info": {
   "codemirror_mode": {
    "name": "ipython",
    "version": 3
   },
   "file_extension": ".py",
   "mimetype": "text/x-python",
   "name": "python",
   "nbconvert_exporter": "python",
   "pygments_lexer": "ipython3",
   "version": "3.11.2"
  }
 },
 "nbformat": 4,
 "nbformat_minor": 5
}
