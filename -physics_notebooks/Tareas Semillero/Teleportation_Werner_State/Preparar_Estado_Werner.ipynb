{
 "cells": [
  {
   "cell_type": "markdown",
   "id": "b23123af-7abe-42a9-942a-c5681ecae16f",
   "metadata": {},
   "source": [
    "# Estados Mezclados Werner"
   ]
  },
  {
   "cell_type": "code",
   "execution_count": 1,
   "id": "42dfc538-9e25-4da6-a1f4-90221be797b9",
   "metadata": {
    "ExecuteTime": {
     "end_time": "2023-04-02T15:21:12.695586Z",
     "start_time": "2023-04-02T15:21:10.047158Z"
    }
   },
   "outputs": [],
   "source": [
    "                                                                                                                                                                                                                                                                                                                                                                                                                                                                                                                                                            import numpy as np\n",
    "from qiskit import QuantumCircuit, QuantumRegister, ClassicalRegister\n",
    "from qiskit import IBMQ, Aer, execute\n",
    "from qiskit.visualization import plot_distribution, plot_bloch_multivector, array_to_latex\n",
    "from qiskit.extensions import Initialize, UnitaryGate\n",
    "from qiskit.quantum_info import random_statevector, Statevector\n",
    "from qiskit.result import marginal_counts\n",
    "from qiskit import quantum_info\n",
    "from qiskit.circuit import Parameter"
   ]
  },
  {
   "cell_type": "markdown",
   "id": "385cc9f2",
   "metadata": {},
   "source": [
    "$\\newcommand{\\ket}[1]{\\left|{#1}\\right\\rangle}$\n",
    "$\\newcommand{\\bra}[1]{\\left\\langle{#1}\\right|}$\n",
    "$\\newcommand{\\braket}[2]{\\left\\langle{#1}\\middle|{#2}\\right\\rangle}$"
   ]
  },
  {
   "cell_type": "markdown",
   "id": "28b8f318-46ea-4622-8785-af4aad0175d8",
   "metadata": {
    "tags": []
   },
   "source": [
    "## Estado Mezclado Werner\n",
    "\n",
    "Un estado mezclado es una mezcla estadística de estados puros. El estado Werner queda definido mediante el siguiente operador densidad:\n",
    "\n",
    "$$\\rho = \\frac{(1-w)}{4}\\mathcal{I}\\otimes\\mathcal{I} + w \\ket{\\beta_{11}}\\bra{\\beta_{11}}$$\n",
    "\n",
    "donde \n",
    "\n",
    "$$ \\ket{\\beta_{11}} = \\frac{1}{\\sqrt{2}}\\left(\\ket{0_A 1_B}-\\ket{1_A 0_B}\\right)$$ \n",
    "\n",
    "es el uno de los estados de Bell. $w$ es el parámetro de probabilidad de ocurrencia de cada estado, de modo que por el criterio PPT (Peres-Horodecki), se demuestra que para $w \\in [0, 1/3]$ el estado Werner es separable, y $w \\in (1/3, 1]$ es entrelazado.\n",
    "\n",
    "- El circuito optimizado que prepara el estado Werner requiere utilizar control clásico de operaciones cuánticas (if).\n",
    "- Aplicar una rotación alrededor del eje-y y medir representa un generador de números aleatorios. Según el resultado, el circuito preparará:\n",
    "\n",
    "    - Si se obtiene $0$: un estado máximamente mezclado $\\frac{1}{4}I\\otimes I$ mediante la aplicación de $H^{\\otimes 2}\\ket{00} \\equiv \\ket{++}$ y **medidas unread**.\n",
    "    \n",
    "    >  Una \"unread measurement\" en computación cuántica se refiere a una medición cuántica que se utiliza de manera indirecta, aprovechando información derivada de la medición sin leer directamente el resultado. Esto puede ser útil en algoritmos cuánticos donde es deseable realizar cálculos intermedios o aplicar operaciones condicionales sin colapsar completamente el estado cuántico a un solo resultado.\n",
    "     \n",
    "    - Si se obtiene $1$: se prepara el estado $\\ket{\\beta_{11}}$ mediante $B\\ket{11}$"
   ]
  },
  {
   "cell_type": "markdown",
   "id": "e3b998f9-63db-4b51-b887-1c148262ba2d",
   "metadata": {
    "tags": []
   },
   "source": [
    "$$w \\rightarrow \\text{Parámetro de Mezcla}, \\quad w=\\sin^2{\\left(\\frac{\\theta}{2}\\right)}$$"
   ]
  },
  {
   "cell_type": "markdown",
   "id": "2a6874fe-dd5f-415d-85f8-be536e49ed76",
   "metadata": {
    "tags": []
   },
   "source": [
    "<img src=\"werner_circuit.png\" width=\"700\">"
   ]
  },
  {
   "cell_type": "markdown",
   "id": "b5724400-d069-430c-a62b-d7b6d19257a5",
   "metadata": {},
   "source": [
    "## Circuito completo para preparar estados Werner"
   ]
  },
  {
   "cell_type": "markdown",
   "id": "0574a335-1841-4ab4-8c26-4ee8846549d6",
   "metadata": {},
   "source": [
    "> **Consejo**: Cualquier operación clásica se puede representar en un ordenador cuántico mediante un subconjunto de puertas que llevan un estado de la base computacional a otro estado de la base computacional (es decir, puertas cuya representación matricial sólo tiene un elemento distinto de cero en cada fila y en cada columna).\n",
    "\n",
    "> Adicionalmente se debe asegurar que las operaciones sean reversibles. (Puede requerir bits auxiliares)\n",
    "\n",
    "> **Concepto**: Una operación es reversible si se puede deshacer y, por lo tanto, invertir sin pérdida de información. En otras palabras, si aplicamos una operación a un qubit en un estado inicial dado, podemos aplicar la misma operación de nuevo para obtener el estado inicial del qubit sin perder información. Sea $U$ una operación unitaria; si $U^{-1} = U^{\\dagger}$ entonces $U$ es reversible\n",
    "\n",
    "\n",
    "\n"
   ]
  },
  {
   "cell_type": "markdown",
   "id": "623695f2-df79-413d-94bc-1884df93fde6",
   "metadata": {
    "tags": []
   },
   "source": [
    "El circuito a continuación surge mediante la aplicación del principio de medición diferida (debido a las limitaciones de hardware de los ordenadores cuánticos que no soportan medidas condicionadas ni operaciones nuevas después de haber realizado mediciones) del circuito anterior.\n",
    "\n",
    "**Los pasos son los siguientes**:\n",
    "\n",
    "1. Utilizaremos 5 qúbits, 2 principales (q0, q1) correspondientes al estado y 3 qúbits auxiliares (q2, q3, q4)."
   ]
  },
  {
   "cell_type": "code",
   "execution_count": 2,
   "id": "77f8cc39-1539-4633-83c7-d99051fa1c09",
   "metadata": {},
   "outputs": [],
   "source": [
    "qc_werner = QuantumCircuit(5)"
   ]
  },
  {
   "cell_type": "markdown",
   "id": "2aac5503-a9b2-452f-9c20-2b164de7a620",
   "metadata": {},
   "source": [
    "2. Se superpone el qúbit $q_0$ mediante un operador de rotación al rededor de Y:\n",
    "$$\\cos{\\frac{\\theta}{2}}\\ket{0} + \\sin{\\frac{\\theta}{2}}\\ket{1}$$\n",
    "\n",
    "Donde se selecciona el parámetro $\\theta$ tal que $\\sqrt{w}=\\sin{\\frac{\\theta}{2}}$ y por ende $\\sqrt{1-w}=\\cos{\\frac{\\theta}{2}}$:\n",
    "\n",
    "\n",
    "$$\\sqrt(1-w)\\ket{0} + \\sqrt{w}\\ket{1}$$"
   ]
  },
  {
   "cell_type": "code",
   "execution_count": 3,
   "id": "4452f807-8d77-4983-a0db-39eb3fe06de1",
   "metadata": {},
   "outputs": [
    {
     "data": {
      "image/png": "[encoded data removed]",
      "text/plain": [
       "<Figure size 203.885x451.5 with 1 Axes>"
      ]
     },
     "execution_count": 3,
     "metadata": {},
     "output_type": "execute_result"
    }
   ],
   "source": [
    "theta = 2*np.arcsin(1)\n",
    "qc_werner.ry(theta, 0)\n",
    "qc_werner.draw(output=\"mpl\")"
   ]
  },
  {
   "cell_type": "markdown",
   "id": "7a88df94-0bf1-45a4-924e-271809bd6c4a",
   "metadata": {},
   "source": [
    "3. En vez de realizar la medida de $q_0$ y almacenarlo en un bit clásico (esto no se puede porque después de la medida no deben haber más operaciones), podemos analogamente desplazar la operación de medida al final y mejor usamos una CNOT en $q_0$ sobre $q_2$: "
   ]
  },
  {
   "cell_type": "code",
   "execution_count": 4,
   "id": "84be0240-6820-4771-9a7e-5e66b1a4d29b",
   "metadata": {},
   "outputs": [
    {
     "data": {
      "image/png": "[encoded data removed]",
      "text/plain": [
       "<Figure size 287.496x451.5 with 1 Axes>"
      ]
     },
     "execution_count": 4,
     "metadata": {},
     "output_type": "execute_result"
    }
   ],
   "source": [
    "qc_werner.cx(0, 2)\n",
    "qc_werner.draw(output=\"mpl\")"
   ]
  },
  {
   "cell_type": "markdown",
   "id": "561a30e2-3613-4cea-8458-376768260e75",
   "metadata": {},
   "source": [
    "> El qúbit $q_2$ será $0$ con probabilidad $w$ y será $1$ con probabilidad $1-w$."
   ]
  },
  {
   "cell_type": "markdown",
   "id": "810303a5-3bc7-42b2-a6a3-e479a900dd7f",
   "metadata": {},
   "source": [
    "4. A partir de aquí $q_2$ se encuentra en una superposición de los estados $ket{0}$ y $\\ket{1}$, lo que lo hace útil porque nos permite trabajar simultáneamente con ambos estados. Suponiendo por ejemplo, que el resultado de medir $q_2$ es $0$, entonces el circuito preparó un estado maximamente mezclado: \n",
    "\n",
    "$$\\rho_{q_0, q_1} = \\frac{1}{4}\\mathcal{I}\\otimes\\mathcal{I} = \\frac{1}{4}(\\ket{00}\\bra{00}+\\ket{01}\\bra{10}+\\ket{10}\\bra{01}+\\ket{11}\\bra{11})$$"
   ]
  },
  {
   "cell_type": "code",
   "execution_count": 5,
   "id": "cabe8390-8276-435f-b5f8-afedd2775c02",
   "metadata": {},
   "outputs": [
    {
     "data": {
      "text/plain": [
       "<qiskit.circuit.instructionset.InstructionSet at 0x7f39fc3c1a20>"
      ]
     },
     "execution_count": 5,
     "metadata": {},
     "output_type": "execute_result"
    }
   ],
   "source": [
    "qc_werner.h(0)\n",
    "qc_werner.x(2)\n",
    "qc_werner.ch(2, 1)\n",
    "qc_werner.ccx(0,2,3)\n",
    "qc_werner.ccx(1,2,4)"
   ]
  },
  {
   "cell_type": "code",
   "execution_count": 6,
   "id": "5c13a5b2-3a7f-46c8-8007-34866f5d3747",
   "metadata": {},
   "outputs": [
    {
     "data": {
      "image/png": "[encoded data removed]",
      "text/plain": [
       "<Figure size 621.941x451.5 with 1 Axes>"
      ]
     },
     "execution_count": 6,
     "metadata": {},
     "output_type": "execute_result"
    }
   ],
   "source": [
    "qc_werner.draw(output=\"mpl\")"
   ]
  },
  {
   "cell_type": "markdown",
   "id": "9faf5016-d213-4b0d-a34e-8fbc711e42f7",
   "metadata": {},
   "source": [
    "5. Si al medir $q_2$ se obtuviera $1$, entonces el circuito preparó un estado entralazado de la base de Bell. "
   ]
  },
  {
   "cell_type": "code",
   "execution_count": 7,
   "id": "19817d44-cc3c-490e-9dc2-ad629af1be8f",
   "metadata": {},
   "outputs": [
    {
     "data": {
      "text/plain": [
       "<qiskit.circuit.instructionset.InstructionSet at 0x7f39fc3c27a0>"
      ]
     },
     "execution_count": 7,
     "metadata": {},
     "output_type": "execute_result"
    }
   ],
   "source": [
    "qc_werner.x(2)\n",
    "qc_werner.cx(2,1)\n",
    "qc_werner.ccx(0,2,1)\n",
    "qc_werner.x(2)"
   ]
  },
  {
   "cell_type": "code",
   "execution_count": 8,
   "id": "40d4776e-0d1a-440e-a38c-c933b4c74889",
   "metadata": {},
   "outputs": [
    {
     "data": {
      "image/png": "[encoded data removed]",
      "text/plain": [
       "<Figure size 956.385x451.5 with 1 Axes>"
      ]
     },
     "execution_count": 8,
     "metadata": {},
     "output_type": "execute_result"
    }
   ],
   "source": [
    "qc_werner.draw(output=\"mpl\")"
   ]
  },
  {
   "cell_type": "markdown",
   "id": "0244002f-3c63-4e56-9501-be72ae3840a3",
   "metadata": {},
   "source": [
    "Para aplicar una puerta Toffoli sobre tres qubits en el estado $|+10\\rangle$, primero necesitamos expresar el estado en términos de los estados de base computacional $|000\\rangle$, $|001\\rangle$, $|010\\rangle$, $|011\\rangle$, $|100\\rangle$, $|101\\rangle$, $|110\\rangle$ y $|111\\rangle$:\n",
    "\n",
    "\\begin{align}\n",
    "|+10\\rangle &= \\frac{1}{\\sqrt{2}}(|0\\rangle + |1\\rangle)|1\\rangle|0\\rangle \\\n",
    "&= \\frac{1}{\\sqrt{2}}(|011\\rangle + |111\\rangle)\n",
    "\\end{align}\n",
    "\n",
    "$= \\frac{1}{\\sqrt{2}}(|011\\rangle + |110\\rangle)$"
   ]
  },
  {
   "cell_type": "markdown",
   "id": "3f1c5465-fa05-4037-a070-9c3be2f934af",
   "metadata": {},
   "source": [
    "# Demostrar que la matriz que representa el circuito actúa sobre un estado arbitrario es igual al circuito del paper "
   ]
  },
  {
   "cell_type": "code",
   "execution_count": 9,
   "id": "fa6daf68-f9da-495f-8a12-37c5940e0d88",
   "metadata": {},
   "outputs": [],
   "source": [
    "Ugate = quantum_info.Operator(qc_werner)"
   ]
  },
  {
   "cell_type": "code",
   "execution_count": 10,
   "id": "5ea83095-5ff6-49f3-a0a8-d95fb36ddce6",
   "metadata": {
    "tags": []
   },
   "outputs": [
    {
     "data": {
      "text/plain": [
       "(32, 32)"
      ]
     },
     "execution_count": 10,
     "metadata": {},
     "output_type": "execute_result"
    }
   ],
   "source": [
    "Ugate.dim"
   ]
  },
  {
   "cell_type": "code",
   "execution_count": 11,
   "id": "553f3d91-aa80-4711-83f3-39af5196c4d9",
   "metadata": {
    "tags": []
   },
   "outputs": [
    {
     "data": {
      "image/png": "[encoded data removed]",
      "text/plain": [
       "<Figure size 956.385x451.5 with 1 Axes>"
      ]
     },
     "execution_count": 11,
     "metadata": {},
     "output_type": "execute_result"
    }
   ],
   "source": [
    "qc_2 = QuantumCircuit(5)\n",
    "qc_2.ry(theta, 0)\n",
    "qc_2.cx(0, 2)\n",
    "qc_2.h(0)\n",
    "qc_2.cx(2,1)\n",
    "qc_2.x(2)\n",
    "qc_2.ch(2, 1)\n",
    "qc_2.x(2)\n",
    "qc_2.ccx(0,2,1)\n",
    "qc_2.x(2)\n",
    "qc_2.ccx(0,2,3)\n",
    "qc_2.ccx(1,2,4)\n",
    "qc_2.draw(output=\"mpl\")"
   ]
  },
  {
   "cell_type": "code",
   "execution_count": 12,
   "id": "8b189692-ad27-4a9e-b0fb-5faf7b69dc72",
   "metadata": {
    "tags": []
   },
   "outputs": [],
   "source": [
    "Ugate2 = quantum_info.Operator(qc_2)"
   ]
  },
  {
   "cell_type": "code",
   "execution_count": 13,
   "id": "5ce811ed-7778-431a-9127-1b2415d9936f",
   "metadata": {
    "tags": []
   },
   "outputs": [],
   "source": [
    "psi = quantum_info.random_statevector(32)"
   ]
  },
  {
   "cell_type": "code",
   "execution_count": 14,
   "id": "df3ce1f5-48ff-4889-a374-92a514cdfd4c",
   "metadata": {
    "tags": []
   },
   "outputs": [
    {
     "data": {
      "text/plain": [
       "<qiskit.circuit.instructionset.InstructionSet at 0x7f39fc3c3d60>"
      ]
     },
     "execution_count": 14,
     "metadata": {},
     "output_type": "execute_result"
    }
   ],
   "source": [
    "qc3 = QuantumCircuit(5)\n",
    "qc3.initialize(psi)"
   ]
  },
  {
   "cell_type": "code",
   "execution_count": 15,
   "id": "c3fd52d3-588f-4ab4-914a-a5d7dc7a0b54",
   "metadata": {
    "tags": []
   },
   "outputs": [
    {
     "data": {
      "text/plain": [
       "Operator([[ 0.00000000e+00+0.j,  0.00000000e+00+0.j,  7.07106781e-01+0.j,\n",
       "           ...,  0.00000000e+00+0.j,  0.00000000e+00+0.j,\n",
       "            0.00000000e+00+0.j],\n",
       "          [-7.07106781e-01+0.j, -4.32978028e-17+0.j,  0.00000000e+00+0.j,\n",
       "           ...,  0.00000000e+00+0.j,  0.00000000e+00+0.j,\n",
       "            0.00000000e+00+0.j],\n",
       "          [ 7.07106781e-01+0.j,  4.32978028e-17+0.j,  0.00000000e+00+0.j,\n",
       "           ...,  0.00000000e+00+0.j,  0.00000000e+00+0.j,\n",
       "            0.00000000e+00+0.j],\n",
       "          ...,\n",
       "          [ 0.00000000e+00+0.j,  0.00000000e+00+0.j,  0.00000000e+00+0.j,\n",
       "           ...,  0.00000000e+00+0.j,  0.00000000e+00+0.j,\n",
       "            0.00000000e+00+0.j],\n",
       "          [ 0.00000000e+00+0.j,  0.00000000e+00+0.j,  0.00000000e+00+0.j,\n",
       "           ...,  0.00000000e+00+0.j,  0.00000000e+00+0.j,\n",
       "            0.00000000e+00+0.j],\n",
       "          [ 3.06161700e-17+0.j, -5.00000000e-01+0.j, -3.06161700e-17+0.j,\n",
       "           ...,  0.00000000e+00+0.j,  0.00000000e+00+0.j,\n",
       "            0.00000000e+00+0.j]],\n",
       "         input_dims=(2, 2, 2, 2, 2), output_dims=(2, 2, 2, 2, 2))"
      ]
     },
     "execution_count": 15,
     "metadata": {},
     "output_type": "execute_result"
    }
   ],
   "source": [
    "Ugate"
   ]
  },
  {
   "cell_type": "code",
   "execution_count": 16,
   "id": "ea71c63f-ae9f-4d12-9cb4-5dae40fe1e13",
   "metadata": {
    "tags": []
   },
   "outputs": [
    {
     "data": {
      "text/plain": [
       "Operator([[ 0.00000000e+00+0.j,  0.00000000e+00+0.j,  7.07106781e-01+0.j,\n",
       "           ...,  0.00000000e+00+0.j,  0.00000000e+00+0.j,\n",
       "            0.00000000e+00+0.j],\n",
       "          [-7.07106781e-01+0.j, -4.32978028e-17+0.j,  0.00000000e+00+0.j,\n",
       "           ...,  0.00000000e+00+0.j,  0.00000000e+00+0.j,\n",
       "            0.00000000e+00+0.j],\n",
       "          [ 7.07106781e-01+0.j,  4.32978028e-17+0.j,  0.00000000e+00+0.j,\n",
       "           ...,  0.00000000e+00+0.j,  0.00000000e+00+0.j,\n",
       "            0.00000000e+00+0.j],\n",
       "          ...,\n",
       "          [ 0.00000000e+00+0.j,  0.00000000e+00+0.j,  0.00000000e+00+0.j,\n",
       "           ...,  0.00000000e+00+0.j,  0.00000000e+00+0.j,\n",
       "            0.00000000e+00+0.j],\n",
       "          [ 0.00000000e+00+0.j,  0.00000000e+00+0.j,  0.00000000e+00+0.j,\n",
       "           ...,  0.00000000e+00+0.j,  0.00000000e+00+0.j,\n",
       "            0.00000000e+00+0.j],\n",
       "          [ 3.06161700e-17+0.j, -5.00000000e-01+0.j, -3.06161700e-17+0.j,\n",
       "           ...,  0.00000000e+00+0.j,  0.00000000e+00+0.j,\n",
       "            0.00000000e+00+0.j]],\n",
       "         input_dims=(2, 2, 2, 2, 2), output_dims=(2, 2, 2, 2, 2))"
      ]
     },
     "execution_count": 16,
     "metadata": {},
     "output_type": "execute_result"
    }
   ],
   "source": [
    "Ugate2"
   ]
  },
  {
   "cell_type": "code",
   "execution_count": 17,
   "id": "d0f1456b-7ba3-4a7d-88a1-41147ead0900",
   "metadata": {
    "tags": []
   },
   "outputs": [
    {
     "data": {
      "text/latex": [
       "$$- \\frac{\\sqrt{2}}{2} |00001\\rangle+\\frac{\\sqrt{2}}{2} |00010\\rangle$$"
      ],
      "text/plain": [
       "<IPython.core.display.Latex object>"
      ]
     },
     "execution_count": 17,
     "metadata": {},
     "output_type": "execute_result"
    }
   ],
   "source": [
    "quantum_info.Statevector.from_instruction(qc_werner).draw(\"latex\")"
   ]
  },
  {
   "cell_type": "code",
   "execution_count": 18,
   "id": "02a745d8-5d67-4465-badc-0c26dfb849f2",
   "metadata": {
    "tags": []
   },
   "outputs": [
    {
     "data": {
      "text/latex": [
       "$$- \\frac{\\sqrt{2}}{2} |00001\\rangle+\\frac{\\sqrt{2}}{2} |00010\\rangle$$"
      ],
      "text/plain": [
       "<IPython.core.display.Latex object>"
      ]
     },
     "execution_count": 18,
     "metadata": {},
     "output_type": "execute_result"
    }
   ],
   "source": [
    "quantum_info.Statevector.from_instruction(qc_2).draw(\"latex\")"
   ]
  },
  {
   "cell_type": "code",
   "execution_count": null,
   "id": "030ce4db-73b6-43d9-b3c8-99cddf78e822",
   "metadata": {},
   "outputs": [],
   "source": []
  }
 ],
 "metadata": {
  "kernelspec": {
   "display_name": "Python 3 (ipykernel)",
   "language": "python",
   "name": "python3"
  },
  "language_info": {
   "codemirror_mode": {
    "name": "ipython",
    "version": 3
   },
   "file_extension": ".py",
   "mimetype": "text/x-python",
   "name": "python",
   "nbconvert_exporter": "python",
   "pygments_lexer": "ipython3",
   "version": "3.11.4"
  }
 },
 "nbformat": 4,
 "nbformat_minor": 5
}
