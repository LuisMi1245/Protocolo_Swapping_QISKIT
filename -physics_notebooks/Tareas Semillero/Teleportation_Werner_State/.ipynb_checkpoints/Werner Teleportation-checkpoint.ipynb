{
 "cells": [
  {
   "cell_type": "code",
   "execution_count": 1,
   "id": "72d96ea6-aa60-4bf7-bcb7-dce7d1cb5e9a",
   "metadata": {},
   "outputs": [],
   "source": [
    "import numpy as np\n",
    "from qiskit import QuantumCircuit, QuantumRegister, ClassicalRegister\n",
    "from qiskit import IBMQ, Aer, execute\n",
    "from qiskit.visualization import plot_distribution, plot_bloch_multivector, array_to_latex, plot_histogram\n",
    "from qiskit.extensions import Initialize, UnitaryGate\n",
    "from qiskit.quantum_info import random_statevector, Statevector\n",
    "from qiskit.result import marginal_counts\n",
    "from qiskit import quantum_info\n",
    "from qiskit.circuit import Parameter"
   ]
  },
  {
   "cell_type": "code",
   "execution_count": 2,
   "id": "77e44b0c-ba96-4257-8a1f-3e8e861aa820",
   "metadata": {},
   "outputs": [],
   "source": [
    "# Preparación de estado inicial\n",
    "psi = Statevector(random_statevector(2))\n",
    "psi.draw('latex')"
   ]
  },
  {
   "cell_type": "code",
   "execution_count": 3,
   "id": "4360ae11-3e42-4900-90c3-9d6af0d4d6b4",
   "metadata": {},
   "outputs": [],
   "source": [
    "plot_bloch_multivector(psi)"
   ]
  },
  {
   "cell_type": "code",
   "execution_count": 4,
   "id": "5067bd3e-0d1d-4ef4-83b3-6fb64b2c315e",
   "metadata": {},
   "outputs": [],
   "source": [
    "# Función que genera circuito de teleportación con estados Werner\n",
    "def crear_estado_werner(circuito, qubit1, qubit2, parameter):\n",
    "    #Define simbólicamente el parámetro del estado mezclado\n",
    "    #theta = Parameter('theta')\n",
    "    \n",
    "    #Define el generador de números aleatorios con una ponderación de w\n",
    "    circuito.ry(parameter, 1)\n",
    "    circuito.cx(1, 3)\n",
    "    \n",
    "    #Genera estado máximamente mezclado\n",
    "    circuito.h(1)\n",
    "    \n",
    "    circuito.x(3)\n",
    "    circuito.ch(3, 2)\n",
    "    circuito.ccx(1,3,4)\n",
    "    circuito.ccx(2,3,5)\n",
    "    \n",
    "    #Genera estado entrelazado\n",
    "    circuito.x(3)\n",
    "    circuito.ccx(1,3,2)\n",
    "    circuito.cx(3,2)\n",
    "  \n",
    "    #Define el valor del parámetro theta y por ende, se define el peso w\n",
    "    #bc = circuito.bind_parameters({theta: parameter})\n",
    "    \n",
    "def alice_operaciones(circuito, qubit0, qubit1):\n",
    "    circuito.cx(qubit0, qubit1)\n",
    "    circuito.h(qubit0)\n",
    "\n",
    "def medir_luego_enviar(circuito, qubit0, qubit1, bit1, bit2):\n",
    "    circuito.measure(qubit0, bit1)\n",
    "    circuito.measure(qubit1, bit2)\n",
    "    \n",
    "def bob_operaciones(circuito, qubits, bit1, bit2, bell):\n",
    "    circuito.x(qubits[2]).c_if(bit2, not int(bell[1])) #El bit2 es resultado de medir q1\n",
    "    circuito.z(qubits[2]).c_if(bit1, not int(bell[0])) #El bit1 es resultado de medir q0\n",
    "    #Se aplicarán las puertas X ó Z en función del estado de Bell utilizado\n",
    "    \n",
    "def teleportation(psi, w):\n",
    "    theta = 2*np.arcsin(w)\n",
    "    q0_init_transform = Initialize(psi)\n",
    "    q2_reverse_transform = q0_init_transform.gates_to_uncompute()\n",
    "    qubits = QuantumRegister(6, name=\"q\")    # Registramos 6 qúbits de nombre \"q\"\n",
    "    \n",
    "    cbit1 = ClassicalRegister(1, name=\"cbit1\") # Primer bit clásico \n",
    "    cbit2 = ClassicalRegister(1, name=\"cbit2\") # Segundo bit clásico\n",
    "    cbit3 = ClassicalRegister(1, name=\"cbit3\") # Segundo bit clásico\n",
    "    cbit4 = ClassicalRegister(1, name=\"cbit4\") # Segundo bit clásico    \n",
    "    cbit5 = ClassicalRegister(1, name=\"cbit5\") # Segundo bit clásico       \n",
    "    cbit6 = ClassicalRegister(1, name=\"cbit6\") # Segundo bit clásico\n",
    "    circuito = QuantumCircuit(qubits, cbit1, cbit2, cbit3, cbit4, cbit5, cbit6)\n",
    "\n",
    "    #Inicializamos el qúbit de Alice:\n",
    "    circuito.append(q0_init_transform, [0]) #agrega la instrucción \"q0_init_transform\" al final del circuito \n",
    "    circuito.barrier()\n",
    "    \n",
    "    #El Telamon crea un par de Bell\n",
    "    crear_estado_werner(circuito, qubits[1], qubits[2], theta)\n",
    "    circuito.barrier()\n",
    "    \n",
    "    #Alice realiza operaciones con sus qubits\n",
    "    alice_operaciones(circuito, qubits[0], qubits[1])\n",
    "    #circuito.save_statevector()\n",
    "    \n",
    "    #Alice mide sus qúbits y envía por whatsapp a Bob\n",
    "    medir_luego_enviar(circuito, qubits[0], qubits[1], cbit1, cbit2)\n",
    "    circuito.barrier()\n",
    "    \n",
    "    #Bob recibe bits de Alice y efectúa algunas operaciones\n",
    "    bob_operaciones(circuito, qubits, cbit1, cbit2, \"11\")\n",
    "    circuito.append(q2_reverse_transform, [2])\n",
    "\n",
    "    return [circuito, qubits]"
   ]
  },
  {
   "cell_type": "code",
   "execution_count": 5,
   "id": "0c9725cc-4923-4867-8739-99b66b567453",
   "metadata": {},
   "outputs": [],
   "source": [
    "qc, qubits = teleportation(psi, w=0.9)\n",
    "qc.measure(2,2)\n",
    "qc.measure(3,3)\n",
    "qc.measure(4,4)\n",
    "qc.measure(5,5)\n",
    "\n",
    "qc.draw(output=\"mpl\")"
   ]
  },
  {
   "cell_type": "code",
   "execution_count": 6,
   "id": "c171bfaf-751e-4947-9333-0b354fcc0e06",
   "metadata": {},
   "outputs": [],
   "source": [
    "sim = Aer.get_backend(\"aer_simulator\") \n",
    "output = execute(qc, sim)\n",
    "counts = output.result().get_counts(qc)"
   ]
  },
  {
   "cell_type": "code",
   "execution_count": 7,
   "id": "d6bd523b-2bf8-4968-b4b0-8632ce9acdd5",
   "metadata": {},
   "outputs": [],
   "source": [
    "plot_histogram(counts)"
   ]
  },
  {
   "cell_type": "code",
   "execution_count": 8,
   "id": "818e9e1e-ed61-4caa-934f-8a58a97772b2",
   "metadata": {},
   "outputs": [],
   "source": [
    "qubit_counts = [marginal_counts(counts, [bit]) for bit in [2]]"
   ]
  },
  {
   "cell_type": "code",
   "execution_count": 9,
   "id": "46e0621b-13a6-4912-92e8-7de801a3e6b9",
   "metadata": {},
   "outputs": [],
   "source": [
    "import matplotlib.pyplot as plt\n",
    "grafica = plt.subplot()\n",
    "plot_distribution(qubit_counts, ax=grafica)\n",
    "grafica.set_ylabel('Probabilities')"
   ]
  },
  {
   "cell_type": "code",
   "execution_count": 11,
   "id": "bd297c8a-7b6e-4fa7-a361-c3393b9556d7",
   "metadata": {},
   "outputs": [],
   "source": [
    "image = qc.draw(output=\"mpl\")"
   ]
  },
  {
   "cell_type": "code",
   "execution_count": 13,
   "id": "056e2dbf-1379-4702-8399-5649acb44d18",
   "metadata": {},
   "outputs": [],
   "source": [
    "from PIL import Image\n",
    "from io import BytesIO\n",
    "import matplotlib.pyplot as plt\n",
    "import numpy as np\n",
    "\n",
    "# Convierte la imagen a un objeto de bytes\n",
    "buf = BytesIO()\n",
    "image.savefig(buf, format='png', bbox_inches='tight')\n",
    "buf.seek(0)\n",
    "im = Image.open(buf)\n",
    "\n",
    "# Convierte la imagen a formato RGB\n",
    "im = im.convert('RGB')\n",
    "\n",
    "# Guarda la imagen en formato PDF\n",
    "im.save('circuito.pdf', 'PDF', resolution=100.0)"
   ]
  },
  {
   "cell_type": "code",
   "execution_count": null,
   "id": "818020b8-b0fa-4a48-925e-1f3f84d83aa1",
   "metadata": {},
   "outputs": [],
   "source": []
  }
 ],
 "metadata": {
  "kernelspec": {
   "display_name": "Python 3 (ipykernel)",
   "language": "python",
   "name": "python3"
  },
  "language_info": {
   "codemirror_mode": {
    "name": "ipython",
    "version": 3
   },
   "file_extension": ".py",
   "mimetype": "text/x-python",
   "name": "python",
   "nbconvert_exporter": "python",
   "pygments_lexer": "ipython3",
   "version": "3.11.2"
  }
 },
 "nbformat": 4,
 "nbformat_minor": 5
}
