{
 "cells": [
  {
   "cell_type": "code",
   "execution_count": 1,
   "id": "5df0aaf2-e019-41f9-9b31-56d42fe04fdd",
   "metadata": {},
   "outputs": [
    {
     "data": {
      "text/html": [
       "<html><script type=\"math/tex; mode=display\">\\newcommand{\\Bold}[1]{\\mathbf{#1}}\\left[1 = \\frac{c h}{\\lambda_{0}} - \\phi, 4 = \\frac{2 \\, c h}{\\lambda_{0}} - \\phi\\right]</script></html>"
      ],
      "text/latex": [
       "$$\\newcommand{\\Bold}[1]{\\mathbf{#1}}\\left[1 = \\frac{c h}{\\lambda_{0}} - \\phi, 4 = \\frac{2 \\, c h}{\\lambda_{0}} - \\phi\\right]$$"
      ],
      "text/plain": [
       "[1 == c*h/lambda_0 - phi, 4 == 2*c*h/lambda_0 - phi]"
      ]
     },
     "execution_count": 1,
     "metadata": {},
     "output_type": "execute_result"
    }
   ],
   "source": [
    "%display latex\n",
    "var('h c')\n",
    "l = var('lambda_0')\n",
    "l2 = l/2\n",
    "p = var('phi')\n",
    "RT1 = [1 == ((h*c)/l)-p, 4 == ((h*c)/l2)-p]\n",
    "RT1"
   ]
  },
  {
   "cell_type": "code",
   "execution_count": 2,
   "id": "7fd63bd4-248c-4ac2-8b4c-42d23db2fdf4",
   "metadata": {},
   "outputs": [
    {
     "data": {
      "text/html": [
       "<html><script type=\"math/tex; mode=display\">\\newcommand{\\Bold}[1]{\\mathbf{#1}}\\left[\\left[\\phi = 2, \\lambda_{0} = \\frac{1}{3} \\, c h\\right]\\right]</script></html>"
      ],
      "text/latex": [
       "$$\\newcommand{\\Bold}[1]{\\mathbf{#1}}\\left[\\left[\\phi = 2, \\lambda_{0} = \\frac{1}{3} \\, c h\\right]\\right]$$"
      ],
      "text/plain": [
       "[[phi == 2, lambda_0 == 1/3*c*h]]"
      ]
     },
     "execution_count": 2,
     "metadata": {},
     "output_type": "execute_result"
    }
   ],
   "source": [
    "solve(RT1, p, l)"
   ]
  },
  {
   "cell_type": "code",
   "execution_count": null,
   "id": "b5159371-9ae4-49da-8a0f-c1b6bc486823",
   "metadata": {},
   "outputs": [],
   "source": []
  }
 ],
 "metadata": {
  "kernelspec": {
   "display_name": "Python 3 (ipykernel)",
   "language": "python",
   "name": "python3"
  },
  "language_info": {
   "codemirror_mode": {
    "name": "ipython",
    "version": 3
   },
   "file_extension": ".py",
   "mimetype": "text/x-python",
   "name": "python",
   "nbconvert_exporter": "python",
   "pygments_lexer": "ipython3",
   "version": "3.11.4"
  }
 },
 "nbformat": 4,
 "nbformat_minor": 5
}
