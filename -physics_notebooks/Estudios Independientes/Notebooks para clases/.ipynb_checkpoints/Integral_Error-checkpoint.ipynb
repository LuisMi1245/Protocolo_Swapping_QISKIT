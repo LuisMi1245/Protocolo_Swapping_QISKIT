{
 "cells": [
  {
   "cell_type": "code",
   "execution_count": 1,
   "id": "a97b31c8-320b-419d-92ce-d60868da6ae2",
   "metadata": {},
   "outputs": [
    {
     "name": "stdout",
     "output_type": "stream",
     "text": [
      "IPython console for SymPy 1.8 (Python 3.9.6-64-bit) (ground types: gmpy)\n",
      "\n",
      "These commands were executed:\n",
      ">>> from __future__ import division\n",
      ">>> from sympy import *\n",
      ">>> x, y, z, t = symbols('x y z t')\n",
      ">>> k, m, n = symbols('k m n', integer=True)\n",
      ">>> f, g, h = symbols('f g h', cls=Function)\n",
      ">>> init_printing()\n",
      "\n",
      "Documentation can be found at https://docs.sympy.org/1.8/\n",
      "\n"
     ]
    }
   ],
   "source": [
    "from sympy import init_session\n",
    "init_session(use_latex=True)"
   ]
  },
  {
   "cell_type": "code",
   "execution_count": 2,
   "id": "b98f2987-b8c8-4ded-b3f3-14e5c2c22498",
   "metadata": {},
   "outputs": [
    {
     "data": {
      "image/png": "[encoded data removed]",
      "text/latex": [
       "$\\displaystyle e^{- 4000000 i \\pi \\left(t y + x z\\right)}$"
      ],
      "text/plain": [
       " -4000000⋅ⅈ⋅π⋅(t⋅y + x⋅z)\n",
       "ℯ                        "
      ]
     },
     "execution_count": 2,
     "metadata": {},
     "output_type": "execute_result"
    }
   ],
   "source": [
    "var('x y z t', positive=True, real=True)\n",
    "fun = E ** ((-2*I*pi*(z*x+t*y))/((500*(Rational(1,10**9)))))\n",
    "fun"
   ]
  },
  {
   "cell_type": "code",
   "execution_count": 7,
   "id": "d6963844-7422-46d8-b74a-8c2d188b555d",
   "metadata": {},
   "outputs": [
    {
     "data": {
      "image/png": "[encoded data removed]",
      "text/latex": [
       "$\\displaystyle e^{- 4000000 i \\pi \\left(t y + x z\\right)}$"
      ],
      "text/plain": [
       " -4000000⋅ⅈ⋅π⋅(t⋅y + x⋅z)\n",
       "ℯ                        "
      ]
     },
     "execution_count": 7,
     "metadata": {},
     "output_type": "execute_result"
    }
   ],
   "source": [
    "fun2 = E**(\n",
    "-4000000*I*pi*(t*y+x*z)\n",
    ")\n",
    "fun2"
   ]
  },
  {
   "cell_type": "code",
   "execution_count": 8,
   "id": "409f912d-7359-4d36-9eb4-4a75dcbe55c3",
   "metadata": {},
   "outputs": [
    {
     "data": {
      "image/png": "[encoded data removed]",
      "text/latex": [
       "$\\displaystyle \\frac{i e^{- 4000000 i \\pi t y} e^{- 4000000 i \\pi x z}}{4000000 \\pi x}$"
      ],
      "text/plain": [
       "   -4000000⋅ⅈ⋅π⋅t⋅y  -4000000⋅ⅈ⋅π⋅x⋅z\n",
       "ⅈ⋅ℯ                ⋅ℯ                \n",
       "─────────────────────────────────────\n",
       "             4000000⋅π⋅x             "
      ]
     },
     "execution_count": 8,
     "metadata": {},
     "output_type": "execute_result"
    }
   ],
   "source": [
    " integrate(fun, z)"
   ]
  },
  {
   "cell_type": "code",
   "execution_count": 36,
   "id": "d9fe36e1-5de2-43bb-86ad-4a8bc6370540",
   "metadata": {},
   "outputs": [],
   "source": [
    "def test_issue_21741():\n",
    "    x,y,z,t = symbols('x y z t', positive=True)\n",
    "    #Both integrals are exactly the same. \n",
    "    assert integrate(E ** ((-2*I*pi*(z*x+t*y))/((500*(10**(-9))))), z).simplify() == \\\n",
    "        ((2.5*10**(-7)*I*E**(-4000000.0*I*pi*(t*y+x*z)))/(pi*x)).simplify()\n",
    "    #assert integrate((E ** (-4000000*I*pi*(z*x+t*y))), z).simplify() == \\\n",
    "     #   (I*E**(-4000000*I*pi*(t*y+x*z)))/(4000000*pi*x).simplify()"
   ]
  },
  {
   "cell_type": "code",
   "execution_count": 48,
   "id": "c247b829-7863-4cef-a29a-e6e8358521da",
   "metadata": {},
   "outputs": [
    {
     "ename": "AssertionError",
     "evalue": "",
     "output_type": "error",
     "traceback": [
      "\u001b[0;31m---------------------------------------------------------------------------\u001b[0m",
      "\u001b[0;31mAssertionError\u001b[0m                            Traceback (most recent call last)",
      "\u001b[0;32m<ipython-input-48-dc3c45449c7c>\u001b[0m in \u001b[0;36m<module>\u001b[0;34m\u001b[0m\n\u001b[0;32m----> 1\u001b[0;31m \u001b[0mtest_issue_21741\u001b[0m\u001b[0;34m(\u001b[0m\u001b[0;34m)\u001b[0m\u001b[0;34m\u001b[0m\u001b[0;34m\u001b[0m\u001b[0m\n\u001b[0m",
      "\u001b[0;32m<ipython-input-36-d4665e9b9c6a>\u001b[0m in \u001b[0;36mtest_issue_21741\u001b[0;34m()\u001b[0m\n\u001b[1;32m      2\u001b[0m     \u001b[0mx\u001b[0m\u001b[0;34m,\u001b[0m\u001b[0my\u001b[0m\u001b[0;34m,\u001b[0m\u001b[0mz\u001b[0m\u001b[0;34m,\u001b[0m\u001b[0mt\u001b[0m \u001b[0;34m=\u001b[0m \u001b[0msymbols\u001b[0m\u001b[0;34m(\u001b[0m\u001b[0;34m'x y z t'\u001b[0m\u001b[0;34m,\u001b[0m \u001b[0mpositive\u001b[0m\u001b[0;34m=\u001b[0m\u001b[0;32mTrue\u001b[0m\u001b[0;34m)\u001b[0m\u001b[0;34m\u001b[0m\u001b[0;34m\u001b[0m\u001b[0m\n\u001b[1;32m      3\u001b[0m     \u001b[0;31m#Both integrals are exactly the same.\u001b[0m\u001b[0;34m\u001b[0m\u001b[0;34m\u001b[0m\u001b[0;34m\u001b[0m\u001b[0m\n\u001b[0;32m----> 4\u001b[0;31m     \u001b[0;32massert\u001b[0m \u001b[0mintegrate\u001b[0m\u001b[0;34m(\u001b[0m\u001b[0mE\u001b[0m \u001b[0;34m**\u001b[0m \u001b[0;34m(\u001b[0m\u001b[0;34m(\u001b[0m\u001b[0;34m-\u001b[0m\u001b[0;36m2\u001b[0m\u001b[0;34m*\u001b[0m\u001b[0mI\u001b[0m\u001b[0;34m*\u001b[0m\u001b[0mpi\u001b[0m\u001b[0;34m*\u001b[0m\u001b[0;34m(\u001b[0m\u001b[0mz\u001b[0m\u001b[0;34m*\u001b[0m\u001b[0mx\u001b[0m\u001b[0;34m+\u001b[0m\u001b[0mt\u001b[0m\u001b[0;34m*\u001b[0m\u001b[0my\u001b[0m\u001b[0;34m)\u001b[0m\u001b[0;34m)\u001b[0m\u001b[0;34m/\u001b[0m\u001b[0;34m(\u001b[0m\u001b[0;34m(\u001b[0m\u001b[0;36m500\u001b[0m\u001b[0;34m*\u001b[0m\u001b[0;34m(\u001b[0m\u001b[0;36m10\u001b[0m\u001b[0;34m**\u001b[0m\u001b[0;34m(\u001b[0m\u001b[0;34m-\u001b[0m\u001b[0;36m9\u001b[0m\u001b[0;34m)\u001b[0m\u001b[0;34m)\u001b[0m\u001b[0;34m)\u001b[0m\u001b[0;34m)\u001b[0m\u001b[0;34m)\u001b[0m\u001b[0;34m,\u001b[0m \u001b[0mz\u001b[0m\u001b[0;34m)\u001b[0m\u001b[0;34m.\u001b[0m\u001b[0msimplify\u001b[0m\u001b[0;34m(\u001b[0m\u001b[0;34m)\u001b[0m \u001b[0;34m==\u001b[0m\u001b[0;31m \u001b[0m\u001b[0;31m\\\u001b[0m\u001b[0;34m\u001b[0m\u001b[0;34m\u001b[0m\u001b[0m\n\u001b[0m\u001b[1;32m      5\u001b[0m         \u001b[0;34m(\u001b[0m\u001b[0;34m(\u001b[0m\u001b[0;36m2.5\u001b[0m\u001b[0;34m*\u001b[0m\u001b[0;36m10\u001b[0m\u001b[0;34m**\u001b[0m\u001b[0;34m(\u001b[0m\u001b[0;34m-\u001b[0m\u001b[0;36m7\u001b[0m\u001b[0;34m)\u001b[0m\u001b[0;34m*\u001b[0m\u001b[0mI\u001b[0m\u001b[0;34m*\u001b[0m\u001b[0mE\u001b[0m\u001b[0;34m**\u001b[0m\u001b[0;34m(\u001b[0m\u001b[0;34m-\u001b[0m\u001b[0;36m4000000.0\u001b[0m\u001b[0;34m*\u001b[0m\u001b[0mI\u001b[0m\u001b[0;34m*\u001b[0m\u001b[0mpi\u001b[0m\u001b[0;34m*\u001b[0m\u001b[0;34m(\u001b[0m\u001b[0mt\u001b[0m\u001b[0;34m*\u001b[0m\u001b[0my\u001b[0m\u001b[0;34m+\u001b[0m\u001b[0mx\u001b[0m\u001b[0;34m*\u001b[0m\u001b[0mz\u001b[0m\u001b[0;34m)\u001b[0m\u001b[0;34m)\u001b[0m\u001b[0;34m)\u001b[0m\u001b[0;34m/\u001b[0m\u001b[0;34m(\u001b[0m\u001b[0mpi\u001b[0m\u001b[0;34m*\u001b[0m\u001b[0mx\u001b[0m\u001b[0;34m)\u001b[0m\u001b[0;34m)\u001b[0m\u001b[0;34m.\u001b[0m\u001b[0msimplify\u001b[0m\u001b[0;34m(\u001b[0m\u001b[0;34m)\u001b[0m\u001b[0;34m\u001b[0m\u001b[0;34m\u001b[0m\u001b[0m\n\u001b[1;32m      6\u001b[0m     \u001b[0;31m#assert integrate((E ** (-4000000*I*pi*(z*x+t*y))), z).simplify() == \\\u001b[0m\u001b[0;34m\u001b[0m\u001b[0;34m\u001b[0m\u001b[0;34m\u001b[0m\u001b[0m\n",
      "\u001b[0;31mAssertionError\u001b[0m: "
     ]
    }
   ],
   "source": [
    "test_issue_21741()"
   ]
  },
  {
   "cell_type": "code",
   "execution_count": 50,
   "id": "fb4759d7-15fc-4534-bc17-5d048132b65d",
   "metadata": {},
   "outputs": [],
   "source": [
    "x,y,z,t = symbols('x y z t', positive=True, real=True)"
   ]
  },
  {
   "cell_type": "code",
   "execution_count": 61,
   "id": "ef60e02c-9725-4f12-85bf-4ebc646b178a",
   "metadata": {},
   "outputs": [
    {
     "data": {
      "text/plain": [
       "False"
      ]
     },
     "execution_count": 61,
     "metadata": {},
     "output_type": "execute_result"
    }
   ],
   "source": [
    "integrate((E ** ((-2*I*pi*(z*x+t*y))/((500*(10**(-9)))))), z).expand() == \\\n",
    "((2.5*10**(-7)*I*E**(-4000000.0*I*pi*(t*y+x*z)))/(pi*x)).expand()"
   ]
  },
  {
   "cell_type": "code",
   "execution_count": 57,
   "id": "5ff212c3-b7e0-4e4a-8609-bad051b553fc",
   "metadata": {},
   "outputs": [
    {
     "data": {
      "image/png": "[encoded data removed]",
      "text/latex": [
       "$\\displaystyle \\frac{2.5 \\cdot 10^{-7} i e^{- 4000000.0 i \\pi t y} e^{- 4000000.0 i \\pi x z}}{\\pi x}$"
      ],
      "text/plain": [
       "          -4000000.0⋅ⅈ⋅π⋅t⋅y  -4000000.0⋅ⅈ⋅π⋅x⋅z\n",
       "2.5e-7⋅ⅈ⋅ℯ                  ⋅ℯ                  \n",
       "────────────────────────────────────────────────\n",
       "                      π⋅x                       "
      ]
     },
     "execution_count": 57,
     "metadata": {},
     "output_type": "execute_result"
    }
   ],
   "source": [
    "S(integrate((E ** ((-2*I*pi*(z*x+t*y))/((500*(10**(-9)))))), z))"
   ]
  },
  {
   "cell_type": "code",
   "execution_count": 70,
   "id": "85dbcca7-9663-42e1-9241-fa2f8e9ad663",
   "metadata": {},
   "outputs": [
    {
     "data": {
      "image/png": "[encoded data removed]",
      "text/latex": [
       "$\\displaystyle \\left( a_{0}, \\  a_{1}, \\  a_{2}\\right)$"
      ],
      "text/plain": [
       "(a₀, a₁, a₂)"
      ]
     },
     "execution_count": 70,
     "metadata": {},
     "output_type": "execute_result"
    }
   ],
   "source": [
    "var('a_0 a_1 a_2', real=True)"
   ]
  },
  {
   "cell_type": "code",
   "execution_count": 71,
   "id": "0ca218bf-9f68-4c4a-8fcb-f6b44c57d526",
   "metadata": {},
   "outputs": [
    {
     "data": {
      "text/plain": [
       "{'real': True,\n",
       " 'commutative': True,\n",
       " 'finite': True,\n",
       " 'infinite': False,\n",
       " 'extended_real': True,\n",
       " 'complex': True,\n",
       " 'imaginary': False,\n",
       " 'hermitian': True}"
      ]
     },
     "execution_count": 71,
     "metadata": {},
     "output_type": "execute_result"
    }
   ],
   "source": [
    "a_0._assumptions"
   ]
  },
  {
   "cell_type": "code",
   "execution_count": 86,
   "id": "dfd1cf94-b344-47ba-b67d-1984ac64c59d",
   "metadata": {},
   "outputs": [
    {
     "data": {
      "text/plain": [
       "True"
      ]
     },
     "execution_count": 86,
     "metadata": {},
     "output_type": "execute_result"
    }
   ],
   "source": []
  },
  {
   "cell_type": "code",
   "execution_count": null,
   "id": "6a3e0648-d0e7-45d4-8048-a8966db5bd0e",
   "metadata": {},
   "outputs": [],
   "source": []
  }
 ],
 "metadata": {
  "kernelspec": {
   "display_name": "Python 3 (ipykernel)",
   "language": "python",
   "name": "python3"
  },
  "language_info": {
   "codemirror_mode": {
    "name": "ipython",
    "version": 3
   },
   "file_extension": ".py",
   "mimetype": "text/x-python",
   "name": "python",
   "nbconvert_exporter": "python",
   "pygments_lexer": "ipython3",
   "version": "3.9.6"
  }
 },
 "nbformat": 4,
 "nbformat_minor": 5
}
