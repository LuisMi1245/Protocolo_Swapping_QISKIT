{
 "cells": [
  {
   "cell_type": "code",
   "execution_count": 1,
   "id": "df32a0bd-1af3-4da2-9a7a-30edd26e990f",
   "metadata": {},
   "outputs": [],
   "source": [
    "import matplotlib.pyplot as plt\n",
    "import numpy as np\n",
    "from pathlib import Path\n",
    "import matplotlib as mpl\n",
    "from matplotlib.font_manager import FontProperties\n",
    "\n",
    "#from sympy import init_session\n",
    "#init_session()\n",
    "font = FontProperties()\n",
    "font.set_family('cm')\n",
    "font.set_name('cm')\n",
    "#font.set_style('italic')\n",
    "font.set_size(13)"
   ]
  },
  {
   "cell_type": "code",
   "execution_count": 2,
   "id": "cfc0c1a0-8d45-450c-990e-00358c4aeeac",
   "metadata": {},
   "outputs": [],
   "source": [
    "X_0 = np.array([\n",
    "0.968*10**15, 1.25*10**15, 1.50*10**15\n",
    "])\n",
    "\n",
    "#X_1 = np.array([])\n",
    "#X_2 = np.array([])\n",
    "\n",
    "#Sodio\n",
    "Y_0 = np.array([\n",
    "1.738, 2.922, 3.951\n",
    "])\n",
    "#Calcio\n",
    "Y_1 = np.array([\n",
    "1.113, 2.278, 3.315\n",
    "])\n",
    "#Magnesio\n",
    "Y_2 = np.array([\n",
    "0.330, 1.498, 2.532\n",
    "])\n",
    "\n",
    "\n",
    "f_0 = np.polyfit(X_0,Y_0, 1)\n",
    "f_1 = np.polyfit(X_0,Y_1, 1)\n",
    "f_2 = np.polyfit(X_0,Y_2, 1)\n",
    "\n",
    "#f_1 = np.polyfit(X_1,Y_1, 1)\n",
    "#f_2 = np.polyfit(X_2,Y_2, 1)\n",
    "\n",
    "p0 = np.poly1d(f_0)\n",
    "p1 = np.poly1d(f_1)\n",
    "p2 = np.poly1d(f_2)\n",
    "\n",
    "#p1 = np.poly1d(f_1)\n",
    "#p2 = np.poly1d(f_2)\n",
    "\n",
    "xp0 = np.linspace(np.min(X_0), np.max(X_0), 200)\n",
    "xp00 = np.linspace(0, np.min(X_0), 200)\n",
    "\n",
    "\n",
    "#xp1 = np.linspace(np.min(X_1), np.max(X_1), 200)\n",
    "#xp2 = np.linspace(np.min(X_2), np.max(X_2), 200)"
   ]
  },
  {
   "cell_type": "code",
   "execution_count": 3,
   "id": "407c11a6-ce5b-4c19-a642-1da79ae82f92",
   "metadata": {},
   "outputs": [
    {
     "name": "stderr",
     "output_type": "stream",
     "text": [
      "findfont: Font family ['cm'] not found. Falling back to DejaVu Sans.\n"
     ]
    },
    {
     "data": {
      "image/png": "[encoded data removed]",
      "text/plain": [
       "<Figure size 432x288 with 1 Axes>"
      ]
     },
     "metadata": {
      "needs_background": "light"
     },
     "output_type": "display_data"
    }
   ],
   "source": [
    "fig, ax = plt.subplots()\n",
    "\n",
    "ax.plot(X_0,Y_0,'o', xp0, p0(xp0))\n",
    "ax.plot(xp00, p0(xp00), '--')\n",
    "\n",
    "ax.plot(X_0,Y_1,'o', xp0, p1(xp0))\n",
    "ax.plot(xp00, p1(xp00), '--')\n",
    "\n",
    "ax.plot(X_0,Y_2,'o', xp0, p2(xp0))\n",
    "ax.plot(xp00, p2(xp00), '--')\n",
    "\n",
    "\n",
    "#plt.plot(X_1,Y_1,'o', xp1, p1(xp1))\n",
    "#plt.plot(X_2,Y_2,'o', xp2, p2(xp2))\n",
    "\n",
    "#plt.plot(X_0,Y_0,'o')\n",
    "#plt.plot(X_1,Y_1,'o')\n",
    "#plt.plot(X_2,Y_2,'o')\n",
    "\n",
    "#plt.plot(X_0,Y_0)\n",
    "#plt.plot(X_1,Y_1)\n",
    "#plt.plot(X_2,Y_2)\n",
    "\n",
    "\n",
    "\n",
    "plt.axhline(color=\"grey\")\n",
    "plt.axvline(color=\"grey\")\n",
    "\n",
    "plt.ylim([-4.5,4.5])\n",
    "plt.xlim([-0.65e+15,2.2e+15])\n",
    "#plt.legend()\n",
    "plt.xlabel(r'Frecuencia (Hz)', fontproperties=font)\n",
    "plt.ylabel(r'Contravoltaje (V)', fontproperties=font)\n",
    "plt.title(r'$V_s\\,(\\nu)$', fontsize=15, math_fontfamily='cm')\n",
    "\n",
    "plt.text(-0.5e+15, -2, r'$-\\Phi_{Na} / e^-$', fontsize=14, math_fontfamily='cm')\n",
    "plt.text(-0.5e+15, -3, r'$-\\Phi_{Ca} / e^-$', fontsize=14, math_fontfamily='cm')\n",
    "plt.text(-0.5e+15, -4, r'$-\\Phi_{Mg} / e^-$', fontsize=14, math_fontfamily='cm')\n",
    "\n",
    "#plt.text(-2, 2, r'$\\lambda_1$', fontsize=18, math_fontfamily='cm')\n",
    "#plt.text(-2.9, 2, r'$\\lambda_2$', fontsize=18, math_fontfamily='cm')\n",
    "#plt.text(-4, 11, r'$\\lambda_0>\\lambda_1>\\lambda_2$', fontsize=18, math_fontfamily='cm')\n",
    "\n",
    "ax.annotate('Magnesio', xy=(1.5e+15, 2), xytext=(1.8e+15, 2),\n",
    "arrowprops=dict(facecolor='grey', shrink=0.001),\n",
    ")\n",
    "ax.annotate('Calcio', xy=(1.5e+15, 2.9), xytext=(1.8e+15, 2.9),\n",
    "arrowprops=dict(facecolor='grey', shrink=0.001),\n",
    ")\n",
    "ax.annotate('Sodio', xy=(1.5e+15, 3.8), xytext=(1.8e+15, 3.8),\n",
    "arrowprops=dict(facecolor='grey', shrink=0.001),\n",
    ")\n",
    "\n",
    "\n",
    "plt.savefig('line_plot.pdf')\n",
    "plt.show()\n"
   ]
  },
  {
   "cell_type": "code",
   "execution_count": 8,
   "id": "493b2530-889a-4fac-ba23-6eb2988b5dfa",
   "metadata": {},
   "outputs": [
    {
     "name": "stdout",
     "output_type": "stream",
     "text": [
      " \n",
      "4.161e-15 x - 2.286\n",
      " \n",
      "4.139e-15 x - 2.894\n",
      " \n",
      "4.139e-15 x - 3.676\n"
     ]
    }
   ],
   "source": [
    "electron = 1.602*10**(-19)\n",
    "print(p0)\n",
    "print(p1)\n",
    "print(p2)"
   ]
  },
  {
   "cell_type": "code",
   "execution_count": 5,
   "id": "e6ba796c-0151-4843-9140-65bed6fc0ef1",
   "metadata": {},
   "outputs": [
    {
     "data": {
      "text/plain": [
       "549387166546503.2"
      ]
     },
     "execution_count": 5,
     "metadata": {},
     "output_type": "execute_result"
    }
   ],
   "source": [
    "2.286/4.161e-15"
   ]
  },
  {
   "cell_type": "code",
   "execution_count": 6,
   "id": "4a055079-348c-4ac2-a8b6-e4ff05a0ca42",
   "metadata": {},
   "outputs": [
    {
     "data": {
      "text/plain": [
       "699202705967625.1"
      ]
     },
     "execution_count": 6,
     "metadata": {},
     "output_type": "execute_result"
    }
   ],
   "source": [
    "2.894/4.139e-15"
   ]
  },
  {
   "cell_type": "code",
   "execution_count": 7,
   "id": "ff03f11c-e22f-49dd-b0f4-e070f3f5d1e8",
   "metadata": {},
   "outputs": [
    {
     "data": {
      "text/plain": [
       "888137231215269.5"
      ]
     },
     "execution_count": 7,
     "metadata": {},
     "output_type": "execute_result"
    }
   ],
   "source": [
    "3.676/4.139e-15"
   ]
  },
  {
   "cell_type": "code",
   "execution_count": 12,
   "id": "39cf3a11-10f0-4b6e-9922-cca7a9f45217",
   "metadata": {},
   "outputs": [
    {
     "data": {
      "text/plain": [
       "-0.5885904014488358"
      ]
     },
     "execution_count": 12,
     "metadata": {},
     "output_type": "execute_result"
    }
   ],
   "source": [
    "((6.626e-34-6.665e-34)/6.626e-34)*100"
   ]
  },
  {
   "cell_type": "code",
   "execution_count": null,
   "id": "a9589bef-9c48-4d6a-829c-e46a60422e2d",
   "metadata": {},
   "outputs": [],
   "source": []
  }
 ],
 "metadata": {
  "kernelspec": {
   "display_name": "Python 3 (ipykernel)",
   "language": "python",
   "name": "python3"
  },
  "language_info": {
   "codemirror_mode": {
    "name": "ipython",
    "version": 3
   },
   "file_extension": ".py",
   "mimetype": "text/x-python",
   "name": "python",
   "nbconvert_exporter": "python",
   "pygments_lexer": "ipython3",
   "version": "3.11.2"
  }
 },
 "nbformat": 4,
 "nbformat_minor": 5
}
