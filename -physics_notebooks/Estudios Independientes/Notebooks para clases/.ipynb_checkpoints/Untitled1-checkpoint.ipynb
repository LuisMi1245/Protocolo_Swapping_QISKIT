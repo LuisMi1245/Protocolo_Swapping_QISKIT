{
 "cells": [
  {
   "cell_type": "code",
   "execution_count": 2,
   "id": "622d16f3-b2fe-40f0-8a86-bcb013d36880",
   "metadata": {},
   "outputs": [
    {
     "name": "stdout",
     "output_type": "stream",
     "text": [
      "IPython console for SymPy 1.10.1 (Python 3.10.5-64-bit) (ground types: python)\n",
      "\n",
      "These commands were executed:\n",
      ">>> from sympy import *\n",
      ">>> x, y, z, t = symbols('x y z t')\n",
      ">>> k, m, n = symbols('k m n', integer=True)\n",
      ">>> f, g, h = symbols('f g h', cls=Function)\n",
      ">>> init_printing()\n",
      "\n",
      "Documentation can be found at https://docs.sympy.org/1.10.1/\n",
      "\n"
     ]
    }
   ],
   "source": [
    "from sympy import init_session\n",
    "from sympy.physics.quantum.operator import DifferentialOperator\n",
    "from sympy.physics.quantum.state import Wavefunction\n",
    "from sympy.physics.quantum.qapply import qapply\n",
    "init_session()\n",
    "\n",
    "f = Function('f')\n",
    "x = Symbol('x')\n",
    "d = DifferentialOperator(-(h**2)/(2*m))*diff(phi,q,2), f(x))\n",
    "w = Wavefunction(x**2, x)"
   ]
  },
  {
   "cell_type": "code",
   "execution_count": 4,
   "id": "47999bde-83fa-445a-a0dc-bf5cfbdeda51",
   "metadata": {},
   "outputs": [
    {
     "data": {
      "image/png": "[encoded data removed]",
      "text/latex": [
       "$\\displaystyle \\operatorname{Wavefunction}{\\left(2,x \\right)}$"
      ],
      "text/plain": [
       "Wavefunction(2, x)"
      ]
     },
     "execution_count": 4,
     "metadata": {},
     "output_type": "execute_result"
    }
   ],
   "source": [
    "qapply(d*w)"
   ]
  },
  {
   "cell_type": "code",
   "execution_count": 5,
   "id": "b7f059b7-89e7-4766-a2ad-dfef6fedfd24",
   "metadata": {},
   "outputs": [
    {
     "data": {
      "image/png": "[encoded data removed]",
      "text/latex": [
       "$\\displaystyle \\int \\operatorname{Wavefunction}{\\left(x^{2},x \\right)}\\, dx$"
      ],
      "text/plain": [
       "⌠                       \n",
       "⎮             ⎛ 2   ⎞   \n",
       "⎮ Wavefunction⎝x , x⎠ dx\n",
       "⌡                       "
      ]
     },
     "execution_count": 5,
     "metadata": {},
     "output_type": "execute_result"
    }
   ],
   "source": [
    "integrate(w, x)"
   ]
  },
  {
   "cell_type": "code",
   "execution_count": null,
   "id": "8015b646-c077-4fd1-8fdf-6c96392bcf10",
   "metadata": {},
   "outputs": [],
   "source": []
  }
 ],
 "metadata": {
  "kernelspec": {
   "display_name": "Python 3 (ipykernel)",
   "language": "python",
   "name": "python3"
  },
  "language_info": {
   "codemirror_mode": {
    "name": "ipython",
    "version": 3
   },
   "file_extension": ".py",
   "mimetype": "text/x-python",
   "name": "python",
   "nbconvert_exporter": "python",
   "pygments_lexer": "ipython3",
   "version": "3.10.8"
  }
 },
 "nbformat": 4,
 "nbformat_minor": 5
}
