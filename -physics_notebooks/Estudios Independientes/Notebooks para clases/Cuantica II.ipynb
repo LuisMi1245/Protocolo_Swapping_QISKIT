{
 "cells": [
  {
   "cell_type": "markdown",
   "id": "ce00cf1c-7c28-457a-abb3-67daa836920d",
   "metadata": {},
   "source": [
    "---\n",
    "# Taller: Método Variacional (con Python)\n",
    "### Mecánica Cuántica II\n",
    "### Luis Miguel Patiño Buendía\n",
    "---"
   ]
  },
  {
   "cell_type": "code",
   "execution_count": 1,
   "id": "a171d500-c01e-4081-8084-7f2637385b95",
   "metadata": {
    "collapsed": true,
    "jupyter": {
     "outputs_hidden": true
    },
    "tags": []
   },
   "outputs": [
    {
     "name": "stdout",
     "output_type": "stream",
     "text": [
      "IPython console for SymPy 1.10.1 (Python 3.10.5-64-bit) (ground types: python)\n",
      "\n",
      "These commands were executed:\n",
      ">>> from sympy import *\n",
      ">>> x, y, z, t = symbols('x y z t')\n",
      ">>> k, m, n = symbols('k m n', integer=True)\n",
      ">>> f, g, h = symbols('f g h', cls=Function)\n",
      ">>> init_printing()\n",
      "\n",
      "Documentation can be found at https://docs.sympy.org/1.10.1/\n",
      "\n"
     ]
    }
   ],
   "source": [
    "from sympy import init_session\n",
    "init_session()"
   ]
  },
  {
   "cell_type": "markdown",
   "id": "6ac6e3d6-0308-4cbb-88e4-6342305f31fb",
   "metadata": {},
   "source": [
    "## Problema 3.1:"
   ]
  },
  {
   "cell_type": "markdown",
   "id": "b590f4f0-a9af-478c-a453-a39f97d096d8",
   "metadata": {},
   "source": [
    "Definimos cada elemento matricial del hamiltoniano $H_{nm}$ y cada elemento matricial de superposición $S_{nm}$ en representación de coordenadas:"
   ]
  },
  {
   "cell_type": "code",
   "execution_count": 2,
   "id": "58286f36-b724-4227-a1a2-22374a7517f2",
   "metadata": {},
   "outputs": [],
   "source": [
    "def H_S_nm(n,m):\n",
    "    q, a, h, mass = symbols('q a hbar m', real=True)\n",
    "    X_nm = [a**2-q**2, a**4-q**4] \n",
    "    H_nm = integrate(conjugate(X_nm[n-1])*(-(h**2)/(2*mass))*diff(X_nm[m-1],q,2),(q, -a, a))\n",
    "    S_nm = integrate(conjugate(X_nm[n-1])*X_nm[m-1],(q, -a, a))\n",
    "    return [H_nm, S_nm]"
   ]
  },
  {
   "cell_type": "markdown",
   "id": "77b2203f-e3be-4ce9-801f-e790d8ec81e5",
   "metadata": {},
   "source": [
    "Ahora definimos la matriz de los elementos matriciales:"
   ]
  },
  {
   "cell_type": "code",
   "execution_count": 3,
   "id": "034c6cb4-3395-4be6-835b-a42f0ff8c7e5",
   "metadata": {
    "tags": []
   },
   "outputs": [
    {
     "data": {
      "text/latex": [
       "$\\displaystyle \\left[\\begin{matrix}- \\frac{16 E a^{5}}{15} + \\frac{4 a^{3} \\hbar^{2}}{3 m} & - \\frac{128 E a^{7}}{105} + \\frac{8 a^{5} \\hbar^{2}}{5 m}\\\\- \\frac{128 E a^{7}}{105} + \\frac{8 a^{5} \\hbar^{2}}{5 m} & - \\frac{64 E a^{9}}{45} + \\frac{16 a^{7} \\hbar^{2}}{7 m}\\end{matrix}\\right]$"
      ],
      "text/plain": [
       "⎡        5      3  2            7      5  2⎤\n",
       "⎢  16⋅E⋅a    4⋅a ⋅h̅      128⋅E⋅a    8⋅a ⋅h̅ ⎥\n",
       "⎢- ─────── + ───────   - ──────── + ───────⎥\n",
       "⎢     15       3⋅m         105        5⋅m  ⎥\n",
       "⎢                                          ⎥\n",
       "⎢         7      5  2          9       7  2⎥\n",
       "⎢  128⋅E⋅a    8⋅a ⋅h̅     64⋅E⋅a    16⋅a ⋅h̅ ⎥\n",
       "⎢- ──────── + ───────  - ─────── + ────────⎥\n",
       "⎣    105        5⋅m         45       7⋅m   ⎦"
      ]
     },
     "execution_count": 3,
     "metadata": {},
     "output_type": "execute_result"
    }
   ],
   "source": [
    "E = symbols('E')\n",
    "\n",
    "H_mn = [\n",
    "[H_S_nm(1,1)[0], H_S_nm(1,2)[0]],\n",
    "[H_S_nm(2,1)[0], H_S_nm(2,2)[0]]\n",
    "]\n",
    "\n",
    "S_mn = [\n",
    "[H_S_nm(1,1)[1], H_S_nm(1,2)[1]],\n",
    "[H_S_nm(2,1)[1], H_S_nm(2,2)[1]]\n",
    "]\n",
    "\n",
    "H_mn = Matrix(H_mn)\n",
    "S_mn = Matrix(S_mn)\n",
    "\n",
    "M = H_mn - E*S_mn\n",
    "M"
   ]
  },
  {
   "cell_type": "markdown",
   "id": "f5d514cb-7554-4620-a9f7-862b64cc6c0d",
   "metadata": {},
   "source": [
    "Ahora calculamos el determinante y despejamos a E:"
   ]
  },
  {
   "cell_type": "code",
   "execution_count": 4,
   "id": "5be3b6bb-9759-4693-8867-cb52154b6718",
   "metadata": {},
   "outputs": [
    {
     "data": {
      "image/png": "[encoded data removed]",
      "text/latex": [
       "$\\displaystyle \\left[ \\frac{\\hbar^{2} \\cdot \\left(14 - \\sqrt{133}\\right)}{2 a^{2} m}, \\  \\frac{\\hbar^{2} \\left(\\sqrt{133} + 14\\right)}{2 a^{2} m}\\right]$"
      ],
      "text/plain": [
       "⎡ 2               2            ⎤\n",
       "⎢h̅ ⋅(14 - √133)  h̅ ⋅(√133 + 14)⎥\n",
       "⎢──────────────, ──────────────⎥\n",
       "⎢       2               2      ⎥\n",
       "⎣    2⋅a ⋅m          2⋅a ⋅m    ⎦"
      ]
     },
     "execution_count": 4,
     "metadata": {},
     "output_type": "execute_result"
    }
   ],
   "source": [
    "E_approx = solve(M[0,0]*M[1,1] - M[0,1]*M[1,0], E)\n",
    "E_approx"
   ]
  },
  {
   "cell_type": "markdown",
   "id": "c6f2c3c8-4614-4d8a-ad19-1f304d45caec",
   "metadata": {},
   "source": [
    "### Estado Base"
   ]
  },
  {
   "cell_type": "code",
   "execution_count": 11,
   "id": "4e474d8d-f0c6-41f7-8085-4978396e6471",
   "metadata": {},
   "outputs": [
    {
     "data": {
      "image/png": "[encoded data removed]",
      "text/latex": [
       "$\\displaystyle \\frac{1.2337187026646 \\hbar^{2}}{a^{2} m}$"
      ],
      "text/plain": [
       "                 2\n",
       "1.2337187026646⋅h̅ \n",
       "──────────────────\n",
       "        2         \n",
       "       a ⋅m       "
      ]
     },
     "execution_count": 11,
     "metadata": {},
     "output_type": "execute_result"
    }
   ],
   "source": [
    "E_approx[0].evalf() #Valor de energía aproximado del estado base"
   ]
  },
  {
   "cell_type": "code",
   "execution_count": 19,
   "id": "de9e0b32-3259-4264-a9b8-085bd57a6149",
   "metadata": {},
   "outputs": [
    {
     "data": {
      "image/png": "[encoded data removed]",
      "text/latex": [
       "$\\displaystyle \\frac{\\pi^{2} \\hbar^{2}}{8 a^{2} m}$"
      ],
      "text/plain": [
       " 2  2 \n",
       "π ⋅h̅ \n",
       "──────\n",
       "   2  \n",
       "8⋅a ⋅m"
      ]
     },
     "execution_count": 19,
     "metadata": {},
     "output_type": "execute_result"
    }
   ],
   "source": [
    "h,m,a = symbols('hbar m a')\n",
    "E_original = (pi**2 * h**2) / (8*m*a**2)\n",
    "E_original"
   ]
  },
  {
   "cell_type": "code",
   "execution_count": 20,
   "id": "38da28ce-9e54-4b4b-b3ef-b9d6edead29e",
   "metadata": {},
   "outputs": [
    {
     "data": {
      "image/png": "[encoded data removed]",
      "text/latex": [
       "$\\displaystyle \\frac{1.23370055013617 \\hbar^{2}}{a^{2} m}$"
      ],
      "text/plain": [
       "                  2\n",
       "1.23370055013617⋅h̅ \n",
       "───────────────────\n",
       "         2         \n",
       "        a ⋅m       "
      ]
     },
     "execution_count": 20,
     "metadata": {},
     "output_type": "execute_result"
    }
   ],
   "source": [
    "E_original.evalf() #Valor de energía real del estado base"
   ]
  },
  {
   "cell_type": "markdown",
   "id": "86081d15-d48e-4094-b24c-e33d9b63980b",
   "metadata": {},
   "source": [
    "### Primer Estado Excitado"
   ]
  },
  {
   "cell_type": "code",
   "execution_count": 18,
   "id": "a9e25790-52aa-4b68-801f-9567093773d7",
   "metadata": {},
   "outputs": [
    {
     "name": "stdout",
     "output_type": "stream",
     "text": [
      "Primer estado Excitado Aproximado:  12.7662812973354*hbar**2/(a**2*m)\n",
      "Primer estado Excitado Real n=2:  4.93480220054468*hbar**2/(a**2*m)\n"
     ]
    }
   ],
   "source": [
    "print(\"Primer estado Excitado Aproximado: \", E_approx[1].evalf())\n",
    "print(\"Primer estado Excitado Real n=2: \", 4*E_original.evalf())"
   ]
  },
  {
   "cell_type": "markdown",
   "id": "67d7301e-e760-4be9-b94b-8cc3cb146f04",
   "metadata": {},
   "source": [
    " $\\newcommand{\\ket}[1]{\\left|{#1}\\right\\rangle}$$\\newcommand{\\bra}[1]{\\left\\langle{#1}\\right|}$$\\newcommand{\\braket}[2]{\\left\\langle{#1}\\middle|{#2}\\right\\rangle}$"
   ]
  },
  {
   "cell_type": "markdown",
   "id": "a842591a-8013-4008-81c0-10a81cd1ef82",
   "metadata": {},
   "source": [
    "## Problema 3.2:"
   ]
  },
  {
   "cell_type": "code",
   "execution_count": 2,
   "id": "f8f6db47-8b84-4e33-b85d-b71aef179f83",
   "metadata": {},
   "outputs": [
    {
     "data": {
      "image/png": "[encoded data removed]",
      "text/latex": [
       "$\\displaystyle 1$"
      ],
      "text/plain": [
       "1"
      ]
     },
     "execution_count": 2,
     "metadata": {},
     "output_type": "execute_result"
    }
   ],
   "source": [
    "m, w, h, v, k = symbols('m omega hbar V_0 k', real=True, positive=True)\n",
    "q = symbols('q', real=True)\n",
    "phi = sqrt(k / sqrt(pi)) * exp(-(Rational(1/2))*(k*q)**2) #Funcion de prueba - Oscilador Armónico\n",
    "integrate(phi*conjugate(phi), (q, -oo, oo)) #Comprobar que el estado phi está normalizado"
   ]
  },
  {
   "cell_type": "markdown",
   "id": "2ae1d65e-8a10-4bc6-93dc-f2c77c958bae",
   "metadata": {},
   "source": [
    "#### Integrando Término a Término\n",
    "Ahora resolveremos en representación de coordenadas: $\\bra{\\Phi}\\hat{H}\\ket{\\Phi}$ por integración término a término."
   ]
  },
  {
   "cell_type": "code",
   "execution_count": 4,
   "id": "bfe98445-4056-4185-b07c-98f3a336baff",
   "metadata": {},
   "outputs": [
    {
     "data": {
      "image/png": "[encoded data removed]",
      "text/latex": [
       "$\\displaystyle \\frac{\\hbar^{2} k^{2}}{4 m}$"
      ],
      "text/plain": [
       " 2  2\n",
       "h̅ ⋅k \n",
       "─────\n",
       " 4⋅m "
      ]
     },
     "execution_count": 4,
     "metadata": {},
     "output_type": "execute_result"
    }
   ],
   "source": [
    "t1 = integrate(conjugate(phi)*(-(h**2)/(2*m))*diff(phi,q,2),(q, -oo, oo))\n",
    "t1"
   ]
  },
  {
   "cell_type": "code",
   "execution_count": 18,
   "id": "b6ed4a08-93b3-4ffe-a3ff-7e5f0bcacd5f",
   "metadata": {},
   "outputs": [
    {
     "data": {
      "image/png": "[encoded data removed]",
      "text/latex": [
       "$\\displaystyle \\frac{V_{0} k}{\\sqrt{\\pi}}$"
      ],
      "text/plain": [
       "V₀⋅k\n",
       "────\n",
       " √π "
      ]
     },
     "execution_count": 18,
     "metadata": {},
     "output_type": "execute_result"
    }
   ],
   "source": [
    "t2 = integrate(conjugate(phi)*v*DiracDelta(q)*phi,(q, -oo, oo))\n",
    "t2"
   ]
  },
  {
   "cell_type": "code",
   "execution_count": 19,
   "id": "afb2b9e8-37ab-499d-b49a-75f6b2e6a115",
   "metadata": {
    "tags": []
   },
   "outputs": [
    {
     "data": {
      "image/png": "[encoded data removed]",
      "text/latex": [
       "$\\displaystyle \\frac{V_{0} k e^{- k^{2} q^{2}} \\delta\\left(q\\right)}{\\sqrt{\\pi}}$"
      ],
      "text/plain": [
       "        2  2     \n",
       "      -k ⋅q      \n",
       "V₀⋅k⋅ℯ      ⋅δ(q)\n",
       "─────────────────\n",
       "        √π       "
      ]
     },
     "execution_count": 19,
     "metadata": {},
     "output_type": "execute_result"
    }
   ],
   "source": [
    "conjugate(phi)*v*DiracDelta(q)*phi"
   ]
  },
  {
   "cell_type": "markdown",
   "id": "fba47e2f-19a5-4c75-b893-aaa4db336dd9",
   "metadata": {},
   "source": [
    "#### Valor Esperado de Energía (sustituyendo a k)"
   ]
  },
  {
   "cell_type": "code",
   "execution_count": 20,
   "id": "f3eab764-62b6-4a81-845e-efe2e2c4963f",
   "metadata": {},
   "outputs": [
    {
     "data": {
      "image/png": "[encoded data removed]",
      "text/latex": [
       "$\\displaystyle - \\frac{V_{0} \\sqrt{m} \\sqrt{\\omega}}{\\sqrt{\\pi} \\sqrt{\\hbar}} + \\frac{\\hbar \\omega}{4}$"
      ],
      "text/plain": [
       "  V₀⋅√m⋅√ω   h̅⋅ω\n",
       "- ──────── + ───\n",
       "   √π⋅√h̅     4 "
      ]
     },
     "execution_count": 20,
     "metadata": {},
     "output_type": "execute_result"
    }
   ],
   "source": [
    "expected_val = (t1 - t2).subs(k, sqrt((m*w)/h))\n",
    "expected_val"
   ]
  },
  {
   "cell_type": "markdown",
   "id": "3ab719e4-c53b-4b93-bba7-795f57e70d74",
   "metadata": {},
   "source": [
    "#### Hallando Parámetro Variacional $\\omega$"
   ]
  },
  {
   "cell_type": "code",
   "execution_count": 21,
   "id": "28e91f98-075b-45e9-89c5-540fcd5a0ec4",
   "metadata": {},
   "outputs": [],
   "source": [
    "omega = solve(diff(expected_val, w), w)[0] #Se deriva el valor esperado, se iguala a cero\n",
    "#luego se resuelve la ecuación para el omega"
   ]
  },
  {
   "cell_type": "code",
   "execution_count": 22,
   "id": "2cdb3e89-fcc1-4dfe-9a32-74bc01b9acb7",
   "metadata": {},
   "outputs": [
    {
     "data": {
      "image/png": "[encoded data removed]",
      "text/latex": [
       "$\\displaystyle \\frac{4 V_{0}^{2} m}{\\pi \\hbar^{3}}$"
      ],
      "text/plain": [
       "    2  \n",
       "4⋅V₀ ⋅m\n",
       "───────\n",
       "     3 \n",
       " π⋅h̅  "
      ]
     },
     "execution_count": 22,
     "metadata": {},
     "output_type": "execute_result"
    }
   ],
   "source": [
    "omega"
   ]
  },
  {
   "cell_type": "markdown",
   "id": "f8d04649-9c59-43b8-b12c-ab67ddcad684",
   "metadata": {},
   "source": [
    "#### Valor Esperado de Energía con $\\omega$ que Minimiza la función"
   ]
  },
  {
   "cell_type": "code",
   "execution_count": 23,
   "id": "3de14ea0-7a99-4f4a-a7f7-2b5e9762430a",
   "metadata": {},
   "outputs": [
    {
     "data": {
      "image/png": "[encoded data removed]",
      "text/latex": [
       "$\\displaystyle - \\frac{V_{0}^{2} m}{\\pi \\hbar^{2}}$"
      ],
      "text/plain": [
       "   2   \n",
       "-V₀ ⋅m \n",
       "───────\n",
       "     2 \n",
       " π⋅h̅  "
      ]
     },
     "execution_count": 23,
     "metadata": {},
     "output_type": "execute_result"
    }
   ],
   "source": [
    "expected_val.subs(w, omega) #Sustituimos omega por su nuevo valor"
   ]
  },
  {
   "cell_type": "markdown",
   "id": "a5091ea8-4d07-4897-a688-8604271505ca",
   "metadata": {},
   "source": [
    "Como vemos, el valor esperado después de sustituir el parámetro variacional $\\omega$ resulta ser negativo (referente a un estado ligado) que es mayor que el valor propio de la energía original para un potencial delta dirac."
   ]
  },
  {
   "cell_type": "markdown",
   "id": "0c91af90-a9bd-4536-a781-a6d448f2db3f",
   "metadata": {},
   "source": [
    "## Problema 3.3:"
   ]
  },
  {
   "cell_type": "markdown",
   "id": "c4358487-baa5-4f6a-97e3-d5518bb949e0",
   "metadata": {},
   "source": [
    "Comprobemos que la función sugerida está normalizada:"
   ]
  },
  {
   "cell_type": "code",
   "execution_count": 2,
   "id": "de0105a9-56bd-4542-b191-f50eec9c6d41",
   "metadata": {},
   "outputs": [
    {
     "data": {
      "image/png": "[encoded data removed]",
      "text/latex": [
       "$\\displaystyle \\frac{2^{\\frac{3}{4}} e^{- r^{2}}}{\\pi^{\\frac{3}{4}}}$"
      ],
      "text/plain": [
       "        2\n",
       " 3/4  -r \n",
       "2   ⋅ℯ   \n",
       "─────────\n",
       "    3/4  \n",
       "   π     "
      ]
     },
     "execution_count": 2,
     "metadata": {},
     "output_type": "execute_result"
    }
   ],
   "source": [
    "r,t,p,e,h,m = symbols('r theta varphi e hbar m', real=True)\n",
    "phi = (2/pi)**(Rational(3/4))*exp(-(r**2))\n",
    "phi"
   ]
  },
  {
   "cell_type": "code",
   "execution_count": 3,
   "id": "a0b1bce5-d1f3-458e-be55-f2fec7c95ec3",
   "metadata": {},
   "outputs": [
    {
     "data": {
      "image/png": "[encoded data removed]",
      "text/latex": [
       "$\\displaystyle 1$"
      ],
      "text/plain": [
       "1"
      ]
     },
     "execution_count": 3,
     "metadata": {},
     "output_type": "execute_result"
    }
   ],
   "source": [
    "integrate(integrate(sin(t)*integrate(r**2*conjugate(phi)*phi, (r, 0, oo)), (t, 0, pi)),(p,0,2*pi))"
   ]
  },
  {
   "cell_type": "markdown",
   "id": "e43ebeda-ef6e-43ea-9493-2d337b119442",
   "metadata": {},
   "source": [
    "Hallemos el parámetro $\\eta$ para el cual la función satisface el teorema del virial:"
   ]
  },
  {
   "cell_type": "code",
   "execution_count": 4,
   "id": "4a28c191-988c-45f5-88ce-5f3c1dfc8c51",
   "metadata": {},
   "outputs": [
    {
     "data": {
      "image/png": "[encoded data removed]",
      "text/latex": [
       "$\\displaystyle - \\frac{2 \\sqrt{2} e^{2}}{\\sqrt{\\pi}}$"
      ],
      "text/plain": [
       "       2 \n",
       "-2⋅√2⋅e  \n",
       "─────────\n",
       "    √π   "
      ]
     },
     "execution_count": 4,
     "metadata": {},
     "output_type": "execute_result"
    }
   ],
   "source": [
    "eta_numerador = integrate(integrate(sin(t)*integrate(r**2*conjugate(phi)*(-(e**2)/r)*phi, (r, 0, oo)), (t, 0, pi)),(p,0,2*pi))\n",
    "eta_numerador"
   ]
  },
  {
   "cell_type": "code",
   "execution_count": 5,
   "id": "7bdb6c3f-75c4-4619-a56a-d7ae8fe6ca75",
   "metadata": {},
   "outputs": [
    {
     "data": {
      "image/png": "[encoded data removed]",
      "text/latex": [
       "$\\displaystyle \\frac{3 \\hbar^{2} m}{2}$"
      ],
      "text/plain": [
       "   2  \n",
       "3⋅h̅ ⋅m\n",
       "──────\n",
       "  2   "
      ]
     },
     "execution_count": 5,
     "metadata": {},
     "output_type": "execute_result"
    }
   ],
   "source": [
    "eta_denominador = integrate(integrate(sin(t)*integrate(r**2*conjugate(phi)*(-(h**2/2*m)*(1/r**2)*diff(r**2*diff(phi,r), r)), (r, 0, oo)), (t, 0, pi)),(p,0,2*pi))\n",
    "eta_denominador"
   ]
  },
  {
   "cell_type": "code",
   "execution_count": 18,
   "id": "a721a918-04c2-4c96-af8a-2b756870d923",
   "metadata": {},
   "outputs": [
    {
     "data": {
      "image/png": "[encoded data removed]",
      "text/latex": [
       "$\\displaystyle \\frac{2 \\sqrt{2} e^{2}}{3 \\sqrt{\\pi} \\hbar^{2} m}$"
      ],
      "text/plain": [
       "       2 \n",
       " 2⋅√2⋅e  \n",
       "─────────\n",
       "      2  \n",
       "3⋅√π⋅h̅ ⋅m"
      ]
     },
     "execution_count": 18,
     "metadata": {},
     "output_type": "execute_result"
    }
   ],
   "source": [
    "eta = -(Rational(1/2))*(eta_numerador/eta_denominador)\n",
    "eta"
   ]
  },
  {
   "cell_type": "markdown",
   "id": "42384aec-8d2d-4ce2-8200-60aa914d6c44",
   "metadata": {},
   "source": [
    "Veamos ahora como para el $\\eta$ obtenido se satisface el teorema del virial:"
   ]
  },
  {
   "cell_type": "code",
   "execution_count": 15,
   "id": "49ee9b94-1149-4e8c-9fb4-e7eddb45e3a1",
   "metadata": {},
   "outputs": [
    {
     "data": {
      "image/png": "[encoded data removed]",
      "text/latex": [
       "$\\displaystyle \\frac{4 e^{4}}{3 \\pi \\hbar^{2} m}$"
      ],
      "text/plain": [
       "     4  \n",
       "  4⋅e   \n",
       "────────\n",
       "     2  \n",
       "3⋅π⋅h̅ ⋅m"
      ]
     },
     "execution_count": 15,
     "metadata": {},
     "output_type": "execute_result"
    }
   ],
   "source": [
    "et = symbols('eta', real=True, positive=True)\n",
    "phi_eta = ((2*et**2)/pi)**(Rational(3/4))*exp(-((et*r)**2))\n",
    "integrate(integrate(sin(t)*integrate(r**2*conjugate(phi_eta)*(-(h**2/2*m)*(1/r**2)*diff(r**2*diff(phi_eta,r), r)), (r, 0, oo)), (t, 0, pi)),(p,0,2*pi)).subs(et,eta)"
   ]
  },
  {
   "cell_type": "code",
   "execution_count": 16,
   "id": "9911bf4b-5c14-402d-a1c6-15933d51b25d",
   "metadata": {},
   "outputs": [
    {
     "data": {
      "image/png": "[encoded data removed]",
      "text/latex": [
       "$\\displaystyle \\frac{4 e^{4}}{3 \\pi \\hbar^{2} m}$"
      ],
      "text/plain": [
       "     4  \n",
       "  4⋅e   \n",
       "────────\n",
       "     2  \n",
       "3⋅π⋅h̅ ⋅m"
      ]
     },
     "execution_count": 16,
     "metadata": {},
     "output_type": "execute_result"
    }
   ],
   "source": [
    "-(Rational(1/2))*integrate(integrate(sin(t)*integrate(r**2*conjugate(phi_eta)*(-(e**2)/r)*phi_eta, (r, 0, oo)), (t, 0, pi)),(p,0,2*pi)).subs(et, eta)"
   ]
  },
  {
   "cell_type": "markdown",
   "id": "ff4b113f-7661-45ed-8bdc-8859ee5ec01f",
   "metadata": {},
   "source": [
    "En ambos casos se obtuvo el mismo resultado, conforme a $\\bra{\\Phi_{\\eta}}\\hat{T}\\ket{\\Phi_{\\eta}} = -\\frac{1}{2} \\bra{\\Phi_{\\eta}}\\hat{V}\\ket{\\Phi_{\\eta}}$."
   ]
  },
  {
   "cell_type": "markdown",
   "id": "d393570e-6e05-4b94-ab75-8a270a6a9440",
   "metadata": {},
   "source": [
    "## Problema 3.5:"
   ]
  },
  {
   "cell_type": "markdown",
   "id": "1a5c41fb-17f0-4fc1-be06-19babbff96d0",
   "metadata": {},
   "source": [
    "Definamos el la función de prueba $\\Phi = \\Phi_1 * \\Phi_2$:"
   ]
  },
  {
   "cell_type": "code",
   "execution_count": 2,
   "id": "224a02b5-58a3-47b7-b4c8-78feb900b1a5",
   "metadata": {},
   "outputs": [],
   "source": [
    "m, w0, h, k = symbols('m omega_0 hbar k_{\\Omega}', real=True, positive=True)\n",
    "q1, q2, lmd = symbols('q_1 q_2 lambda', real=True)\n",
    "phi1 = sqrt(k / sqrt(pi)) * exp(-(Rational(1/2))*(k*q1)**2) \n",
    "phi2 = sqrt(k / sqrt(pi)) * exp(-(Rational(1/2))*(k*q2)**2) \n",
    "\n",
    "phi_total = phi1 * phi2"
   ]
  },
  {
   "cell_type": "code",
   "execution_count": 3,
   "id": "e110f60e-e503-43dc-bc8b-99ada98099e7",
   "metadata": {},
   "outputs": [
    {
     "data": {
      "image/png": "[encoded data removed]",
      "text/latex": [
       "$\\displaystyle \\frac{k_{\\Omega} e^{- \\frac{k_{\\Omega}^{2} q_{1}^{2}}{2}} e^{- \\frac{k_{\\Omega}^{2} q_{2}^{2}}{2}}}{\\sqrt{\\pi}}$"
      ],
      "text/plain": [
       "                       2   2              2   2 \n",
       "            -k_{\\Omega} ⋅q₁    -k_{\\Omega} ⋅q₂  \n",
       "            ─────────────────  ─────────────────\n",
       "                    2                  2        \n",
       "k_{\\Omega}⋅ℯ                 ⋅ℯ                 \n",
       "────────────────────────────────────────────────\n",
       "                       √π                       "
      ]
     },
     "execution_count": 3,
     "metadata": {},
     "output_type": "execute_result"
    }
   ],
   "source": [
    "phi_total"
   ]
  },
  {
   "cell_type": "markdown",
   "id": "24e0976c-e7a3-4b65-b350-76991c4628c0",
   "metadata": {},
   "source": [
    "Nuevamente, desarrollaremos el valor esperado a términos. Primero el numerador: $\\bra{\\Phi}\\hat{H}\\ket{\\Phi}$ "
   ]
  },
  {
   "cell_type": "code",
   "execution_count": 4,
   "id": "3601a0b7-51e6-4911-bcea-520b056a2ae5",
   "metadata": {},
   "outputs": [],
   "source": [
    "numerador = integrate(integrate( conjugate(phi_total) * (-(((h**2)/(2*m))*diff(phi_total,q1,2)) - (((h**2)/(2*m))*diff(phi_total,q2,2)) + (Rational(1/2)*m*(w0**2)*(q1**2))*phi_total + (Rational(1/2)*m*(w0**2)*(q2**2))*phi_total + lmd*((m**2 * w0**2 * (q1**2) * (q2**2))/h)*phi_total), (q1, -oo, oo) ), (q2, -oo, oo))"
   ]
  },
  {
   "cell_type": "code",
   "execution_count": 5,
   "id": "89abd069-55a2-4091-9101-59855b22204b",
   "metadata": {},
   "outputs": [
    {
     "data": {
      "image/png": "[encoded data removed]",
      "text/latex": [
       "$\\displaystyle \\frac{\\hbar^{2} k_{\\Omega}^{2}}{2 m} + \\frac{m \\omega_{0}^{2}}{2 k_{\\Omega}^{2}} + \\frac{\\lambda m^{2} \\omega_{0}^{2}}{4 \\hbar k_{\\Omega}^{4}}$"
      ],
      "text/plain": [
       " 2           2           2              2   2   \n",
       "h̅ ⋅k_{\\Omega}        m⋅ω₀            λ⋅m ⋅ω₀    \n",
       "────────────── + ───────────── + ───────────────\n",
       "     2⋅m                     2                 4\n",
       "                 2⋅k_{\\Omega}    4⋅h̅⋅k_{\\Omega} "
      ]
     },
     "execution_count": 5,
     "metadata": {},
     "output_type": "execute_result"
    }
   ],
   "source": [
    "numerador"
   ]
  },
  {
   "cell_type": "markdown",
   "id": "ad5102eb-60a7-44a8-8011-c96699a2343f",
   "metadata": {},
   "source": [
    "Ahora el denominador: $\\bra{\\Phi}\\ket{\\Phi}$"
   ]
  },
  {
   "cell_type": "code",
   "execution_count": 6,
   "id": "79780927-e6f3-468e-8808-981113c50c99",
   "metadata": {},
   "outputs": [],
   "source": [
    "denominador = integrate(integrate( conjugate(phi_total) * phi_total, (q1, -oo, oo) ), (q2, -oo, oo))"
   ]
  },
  {
   "cell_type": "code",
   "execution_count": 7,
   "id": "96230d2d-87bf-4959-b39a-182bfef2b21f",
   "metadata": {},
   "outputs": [
    {
     "data": {
      "image/png": "[encoded data removed]",
      "text/latex": [
       "$\\displaystyle 1$"
      ],
      "text/plain": [
       "1"
      ]
     },
     "execution_count": 7,
     "metadata": {},
     "output_type": "execute_result"
    }
   ],
   "source": [
    "denominador"
   ]
  },
  {
   "cell_type": "markdown",
   "id": "082f1ae9-2f3e-47df-8afc-c71583dfa959",
   "metadata": {},
   "source": [
    "Observemos que el producto interior de un estado compuesto por el producto de otros dos estados ya normalizados, es igual a la unidad, es decir, el estado más general también está normalizado."
   ]
  },
  {
   "cell_type": "code",
   "execution_count": 8,
   "id": "cf82dec3-8f14-4df0-9459-2e3360259822",
   "metadata": {},
   "outputs": [
    {
     "data": {
      "image/png": "[encoded data removed]",
      "text/latex": [
       "$\\displaystyle \\frac{\\hbar^{2} k_{\\Omega}^{2}}{2 m} + \\frac{m \\omega_{0}^{2}}{2 k_{\\Omega}^{2}} + \\frac{\\lambda m^{2} \\omega_{0}^{2}}{4 \\hbar k_{\\Omega}^{4}}$"
      ],
      "text/plain": [
       " 2           2           2              2   2   \n",
       "h̅ ⋅k_{\\Omega}        m⋅ω₀            λ⋅m ⋅ω₀    \n",
       "────────────── + ───────────── + ───────────────\n",
       "     2⋅m                     2                 4\n",
       "                 2⋅k_{\\Omega}    4⋅h̅⋅k_{\\Omega} "
      ]
     },
     "execution_count": 8,
     "metadata": {},
     "output_type": "execute_result"
    }
   ],
   "source": [
    "valor_esperado_E = numerador / denominador\n",
    "valor_esperado_E"
   ]
  },
  {
   "cell_type": "markdown",
   "id": "0bc5212d-40e3-40e0-b9ed-3a00b479da07",
   "metadata": {},
   "source": [
    "Ahora sustituimos $k_{\\Omega}$ en el valor esperado obtenido, quedando:"
   ]
  },
  {
   "cell_type": "code",
   "execution_count": 9,
   "id": "e955cb89-d763-4367-8c9e-ce09b9573f1e",
   "metadata": {},
   "outputs": [
    {
     "data": {
      "image/png": "[encoded data removed]",
      "text/latex": [
       "$\\displaystyle \\frac{\\Omega \\hbar}{2} + \\frac{\\hbar \\omega_{0}^{2}}{2 \\Omega} + \\frac{\\hbar \\lambda \\omega_{0}^{2}}{4 \\Omega^{2}}$"
      ],
      "text/plain": [
       "          2         2\n",
       "Ω⋅h̅   h̅⋅ω₀    h̅⋅λ⋅ω₀ \n",
       "─── + ───── + ───────\n",
       " 2     2⋅Ω         2 \n",
       "                4⋅Ω  "
      ]
     },
     "execution_count": 9,
     "metadata": {},
     "output_type": "execute_result"
    }
   ],
   "source": [
    "omega = symbols('Omega', positive=True, real=True)\n",
    "val_exp_final = valor_esperado_E.subs(k, sqrt((m*omega)/h))\n",
    "val_exp_final"
   ]
  },
  {
   "cell_type": "markdown",
   "id": "6cab0bd6-8f7a-4b6c-8ffe-d762dd57a1b4",
   "metadata": {},
   "source": [
    "Ahora, encontremos el $\\Omega$ para el cual el valor esperado de la energía es un mínimo:"
   ]
  },
  {
   "cell_type": "code",
   "execution_count": 10,
   "id": "e82e7f39-12dc-4dfb-b02a-7e6f64a1d87f",
   "metadata": {},
   "outputs": [],
   "source": [
    "omega_optimo = solve(diff(val_exp_final, omega).subs(lmd, 1), omega) #Se deriva el valor esperado, se iguala a cero\n",
    "#luego se resuelve la ecuación para el omega"
   ]
  },
  {
   "cell_type": "code",
   "execution_count": 11,
   "id": "b8ec6bf0-2631-44cc-a70c-bf10a3fc9be8",
   "metadata": {},
   "outputs": [
    {
     "data": {
      "image/png": "[encoded data removed]",
      "text/latex": [
       "$\\displaystyle \\left[ \\frac{\\omega_{0}^{2}}{3 \\sqrt[3]{\\frac{\\omega_{0}^{2}}{2} + \\sqrt{- \\frac{\\omega_{0}^{6}}{27} + \\frac{\\omega_{0}^{4}}{4}}}} + \\sqrt[3]{\\frac{\\omega_{0}^{2}}{2} + \\sqrt{- \\frac{\\omega_{0}^{6}}{27} + \\frac{\\omega_{0}^{4}}{4}}}, \\  \\frac{\\omega_{0}^{2}}{3 \\left(- \\frac{1}{2} - \\frac{\\sqrt{3} i}{2}\\right) \\sqrt[3]{\\frac{\\omega_{0}^{2}}{2} + \\sqrt{- \\frac{\\omega_{0}^{6}}{27} + \\frac{\\omega_{0}^{4}}{4}}}} + \\left(- \\frac{1}{2} - \\frac{\\sqrt{3} i}{2}\\right) \\sqrt[3]{\\frac{\\omega_{0}^{2}}{2} + \\sqrt{- \\frac{\\omega_{0}^{6}}{27} + \\frac{\\omega_{0}^{4}}{4}}}, \\  \\frac{\\omega_{0}^{2}}{3 \\left(- \\frac{1}{2} + \\frac{\\sqrt{3} i}{2}\\right) \\sqrt[3]{\\frac{\\omega_{0}^{2}}{2} + \\sqrt{- \\frac{\\omega_{0}^{6}}{27} + \\frac{\\omega_{0}^{4}}{4}}}} + \\left(- \\frac{1}{2} + \\frac{\\sqrt{3} i}{2}\\right) \\sqrt[3]{\\frac{\\omega_{0}^{2}}{2} + \\sqrt{- \\frac{\\omega_{0}^{6}}{27} + \\frac{\\omega_{0}^{4}}{4}}}\\right]$"
      ],
      "text/plain": [
       "⎡                                           ____________\n",
       "⎢                                          ╱            \n",
       "⎢                 2                       ╱    2       ╱\n",
       "⎢               ω₀                       ╱   ω₀       ╱ \n",
       "⎢────────────────────────────────── + 3 ╱    ─── +   ╱  \n",
       "⎢        __________________________   ╲╱      2    ╲╱   \n",
       "⎢       ╱            _____________                      \n",
       "⎢      ╱    2       ╱     6     4                       \n",
       "⎢     ╱   ω₀       ╱    ω₀    ω₀                        \n",
       "⎢3⋅3 ╱    ─── +   ╱   - ─── + ───                       \n",
       "⎣  ╲╱      2    ╲╱       27    4                        \n",
       "\n",
       "______________                                          \n",
       "_____________                                           \n",
       "     6     4                            2               \n",
       "   ω₀    ω₀                           ω₀                \n",
       " - ─── + ───  , ────────────────────────────────────────\n",
       "    27    4                          ___________________\n",
       "                                    ╱            _______\n",
       "                                   ╱    2       ╱     6 \n",
       "                  ⎛  1   √3⋅ⅈ⎞    ╱   ω₀       ╱    ω₀  \n",
       "                3⋅⎜- ─ - ────⎟⋅3 ╱    ─── +   ╱   - ─── \n",
       "                  ⎝  2    2  ⎠ ╲╱      2    ╲╱       27 \n",
       "\n",
       "                             __________________________ \n",
       "                            ╱            _____________  \n",
       "                           ╱    2       ╱     6     4   \n",
       "          ⎛  1   √3⋅ⅈ⎞    ╱   ω₀       ╱    ω₀    ω₀    \n",
       "─────── + ⎜- ─ - ────⎟⋅3 ╱    ─── +   ╱   - ─── + ───  ,\n",
       "_______   ⎝  2    2  ⎠ ╲╱      2    ╲╱       27    4    \n",
       "______                                                  \n",
       "    4                                                   \n",
       "  ω₀                                                    \n",
       "+ ───                                                   \n",
       "   4                                                    \n",
       "\n",
       "                                                        \n",
       "                                                        \n",
       "                         2                              \n",
       "                       ω₀                          ⎛  1 \n",
       " ─────────────────────────────────────────────── + ⎜- ─ \n",
       "                      __________________________   ⎝  2 \n",
       "                     ╱            _____________         \n",
       "                    ╱    2       ╱     6     4          \n",
       "   ⎛  1   √3⋅ⅈ⎞    ╱   ω₀       ╱    ω₀    ω₀           \n",
       " 3⋅⎜- ─ + ────⎟⋅3 ╱    ─── +   ╱   - ─── + ───          \n",
       "   ⎝  2    2  ⎠ ╲╱      2    ╲╱       27    4           \n",
       "\n",
       "              __________________________⎤\n",
       "             ╱            _____________ ⎥\n",
       "            ╱    2       ╱     6     4  ⎥\n",
       "  √3⋅ⅈ⎞    ╱   ω₀       ╱    ω₀    ω₀   ⎥\n",
       "+ ────⎟⋅3 ╱    ─── +   ╱   - ─── + ───  ⎥\n",
       "   2  ⎠ ╲╱      2    ╲╱       27    4   ⎥\n",
       "                                        ⎥\n",
       "                                        ⎥\n",
       "                                        ⎥\n",
       "                                        ⎥\n",
       "                                        ⎦"
      ]
     },
     "execution_count": 11,
     "metadata": {},
     "output_type": "execute_result"
    }
   ],
   "source": [
    "omega_optimo"
   ]
  },
  {
   "cell_type": "markdown",
   "id": "0863d8c8-1f83-48bf-a155-d88b5fe39b9c",
   "metadata": {},
   "source": [
    "Observamos que se obtiene como resultado una lista con 3 raíces (separadas por la coma). En este caso, consideramos $\\lambda = 1$ y se obtuvo una raíz real y dos complejas. (No podemos inferir mucho sobre estas raíces sin conocer el valor de $\\lambda$ y $\\omega_0$)"
   ]
  },
  {
   "cell_type": "markdown",
   "id": "295cabc4-33bc-4b79-9252-7ac53e040849",
   "metadata": {},
   "source": [
    "## Problema 3.6:"
   ]
  },
  {
   "cell_type": "markdown",
   "id": "95104902-41c3-40e1-8463-09bbe6d75fa7",
   "metadata": {},
   "source": [
    "Definamos la función de prueba $\\Phi(q, \\Omega)$."
   ]
  },
  {
   "cell_type": "code",
   "execution_count": 9,
   "id": "6c5736c9-9141-4f1d-91b0-f398f27bd34a",
   "metadata": {},
   "outputs": [],
   "source": [
    "m, w, h, v0, k, q0 = symbols('m omega hbar V_0 k_{\\Omega} q_0', real=True, positive=True)\n",
    "q = symbols('q', real=True)\n",
    "lmd = symbols('lambda', real=True, positive=True)\n",
    "phi = sqrt(k / sqrt(pi)) * exp(-(Rational(1/2))*(k*q)**2) #Funcion de prueba - Oscilador Armónico"
   ]
  },
  {
   "cell_type": "markdown",
   "id": "dafafd04-618b-43b8-add7-122cd2b2cc88",
   "metadata": {},
   "source": [
    "Ahora hallemos el valor esperado de energía $\\bra{\\Phi}\\hat{H}\\ket{\\Phi}$, asumiendo que $\\lambda > 0$:"
   ]
  },
  {
   "cell_type": "code",
   "execution_count": 10,
   "id": "baac9d98-3b08-49d5-8521-46446e67e799",
   "metadata": {},
   "outputs": [
    {
     "data": {
      "image/png": "[encoded data removed]",
      "text/latex": [
       "$\\displaystyle \\frac{V_{0}}{\\sqrt{1 + \\frac{\\lambda}{k_{\\Omega}^{2} q_{0}^{2}}}} + \\frac{\\hbar^{2} k_{\\Omega}^{2}}{4 m} + \\frac{m \\omega^{2}}{4 k_{\\Omega}^{2}}$"
      ],
      "text/plain": [
       "                              2           2           2 \n",
       "            V₀               h̅ ⋅k_{\\Omega}         m⋅ω \n",
       "────────────────────────── + ────────────── + ──────────\n",
       "     _____________________        4⋅m                   \n",
       "    ╱            λ                            4⋅k_{\\Omeg\n",
       "   ╱  1 + ───────────────                               \n",
       "  ╱                 2   2                               \n",
       "╲╱        k_{\\Omega} ⋅q₀                                \n",
       "\n",
       "   \n",
       "    \n",
       "───\n",
       "  2\n",
       "a} \n",
       "   \n",
       "   \n",
       "   "
      ]
     },
     "execution_count": 10,
     "metadata": {},
     "output_type": "execute_result"
    }
   ],
   "source": [
    "valor_esperado = integrate(conjugate(phi)*((-(h**2)/(2*m))*diff(phi,q,2) +(Rational(1/2)*m*(w**2)*(q**2))*phi + (v0*exp(-lmd*(q/q0)**2))*phi),(q, -oo, oo))\n",
    "valor_esperado"
   ]
  },
  {
   "cell_type": "code",
   "execution_count": 13,
   "id": "5617786c-037d-4047-9813-25ebf1c1f559",
   "metadata": {},
   "outputs": [
    {
     "data": {
      "image/png": "[encoded data removed]",
      "text/latex": [
       "$\\displaystyle \\frac{V_{0}}{\\sqrt{\\lambda + 1}} + \\frac{\\hbar^{2}}{4 m q_{0}^{2}} + \\frac{m \\omega^{2} q_{0}^{2}}{4}$"
      ],
      "text/plain": [
       "                2        2   2\n",
       "    V₀        h̅      m⋅ω ⋅q₀ \n",
       "───────── + ─────── + ────────\n",
       "  _______         2      4    \n",
       "╲╱ λ + 1    4⋅m⋅q₀            "
      ]
     },
     "execution_count": 13,
     "metadata": {},
     "output_type": "execute_result"
    }
   ],
   "source": [
    "valor_esperado_k = valor_esperado.subs(k, 1/q0)\n",
    "valor_esperado_k"
   ]
  },
  {
   "cell_type": "code",
   "execution_count": 17,
   "id": "adcee704-5fd6-4b7a-a90b-e4a70cafabe6",
   "metadata": {},
   "outputs": [
    {
     "data": {
      "image/png": "[encoded data removed]",
      "text/latex": [
       "$\\displaystyle \\frac{\\Omega \\hbar}{4} + \\frac{V_{0}}{\\sqrt{\\lambda + 1}} + \\frac{\\hbar \\omega^{2}}{4 \\Omega}$"
      ],
      "text/plain": [
       "                     2\n",
       "Ω⋅h̅       V₀      h̅⋅ω \n",
       "─── + ───────── + ────\n",
       " 4      _______   4⋅Ω \n",
       "      ╲╱ λ + 1        "
      ]
     },
     "execution_count": 17,
     "metadata": {},
     "output_type": "execute_result"
    }
   ],
   "source": [
    "Omega = symbols('Omega', real=True, positive=True)\n",
    "valor_esperado_q0 = valor_esperado_k.subs(q0, sqrt(h/(m*Omega)))\n",
    "valor_esperado_q0"
   ]
  },
  {
   "cell_type": "markdown",
   "id": "52a3f4f0-7fe8-41d2-a8f5-a4b44935ca86",
   "metadata": {},
   "source": [
    "Recordando que la frecuencia $\\Omega \\geq 0$ para que sea físicamente consistente. Seguidamente, derivamos con respecto al parámetro $\\Omega$ e igualamos a cero:"
   ]
  },
  {
   "cell_type": "code",
   "execution_count": 18,
   "id": "bd00199b-59ed-4491-aa6f-53de84e6a810",
   "metadata": {},
   "outputs": [
    {
     "data": {
      "image/png": "[encoded data removed]",
      "text/latex": [
       "$\\displaystyle \\left[ \\omega\\right]$"
      ],
      "text/plain": [
       "[ω]"
      ]
     },
     "execution_count": 18,
     "metadata": {},
     "output_type": "execute_result"
    }
   ],
   "source": [
    "Omega_optimo = solve(diff(valor_esperado_q0, Omega), Omega)\n",
    "Omega_optimo"
   ]
  },
  {
   "cell_type": "markdown",
   "id": "34d57b5b-0942-4d78-a63f-69429e292f56",
   "metadata": {},
   "source": [
    "Como se observa, la única raíz resulta en $\\Omega = \\omega$."
   ]
  },
  {
   "cell_type": "markdown",
   "id": "19ae2b26-debb-4580-8910-0e28e372a2e4",
   "metadata": {},
   "source": [
    "Por ende, el valor propio de la energía del estado base aproximado quedaría expresado como:"
   ]
  },
  {
   "cell_type": "code",
   "execution_count": 19,
   "id": "2912ca5a-11e0-4218-8a4d-a965d70a8dd7",
   "metadata": {},
   "outputs": [
    {
     "data": {
      "image/png": "[encoded data removed]",
      "text/latex": [
       "$\\displaystyle \\frac{V_{0}}{\\sqrt{\\lambda + 1}} + \\frac{\\hbar \\omega}{2}$"
      ],
      "text/plain": [
       "    V₀      h̅⋅ω\n",
       "───────── + ───\n",
       "  _______    2 \n",
       "╲╱ λ + 1       "
      ]
     },
     "execution_count": 19,
     "metadata": {},
     "output_type": "execute_result"
    }
   ],
   "source": [
    "valor_esperado_q0.subs(Omega, w)"
   ]
  },
  {
   "cell_type": "markdown",
   "id": "32309798-8a8d-4502-b977-78f88ebf5c43",
   "metadata": {},
   "source": [
    "## Problema 3.7:"
   ]
  },
  {
   "cell_type": "code",
   "execution_count": 20,
   "id": "b065c3ce-1504-407f-b84f-0dbb296eea2c",
   "metadata": {},
   "outputs": [],
   "source": [
    "m, w0, w1, h, k = symbols('m omega_0 omega_1 hbar k_{\\Omega}', real=True, positive=True)\n",
    "q1, q2 = symbols('q_1 q_2', real=True)\n",
    "phi1 = sqrt(k / sqrt(pi)) * exp(-(Rational(1/2))*(k*q1)**2) \n",
    "phi2 = sqrt(k / sqrt(pi)) * exp(-(Rational(1/2))*(k*q2)**2) \n",
    "\n",
    "phi_total = phi1 * phi2"
   ]
  },
  {
   "cell_type": "code",
   "execution_count": 21,
   "id": "e4f6162d-3037-4e0c-b2a2-18fd74799fb1",
   "metadata": {},
   "outputs": [
    {
     "data": {
      "image/png": "[encoded data removed]",
      "text/latex": [
       "$\\displaystyle \\frac{k_{\\Omega} e^{- \\frac{k_{\\Omega}^{2} q_{1}^{2}}{2}} e^{- \\frac{k_{\\Omega}^{2} q_{2}^{2}}{2}}}{\\sqrt{\\pi}}$"
      ],
      "text/plain": [
       "                       2   2              2   2 \n",
       "            -k_{\\Omega} ⋅q₁    -k_{\\Omega} ⋅q₂  \n",
       "            ─────────────────  ─────────────────\n",
       "                    2                  2        \n",
       "k_{\\Omega}⋅ℯ                 ⋅ℯ                 \n",
       "────────────────────────────────────────────────\n",
       "                       √π                       "
      ]
     },
     "execution_count": 21,
     "metadata": {},
     "output_type": "execute_result"
    }
   ],
   "source": [
    "phi_total"
   ]
  },
  {
   "cell_type": "markdown",
   "id": "e6e84ba1-4e23-4af1-bf6f-6d5eef7ffc85",
   "metadata": {},
   "source": [
    "Nuevamente, desarrollaremos el valor esperado: $\\bra{\\Phi}\\hat{H}\\ket{\\Phi}$ "
   ]
  },
  {
   "cell_type": "code",
   "execution_count": 22,
   "id": "130a47c9-a55b-4af1-a395-35744d189714",
   "metadata": {},
   "outputs": [
    {
     "data": {
      "image/png": "[encoded data removed]",
      "text/latex": [
       "$\\displaystyle \\frac{\\hbar^{2} k_{\\Omega}^{2}}{2 m} + \\frac{m \\omega_{0}^{2}}{2 k_{\\Omega}^{2}} + \\frac{m \\omega_{1}^{2}}{4 k_{\\Omega}^{2}}$"
      ],
      "text/plain": [
       " 2           2           2               2    \n",
       "h̅ ⋅k_{\\Omega}        m⋅ω₀            m⋅ω₁     \n",
       "────────────── + ───────────── + ─────────────\n",
       "     2⋅m                     2               2\n",
       "                 2⋅k_{\\Omega}    4⋅k_{\\Omega} "
      ]
     },
     "execution_count": 22,
     "metadata": {},
     "output_type": "execute_result"
    }
   ],
   "source": [
    "valor_esperado = integrate(integrate( conjugate(phi_total) * (-(((h**2)/(2*m))*diff(phi_total,q1,2)) - (((h**2)/(2*m))*diff(phi_total,q2,2)) + (Rational(1/2)*m*(w0**2)*(q1**2))*phi_total + (Rational(1/2)*m*(w0**2)*(q2**2))*phi_total + (Rational(1/4)*m*(w1**2)*(q1-q2)**2)*phi_total), (q1, -oo, oo) ), (q2, -oo, oo))\n",
    "valor_esperado"
   ]
  },
  {
   "cell_type": "markdown",
   "id": "9fb6feaf-bf94-4730-a3d4-a4c596687a10",
   "metadata": {},
   "source": [
    "Ahora sustituimos $k_{\\Omega}$ en el valor esperado obtenido, quedando:"
   ]
  },
  {
   "cell_type": "code",
   "execution_count": 24,
   "id": "114833db-1c0a-4fe0-b7f7-4aabd834c871",
   "metadata": {},
   "outputs": [
    {
     "data": {
      "image/png": "[encoded data removed]",
      "text/latex": [
       "$\\displaystyle \\frac{\\Omega \\hbar}{2} + \\frac{\\hbar \\omega_{0}^{2}}{2 \\Omega} + \\frac{\\hbar \\omega_{1}^{2}}{4 \\Omega}$"
      ],
      "text/plain": [
       "          2       2\n",
       "Ω⋅h̅   h̅⋅ω₀    h̅⋅ω₁ \n",
       "─── + ───── + ─────\n",
       " 2     2⋅Ω     4⋅Ω "
      ]
     },
     "execution_count": 24,
     "metadata": {},
     "output_type": "execute_result"
    }
   ],
   "source": [
    "omega = symbols('Omega', positive=True, real=True)\n",
    "valor_esperado_k = valor_esperado.subs(k, sqrt((m*omega)/h))\n",
    "valor_esperado_k"
   ]
  },
  {
   "cell_type": "code",
   "execution_count": 26,
   "id": "ab93fe8e-be4d-4c16-8fa6-b63e573d560b",
   "metadata": {},
   "outputs": [],
   "source": [
    "omega_optimo = solve(valor_esperado_k.diff(omega), omega)"
   ]
  },
  {
   "cell_type": "code",
   "execution_count": 28,
   "id": "95f27801-ab16-486e-978a-7f5cc7a83be7",
   "metadata": {},
   "outputs": [
    {
     "data": {
      "image/png": "[encoded data removed]",
      "text/latex": [
       "$\\displaystyle \\frac{\\sqrt{4 \\omega_{0}^{2} + 2 \\omega_{1}^{2}}}{2}$"
      ],
      "text/plain": [
       "   _______________\n",
       "  ╱     2       2 \n",
       "╲╱  4⋅ω₀  + 2⋅ω₁  \n",
       "──────────────────\n",
       "        2         "
      ]
     },
     "execution_count": 28,
     "metadata": {},
     "output_type": "execute_result"
    }
   ],
   "source": [
    "omega_optimo[0]"
   ]
  },
  {
   "cell_type": "markdown",
   "id": "0c8fc5dd-d16d-4eb4-bc22-22a24d287b06",
   "metadata": {},
   "source": [
    "y el valor propio de energía aproximado $E_0'$ estaría dado por:"
   ]
  },
  {
   "cell_type": "code",
   "execution_count": 29,
   "id": "03fa7f76-b2eb-4651-9569-c029ee39d33a",
   "metadata": {},
   "outputs": [
    {
     "data": {
      "image/png": "[encoded data removed]",
      "text/latex": [
       "$\\displaystyle \\frac{\\hbar \\omega_{0}^{2}}{\\sqrt{4 \\omega_{0}^{2} + 2 \\omega_{1}^{2}}} + \\frac{\\hbar \\omega_{1}^{2}}{2 \\sqrt{4 \\omega_{0}^{2} + 2 \\omega_{1}^{2}}} + \\frac{\\hbar \\sqrt{4 \\omega_{0}^{2} + 2 \\omega_{1}^{2}}}{4}$"
      ],
      "text/plain": [
       "                                                 _______\n",
       "          2                     2               ╱     2 \n",
       "      h̅⋅ω₀                 h̅⋅ω₁           h̅⋅╲╱  4⋅ω₀ \n",
       "────────────────── + ──────────────────── + ────────────\n",
       "   _______________        _______________            4  \n",
       "  ╱     2       2        ╱     2       2                \n",
       "╲╱  4⋅ω₀  + 2⋅ω₁     2⋅╲╱  4⋅ω₀  + 2⋅ω₁                 \n",
       "\n",
       "________\n",
       "      2 \n",
       " + 2⋅ω₁  \n",
       "────────\n",
       "        \n",
       "        \n",
       "        "
      ]
     },
     "execution_count": 29,
     "metadata": {},
     "output_type": "execute_result"
    }
   ],
   "source": [
    "valor_esperado_k.subs(omega, omega_optimo[0])"
   ]
  },
  {
   "cell_type": "markdown",
   "id": "0cb0c0e9-2d2f-4690-b616-8ba661f53577",
   "metadata": {},
   "source": [
    "y la función de onda correspondiente que describe el estado base dentro de esta aproximación estaría dado por:"
   ]
  },
  {
   "cell_type": "code",
   "execution_count": 30,
   "id": "b5517e33-5f8d-48fd-8887-d0111bd473c3",
   "metadata": {},
   "outputs": [
    {
     "data": {
      "image/png": "[encoded data removed]",
      "text/latex": [
       "$\\displaystyle \\frac{\\sqrt{2} \\sqrt{m} \\sqrt[4]{4 \\omega_{0}^{2} + 2 \\omega_{1}^{2}} e^{- \\frac{m q_{1}^{2} \\sqrt{4 \\omega_{0}^{2} + 2 \\omega_{1}^{2}}}{4 \\hbar}} e^{- \\frac{m q_{2}^{2} \\sqrt{4 \\omega_{0}^{2} + 2 \\omega_{1}^{2}}}{4 \\hbar}}}{2 \\sqrt{\\pi} \\sqrt{\\hbar}}$"
      ],
      "text/plain": [
       "                                    _______________     \n",
       "                               2   ╱     2       2      \n",
       "                          -m⋅q₁ ⋅╲╱  4⋅ω₀  + 2⋅ω₁     -m\n",
       "         _______________  ──────────────────────────  ──\n",
       "      4 ╱     2       2              4⋅h̅               \n",
       "√2⋅√m⋅╲╱  4⋅ω₀  + 2⋅ω₁  ⋅ℯ                          ⋅ℯ  \n",
       "────────────────────────────────────────────────────────\n",
       "                                    2⋅√π⋅√h̅            \n",
       "\n",
       "        _______________ \n",
       "   2   ╱     2       2  \n",
       "⋅q₂ ⋅╲╱  4⋅ω₀  + 2⋅ω₁   \n",
       "────────────────────────\n",
       "         4⋅h̅           \n",
       "                        \n",
       "────────────────────────\n",
       "                        "
      ]
     },
     "execution_count": 30,
     "metadata": {},
     "output_type": "execute_result"
    }
   ],
   "source": [
    "phi_total.subs(k, sqrt((m*omega)/h)).subs(omega, omega_optimo[0])"
   ]
  }
 ],
 "metadata": {
  "kernelspec": {
   "display_name": "Python 3 (ipykernel)",
   "language": "python",
   "name": "python3"
  },
  "language_info": {
   "codemirror_mode": {
    "name": "ipython",
    "version": 3
   },
   "file_extension": ".py",
   "mimetype": "text/x-python",
   "name": "python",
   "nbconvert_exporter": "python",
   "pygments_lexer": "ipython3",
   "version": "3.10.5"
  }
 },
 "nbformat": 4,
 "nbformat_minor": 5
}
