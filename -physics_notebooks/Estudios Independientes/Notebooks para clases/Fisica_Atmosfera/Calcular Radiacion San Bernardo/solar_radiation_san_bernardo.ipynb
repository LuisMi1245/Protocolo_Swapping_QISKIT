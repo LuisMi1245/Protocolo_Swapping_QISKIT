{
 "cells": [
  {
   "cell_type": "markdown",
   "id": "380cded8-776b-412b-83f6-85b710da68ff",
   "metadata": {},
   "source": [
    "# Parcial Física de la Atmósfera I Corte"
   ]
  },
  {
   "cell_type": "markdown",
   "id": "9067e67e-4172-48c6-bb59-2fd7256c3618",
   "metadata": {},
   "source": [
    "Determinar para San Bernardo del Viento a las 14:00 horas hora local, en los días 18 de marzo y 16 de septiembre:\n",
    "\n",
    "    a). El ángulo de elevación solar.\n",
    "    \n",
    "    b). La radiación solar extraterrestre.\n",
    "\n",
    "Explicar claramente qué es: la declinación solar, el ángulo horario y el tiempo solar. Además, analizar físicamente los resultados obtenidos (parciales y final)."
   ]
  },
  {
   "cell_type": "markdown",
   "id": "1fbcc9d4-f294-44ec-8ddf-1ede12e140c2",
   "metadata": {},
   "source": [
    "# Solución:"
   ]
  },
  {
   "cell_type": "markdown",
   "id": "3d881d98-f662-4ba5-b5c5-ff057ea9eb69",
   "metadata": {},
   "source": [
    "a). El ángulo de elevación $\\gamma$ denota la posición angular del Sol con respecto a un lugar dado en la Tierra (hora del día).\n",
    "\n",
    "<img src=\"parcial_atmosfera_1.png\">\n",
    "\n",
    "Para hallar el ángulo de elevación solar en San Bernardo del Viento a las 14:00 horas hora local el 18 de marzo y 16 de septiembre, utilizamos la siguiente expresión:\n",
    "\n",
    "$$\\sin{\\gamma}=\\sin{\\Phi}\\sin{\\delta}+\\cos{\\Phi}\\cos{\\delta}\\cos{\\omega}$$\n",
    "\n",
    "donde:\n",
    "\n",
    "- $\\Phi$ es la latitud geográfica del lugar ($^{\\circ}$): Es la distancia angular que hay entre un punto de la superficie de la tierra y el Ecuador. Se mide de $0^{\\circ}$ en el Ecuador hasta $90^{\\circ}$ hacia el Polo Norte (positivo) y hacia el Polo Sur (negativo). La latitud de San Bernardo del viento es $9^{\\circ}21'18''N \\equiv 9.36^{\\circ}$ N.\n",
    "\n",
    "- $\\delta$ es el ángulo de declinación solar ($^{\\circ}$ ó rad): El ángulo de declinación solar es ... y está definida por la siguiente expresión:\n",
    "\n",
    "$$\\delta = 23.45^{\\circ}\\sin{[2\\pi(284+d)/365]}$$\n",
    "\n",
    "donde $d$ es un día en la fecha Juliana.\n",
    "\n",
    "> La fecha juliana es un sistema de numeración para representar fechas de manera continua. Se basa en contar los días transcurridos desde el 1 de enero del año 4713 a.C. del calendario juliano. Cada día consecutivo recibe un número único, lo que permite identificar una fecha específica de manera unívoca en relación con esa línea de tiempo.\n",
    "\n",
    "Por tanto, los días 18 de Marzo y 16 de Septiembre corresponden a los días 77 y 259.\n",
    "\n",
    "- $\\omega$ es el ángulo horario ($^{\\circ}$): El ángulo horario es el desplazamiento angular del Sol al este u oeste del meridiano local debido a la rotación de la Tierra alrededor de su eje. Está dada por la siguiente expresión:\n",
    "\n",
    "$$\\omega = \\pi(t_{\\text{solar}}-12)/12$$\n",
    "\n",
    "- $t_{\\text{solar}}$ (horas): El \"tiempo solar\" está relacionado con la idea de que cuando el Sol alcanza su punto más alto (cuando cruza el meridiano), es mediodía y al día siguiente, cuando el Sol vuelva a cruzar el meridiano, será mediodía una vez más, al cual se le asigna el valor de 12. \n",
    "\n",
    "A su vez, el tiempo solar se puede hallar mediante la siguiente relación:\n",
    "\n",
    "$$t_{\\text{solar}}=t_{\\text{local}}+\\frac{E_{qt}}{60'}+\\frac{(\\text{Long}_{\\text{MS}} - \\text{Long}_{\\text{local}} )}{15^{\\circ}}$$\n",
    "\n",
    "con:\n",
    "- $t_{\\text{local}}$: Tiempo del lugar (horas). Las 14 horas en éste caso.\n",
    "\n",
    "- $\\text{Long}_{\\text{MS}}$: Es la longitud del meridiano estándar de cada país $(^{\\circ})$. En el caso de Colombia, la longitud es $75^{\\circ}O = -75$ (hacia el Oeste del meridiano de Greenwich es negativo, hacia el Este positivo). \n",
    "\n",
    "- $\\text{Long}_{\\text{local}}$: longitud geográfica del lugar ($^{\\circ}$). Para San Bernardo del Viento, la longitud es: $75^{\\circ} 57' 0''$ Oeste $\\equiv -75.95$.\n",
    "\n",
    "- $E_{qt}$: Ecuación del tiempo (minutos). Es la diferencia entre el tiempo solar medio (medido por un reloj) y el tiempo solar aparente (medido por un reloj de Sol). La expresión para determinar la ecuación del tiempo según el día Juliano es:\n",
    "\n",
    "\\begin{align*}\n",
    "    E_{qt} &= -14.2 \\sin{[\\pi(d + 7)/111]} & \\quad 1 \\leqslant d \\leqslant 106\\\\\n",
    "    E_{qt} &=  16.4 \\sin{[\\pi(d - 247)/113]} & \\quad 247 \\leqslant d \\leqslant 365\n",
    "\\end{align*}"
   ]
  },
  {
   "cell_type": "code",
   "execution_count": 32,
   "id": "fa0f3b31-4ff9-45ee-9af2-aa1b3def74f5",
   "metadata": {},
   "outputs": [
    {
     "name": "stdout",
     "output_type": "stream",
     "text": [
      "***************************************************\n",
      "* Calcular la radiación solar extraterrestre *\n",
      "***************************************************\n"
     ]
    },
    {
     "name": "stdin",
     "output_type": "stream",
     "text": [
      "Nombre del país:  Colombia\n",
      "Introduzca la longitud decimal del meridiano estándar de Colombia (°):  -75\n",
      "Nombre del municipio:  San Bernardo del Viento\n",
      "Introduzca la longitud decimal local de San Bernardo del Viento (°):  -75.95\n",
      "Introduzca la latitud geográfica decimal de San Bernardo del Viento (°):  9.35\n",
      "Introduzca el día juliano del año #1:  77\n",
      "Introduzca el día juliano del año #2:  259\n",
      "Introduzca la hora (horas):  14\n"
     ]
    },
    {
     "name": "stdout",
     "output_type": "stream",
     "text": [
      "\n",
      "*** RESULTADOS PARA San Bernardo del Viento, Colombia ***\n",
      "Día 77, 14 horas\n",
      "------------------------------------------\n",
      "1). Ángulo de declinación solar: -1.613°\n",
      "2). Ángulo Horario: 28.494°\n",
      "3). Ángulo de Elevación Solar: 59.573°\n",
      "4). Radiación Solar Extraterrestre: 1189.415 W/m²\n",
      "------------------------------------------\n",
      "\n",
      "Día 259, 14 horas\n",
      "------------------------------------------\n",
      "1). Ángulo de declinación solar: 1.815°\n",
      "2). Ángulo Horario: 32.293°\n",
      "3). Ángulo de Elevación Solar: 57.016°\n",
      "4). Radiación Solar Extraterrestre: 1134.847 W/m²\n",
      "------------------------------------------\n",
      "\n"
     ]
    }
   ],
   "source": [
    "#########################################################################################\n",
    "#                        Nombre del programa:                                           # \n",
    "#               Cálculo de la radiación solar extraterrestre                            #\n",
    "#               Luis Miguel Patiño, Jose Sebastian Molina                               #\n",
    "#########################################################################################\n",
    "from numpy import arcsin, sin, cos, pi\n",
    "import numpy as np\n",
    "\n",
    "def angulo_elevacion_solar(latitud_geog, angulo_declinacion, angulo_horario): #Algoritmo para hallar la elevación solar en radianes\n",
    "    return arcsin(sin(latitud_geog)*sin(angulo_declinacion) + cos(latitud_geog)*cos(angulo_declinacion)*cos(angulo_horario)) \n",
    "\n",
    "def angulo_declinacion_solar(dia_juliano): # Ecuación de declinación solar en unidades de grados\n",
    "    return 23.45*sin((2*pi*(284+dia_juliano))/365) \n",
    "\n",
    "def angulo_horario(t_solar): # Ecuación del ángulo horario en unidades de radianes\n",
    "    return (pi*(t_solar-12))/12\n",
    "\n",
    "def tiempo_solar(t_local, Eqt, longMS, longLOCAL): # Ecuación del tiempo solar en unidades de horas\n",
    "    return t_local + (Eqt/60) + ((longMS - longLOCAL)/15)\n",
    "\n",
    "def Eqt(dia_juliano): # Algoritmo para hallar ecuación del tiempo en unidades de minutos\n",
    "    if (1 <= dia_juliano <= 106):\n",
    "        return -14.2*sin((pi*(dia_juliano+7))/111)\n",
    "    elif (247 <= dia_juliano <= 365):\n",
    "        return 16.4*sin((pi*(dia_juliano-247))/113)\n",
    "        \n",
    "def radiacion_solar(dia_juliano, gamma): # Algoritmo para hallar la radiación solar en W/m^2\n",
    "    s0 = 1367 #Constante solar unidades de W/m²\n",
    "    B = lambda d: (2*pi*d)/365\n",
    "    f = 1.00011 + 0.034221*cos(B(dia_juliano)) + 0.00128*sin(B(dia_juliano)) + 0.000719*cos(2*B(dia_juliano)) + 0.000077*sin(2*B(dia_juliano))\n",
    "    return s0*f*sin(gamma)\n",
    "\n",
    "def main():\n",
    "    a = pi/180 # Factor de Conversión a radianes\n",
    "    b = 1/a # Factor de Conversión a grados\n",
    "    print(\"***************************************************\")\n",
    "    print(\"* Calcular la radiación solar extraterrestre *\")\n",
    "    print(\"***************************************************\")\n",
    "\n",
    "    pais = input(\"Nombre del país: \")\n",
    "    longMS = float(input(f\"Introduzca la longitud decimal del meridiano estándar de {pais} (°): \"))\n",
    "    \n",
    "    municipio = input(\"Nombre del municipio: \")\n",
    "    longLOCAL = float(input(f\"Introduzca la longitud decimal local de {municipio} (°): \"))\n",
    "    latitud_geografica = float(input(f\"Introduzca la latitud geográfica decimal de {municipio} (°): \"))\n",
    "    dias = [int(input(\"Introduzca el día juliano del año #1: \")), int(input(\"Introduzca el día juliano del año #2: \"))]\n",
    "    tiempo_local = int(input(\"Introduzca la hora (horas): \")) \n",
    "    \n",
    "    print(\"\")\n",
    "    print(f\"*** RESULTADOS PARA {municipio}, {pais} ***\")\n",
    "      \n",
    "    for dia in dias:\n",
    "        delta = angulo_declinacion_solar(dia)\n",
    "        eqt = Eqt(dia) \n",
    "        t_solar = tiempo_solar(tiempo_local, eqt, longMS, longLOCAL)\n",
    "        omega = b*angulo_horario(t_solar) \n",
    "        gamma = b*angulo_elevacion_solar(a*latitud_geografica, a*delta, a*omega)    \n",
    "        radiacion = radiacion_solar(dia, a*gamma)\n",
    "        \n",
    "        print(f\"Día {dia}, {tiempo_local} horas\")\n",
    "        print(\"------------------------------------------\")\n",
    "        print(f\"1). Ángulo de declinación solar: {delta:.3f}°\")\n",
    "        print(f\"2). Ángulo Horario: {omega:.3f}°\")\n",
    "        print(f\"3). Ángulo de Elevación Solar: {gamma:.3f}°\")\n",
    "        print(f\"4). Radiación Solar Extraterrestre: {radiacion:.3f} W/m²\")\n",
    "        print(\"------------------------------------------\")\n",
    "        print(\"\")\n",
    "main()"
   ]
  }
 ],
 "metadata": {
  "kernelspec": {
   "display_name": "Python 3 (ipykernel)",
   "language": "python",
   "name": "python3"
  },
  "language_info": {
   "codemirror_mode": {
    "name": "ipython",
    "version": 3
   },
   "file_extension": ".py",
   "mimetype": "text/x-python",
   "name": "python",
   "nbconvert_exporter": "python",
   "pygments_lexer": "ipython3",
   "version": "3.11.4"
  }
 },
 "nbformat": 4,
 "nbformat_minor": 5
}
