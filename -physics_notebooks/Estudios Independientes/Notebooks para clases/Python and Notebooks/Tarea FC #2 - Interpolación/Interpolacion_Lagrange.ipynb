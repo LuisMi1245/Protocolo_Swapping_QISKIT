{
 "cells": [
  {
   "cell_type": "code",
   "execution_count": 76,
   "id": "d3904413-59dc-4862-93b0-534b9496cf51",
   "metadata": {},
   "outputs": [
    {
     "name": "stdout",
     "output_type": "stream",
     "text": [
      "    valores de fi:  [0.     1.3863 1.7918]\n",
      "divisores en L(i):  [15. -6. 10.]\n",
      "\n",
      "Polinomio de Lagrange, expresiones\n",
      "-0.233333333333333*(x - 6)*(x - 1) + 0.18*(x - 4)*(x - 1)\n",
      "\n",
      "Polinomio de Lagrange: \n",
      "-0.0533333333333333*x**2 + 0.733333333333333*x - 0.68\n"
     ]
    },
    {
     "data": {
      "image/png": "[encoded data removed]",
      "text/plain": [
       "<Figure size 432x288 with 1 Axes>"
      ]
     },
     "metadata": {
      "needs_background": "light"
     },
     "output_type": "display_data"
    }
   ],
   "source": [
    "# Interpolacion de Lagrange\n",
    "# divisoresL solo para mostrar valores\n",
    "import numpy as np\n",
    "import sympy as sym\n",
    "import matplotlib.pyplot as plt\n",
    "\n",
    "# INGRESO , Datos de prueba\n",
    "\n",
    "def inLagrange(xi,fi):\n",
    "    # PROCEDIMIENTO\n",
    "    # Polinomio de Lagrange\n",
    "    n = len(xi)\n",
    "    x = sym.Symbol('x')\n",
    "    polinomio = 0\n",
    "    divisorL = np.zeros(n, dtype = float)\n",
    "    for i in range(0,n,1):\n",
    "    \n",
    "        # Termino de Lagrange\n",
    "        numerador = 1\n",
    "        denominador = 1\n",
    "        for j  in range(0,n,1):\n",
    "            if (j!=i):\n",
    "                numerador = numerador*(x-xi[j])\n",
    "                denominador = denominador*(xi[i]-xi[j])\n",
    "        terminoLi = numerador/denominador\n",
    "\n",
    "        polinomio = polinomio + terminoLi*fi[i]\n",
    "        divisorL[i] = denominador\n",
    "\n",
    "    # simplifica el polinomio\n",
    "    polisimple = polinomio.expand()\n",
    "\n",
    "    return polisimple\n",
    "\n",
    "xi = np.array([1, 4, 6])\n",
    "fi = np.array([0, 1.3863, 1.7918])\n",
    "xi0 = np.array([1, 4])\n",
    "fi0 = np.array([0, 1.4])\n",
    "\n",
    "x = sym.Symbol('x')\n",
    "# para evaluación numérica\n",
    "px = sym.lambdify(x,inLagrange(xi,fi))\n",
    "px0 = sym.lambdify(x,inLagrange(xi0,fi0))\n",
    "\n",
    "\n",
    "# Puntos para la gráfica\n",
    "muestras = 101\n",
    "a = np.min(xi)\n",
    "b = np.max(xi)\n",
    "pxi = np.linspace(a,b,muestras)\n",
    "pfi = px(pxi)\n",
    "\n",
    "a0 = np.min(xi0)\n",
    "b0 = np.max(xi0)\n",
    "pxi0 = np.linspace(a0,b0,muestras)\n",
    "pfi0 = px0(pxi0)\n",
    "\n",
    "# SALIDA\n",
    "print('    valores de fi: ',fi)\n",
    "print('divisores en L(i): ',divisorL)\n",
    "print()\n",
    "print('Polinomio de Lagrange, expresiones')\n",
    "print(polinomio)\n",
    "print()\n",
    "print('Polinomio de Lagrange: ')\n",
    "print(polisimple)\n",
    "\n",
    "# Gráfica\n",
    "plt.plot(xi,fi,'o', label = 'Puntos grado 2')\n",
    "plt.plot(pxi,pfi, label = 'Polinomio grado 2')\n",
    "\n",
    "plt.plot(xi0,fi0,'o', label = 'Puntos grado 1')\n",
    "plt.plot(pxi0,pfi0, label = 'Polinomio grado 1')\n",
    "\n",
    "plt.legend()\n",
    "plt.xlabel('xi')\n",
    "plt.ylabel('fi')\n",
    "plt.title('Interpolación Lagrange')\n",
    "plt.show()"
   ]
  },
  {
   "cell_type": "code",
   "execution_count": 72,
   "id": "1dac100a-2342-4b0b-9485-731b465777e5",
   "metadata": {},
   "outputs": [
    {
     "data": {
      "text/plain": [
       "1.8484000000000003"
      ]
     },
     "execution_count": 72,
     "metadata": {},
     "output_type": "execute_result"
    }
   ],
   "source": [
    "px(5)"
   ]
  },
  {
   "cell_type": "code",
   "execution_count": null,
   "id": "23b92aa1-453c-4e47-ad2f-e11e3a86b486",
   "metadata": {},
   "outputs": [],
   "source": []
  },
  {
   "cell_type": "code",
   "execution_count": null,
   "id": "c205ff57-a7eb-4a34-80b2-baebb5dba846",
   "metadata": {},
   "outputs": [],
   "source": []
  },
  {
   "cell_type": "code",
   "execution_count": null,
   "id": "7c905ff5-3283-4523-ba5e-2195372b79c1",
   "metadata": {},
   "outputs": [],
   "source": []
  }
 ],
 "metadata": {
  "kernelspec": {
   "display_name": "Python 3",
   "language": "python",
   "name": "python3"
  },
  "language_info": {
   "codemirror_mode": {
    "name": "ipython",
    "version": 3
   },
   "file_extension": ".py",
   "mimetype": "text/x-python",
   "name": "python",
   "nbconvert_exporter": "python",
   "pygments_lexer": "ipython3",
   "version": "3.8.8"
  }
 },
 "nbformat": 4,
 "nbformat_minor": 5
}
