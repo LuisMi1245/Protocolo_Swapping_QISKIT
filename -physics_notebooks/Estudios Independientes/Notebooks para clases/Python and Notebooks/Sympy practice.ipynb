{
 "cells": [
  {
   "cell_type": "markdown",
   "metadata": {},
   "source": [
    "### <center>**Practicando con Sympy.**</center>"
   ]
  },
  {
   "cell_type": "markdown",
   "metadata": {},
   "source": [
    "1. Comenzamos importando el método de inicialización y configuración de Sympy, *init_session()*."
   ]
  },
  {
   "cell_type": "code",
   "execution_count": 2,
   "metadata": {},
   "outputs": [
    {
     "name": "stdout",
     "output_type": "stream",
     "text": [
      "IPython console for SymPy 1.10.1 (Python 3.9.9-64-bit) (ground types: python)\n",
      "\n",
      "These commands were executed:\n",
      ">>> from sympy import *\n",
      ">>> x, y, z, t = symbols('x y z t')\n",
      ">>> k, m, n = symbols('k m n', integer=True)\n",
      ">>> f, g, h = symbols('f g h', cls=Function)\n",
      ">>> init_printing()\n",
      "\n",
      "Documentation can be found at https://docs.sympy.org/1.10.1/\n",
      "\n"
     ]
    }
   ],
   "source": [
    "from sympy import init_session\n",
    "init_session(use_latex=True)\n",
    "import numpy as np"
   ]
  },
  {
   "cell_type": "code",
   "execution_count": 3,
   "metadata": {},
   "outputs": [],
   "source": [
    "x,y,z,t = symbols('x y z t')"
   ]
  },
  {
   "cell_type": "code",
   "execution_count": 4,
   "metadata": {},
   "outputs": [
    {
     "data": {
      "text/plain": [
       "{'commutative': True}"
      ]
     },
     "execution_count": 4,
     "metadata": {},
     "output_type": "execute_result"
    }
   ],
   "source": [
    "x._assumptions"
   ]
  },
  {
   "cell_type": "code",
   "execution_count": 5,
   "metadata": {},
   "outputs": [
    {
     "data": {
      "image/png": "[encoded data removed]",
      "text/latex": [
       "$\\displaystyle w'$"
      ],
      "text/plain": [
       "w'"
      ]
     },
     "execution_count": 5,
     "metadata": {},
     "output_type": "execute_result"
    }
   ],
   "source": [
    "wp = symbols(\"w'\", real=True, positive=True)\n",
    "wp"
   ]
  },
  {
   "cell_type": "code",
   "execution_count": 6,
   "metadata": {},
   "outputs": [
    {
     "data": {
      "text/plain": [
       "{'real': True,\n",
       " 'imaginary': False,\n",
       " 'infinite': False,\n",
       " 'complex': True,\n",
       " 'extended_real': True,\n",
       " 'finite': True,\n",
       " 'hermitian': True,\n",
       " 'commutative': True,\n",
       " 'positive': True,\n",
       " 'extended_nonnegative': True,\n",
       " 'nonzero': True,\n",
       " 'nonpositive': False,\n",
       " 'extended_positive': True,\n",
       " 'extended_negative': False,\n",
       " 'extended_nonpositive': False,\n",
       " 'zero': False,\n",
       " 'nonnegative': True,\n",
       " 'negative': False,\n",
       " 'extended_nonzero': True}"
      ]
     },
     "execution_count": 6,
     "metadata": {},
     "output_type": "execute_result"
    }
   ],
   "source": [
    "wp._assumptions"
   ]
  },
  {
   "cell_type": "code",
   "execution_count": 7,
   "metadata": {},
   "outputs": [],
   "source": [
    "euler = cos(z)**2 + sin(z)**2"
   ]
  },
  {
   "cell_type": "code",
   "execution_count": 8,
   "metadata": {},
   "outputs": [
    {
     "data": {
      "image/png": "[encoded data removed]",
      "text/latex": [
       "$\\displaystyle 1$"
      ],
      "text/plain": [
       "1"
      ]
     },
     "execution_count": 8,
     "metadata": {},
     "output_type": "execute_result"
    }
   ],
   "source": [
    "simplify(euler)"
   ]
  },
  {
   "cell_type": "code",
   "execution_count": 9,
   "metadata": {},
   "outputs": [
    {
     "data": {
      "image/png": "[encoded data removed]",
      "text/latex": [
       "$\\displaystyle \\sqrt{z^{2}}$"
      ],
      "text/plain": [
       "   ____\n",
       "  ╱  2 \n",
       "╲╱  z  "
      ]
     },
     "execution_count": 9,
     "metadata": {},
     "output_type": "execute_result"
    }
   ],
   "source": [
    "sqrt(z**2).simplify()"
   ]
  },
  {
   "cell_type": "code",
   "execution_count": 10,
   "metadata": {},
   "outputs": [
    {
     "data": {
      "image/png": "[encoded data removed]",
      "text/latex": [
       "$\\displaystyle \\left|{y}\\right|$"
      ],
      "text/plain": [
       "│y│"
      ]
     },
     "execution_count": 10,
     "metadata": {},
     "output_type": "execute_result"
    }
   ],
   "source": [
    "y = symbols('y', real=True)\n",
    "sqrt(y**2).simplify()"
   ]
  },
  {
   "cell_type": "code",
   "execution_count": 11,
   "metadata": {},
   "outputs": [
    {
     "data": {
      "image/png": "[encoded data removed]",
      "text/latex": [
       "$\\displaystyle \\sin^{2}{\\left(x^{2} + 1 \\right)} + \\cos^{2}{\\left(x^{2} + 1 \\right)}$"
      ],
      "text/plain": [
       "   2⎛ 2    ⎞      2⎛ 2    ⎞\n",
       "sin ⎝x  + 1⎠ + cos ⎝x  + 1⎠"
      ]
     },
     "execution_count": 11,
     "metadata": {},
     "output_type": "execute_result"
    }
   ],
   "source": [
    "euler.subs(z, 1+x**2)"
   ]
  },
  {
   "cell_type": "code",
   "execution_count": 12,
   "metadata": {},
   "outputs": [
    {
     "data": {
      "image/png": "[encoded data removed]",
      "text/latex": [
       "$\\displaystyle \\sin^{2}{\\left(x + y \\right)} + \\cos^{2}{\\left(y + z \\right)}$"
      ],
      "text/plain": [
       "   2             2       \n",
       "sin (x + y) + cos (y + z)"
      ]
     },
     "execution_count": 12,
     "metadata": {},
     "output_type": "execute_result"
    }
   ],
   "source": [
    "sin(x+y)**2 + cos(y+z)**2"
   ]
  },
  {
   "cell_type": "code",
   "execution_count": 13,
   "metadata": {},
   "outputs": [
    {
     "data": {
      "image/png": "[encoded data removed]",
      "text/latex": [
       "$\\displaystyle \\sin^{2}{\\left(6 x + 4 \\right)} + \\cos^{2}{\\left(2 x + 2 z + 2 \\right)}$"
      ],
      "text/plain": [
       "   2               2               \n",
       "sin (6⋅x + 4) + cos (2⋅x + 2⋅z + 2)"
      ]
     },
     "execution_count": 13,
     "metadata": {},
     "output_type": "execute_result"
    }
   ],
   "source": [
    "_.subs({\n",
    "    x: 1 + 2*y,\n",
    "    y: 1 + 2*x,\n",
    "    z: 1 + 2*z\n",
    "})"
   ]
  },
  {
   "cell_type": "code",
   "execution_count": 14,
   "metadata": {},
   "outputs": [
    {
     "data": {
      "image/png": "[encoded data removed]",
      "text/latex": [
       "$\\displaystyle e^{12 x + 8} + \\cos^{2}{\\left(2 x + 2 z + 2 \\right)}$"
      ],
      "text/plain": [
       " 12⋅x + 8      2               \n",
       "ℯ         + cos (2⋅x + 2⋅z + 2)"
      ]
     },
     "execution_count": 14,
     "metadata": {},
     "output_type": "execute_result"
    }
   ],
   "source": [
    "_.replace(sin, exp)"
   ]
  },
  {
   "cell_type": "code",
   "execution_count": 15,
   "metadata": {},
   "outputs": [
    {
     "data": {
      "image/png": "[encoded data removed]",
      "text/latex": [
       "$\\displaystyle \\cos^{2}{\\left(4 \\right)} + e^{20}$"
      ],
      "text/plain": [
       "   2       20\n",
       "cos (4) + ℯ  "
      ]
     },
     "execution_count": 15,
     "metadata": {},
     "output_type": "execute_result"
    }
   ],
   "source": [
    "_.subs(x,1).subs(z,0)"
   ]
  },
  {
   "cell_type": "code",
   "execution_count": 16,
   "metadata": {},
   "outputs": [
    {
     "data": {
      "image/png": "[encoded data removed]",
      "text/latex": [
       "$\\displaystyle 485165195.83704$"
      ],
      "text/plain": [
       "485165195.837040"
      ]
     },
     "execution_count": 16,
     "metadata": {},
     "output_type": "execute_result"
    }
   ],
   "source": [
    "_.evalf()"
   ]
  },
  {
   "cell_type": "code",
   "execution_count": 17,
   "metadata": {},
   "outputs": [
    {
     "data": {
      "image/png": "[encoded data removed]",
      "text/latex": [
       "$\\displaystyle 485165195.83704$"
      ],
      "text/plain": [
       "485165195.837040"
      ]
     },
     "execution_count": 17,
     "metadata": {},
     "output_type": "execute_result"
    }
   ],
   "source": [
    "N(_)"
   ]
  },
  {
   "cell_type": "code",
   "execution_count": 18,
   "metadata": {},
   "outputs": [
    {
     "data": {
      "image/png": "[encoded data removed]",
      "text/latex": [
       "$\\displaystyle x^{6} + 6 x^{3} y + 4 x^{3} + 9 y^{2} + 12 y + 4$"
      ],
      "text/plain": [
       " 6      3        3      2           \n",
       "x  + 6⋅x ⋅y + 4⋅x  + 9⋅y  + 12⋅y + 4"
      ]
     },
     "execution_count": 18,
     "metadata": {},
     "output_type": "execute_result"
    }
   ],
   "source": [
    "((x**3+3*y+2)**2).expand()"
   ]
  },
  {
   "cell_type": "code",
   "execution_count": 19,
   "metadata": {},
   "outputs": [
    {
     "data": {
      "image/png": "[encoded data removed]",
      "text/latex": [
       "$\\displaystyle 3 + \\frac{4}{x - 1} + \\frac{2}{\\left(x - 1\\right)^{2}}$"
      ],
      "text/plain": [
       "      4        2    \n",
       "3 + ───── + ────────\n",
       "    x - 1          2\n",
       "            (x - 1) "
      ]
     },
     "execution_count": 19,
     "metadata": {},
     "output_type": "execute_result"
    }
   ],
   "source": [
    "((3*x**2 - 2*x + 1)/(x-1)**2).apart()"
   ]
  },
  {
   "cell_type": "code",
   "execution_count": 20,
   "metadata": {},
   "outputs": [
    {
     "data": {
      "image/png": "[encoded data removed]",
      "text/latex": [
       "$\\displaystyle \\left(x + 3\\right)^{3}$"
      ],
      "text/plain": [
       "       3\n",
       "(x + 3) "
      ]
     },
     "execution_count": 20,
     "metadata": {},
     "output_type": "execute_result"
    }
   ],
   "source": [
    "(x**3 + 9*x**2 + 27*x + 27).factor()"
   ]
  },
  {
   "cell_type": "code",
   "execution_count": 21,
   "metadata": {},
   "outputs": [
    {
     "data": {
      "image/png": "[encoded data removed]",
      "text/latex": [
       "$\\displaystyle 2 \\sin{\\left(x \\right)} \\cos^{2}{\\left(y \\right)} - \\sin{\\left(x \\right)} + 2 \\sin{\\left(y \\right)} \\cos{\\left(x \\right)} \\cos{\\left(y \\right)}$"
      ],
      "text/plain": [
       "            2                                     \n",
       "2⋅sin(x)⋅cos (y) - sin(x) + 2⋅sin(y)⋅cos(x)⋅cos(y)"
      ]
     },
     "execution_count": 21,
     "metadata": {},
     "output_type": "execute_result"
    }
   ],
   "source": [
    "sin(x+2*y).expand(trig=True)"
   ]
  },
  {
   "cell_type": "code",
   "execution_count": 22,
   "metadata": {},
   "outputs": [
    {
     "data": {
      "image/png": "[encoded data removed]",
      "text/latex": [
       "$\\displaystyle 2 \\sin{\\left(x \\right)} \\cos^{2}{\\left(y \\right)} - \\sin{\\left(x \\right)} + 2 \\sin{\\left(y \\right)} \\cos{\\left(x \\right)} \\cos{\\left(y \\right)}$"
      ],
      "text/plain": [
       "            2                                     \n",
       "2⋅sin(x)⋅cos (y) - sin(x) + 2⋅sin(y)⋅cos(x)⋅cos(y)"
      ]
     },
     "execution_count": 22,
     "metadata": {},
     "output_type": "execute_result"
    }
   ],
   "source": [
    "expand_trig(sin(x+2*y)).expand()"
   ]
  },
  {
   "cell_type": "code",
   "execution_count": 23,
   "metadata": {},
   "outputs": [
    {
     "data": {
      "image/png": "[encoded data removed]",
      "text/latex": [
       "$\\displaystyle x^{4} y^{2} + x^{2} z^{4} + y^{4} z^{2}$"
      ],
      "text/plain": [
       " 4  2    2  4    4  2\n",
       "x ⋅y  + x ⋅z  + y ⋅z "
      ]
     },
     "execution_count": 23,
     "metadata": {},
     "output_type": "execute_result"
    }
   ],
   "source": [
    "expresion = y**2 * x**4 + z**2 * y**4 + x**2 * z**4\n",
    "expresion"
   ]
  },
  {
   "cell_type": "code",
   "execution_count": 24,
   "metadata": {},
   "outputs": [
    {
     "data": {
      "image/png": "[encoded data removed]",
      "text/latex": [
       "$\\displaystyle 4 x^{3} y^{2} + 2 x z^{4}$"
      ],
      "text/plain": [
       "   3  2        4\n",
       "4⋅x ⋅y  + 2⋅x⋅z "
      ]
     },
     "execution_count": 24,
     "metadata": {},
     "output_type": "execute_result"
    }
   ],
   "source": [
    "expresion.diff(x)"
   ]
  },
  {
   "cell_type": "code",
   "execution_count": 25,
   "metadata": {},
   "outputs": [
    {
     "data": {
      "image/png": "[encoded data removed]",
      "text/latex": [
       "$\\displaystyle 24 x^{2} y$"
      ],
      "text/plain": [
       "    2  \n",
       "24⋅x ⋅y"
      ]
     },
     "execution_count": 25,
     "metadata": {},
     "output_type": "execute_result"
    }
   ],
   "source": [
    "expresion.diff(x,y,x)"
   ]
  },
  {
   "cell_type": "code",
   "execution_count": 26,
   "metadata": {},
   "outputs": [
    {
     "data": {
      "image/png": "[encoded data removed]",
      "text/latex": [
       "$\\displaystyle \\frac{\\partial^{2}}{\\partial x\\partial y} \\left(x^{4} y^{2} + x^{2} z^{4} + y^{4} z^{2}\\right)$"
      ],
      "text/plain": [
       "   2                        \n",
       "  ∂  ⎛ 4  2    2  4    4  2⎞\n",
       "─────⎝x ⋅y  + x ⋅z  + y ⋅z ⎠\n",
       "∂x ∂y                       "
      ]
     },
     "execution_count": 26,
     "metadata": {},
     "output_type": "execute_result"
    }
   ],
   "source": [
    "Derivative(expresion,y,x)"
   ]
  },
  {
   "cell_type": "code",
   "execution_count": 27,
   "metadata": {},
   "outputs": [],
   "source": [
    "F = Function('F')\n",
    "G = Function('G')\n",
    "eta = Function('eta')\n",
    "nu = Function('nu')\n",
    "\n",
    "#mejor usarlo así\n",
    "F,G,eta,nu = symbols('F G eta nu', cls=Function)\n",
    "s = symbols('s')"
   ]
  },
  {
   "cell_type": "code",
   "execution_count": 28,
   "metadata": {},
   "outputs": [
    {
     "data": {
      "image/png": "[encoded data removed]",
      "text/latex": [
       "$\\displaystyle \\frac{d}{d \\eta{\\left(t \\right)}} F{\\left(\\eta{\\left(t \\right)},\\nu{\\left(t \\right)} \\right)} \\frac{d}{d t} \\eta{\\left(t \\right)} + \\frac{d}{d \\nu{\\left(t \\right)}} F{\\left(\\eta{\\left(t \\right)},\\nu{\\left(t \\right)} \\right)} \\frac{d}{d t} \\nu{\\left(t \\right)}$"
      ],
      "text/plain": [
       "  d                  d            d                  d       \n",
       "─────(F(η(t), ν(t)))⋅──(η(t)) + ─────(F(η(t), ν(t)))⋅──(ν(t))\n",
       "dη(t)                dt         dν(t)                dt      "
      ]
     },
     "execution_count": 28,
     "metadata": {},
     "output_type": "execute_result"
    }
   ],
   "source": [
    "F(eta(t), nu(t)).diff(t)"
   ]
  },
  {
   "cell_type": "code",
   "execution_count": 29,
   "metadata": {},
   "outputs": [],
   "source": [
    "F = 1 + s*z**2"
   ]
  },
  {
   "cell_type": "code",
   "execution_count": 30,
   "metadata": {},
   "outputs": [],
   "source": [
    "G = s**F"
   ]
  },
  {
   "cell_type": "code",
   "execution_count": 31,
   "metadata": {},
   "outputs": [
    {
     "data": {
      "image/png": "[encoded data removed]",
      "text/latex": [
       "$\\displaystyle 2 s s^{s z^{2} + 1} z \\log{\\left(s \\right)}$"
      ],
      "text/plain": [
       "        2             \n",
       "     s⋅z  + 1         \n",
       "2⋅s⋅s        ⋅z⋅log(s)"
      ]
     },
     "execution_count": 31,
     "metadata": {},
     "output_type": "execute_result"
    }
   ],
   "source": [
    "G.diff(z)"
   ]
  },
  {
   "cell_type": "code",
   "execution_count": 32,
   "metadata": {},
   "outputs": [
    {
     "data": {
      "image/png": "[encoded data removed]",
      "text/latex": [
       "$\\displaystyle \\frac{s}{2} - \\frac{\\sin{\\left(s \\right)} \\cos{\\left(s \\right)}}{2}$"
      ],
      "text/plain": [
       "s   sin(s)⋅cos(s)\n",
       "─ - ─────────────\n",
       "2         2      "
      ]
     },
     "execution_count": 32,
     "metadata": {},
     "output_type": "execute_result"
    }
   ],
   "source": [
    "integrate(sin(s)**2,s)"
   ]
  },
  {
   "cell_type": "code",
   "execution_count": 33,
   "metadata": {},
   "outputs": [
    {
     "data": {
      "image/png": "[encoded data removed]",
      "text/latex": [
       "$\\displaystyle \\frac{d^{2}}{d s^{2}} f{\\left(s \\right)} = \\sin{\\left(s \\right)}$"
      ],
      "text/plain": [
       "  2               \n",
       " d                \n",
       "───(f(s)) = sin(s)\n",
       "  2               \n",
       "ds                "
      ]
     },
     "execution_count": 33,
     "metadata": {},
     "output_type": "execute_result"
    }
   ],
   "source": [
    "eq = Eq(f(s).diff(s,2),sin(s))\n",
    "eq"
   ]
  },
  {
   "cell_type": "code",
   "execution_count": 34,
   "metadata": {},
   "outputs": [
    {
     "data": {
      "image/png": "[encoded data removed]",
      "text/latex": [
       "$\\displaystyle f{\\left(s \\right)} = C_{1} + C_{2} s - \\sin{\\left(s \\right)}$"
      ],
      "text/plain": [
       "f(s) = C₁ + C₂⋅s - sin(s)"
      ]
     },
     "execution_count": 34,
     "metadata": {},
     "output_type": "execute_result"
    }
   ],
   "source": [
    "#integrar dos veces sen(s) con las constantes\n",
    "dsolve(eq, f(s))"
   ]
  },
  {
   "cell_type": "code",
   "execution_count": 35,
   "metadata": {},
   "outputs": [
    {
     "data": {
      "image/png": "[encoded data removed]",
      "text/latex": [
       "$\\displaystyle f{\\left(s \\right)} = C_{1} + C_{2} s + \\frac{s^{2}}{4} + \\frac{\\cos^{2}{\\left(s \\right)}}{4}$"
      ],
      "text/plain": [
       "                    2      2   \n",
       "                   s    cos (s)\n",
       "f(s) = C₁ + C₂⋅s + ── + ───────\n",
       "                   4       4   "
      ]
     },
     "execution_count": 35,
     "metadata": {},
     "output_type": "execute_result"
    }
   ],
   "source": [
    "dsolve(diff(f(s),s,2)-sin(s)**2, f(s))"
   ]
  },
  {
   "cell_type": "code",
   "execution_count": 36,
   "metadata": {},
   "outputs": [
    {
     "data": {
      "image/png": "[encoded data removed]",
      "text/latex": [
       "$\\displaystyle \\frac{s^{2}}{4} - \\frac{\\sin^{2}{\\left(s \\right)}}{4}$"
      ],
      "text/plain": [
       " 2      2   \n",
       "s    sin (s)\n",
       "── - ───────\n",
       "4       4   "
      ]
     },
     "execution_count": 36,
     "metadata": {},
     "output_type": "execute_result"
    }
   ],
   "source": [
    "integrate(sin(s)**2, s, s)"
   ]
  },
  {
   "cell_type": "code",
   "execution_count": 37,
   "metadata": {},
   "outputs": [],
   "source": [
    "x = symbols('x')\n",
    "gfg = fourier_transform(exp(-x**2), x, k)"
   ]
  },
  {
   "cell_type": "code",
   "execution_count": 38,
   "metadata": {},
   "outputs": [
    {
     "data": {
      "image/png": "[encoded data removed]",
      "text/latex": [
       "$\\displaystyle \\sqrt{\\pi} e^{- \\pi^{2} k^{2}}$"
      ],
      "text/plain": [
       "      2  2\n",
       "    -π ⋅k \n",
       "√π⋅ℯ      "
      ]
     },
     "execution_count": 38,
     "metadata": {},
     "output_type": "execute_result"
    }
   ],
   "source": [
    "gfg"
   ]
  },
  {
   "cell_type": "code",
   "execution_count": 39,
   "metadata": {},
   "outputs": [
    {
     "data": {
      "text/plain": [
       "sympy.core.mul.Mul"
      ]
     },
     "execution_count": 39,
     "metadata": {},
     "output_type": "execute_result"
    }
   ],
   "source": [
    "type(gfg)"
   ]
  },
  {
   "cell_type": "code",
   "execution_count": 40,
   "metadata": {},
   "outputs": [
    {
     "data": {
      "image/png": "[encoded data removed]",
      "text/latex": [
       "$\\displaystyle \\left( x, \\  y, \\  z, \\  t, \\  s\\right)$"
      ],
      "text/plain": [
       "(x, y, z, t, s)"
      ]
     },
     "execution_count": 40,
     "metadata": {},
     "output_type": "execute_result"
    }
   ],
   "source": [
    "var('x y z t s')"
   ]
  },
  {
   "cell_type": "code",
   "execution_count": 41,
   "metadata": {},
   "outputs": [
    {
     "data": {
      "image/png": "[encoded data removed]",
      "text/latex": [
       "$\\displaystyle \\begin{cases} \\frac{i e^{- 4000000 i \\pi \\left(t y + x z\\right)}}{4000000 \\pi x} & \\text{for}\\: \\pi x e^{4000000 i \\pi t y} \\neq 0 \\\\z e^{- 4000000 i \\pi t y} & \\text{otherwise} \\end{cases}$"
      ],
      "text/plain": [
       "⎧   -4000000⋅ⅈ⋅π⋅(t⋅y + x⋅z)                              \n",
       "⎪ⅈ⋅ℯ                                   4000000⋅ⅈ⋅π⋅t⋅y    \n",
       "⎪───────────────────────────  for π⋅x⋅ℯ                ≠ 0\n",
       "⎨        4000000⋅π⋅x                                      \n",
       "⎪                                                         \n",
       "⎪       -4000000⋅ⅈ⋅π⋅t⋅y                                  \n",
       "⎩    z⋅ℯ                               otherwise          "
      ]
     },
     "execution_count": 41,
     "metadata": {},
     "output_type": "execute_result"
    }
   ],
   "source": [
    "fun = E**(\n",
    "     (-2*I*pi*(t*y+x*z))\n",
    "    / (500*(Rational(1,10**9)))\n",
    ")\n",
    "    \n",
    "integrate(fun,z).simplify()"
   ]
  },
  {
   "cell_type": "code",
   "execution_count": 42,
   "metadata": {},
   "outputs": [
    {
     "data": {
      "text/plain": [
       "array([1.81378703, 1.76926784, 1.72507034, 1.6811949 , 1.6376419 ,\n",
       "       1.59441166, 1.55150451, 1.50892075, 1.46666064, 1.42472444,\n",
       "       1.38311241, 1.34182475, 1.30086167, 1.26022338, 1.21991003,\n",
       "       1.1799218 , 1.14025883, 1.10092126, 1.06190922, 1.02322282,\n",
       "       0.98486216, 0.94682734, 0.90911845, 0.87173555, 0.83467872,\n",
       "       0.79794802, 0.7615435 , 0.72546521, 0.6897132 , 0.6542875 ,\n",
       "       0.61918814, 0.58441515, 0.54996856, 0.51584838, 0.48205464,\n",
       "       0.44858734, 0.4154465 , 0.38263213, 0.35014423, 0.31798282,\n",
       "       0.28614789, 0.25463946, 0.22345751, 0.19260206, 0.16207311,\n",
       "       0.13187065, 0.10199469, 0.07244523, 0.04322227, 0.0143258 ,\n",
       "       0.0143258 , 0.04322227, 0.07244523, 0.10199469, 0.13187065,\n",
       "       0.16207311, 0.19260206, 0.22345751, 0.25463946, 0.28614789,\n",
       "       0.31798282, 0.35014423, 0.38263213, 0.4154465 , 0.44858734,\n",
       "       0.48205464, 0.51584838, 0.54996856, 0.58441515, 0.61918814,\n",
       "       0.6542875 , 0.6897132 , 0.72546521, 0.7615435 , 0.79794802,\n",
       "       0.83467872, 0.87173555, 0.90911845, 0.94682734, 0.98486216,\n",
       "       1.02322282, 1.06190922, 1.10092126, 1.14025883, 1.1799218 ,\n",
       "       1.21991003, 1.26022338, 1.30086167, 1.34182475, 1.38311241,\n",
       "       1.42472444, 1.46666064, 1.50892075, 1.55150451, 1.59441166,\n",
       "       1.6376419 , 1.6811949 , 1.72507034, 1.76926784, 1.81378703])"
      ]
     },
     "execution_count": 42,
     "metadata": {},
     "output_type": "execute_result"
    }
   ],
   "source": [
    "x = np.linspace(-0.2, 0.2, 100)\n",
    "y = np.linspace(-0.2, 0.2, 100)\n",
    "z = 5 * (np.sqrt(x**2 + y**2) + np.sin(x**2 + y**2))\n",
    "z"
   ]
  },
  {
   "cell_type": "code",
   "execution_count": 43,
   "metadata": {},
   "outputs": [],
   "source": [
    "import numpy as np\n",
    "import matplotlib.pyplot as plt\n",
    "\n",
    "# Test data\n",
    "#x, y = np.mgrid[-5:5:0.05, -5:5:0.05]\n",
    "#z = 5 * (np.sqrt(x**2 + y**2) + np.sin(x**2 + y**2))\n",
    "\n",
    "x = np.linspace(-0.2, 0.2, 100)\n",
    "y = np.linspace(-0.2, 0.2, 100).reshape(-1,1)\n",
    "z = 5 * (np.sqrt(x**2 + y**2) + np.sin(x**2 + y**2))\n",
    "\n",
    "# Create subplots\n",
    "fig, ax = plt.subplots()\n",
    "    \n",
    "ax.imshow(z, cmap=plt.cm.copper)\n",
    "ax.set(xlabel='Colormapped Data')\n",
    "\n",
    "fig.suptitle('DensityPlot[] test', y=0.95)\n",
    "\n",
    "plt.show()\n"
   ]
  },
  {
   "cell_type": "code",
   "execution_count": 44,
   "metadata": {},
   "outputs": [],
   "source": [
    "import numpy as np\n",
    "import matplotlib.pyplot as plt\n",
    "import matplotlib.animation as animation\n",
    "\n",
    "fig, ax = plt.subplots()\n",
    "\n",
    "\n",
    "def f(x, y):\n",
    "    return np.sin(x) + np.cos(y)\n",
    "\n",
    "x = np.linspace(0, 2 * np.pi, 120)\n",
    "y = np.linspace(0, 2 * np.pi, 100).reshape(-1, 1)\n",
    "\n",
    "# ims is a list of lists, each row is a list of artists to draw in the\n",
    "# current frame; here we are just animating one artist, the image, in\n",
    "# each frame\n",
    "\n",
    "ims = []\n",
    "for i in range(60):\n",
    "    x += np.pi / 15.\n",
    "    y += np.pi / 20.\n",
    "    im = ax.imshow(f(x, y), animated=True)\n",
    "    if i == 0:\n",
    "        ax.imshow(f(x, y))  # show an initial one first\n",
    "    ims.append([im])\n",
    "\n",
    "ani = animation.ArtistAnimation(fig, ims, interval=50, blit=True,\n",
    "                                repeat_delay=1000)\n",
    "\n",
    "# To save the animation, use e.g.\n",
    "#\n",
    "# ani.save(\"movie.mp4\")\n",
    "#\n",
    "# or\n",
    "#\n",
    "# writer = animation.FFMpegWriter(\n",
    "#     fps=15, metadata=dict(artist='Me'), bitrate=1800)\n",
    "# ani.save(\"movie.mp4\", writer=writer)\n",
    "\n",
    "plt.show()"
   ]
  },
  {
   "cell_type": "code",
   "execution_count": 45,
   "metadata": {},
   "outputs": [
    {
     "data": {
      "image/png": "[encoded data removed]",
      "text/latex": [
       "$\\displaystyle \\left( 100,\\right)$"
      ],
      "text/plain": [
       "(100,)"
      ]
     },
     "execution_count": 45,
     "metadata": {},
     "output_type": "execute_result"
    }
   ],
   "source": [
    "def f(x, y):\n",
    "    return np.sin(x) + np.cos(y)\n",
    "\n",
    "x = np.linspace(-0.2, 0.2, 100)\n",
    "y = np.linspace(-0.2, 0.2, 100)\n",
    "#shape(x) \n",
    "#shape(y)\n",
    "\n",
    "shape(f(x,y))\n"
   ]
  },
  {
   "cell_type": "code",
   "execution_count": 46,
   "metadata": {},
   "outputs": [
    {
     "data": {
      "text/plain": [
       "array([[1],\n",
       "       [2],\n",
       "       [3],\n",
       "       [4]])"
      ]
     },
     "execution_count": 46,
     "metadata": {},
     "output_type": "execute_result"
    }
   ],
   "source": [
    "#shape(np.array([[1,2,3,4]]))\n",
    "np.array([1,2,3,4]).reshape(-1,1)"
   ]
  },
  {
   "cell_type": "code",
   "execution_count": 47,
   "metadata": {},
   "outputs": [],
   "source": [
    "# Implementation of matplotlib function\n",
    "import matplotlib.pyplot as plt\n",
    "import numpy as np\n",
    "from matplotlib.colors import LogNorm\n",
    "     \n",
    "dx, dy = 0.05, 0.05\n",
    "y, x = np.mgrid[slice(-0.2, 0.2 + dy, dy),\n",
    "                slice(-0.2, 0.2 + dx, dx)]\n",
    "\n",
    "z = (1 - x / 3. + x ** 6 + y ** 3) * np.exp(-x ** 2 - y ** 2)\n",
    "z = z[:-1, :-1]\n",
    "z_min, z_max = -np.abs(z).max(), np.abs(z).max()\n",
    "\n",
    "c = plt.pcolormesh(x, y, z, cmap ='Greens', vmin = z_min, vmax = z_max)\n",
    "plt.colorbar(c)\n",
    "  \n",
    "plt.title('matplotlib.pyplot.pcolormesh() function Example', fontweight =\"bold\")\n",
    "plt.show()"
   ]
  },
  {
   "cell_type": "code",
   "execution_count": 48,
   "metadata": {},
   "outputs": [
    {
     "name": "stdout",
     "output_type": "stream",
     "text": [
      "IPython console for SymPy 1.10.1 (Python 3.9.9-64-bit) (ground types: python)\n",
      "\n",
      "These commands were executed:\n",
      ">>> from sympy import *\n",
      ">>> x, y, z, t = symbols('x y z t')\n",
      ">>> k, m, n = symbols('k m n', integer=True)\n",
      ">>> f, g, h = symbols('f g h', cls=Function)\n",
      ">>> init_printing()\n",
      "\n",
      "Documentation can be found at https://docs.sympy.org/1.10.1/\n",
      "\n"
     ]
    },
    {
     "data": {
      "image/png": "[encoded data removed]",
      "text/latex": [
       "$\\displaystyle \\left( -0.00011221991644058, \\  0.00011221991644058\\right)$"
      ],
      "text/plain": [
       "(-0.00011221991644058, 0.00011221991644058)"
      ]
     },
     "execution_count": 48,
     "metadata": {},
     "output_type": "execute_result"
    }
   ],
   "source": [
    "# Implementation of matplotlib function\n",
    "from sympy import init_session\n",
    "init_session(use_latex=True)\n",
    "import matplotlib.pyplot as plt\n",
    "import numpy as np\n",
    "\n",
    "x, y, z, t = symbols('x y z t', nonzero = True)\n",
    "fun = E ** (Rational(2, (500 *(10 ** (-9)))) * -I * pi * (x * z + y *t))\n",
    "in_1 = integrate(integrate(fun, (z, -0.05, 0.05)), (t,-0.05,0.05))\n",
    "z = im(in_1 * (-I * (E ** ((I * 2 * pi) / (500 * (10 ** (-9)))))) / (500 * (10 ** (-9))))\n",
    "f = lambdify((x,y), z, modules='numpy')\n",
    "\n",
    "x,y = np.meshgrid(np.linspace(-0.2, 0.2, 110), np.linspace(-0.2,0.2, 110))\n",
    "z = f(x,y)\n",
    "z = z[:-1, :-1]\n",
    "\n",
    "z_min, z_max = -np.abs(z).max(), np.abs(z).max()\n",
    "c = plt.pcolormesh(x, y, z, cmap='copper',  vmin = z_min, vmax = z_max)\n",
    "\n",
    "plt.colorbar(c)\n",
    "  \n",
    "plt.title('Prueba con pcolormesh()')\n",
    "plt.show()\n",
    "z_min,z_max"
   ]
  },
  {
   "cell_type": "code",
   "execution_count": 49,
   "metadata": {},
   "outputs": [
    {
     "data": {
      "image/png": "[encoded data removed]",
      "text/latex": [
       "$\\displaystyle \\left[ 0, \\  1, \\  2, \\  3, \\  4, \\  5\\right]$"
      ],
      "text/plain": [
       "[0, 1, 2, 3, 4, 5]"
      ]
     },
     "execution_count": 49,
     "metadata": {},
     "output_type": "execute_result"
    }
   ],
   "source": [
    "s = slice(2,6,2)\n",
    "array1 = [0,1,2,3,4,5,6]         \n",
    "array1[0:-1]\n",
    "#array1[s]\n"
   ]
  },
  {
   "cell_type": "code",
   "execution_count": 50,
   "metadata": {},
   "outputs": [
    {
     "name": "stderr",
     "output_type": "stream",
     "text": [
      "/tmp/ipykernel_17161/2046713637.py:5: RuntimeWarning: invalid value encountered in true_divide\n",
      "  z = np.sin(xx**2 + yy**2) / (xx**2 + yy**2)\n"
     ]
    }
   ],
   "source": [
    "import matplotlib.pyplot as plt\n",
    "x = np.arange(-5, 5, 1)\n",
    "y = np.arange(-5, 5, 1)\n",
    "xx, yy = np.meshgrid(x, y, sparse=True)\n",
    "z = np.sin(xx**2 + yy**2) / (xx**2 + yy**2)\n",
    "h = plt.contourf(x, y, z)\n",
    "plt.axis('scaled')\n",
    "plt.show()"
   ]
  },
  {
   "cell_type": "code",
   "execution_count": 51,
   "metadata": {},
   "outputs": [
    {
     "name": "stdout",
     "output_type": "stream",
     "text": [
      "IPython console for SymPy 1.10.1 (Python 3.9.9-64-bit) (ground types: python)\n",
      "\n",
      "These commands were executed:\n",
      ">>> from sympy import *\n",
      ">>> x, y, z, t = symbols('x y z t')\n",
      ">>> k, m, n = symbols('k m n', integer=True)\n",
      ">>> f, g, h = symbols('f g h', cls=Function)\n",
      ">>> init_printing()\n",
      "\n",
      "Documentation can be found at https://docs.sympy.org/1.10.1/\n",
      "\n"
     ]
    }
   ],
   "source": [
    "# Implementation of matplotlib function\n",
    "from sympy import init_session\n",
    "init_session(use_latex=True)\n",
    "import matplotlib.pyplot as plt\n",
    "import numpy as np\n",
    "\n",
    "x, y, z, t = symbols('x y z t', nonzero = True)\n",
    "fun = E ** (Rational(2, (500 *(10 ** (-9)))) * -I * pi * (x * z + y *t))\n",
    "in_1 = integrate(integrate(fun, (z, -0.05, 0.05)), (t,-0.05,0.05))\n",
    "z = im(in_1 * (-I * (E ** ((I * 2 * pi) / (500 * (10 ** (-9)))))) / (500 * (10 ** (-9))))\n",
    "f = lambdify((x,y), z, modules='numpy')\n",
    "\n",
    "x,y = np.meshgrid(np.linspace(-0.2, 0.2, 100), np.linspace(-0.2,0.2, 100))\n",
    "z = f(x,y)\n",
    "z = z[:-1, :-1]\n",
    "z.shape\n",
    "z_min, z_max = -np.abs(z).max(), np.abs(z).max()\n",
    "c = plt.pcolormesh(x, y, z, cmap='copper',  vmin = z_min, vmax = z_max)\n",
    "\n",
    "plt.colorbar(c)\n",
    "  \n",
    "plt.title('Prueba con pcolormesh()')\n",
    "plt.show()\n",
    "#z_min,z_max"
   ]
  },
  {
   "cell_type": "code",
   "execution_count": null,
   "metadata": {},
   "outputs": [],
   "source": []
  }
 ],
 "metadata": {
  "kernelspec": {
   "display_name": "Python 3 (ipykernel)",
   "language": "python",
   "name": "python3"
  },
  "language_info": {
   "codemirror_mode": {
    "name": "ipython",
    "version": 3
   },
   "file_extension": ".py",
   "mimetype": "text/x-python",
   "name": "python",
   "nbconvert_exporter": "python",
   "pygments_lexer": "ipython3",
   "version": "3.9.9"
  }
 },
 "nbformat": 4,
 "nbformat_minor": 4
}
