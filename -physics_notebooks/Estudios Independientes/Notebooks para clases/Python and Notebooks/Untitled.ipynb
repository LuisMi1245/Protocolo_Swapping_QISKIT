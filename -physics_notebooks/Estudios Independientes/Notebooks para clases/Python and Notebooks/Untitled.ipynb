{
 "cells": [
  {
   "cell_type": "code",
   "execution_count": 1,
   "id": "7fe591da-888a-4e0a-9fc8-85cf2a093b2c",
   "metadata": {},
   "outputs": [
    {
     "name": "stdout",
     "output_type": "stream",
     "text": [
      "IPython console for SymPy 1.10.1 (Python 3.9.9-64-bit) (ground types: python)\n",
      "\n",
      "These commands were executed:\n",
      ">>> from sympy import *\n",
      ">>> x, y, z, t = symbols('x y z t')\n",
      ">>> k, m, n = symbols('k m n', integer=True)\n",
      ">>> f, g, h = symbols('f g h', cls=Function)\n",
      ">>> init_printing()\n",
      "\n",
      "Documentation can be found at https://docs.sympy.org/1.10.1/\n",
      "\n"
     ]
    }
   ],
   "source": [
    "9from sympy import *\n",
    "init_session()"
   ]
  },
  {
   "cell_type": "code",
   "execution_count": 2,
   "id": "28c241e4-a809-410d-8156-1d70d78317f2",
   "metadata": {},
   "outputs": [],
   "source": [
    "r, alpha, K = symbols('r alpha K')"
   ]
  },
  {
   "cell_type": "code",
   "execution_count": 10,
   "id": "84e77b15-0a05-4a19-add9-cdb5d5772f91",
   "metadata": {},
   "outputs": [
    {
     "data": {
      "image/png": "[encoded data removed]",
      "text/latex": [
       "$\\displaystyle \\frac{K r \\left(\\frac{\\cos{\\left(K r \\right)}}{r} - \\frac{\\sin{\\left(K r \\right)}}{K r^{2}}\\right)}{\\sin{\\left(K r \\right)}}$"
      ],
      "text/plain": [
       "    ⎛cos(K⋅r)   sin(K⋅r)⎞\n",
       "K⋅r⋅⎜──────── - ────────⎟\n",
       "    ⎜   r            2  ⎟\n",
       "    ⎝             K⋅r   ⎠\n",
       "─────────────────────────\n",
       "         sin(K⋅r)        "
      ]
     },
     "execution_count": 10,
     "metadata": {},
     "output_type": "execute_result"
    }
   ],
   "source": [
    "j0 = sin(K*r)/(K*r)\n",
    "expand_trig(j0.diff(r)*(1/j0))"
   ]
  },
  {
   "cell_type": "code",
   "execution_count": 8,
   "id": "05adf446-f03c-493a-8cc8-1b7c63ea31a9",
   "metadata": {},
   "outputs": [
    {
     "data": {
      "image/png": "[encoded data removed]",
      "text/latex": [
       "$\\displaystyle \\tan{\\left(x \\right)} - 1$"
      ],
      "text/plain": [
       "tan(x) - 1"
      ]
     },
     "execution_count": 8,
     "metadata": {},
     "output_type": "execute_result"
    }
   ],
   "source": [
    "trigsimp(tan(x)-1)"
   ]
  },
  {
   "cell_type": "code",
   "execution_count": 18,
   "id": "6a4979e3-6920-41ad-a001-68dbaac66913",
   "metadata": {},
   "outputs": [
    {
     "data": {
      "image/png": "[encoded data removed]",
      "text/latex": [
       "$\\displaystyle \\frac{\\sinh{\\left(\\alpha r \\right)}}{\\alpha r} - \\frac{\\cosh{\\left(\\alpha r \\right)}}{\\alpha r}$"
      ],
      "text/plain": [
       "sinh(α⋅r)   cosh(α⋅r)\n",
       "───────── - ─────────\n",
       "   α⋅r         α⋅r   "
      ]
     },
     "execution_count": 18,
     "metadata": {},
     "output_type": "execute_result"
    }
   ],
   "source": [
    "h0 = sin(I*alpha*r)/(I*alpha*r) - I*(cos(I*alpha*r)/(I*alpha*r))\n",
    "#h0.diff(r)*(1/h0).trigsimp()\n",
    "h0"
   ]
  },
  {
   "cell_type": "code",
   "execution_count": null,
   "id": "e6574f62-d684-4b39-821e-5f8a22ddc445",
   "metadata": {},
   "outputs": [],
   "source": []
  }
 ],
 "metadata": {
  "kernelspec": {
   "display_name": "Python 3 (ipykernel)",
   "language": "python",
   "name": "python3"
  },
  "language_info": {
   "codemirror_mode": {
    "name": "ipython",
    "version": 3
   },
   "file_extension": ".py",
   "mimetype": "text/x-python",
   "name": "python",
   "nbconvert_exporter": "python",
   "pygments_lexer": "ipython3",
   "version": "3.9.9"
  }
 },
 "nbformat": 4,
 "nbformat_minor": 5
}
