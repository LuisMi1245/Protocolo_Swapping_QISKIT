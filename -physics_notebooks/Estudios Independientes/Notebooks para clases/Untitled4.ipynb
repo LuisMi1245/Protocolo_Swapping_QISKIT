{
 "cells": [
  {
   "cell_type": "code",
   "execution_count": 2,
   "id": "e8e6572d-8a44-4850-836a-739e695347fc",
   "metadata": {},
   "outputs": [],
   "source": [
    "import numpy as np"
   ]
  },
  {
   "cell_type": "code",
   "execution_count": 12,
   "id": "14a032ab-16c4-4cae-830a-935e34368fdc",
   "metadata": {},
   "outputs": [],
   "source": [
    "N = 150\n",
    "R = 0.15\n",
    "#u0 = 1.257*10**(-6)\n",
    "u0 = 4*np.pi*10**(-7)\n",
    "I = np.array([3.30, 2.08, 1.52, 1.22])"
   ]
  },
  {
   "cell_type": "code",
   "execution_count": 13,
   "id": "19c9d14d-ee1c-4ea6-a57d-96bbf060c7cd",
   "metadata": {},
   "outputs": [],
   "source": [
    "B = (1 / ((5/4)**(3/2)))*((N*u0*I)/(R))"
   ]
  },
  {
   "cell_type": "code",
   "execution_count": 14,
   "id": "8c35808b-2a47-4647-be7f-7312bb9f7ab3",
   "metadata": {},
   "outputs": [
    {
     "data": {
      "text/plain": [
       "array([0.00296728, 0.00187029, 0.00136675, 0.001097  ])"
      ]
     },
     "execution_count": 14,
     "metadata": {},
     "output_type": "execute_result"
    }
   ],
   "source": [
    "B"
   ]
  },
  {
   "cell_type": "code",
   "execution_count": 19,
   "id": "64bd94fe-00fc-4f92-9e4c-2ab0c2b9feb2",
   "metadata": {},
   "outputs": [
    {
     "data": {
      "text/plain": [
       "7731235.347601313"
      ]
     },
     "execution_count": 19,
     "metadata": {},
     "output_type": "execute_result"
    }
   ],
   "source": [
    "np.sqrt(2*(1.758*10**(11))*(170))"
   ]
  },
  {
   "cell_type": "code",
   "execution_count": 22,
   "id": "5cc77213-bf8e-4e7a-aa3c-6bd790152f39",
   "metadata": {},
   "outputs": [],
   "source": [
    "V = 170\n",
    "r = np.array([0.02,0.03,0.04,0.05])\n",
    "c_m = (2*V)/((r**2) * (B**2))"
   ]
  },
  {
   "cell_type": "code",
   "execution_count": 23,
   "id": "d37d5844-4d5e-4a7e-8668-932024084b23",
   "metadata": {},
   "outputs": [
    {
     "data": {
      "text/plain": [
       "array([9.65386801e+10, 1.07999078e+11, 1.13758032e+11, 1.13013300e+11])"
      ]
     },
     "execution_count": 23,
     "metadata": {},
     "output_type": "execute_result"
    }
   ],
   "source": [
    "c_m"
   ]
  },
  {
   "cell_type": "code",
   "execution_count": 24,
   "id": "1d977423-fcdf-43ca-8a57-5d6e40a6eea4",
   "metadata": {},
   "outputs": [],
   "source": [
    "I2 = 1.5\n",
    "B2 = (1 / ((5/4)**(3/2)))*((N*u0*I2)/(R))"
   ]
  },
  {
   "cell_type": "code",
   "execution_count": 25,
   "id": "0bf6ce91-3868-4b4c-bbbf-ea68712fc00d",
   "metadata": {},
   "outputs": [
    {
     "data": {
      "text/plain": [
       "0.0013487644283598193"
      ]
     },
     "execution_count": 25,
     "metadata": {},
     "output_type": "execute_result"
    }
   ],
   "source": [
    "B2"
   ]
  },
  {
   "cell_type": "code",
   "execution_count": 26,
   "id": "c6f4763f-59d8-4b87-8290-7f9641b418bf",
   "metadata": {},
   "outputs": [],
   "source": [
    "V2 = np.array([65.4,\n",
    "118.9,\n",
    "169.5,\n",
    "249.2])\n",
    "c_m2 = (2*V2)/((r**2) * (B2**2))"
   ]
  },
  {
   "cell_type": "code",
   "execution_count": 27,
   "id": "61f13474-60d3-48ec-94de-d0b7455ff631",
   "metadata": {},
   "outputs": [
    {
     "data": {
      "text/plain": [
       "array([1.79752751e+11, 1.45243643e+11, 1.16468239e+11, 1.09588711e+11])"
      ]
     },
     "execution_count": 27,
     "metadata": {},
     "output_type": "execute_result"
    }
   ],
   "source": [
    "c_m2"
   ]
  },
  {
   "cell_type": "code",
   "execution_count": 46,
   "id": "1b9fdf05-07d3-40c0-bab4-5ee610012186",
   "metadata": {},
   "outputs": [
    {
     "data": {
      "text/plain": [
       "array([45.11167707, 38.59571861, 35.32139059, 35.74481733])"
      ]
     },
     "execution_count": 46,
     "metadata": {},
     "output_type": "execute_result"
    }
   ],
   "source": [
    "np.abs(c_m - 1.758820*(10**(11)))/(1.758820*(10**(11)))*100"
   ]
  },
  {
   "cell_type": "code",
   "execution_count": 47,
   "id": "9e8b1715-712b-47d8-a2e0-35dc6dd3f646",
   "metadata": {},
   "outputs": [
    {
     "data": {
      "text/plain": [
       "array([7.93433199e+10, 6.78829218e+10, 6.21239682e+10, 6.28686996e+10])"
      ]
     },
     "execution_count": 47,
     "metadata": {},
     "output_type": "execute_result"
    }
   ],
   "source": [
    "np.abs(c_m - 1.758820*(10**(11)))"
   ]
  },
  {
   "cell_type": "code",
   "execution_count": 48,
   "id": "746c93f9-8deb-4d41-94bc-c577f7550101",
   "metadata": {},
   "outputs": [
    {
     "data": {
      "text/plain": [
       "array([ 2.20076581, 17.41983653, 33.7804671 , 37.69191232])"
      ]
     },
     "execution_count": 48,
     "metadata": {},
     "output_type": "execute_result"
    }
   ],
   "source": [
    "np.abs(c_m2 - 1.758820*(10**(11)))/(1.758820*(10**(11)))*100"
   ]
  },
  {
   "cell_type": "code",
   "execution_count": 49,
   "id": "e7eb7c70-715a-4bbd-9ca9-b95c9c213cb3",
   "metadata": {},
   "outputs": [
    {
     "data": {
      "text/plain": [
       "array([3.87075093e+09, 3.06383569e+10, 5.94137612e+10, 6.62932892e+10])"
      ]
     },
     "execution_count": 49,
     "metadata": {},
     "output_type": "execute_result"
    }
   ],
   "source": [
    "np.abs(c_m2 - 1.758820*(10**(11)))"
   ]
  },
  {
   "cell_type": "code",
   "execution_count": null,
   "id": "08af6652-6237-416e-800e-fee82b7f22a7",
   "metadata": {},
   "outputs": [],
   "source": []
  }
 ],
 "metadata": {
  "kernelspec": {
   "display_name": "Python 3 (ipykernel)",
   "language": "python",
   "name": "python3"
  },
  "language_info": {
   "codemirror_mode": {
    "name": "ipython",
    "version": 3
   },
   "file_extension": ".py",
   "mimetype": "text/x-python",
   "name": "python",
   "nbconvert_exporter": "python",
   "pygments_lexer": "ipython3",
   "version": "3.11.3"
  }
 },
 "nbformat": 4,
 "nbformat_minor": 5
}
