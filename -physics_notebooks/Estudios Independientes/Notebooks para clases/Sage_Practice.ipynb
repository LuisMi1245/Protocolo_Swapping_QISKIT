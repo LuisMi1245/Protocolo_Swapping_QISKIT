{
 "cells": [
  {
   "cell_type": "code",
   "execution_count": 1,
   "metadata": {
    "tags": []
   },
   "outputs": [],
   "source": [
    "%display latex"
   ]
  },
  {
   "cell_type": "markdown",
   "metadata": {
    "tags": []
   },
   "source": [
    "# <span style=\"color:#b32727\">Problema N°6, Pag 543. Goldstein.</span>\n",
    "---\n",
    "\n",
    "#### Autor: Luis Miguel Patiño Buendía."
   ]
  },
  {
   "cell_type": "markdown",
   "metadata": {},
   "source": [
    "## <span style=\"color:#b32727\">Ejercicio 1:</span>\n",
    "Las ecuaciones de transformación entre dos sistemas de coordenadas son:\n",
    "\n",
    "\\begin{equation}\n",
    "    Q = \\log{(1+\\sqrt{q}\\cos{p})}\n",
    "\\end{equation}\n",
    "\\begin{equation}\n",
    "    P = 2(1+\\sqrt{q}\\cos{p})\\sqrt{q}\\sin{p}\n",
    "\\end{equation}\n",
    "\n",
    "* a) A partir de estas ecuaciones de transformación, demostrar directamente que _Q_, _P_ son variables canónicas si lo son _q_ y _p_.\n",
    "* b) Demostrar que la función que genera esta transformación es:\n",
    "\n",
    "\\begin{equation}\n",
    "    F_3 = -(e^{Q}-1)^2 \\tan{p}\n",
    "\\end{equation}"
   ]
  },
  {
   "cell_type": "markdown",
   "metadata": {},
   "source": [
    "## <span style=\"color:#b32727\">Solución:</span>\n",
    "* a) Para mostrar que Q y P son variables canónicas, necesitamos satisfacer la condición simpléctica **$MJ\\tilde{M}=J$**.\n",
    "\n",
    "Lo que resulta equivalente a que: $$ det(MJ\\tilde{M})=1 $$\n",
    "\n",
    "Para encontrar la matriz jacobiana M, partimos estableciendo las relaciones de transformación:"
   ]
  },
  {
   "cell_type": "code",
   "execution_count": 2,
   "metadata": {},
   "outputs": [],
   "source": [
    "var('q p')\n",
    "Q = log(1 + sqrt(q)*cos(p))\n",
    "P = 2*(1+sqrt(q)*cos(p))*sqrt(q)*sin(p)\n",
    "F(q,p) = [Q,P]"
   ]
  },
  {
   "cell_type": "markdown",
   "metadata": {},
   "source": [
    "De modo que la matriz jacobiana **$M$**:"
   ]
  },
  {
   "cell_type": "code",
   "execution_count": 3,
   "metadata": {},
   "outputs": [
    {
     "data": {
      "text/html": [
       "<html><script type=\"math/tex; mode=display\">\\newcommand{\\Bold}[1]{\\mathbf{#1}}\\left(\\begin{array}{rr}\n",
       "\\left( q, p \\right) \\ {\\mapsto} \\ \\frac{\\cos\\left(p\\right)}{2 \\, {\\left(\\sqrt{q} \\cos\\left(p\\right) + 1\\right)} \\sqrt{q}} & \\left( q, p \\right) \\ {\\mapsto} \\ -\\frac{\\sqrt{q} \\sin\\left(p\\right)}{\\sqrt{q} \\cos\\left(p\\right) + 1} \\\\\n",
       "\\left( q, p \\right) \\ {\\mapsto} \\ \\cos\\left(p\\right) \\sin\\left(p\\right) + \\frac{{\\left(\\sqrt{q} \\cos\\left(p\\right) + 1\\right)} \\sin\\left(p\\right)}{\\sqrt{q}} & \\left( q, p \\right) \\ {\\mapsto} \\ -2 \\, q \\sin\\left(p\\right)^{2} + 2 \\, {\\left(\\sqrt{q} \\cos\\left(p\\right) + 1\\right)} \\sqrt{q} \\cos\\left(p\\right)\n",
       "\\end{array}\\right)</script></html>"
      ],
      "text/latex": [
       "$$\\newcommand{\\Bold}[1]{\\mathbf{#1}}\\left(\\begin{array}{rr}\n",
       "\\left( q, p \\right) \\ {\\mapsto} \\ \\frac{\\cos\\left(p\\right)}{2 \\, {\\left(\\sqrt{q} \\cos\\left(p\\right) + 1\\right)} \\sqrt{q}} & \\left( q, p \\right) \\ {\\mapsto} \\ -\\frac{\\sqrt{q} \\sin\\left(p\\right)}{\\sqrt{q} \\cos\\left(p\\right) + 1} \\\\\n",
       "\\left( q, p \\right) \\ {\\mapsto} \\ \\cos\\left(p\\right) \\sin\\left(p\\right) + \\frac{{\\left(\\sqrt{q} \\cos\\left(p\\right) + 1\\right)} \\sin\\left(p\\right)}{\\sqrt{q}} & \\left( q, p \\right) \\ {\\mapsto} \\ -2 \\, q \\sin\\left(p\\right)^{2} + 2 \\, {\\left(\\sqrt{q} \\cos\\left(p\\right) + 1\\right)} \\sqrt{q} \\cos\\left(p\\right)\n",
       "\\end{array}\\right)$$"
      ],
      "text/plain": [
       "[            (q, p) |--> 1/2*cos(p)/((sqrt(q)*cos(p) + 1)*sqrt(q))                  (q, p) |--> -sqrt(q)*sin(p)/(sqrt(q)*cos(p) + 1)]\n",
       "[  (q, p) |--> cos(p)*sin(p) + (sqrt(q)*cos(p) + 1)*sin(p)/sqrt(q) (q, p) |--> -2*q*sin(p)^2 + 2*(sqrt(q)*cos(p) + 1)*sqrt(q)*cos(p)]"
      ]
     },
     "execution_count": 3,
     "metadata": {},
     "output_type": "execute_result"
    }
   ],
   "source": [
    "M = diff(F); M"
   ]
  },
  {
   "cell_type": "markdown",
   "metadata": {},
   "source": [
    "Por otro lado, definimos la matriz **$J$**:"
   ]
  },
  {
   "cell_type": "code",
   "execution_count": 4,
   "metadata": {},
   "outputs": [
    {
     "data": {
      "text/html": [
       "<html><script type=\"math/tex; mode=display\">\\newcommand{\\Bold}[1]{\\mathbf{#1}}\\left(\\begin{array}{rr}\n",
       "0 & 1 \\\\\n",
       "-1 & 0\n",
       "\\end{array}\\right)</script></html>"
      ],
      "text/latex": [
       "$$\\newcommand{\\Bold}[1]{\\mathbf{#1}}\\left(\\begin{array}{rr}\n",
       "0 & 1 \\\\\n",
       "-1 & 0\n",
       "\\end{array}\\right)$$"
      ],
      "text/plain": [
       "[ 0  1]\n",
       "[-1  0]"
      ]
     },
     "execution_count": 4,
     "metadata": {},
     "output_type": "execute_result"
    }
   ],
   "source": [
    "J = matrix([[0,1],[-1,0]]); J"
   ]
  },
  {
   "cell_type": "markdown",
   "metadata": {},
   "source": [
    "Con lo cual, comprobamos por medio de la condición simpléctica:"
   ]
  },
  {
   "cell_type": "code",
   "execution_count": 5,
   "metadata": {},
   "outputs": [
    {
     "data": {
      "text/html": [
       "<html><script type=\"math/tex; mode=display\">\\newcommand{\\Bold}[1]{\\mathbf{#1}}\\left( q, p \\right) \\ {\\mapsto} \\ 1</script></html>"
      ],
      "text/latex": [
       "$$\\newcommand{\\Bold}[1]{\\mathbf{#1}}\\left( q, p \\right) \\ {\\mapsto} \\ 1$$"
      ],
      "text/plain": [
       "(q, p) |--> 1"
      ]
     },
     "execution_count": 5,
     "metadata": {},
     "output_type": "execute_result"
    }
   ],
   "source": [
    "(M*J*transpose(M)).det().full_simplify()"
   ]
  },
  {
   "cell_type": "markdown",
   "metadata": {},
   "source": [
    "Con lo que se concluye que las relaciones de transformación son canónicas."
   ]
  },
  {
   "cell_type": "code",
   "execution_count": 6,
   "metadata": {},
   "outputs": [],
   "source": [
    "del Q,P,F"
   ]
  },
  {
   "cell_type": "markdown",
   "metadata": {},
   "source": [
    "* b) Para mostrar que la función generatriz $F_3$ da esta transformación para Q y P, utilizamos las relaciones de transformación de esta función:"
   ]
  },
  {
   "cell_type": "markdown",
   "metadata": {},
   "source": [
    "$$ F_3(p,Q) = - (e^{Q}-1)^2 \\tan{p} $$\n",
    "\n",
    "$$ q = - \\frac{\\partial F_3(p,Q)}{\\partial p}; \\quad P = -\\frac{\\partial F_3(p,Q)}{\\partial Q};  $$"
   ]
  },
  {
   "cell_type": "code",
   "execution_count": 7,
   "metadata": {},
   "outputs": [],
   "source": [
    "var('q p', domain='positive')\n",
    "var('Q P')\n",
    "F3 = -(e**Q - 1)**2 * tan(p);"
   ]
  },
  {
   "cell_type": "code",
   "execution_count": 8,
   "metadata": {},
   "outputs": [
    {
     "data": {
      "text/html": [
       "<html><script type=\"math/tex; mode=display\">\\newcommand{\\Bold}[1]{\\mathbf{#1}}\\left[q = {\\left(\\tan\\left(p\\right)^{2} + 1\\right)} {\\left(e^{Q} - 1\\right)}^{2}, P = 2 \\, {\\left(e^{Q} - 1\\right)} e^{Q} \\tan\\left(p\\right)\\right]</script></html>"
      ],
      "text/latex": [
       "$$\\newcommand{\\Bold}[1]{\\mathbf{#1}}\\left[q = {\\left(\\tan\\left(p\\right)^{2} + 1\\right)} {\\left(e^{Q} - 1\\right)}^{2}, P = 2 \\, {\\left(e^{Q} - 1\\right)} e^{Q} \\tan\\left(p\\right)\\right]$$"
      ],
      "text/plain": [
       "[q == (tan(p)^2 + 1)*(e^Q - 1)^2, P == 2*(e^Q - 1)*e^Q*tan(p)]"
      ]
     },
     "execution_count": 8,
     "metadata": {},
     "output_type": "execute_result"
    }
   ],
   "source": [
    "RT1 = [q == -diff(F3,p), P == -diff(F3,Q)]; RT1"
   ]
  },
  {
   "cell_type": "code",
   "execution_count": 18,
   "metadata": {},
   "outputs": [],
   "source": [
    "RT2 = solve(RT1, (Q,P));"
   ]
  },
  {
   "cell_type": "code",
   "execution_count": 15,
   "metadata": {},
   "outputs": [
    {
     "data": {
      "text/html": [
       "<html><script type=\"math/tex; mode=display\">\\newcommand{\\Bold}[1]{\\mathbf{#1}}P = \\frac{2 \\, {\\left(q {\\left| \\cos\\left(p\\right) \\right|} - \\sqrt{q}\\right)} \\cos\\left(p\\right) \\sin\\left(p\\right)}{{\\left| \\cos\\left(p\\right) \\right|}}</script></html>"
      ],
      "text/latex": [
       "$$\\newcommand{\\Bold}[1]{\\mathbf{#1}}P = \\frac{2 \\, {\\left(q {\\left| \\cos\\left(p\\right) \\right|} - \\sqrt{q}\\right)} \\cos\\left(p\\right) \\sin\\left(p\\right)}{{\\left| \\cos\\left(p\\right) \\right|}}$$"
      ],
      "text/plain": [
       "P == 2*(q*abs(cos(p)) - sqrt(q))*cos(p)*sin(p)/abs(cos(p))"
      ]
     },
     "execution_count": 15,
     "metadata": {},
     "output_type": "execute_result"
    }
   ],
   "source": [
    "(RT2[0][0]).full_simplify().factor()"
   ]
  },
  {
   "cell_type": "code",
   "execution_count": 11,
   "metadata": {},
   "outputs": [
    {
     "data": {
      "text/html": [
       "<html><script type=\"math/tex; mode=display\">\\newcommand{\\Bold}[1]{\\mathbf{#1}}Q = 2 i \\, \\pi z_{1945} - \\log\\left(-\\frac{\\sqrt{q} {\\left| \\cos\\left(p\\right) \\right|} + 1}{q \\cos\\left(p\\right)^{2} - 1}\\right)</script></html>"
      ],
      "text/latex": [
       "$$\\newcommand{\\Bold}[1]{\\mathbf{#1}}Q = 2 i \\, \\pi z_{1945} - \\log\\left(-\\frac{\\sqrt{q} {\\left| \\cos\\left(p\\right) \\right|} + 1}{q \\cos\\left(p\\right)^{2} - 1}\\right)$$"
      ],
      "text/plain": [
       "Q == 2*I*pi*z1945 - log(-(sqrt(q)*abs(cos(p)) + 1)/(q*cos(p)^2 - 1))"
      ]
     },
     "execution_count": 11,
     "metadata": {},
     "output_type": "execute_result"
    }
   ],
   "source": [
    "(RT2[0][1]).full_simplify()"
   ]
  },
  {
   "cell_type": "code",
   "execution_count": 12,
   "metadata": {},
   "outputs": [
    {
     "data": {
      "text/html": [
       "<html><script type=\"math/tex; mode=display\">\\newcommand{\\Bold}[1]{\\mathbf{#1}}P = \\frac{2 \\, {\\left(q {\\left| \\cos\\left(p\\right) \\right|} + \\sqrt{q}\\right)} \\cos\\left(p\\right) \\sin\\left(p\\right)}{{\\left| \\cos\\left(p\\right) \\right|}}</script></html>"
      ],
      "text/latex": [
       "$$\\newcommand{\\Bold}[1]{\\mathbf{#1}}P = \\frac{2 \\, {\\left(q {\\left| \\cos\\left(p\\right) \\right|} + \\sqrt{q}\\right)} \\cos\\left(p\\right) \\sin\\left(p\\right)}{{\\left| \\cos\\left(p\\right) \\right|}}$$"
      ],
      "text/plain": [
       "P == 2*(q*abs(cos(p)) + sqrt(q))*cos(p)*sin(p)/abs(cos(p))"
      ]
     },
     "execution_count": 12,
     "metadata": {},
     "output_type": "execute_result"
    }
   ],
   "source": [
    "(RT2[1][0]).full_simplify().factor()"
   ]
  },
  {
   "cell_type": "code",
   "execution_count": null,
   "metadata": {},
   "outputs": [],
   "source": []
  }
 ],
 "metadata": {
  "kernelspec": {
   "display_name": "Python 3 (ipykernel)",
   "language": "python",
   "name": "python3"
  },
  "language_info": {
   "codemirror_mode": {
    "name": "ipython",
    "version": 3
   },
   "file_extension": ".py",
   "mimetype": "text/x-python",
   "name": "python",
   "nbconvert_exporter": "python",
   "pygments_lexer": "ipython3",
   "version": "3.9.6"
  }
 },
 "nbformat": 4,
 "nbformat_minor": 4
}
