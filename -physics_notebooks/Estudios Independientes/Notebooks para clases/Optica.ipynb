{
 "cells": [
  {
   "cell_type": "markdown",
   "id": "5df29bc0-7f9e-44ce-a74d-449911a9c1e8",
   "metadata": {},
   "source": [
    "# Ecuaciones de Fresnell\n",
    "\n",
    "### 1. Coeficientes de reflexión y transmisión para la amplitud:"
   ]
  },
  {
   "cell_type": "code",
   "execution_count": 2,
   "id": "132c8365-0ddf-482e-917f-82b56c174eb3",
   "metadata": {},
   "outputs": [],
   "source": [
    "%matplotlib inline"
   ]
  },
  {
   "cell_type": "code",
   "execution_count": 3,
   "id": "fdf21224-8aad-4ea2-a220-eff7efb2486d",
   "metadata": {},
   "outputs": [],
   "source": [
    "%load_ext Cython"
   ]
  },
  {
   "cell_type": "code",
   "execution_count": 4,
   "id": "b7d069c0-76dc-4383-8246-38bd681ebb1f",
   "metadata": {},
   "outputs": [],
   "source": [
    "from ipywidgets import interactive, interactive_output, FloatSlider, HBox, Button\n",
    "import matplotlib.pyplot as plt\n",
    "import warnings\n",
    "warnings.filterwarnings('ignore')"
   ]
  },
  {
   "cell_type": "code",
   "execution_count": 5,
   "id": "e317be39-cd48-4052-8726-9fe963507b24",
   "metadata": {
    "tags": []
   },
   "outputs": [],
   "source": [
    "%%cython\n",
    "import numpy as np\n",
    "cimport numpy as np\n",
    "\n",
    "np.import_array()\n",
    "\n",
    "DTYPE_INT = np.int\n",
    "DTYPE_FLOAT = np.float\n",
    "\n",
    "ctypedef np.int_t DTYPE_INT_t\n",
    "ctypedef np.float_t DTYPE_FLOAT_t"
   ]
  },
  {
   "cell_type": "code",
   "execution_count": 21,
   "id": "b7bc4849-c57f-450e-9081-1073aa30cb4b",
   "metadata": {},
   "outputs": [],
   "source": [
    "def graficar(n1, n2):\n",
    "    \n",
    "    theta_i = np.linspace(0, 90, 100)\n",
    "    theta_i2 = np.linspace(0.001, 90, 100)\n",
    "  \n",
    "    theta_t, theta_t2, tll, rll, tp, rp = f(n1, n2, theta_i, theta_i2)\n",
    "    fig, ax = plt.subplots(1, figsize=(5,7))\n",
    "    \n",
    "    ## NUMERICAL CALCULUS\n",
    "    \n",
    "    ax.plot(theta_i, tll, theta_i, tp, theta_i,rll, theta_i, rp)\n",
    "    rll_root_y, rll_root_x = np.min(np.abs(rll)), theta_i2[np.argmin(np.abs(rll))]\n",
    "    plt.text(rll_root_x, rll_root_y, r'$\\theta_p = $' + str(float('%.3g' % rll_root_x)), fontsize=14)\n",
    "    \n",
    "    ax.legend((r\"$t_{\\parallel}$\",\"$t_{\\perp}$\",\"$r_{\\parallel}$\",\"$r_{\\perp}$\"))\n",
    "    ax.set(\n",
    "        xlabel=r\"Ángulo $\\theta_i$ (grados)\", \n",
    "        ylabel =\"Coeficientes de Amplitud\", \n",
    "        xlim=[0,90], \n",
    "        ylim=[-1,1])\n",
    "\n",
    "    plt.axhline(color=\"grey\")\n",
    "    plt.axvline(color=\"grey\")\n",
    "    plt.show()"
   ]
  },
  {
   "cell_type": "code",
   "execution_count": null,
   "id": "13771456-6ee5-490b-8057-1c7007dacd2f",
   "metadata": {
    "tags": []
   },
   "outputs": [],
   "source": [
    "%%cython\n",
    "\n",
    "def f(n1, n2, theta_i, theta_i2):\n",
    "    pi = 3.1415926\n",
    "    b = pi/180 #factor grados a radianes\n",
    "    c = 180/pi #radianes a grados\n",
    "    theta_t = np.arcsin((n1/n2)* np.sin(theta_i*b))  \n",
    "    theta_t2 = np.arcsin((n1/n2)* np.sin(theta_i2*b))\n",
    "    \n",
    "    tll = (2*np.sin(theta_t)*np.cos(theta_i*b))/(np.sin(theta_i*b + theta_t)*np.cos(theta_i*b-theta_t))\n",
    "    tp =  (2*np.sin(theta_t)*np.cos(theta_i*b))/(np.sin(theta_i*b + theta_t))\n",
    "    rll =  (np.tan(theta_i2*b - theta_t2))/(np.tan(theta_i2*b + theta_t2))\n",
    "    rp = (-np.sin(theta_i*b - theta_t))/(np.sin(theta_i*b + theta_t))\n",
    "    \n",
    "    return [theta_t, theta_t2, tll, rll, tp, rp]"
   ]
  },
  {
   "cell_type": "code",
   "execution_count": 27,
   "id": "633d3912-8596-451c-bc2f-f1e83627305c",
   "metadata": {},
   "outputs": [
    {
     "data": {
      "application/vnd.jupyter.widget-view+json": {
       "model_id": "c57acf745d074abda3ad2e216f5975df",
       "version_major": 2,
       "version_minor": 0
      },
      "text/plain": [
       "interactive(children=(FloatSlider(value=1.0, description='Índice $n_1$', max=4.0, min=0.0001), FloatSlider(val…"
      ]
     },
     "metadata": {},
     "output_type": "display_data"
    }
   ],
   "source": [
    "n1_slider = FloatSlider(value=1.0,min=1e-4, max=4, step=1e-1, description=r\"Índice $n_1$\")\n",
    "n2_slider = FloatSlider(value=1.5, min=1e-4, max=4, step=1e-1, description=r\"Índice $n_2$\")\n",
    "#check = Button(description='Obtener')\n",
    "#ui = HBox([n1_slider,n2_slider, check])\n",
    "\n",
    "interactive_plot = interactive(graficar, {'manual':True}, n1=n1_slider, n2=n2_slider)\n",
    "#output = interactive_plot.children[-1]\n",
    "interactive_plot.children[2].description=\"Obtener\"\n",
    "\n",
    "#output.layout.height = '750px'\n",
    "display(interactive_plot)"
   ]
  },
  {
   "cell_type": "markdown",
   "id": "0a5396ab-a083-4c3a-8daf-fb8cdd196769",
   "metadata": {},
   "source": [
    "### 2. Desplazamientos de fase para el coeficiente de reflexión en $E_{\\parallel}$ y $E_{\\perp}$:"
   ]
  },
  {
   "cell_type": "code",
   "execution_count": null,
   "id": "b3941501-094c-4c71-86f2-d82ab9f9b80a",
   "metadata": {},
   "outputs": [],
   "source": [
    "def dfase(n1,n2):\n",
    "    fig, ax = plt.subplots(1, figsize=(7,7))\n",
    "    theta_i = linspace(0, 90, 100)\n",
    "    theta_t = arcsin((n1/n2)* sin(theta_i*b))\n",
    "    n = n2/n1\n",
    "    \n",
    "    fase_p = (2*arctan((sqrt(sin(theta_i*b)**2 - n**2))/(cos(theta_i*b))))*c\n",
    "    fase_ll = (2*(arctan((sqrt(sin(theta_i*b)**2 - n**2))/((n**2)*cos(theta_i*b))) - pi/2))*c + 180\n",
    "    \n",
    "    dif_fase = fase_ll - fase_p\n",
    "    ax.plot(theta_i, fase_p, theta_i, fase_ll, theta_i, dif_fase)\n",
    "    plt.text(theta_i[60]+1, fase_p[60], r'$\\Delta\\phi_{\\perp}$', fontsize=14)\n",
    "    plt.text(theta_i[60]+1, fase_ll[60], r'$\\Delta\\phi_{\\parallel}$', fontsize=14)\n",
    "    plt.text(theta_i[60]+1, dif_fase[60], r'$\\Delta\\phi_{\\parallel}-\\Delta\\phi_{\\perp}$', fontsize=14)\n",
    "    \n",
    "    ax.legend((r\"$\\Delta\\phi_{\\perp}$\",\"$\\Delta\\phi_{\\parallel}$\", \"$\\Delta\\phi_{\\parallel}-\\Delta\\phi_{\\perp}$\"))\n",
    "    ax.set(\n",
    "        xlabel=r\"Ángulo $\\theta_i$ (grados)\", \n",
    "        ylabel =\"Desplazamientos de Fase (grados)\", \n",
    "        xlim=[0,90], \n",
    "        ylim=[0,180]\n",
    "    )\n",
    "\n",
    "    plt.axhline(color=\"grey\")\n",
    "    plt.axvline(color=\"grey\")\n",
    "    plt.show()\n",
    "    print(r\"Valores de $\\Delta\\phi_{\\parallel} = $\", fase_ll, '\\n')\n",
    "    print(r\"Valores de $\\Delta\\phi_{\\perp} = $\", fase_p)\n",
    "    \n",
    "    \n",
    "n1_slider = FloatSlider(value=1.5,min=1e-4, max=4, step=1e-1, description=r\"Índice $n_1$\")\n",
    "n2_slider = FloatSlider(value=1.0, min=1e-4, max=4, step=1e-1, description=r\"Índice $n_2$\")\n",
    "#check = Button(description='Obtener')\n",
    "#ui = HBox([n1_slider,n2_slider, check])\n",
    "\n",
    "interactive_plot_2 = interactive(dfase, {'manual':True}, n1=n1_slider, n2=n2_slider)\n",
    "#output = interactive_plot.children[-1]\n",
    "interactive_plot_2.children[2].description=\"Obtener\"\n",
    "\n",
    "#output.layout.height = '750px'\n",
    "display(interactive_plot_2)"
   ]
  }
 ],
 "metadata": {
  "kernelspec": {
   "display_name": "Python 3 (ipykernel)",
   "language": "python",
   "name": "python3"
  },
  "language_info": {
   "codemirror_mode": {
    "name": "ipython",
    "version": 3
   },
   "file_extension": ".py",
   "mimetype": "text/x-python",
   "name": "python",
   "nbconvert_exporter": "python",
   "pygments_lexer": "ipython3",
   "version": "3.9.13"
  }
 },
 "nbformat": 4,
 "nbformat_minor": 5
}
