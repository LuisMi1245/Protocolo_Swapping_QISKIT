{
 "cells": [
  {
   "cell_type": "markdown",
   "id": "b92d2aca-c334-4b57-b974-7f59a3029c1e",
   "metadata": {},
   "source": [
    "---\n",
    "# Taller: Método Variacional (con Python)\n",
    "### Mecánica Cuántica II\n",
    "### Luis Miguel Patiño Buendía\n",
    "---QD"
   ]
  },
  {
   "cell_type": "code",
   "execution_count": null,
   "id": "bd6c6ff9-d21a-4d18-ae87-a1a3a182c9c6",
   "metadata": {},
   "outputs": [],
   "source": []
  }
 ],
 "metadata": {
  "kernelspec": {
   "display_name": "Python 3 (ipykernel)",
   "language": "python",
   "name": "python3"
  },
  "language_info": {
   "codemirror_mode": {
    "name": "ipython",
    "version": 3
   },
   "file_extension": ".py",
   "mimetype": "text/x-python",
   "name": "python",
   "nbconvert_exporter": "python",
   "pygments_lexer": "ipython3",
   "version": "3.10.5"
  }
 },
 "nbformat": 4,
 "nbformat_minor": 5
}
