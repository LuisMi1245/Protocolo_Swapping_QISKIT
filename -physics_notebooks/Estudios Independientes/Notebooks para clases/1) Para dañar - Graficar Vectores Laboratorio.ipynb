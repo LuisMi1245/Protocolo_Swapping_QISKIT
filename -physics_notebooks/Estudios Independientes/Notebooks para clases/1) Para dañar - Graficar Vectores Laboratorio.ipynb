{
 "cells": [
  {
   "cell_type": "code",
   "execution_count": 1,
   "id": "df32a0bd-1af3-4da2-9a7a-30edd26e990f",
   "metadata": {},
   "outputs": [],
   "source": [
    "import matplotlib.pyplot as plt\n",
    "import numpy as np\n",
    "from pathlib import Path\n",
    "import matplotlib as mpl\n",
    "from matplotlib.font_manager import FontProperties\n",
    "from scipy.optimize import curve_fit\n",
    "\n",
    "#from sympy import init_session\n",
    "#init_session()\n",
    "font = FontProperties()\n",
    "font.set_family('dejavusans')\n",
    "font.set_name('dejavusans')\n",
    "#font.set_style('italic')\n",
    "font.set_size(13)"
   ]
  },
  {
   "cell_type": "code",
   "execution_count": 32,
   "id": "cfc0c1a0-8d45-450c-990e-00358c4aeeac",
   "metadata": {},
   "outputs": [],
   "source": [
    "# X_0 = np.array([\n",
    "# 3.30, 2.08, 1.52, 1.22\n",
    "# ]);\n",
    "\n",
    "# Y_0 = np.array([\n",
    "# 2,3,4,5\n",
    "# ]);\n",
    "\n",
    "X_0 = np.array([\n",
    "65.4,118.9,169.5,249.2\n",
    "]);\n",
    "\n",
    "Y_0 = np.array([\n",
    "2,3,4,5\n",
    "]);\n",
    "\n",
    "def fun_exp(x, a, b):\n",
    "    return a*x**(1/2)+b\n",
    "\n",
    "coef00, cov00 = curve_fit(fun_exp, X_0, Y_0)\n",
    "\n",
    "#f_0 = np.polyfit(X_0,Y_0, 3)\n",
    "#f_1 = np.polyfit(X_0,Y_1, 3)\n",
    "#f_2 = np.polyfit(X_0,Y_2, 1)\n",
    "\n",
    "#f_1 = np.polyfit(X_1,Y_1, 1)\n",
    "#f_2 = np.polyfit(X_2,Y_2, 1)\n",
    "\n",
    "#p0 = np.poly1d(f_0)\n",
    "#p1 = np.poly1d(f_1)\n",
    "#p2 = np.poly1d(f_2)\n",
    "\n",
    "#p1 = np.poly1d(f_1)\n",
    "#p2 = np.poly1d(f_2)\n",
    "\n",
    "xp0 = np.linspace(np.min(X_0), np.max(X_0), 200)\n",
    "#xp00 = np.linspace(0, np.min(X_0), 200) esto es para extrapolar el modelo\n",
    "\n",
    "\n",
    "#xp1 = np.linspace(np.min(X_1), np.max(X_1), 200)\n",
    "#xp2 = np.linspace(np.min(X_2), np.max(X_2), 200)"
   ]
  },
  {
   "cell_type": "code",
   "execution_count": 33,
   "id": "407c11a6-ce5b-4c19-a642-1da79ae82f92",
   "metadata": {},
   "outputs": [
    {
     "data": {
      "image/png": "[encoded data removed]",
      "text/plain": [
       "<Figure size 640x480 with 1 Axes>"
      ]
     },
     "metadata": {},
     "output_type": "display_data"
    }
   ],
   "source": [
    "fig, ax = plt.subplots()\n",
    "\n",
    "ax.plot(X_0,Y_0,'o', xp0, fun_exp(xp0, coef00[0], coef00[1]))\n",
    "#ax.plot(xp00, p0(xp00), '--') para extrapolar el modelo\n",
    "\n",
    "#ax.plot(X_0,Y_1,'o', xp0, fun_exp(xp0, coef01[0], coef01[1], coef01[2]))\n",
    "#ax.plot(xp00, p1(xp00), '--')\n",
    "\n",
    "#ax.plot(X_0,Y_2,'o', xp0, p2(xp0))\n",
    "#ax.plot(xp00, p2(xp00), '--')\n",
    "\n",
    "\n",
    "#plt.plot(X_1,Y_1,'o', xp1, p1(xp1))\n",
    "#plt.plot(X_2,Y_2,'o', xp2, p2(xp2))\n",
    "\n",
    "#plt.plot(X_0,Y_0,'o')\n",
    "#plt.plot(X_1,Y_1,'o')\n",
    "#plt.plot(X_2,Y_2,'o')\n",
    "\n",
    "#plt.plot(X_0,Y_0)\n",
    "#plt.plot(X_1,Y_1)\n",
    "#plt.plot(X_2,Y_2)\n",
    "\n",
    "\n",
    "\n",
    "#plt.axhline(color=\"grey\")\n",
    "#plt.axvline(color=\"grey\")\n",
    "\n",
    "#plt.ylim([-4.5,4.5])\n",
    "#plt.xlim([0,11])\n",
    "#plt.legend()\n",
    "\n",
    "plt.xlabel(r'V(V)')\n",
    "plt.ylabel(r'r (cm)')\n",
    "plt.title(r'$r(V)$', fontsize=15, math_fontfamily='dejavusans')\n",
    "\n",
    "#plt.text(-0.5e+15, -2, r'$-\\Phi_{Na} / e^-$', fontsize=14, math_fontfamily='dejavusans')\n",
    "#plt.text(-0.5e+15, -3, r'$-\\Phi_{Ca} / e^-$', fontsize=14, math_fontfamily='dejavusans')\n",
    "#plt.text(-0.5e+15, -4, r'$-\\Phi_{Mg} / e^-$', fontsize=14, math_fontfamily='dejavusans')\n",
    "\n",
    "#plt.text(3, 43, r'$\\theta_2$', fontsize=18, math_fontfamily='cm')\n",
    "#plt.text(3, 34, r'$\\theta_1$', fontsize=18, math_fontfamily='cm')\n",
    "#plt.text(-4, 11, r'$\\lambda_0>\\lambda_1>\\lambda_2$', fontsize=18, math_fontfamily='cm')\n",
    "\n",
    "#ax.annotate('Magnesio', xy=(1.5e+15, 2), xytext=(1.8e+15, 2),\n",
    "#arrowprops=dict(facecolor='grey', shrink=0.001),\n",
    "#)\n",
    "\n",
    "#ax.annotate('Calcio', xy=(1.5e+15, 2.9), xytext=(1.8e+15, 2.9),\n",
    "#arrowprops=dict(facecolor='grey', shrink=0.001),\n",
    "#)\n",
    "\n",
    "#ax.annotate('Sodio', xy=(1.5e+15, 3.8), xytext=(1.8e+15, 3.8),\n",
    "#arrowprops=dict(facecolor='grey', shrink=0.001),\n",
    "#)\n",
    "\n",
    "\n",
    "plt.savefig('V(V).pdf')\n",
    "plt.show()\n"
   ]
  },
  {
   "cell_type": "code",
   "execution_count": 35,
   "id": "a9589bef-9c48-4d6a-829c-e46a60422e2d",
   "metadata": {},
   "outputs": [
    {
     "name": "stdout",
     "output_type": "stream",
     "text": [
      "[ 0.39548498 -1.22569358]\n"
     ]
    }
   ],
   "source": [
    "print(coef00)"
   ]
  },
  {
   "cell_type": "code",
   "execution_count": null,
   "id": "3dc2ac9e-446f-4bfb-9f44-e387c1cea1b5",
   "metadata": {},
   "outputs": [],
   "source": [
    "[a, b, c]"
   ]
  },
  {
   "cell_type": "code",
   "execution_count": 18,
   "id": "ee7a10ad-31f8-423c-831d-bbdf5fd03b23",
   "metadata": {},
   "outputs": [
    {
     "name": "stdout",
     "output_type": "stream",
     "text": [
      "[50.19895401  0.69601993 39.56668569] [56.05939725  0.59921582 41.22598951] [47.77282011  0.50013528 37.94803424]\n"
     ]
    }
   ],
   "source": [
    "print(coef01, coef13, coef25)"
   ]
  },
  {
   "cell_type": "code",
   "execution_count": null,
   "id": "1759d59b-4d1b-477b-a3d9-163b44d3b197",
   "metadata": {},
   "outputs": [],
   "source": []
  }
 ],
 "metadata": {
  "kernelspec": {
   "display_name": "Python 3 (ipykernel)",
   "language": "python",
   "name": "python3"
  },
  "language_info": {
   "codemirror_mode": {
    "name": "ipython",
    "version": 3
   },
   "file_extension": ".py",
   "mimetype": "text/x-python",
   "name": "python",
   "nbconvert_exporter": "python",
   "pygments_lexer": "ipython3",
   "version": "3.11.4"
  }
 },
 "nbformat": 4,
 "nbformat_minor": 5
}
