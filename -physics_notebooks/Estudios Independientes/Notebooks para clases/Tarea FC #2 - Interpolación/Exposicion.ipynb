{
 "cells": [
  {
   "cell_type": "code",
   "execution_count": 1,
   "id": "72e61d6f-d790-4912-a4f9-03aeb71e5396",
   "metadata": {},
   "outputs": [],
   "source": [
    "import math as m\n",
    "import numpy as np"
   ]
  },
  {
   "cell_type": "code",
   "execution_count": 3,
   "id": "4d4d4169-784e-4e71-bd69-4395359ec331",
   "metadata": {},
   "outputs": [],
   "source": [
    "lista = [1,2,'h', \"hello\", [1,2,3]]"
   ]
  },
  {
   "cell_type": "code",
   "execution_count": 8,
   "id": "c7f9ac98-2d28-4043-a186-9d416295b2fd",
   "metadata": {},
   "outputs": [],
   "source": [
    "lista1 = [1,2,3]\n",
    "lista2 = [2,3,4]"
   ]
  },
  {
   "cell_type": "code",
   "execution_count": 9,
   "id": "83f74715-0798-42f9-90c2-03d3f262b18d",
   "metadata": {},
   "outputs": [
    {
     "data": {
      "text/plain": [
       "[1, 2, 3, 2, 3, 4]"
      ]
     },
     "execution_count": 9,
     "metadata": {},
     "output_type": "execute_result"
    }
   ],
   "source": [
    "lista1 + lista2"
   ]
  },
  {
   "cell_type": "code",
   "execution_count": 24,
   "id": "abbdbc1a-140d-4ec0-a2bf-5e5170c7ca5f",
   "metadata": {},
   "outputs": [],
   "source": [
    "vector1 = np.array(\n",
    "[4,6,9]\n",
    ")\n",
    "vector2 = np.array(\n",
    "[2,3,4]\n",
    ")\n"
   ]
  },
  {
   "cell_type": "code",
   "execution_count": 25,
   "id": "66d253ac-363f-4551-b72b-fcc841e90987",
   "metadata": {},
   "outputs": [
    {
     "data": {
      "text/plain": [
       "(3,)"
      ]
     },
     "execution_count": 25,
     "metadata": {},
     "output_type": "execute_result"
    }
   ],
   "source": [
    "vector1.shape"
   ]
  },
  {
   "cell_type": "code",
   "execution_count": 26,
   "id": "61911e77-f1d5-4419-bcee-a6f340dca78b",
   "metadata": {},
   "outputs": [
    {
     "data": {
      "text/plain": [
       "4"
      ]
     },
     "execution_count": 26,
     "metadata": {},
     "output_type": "execute_result"
    }
   ],
   "source": [
    "vector1[0]"
   ]
  },
  {
   "cell_type": "markdown",
   "id": "07d2c28c-ef04-4f95-bdf2-a743afa33f0a",
   "metadata": {},
   "source": [
    "$$f(x_0,x_1,x_2,...,x_i) = y$$\n",
    "$$N = n + 1$$"
   ]
  },
  {
   "cell_type": "markdown",
   "id": "12cfb8ae-0582-47d1-aee4-5b6b68ff7e23",
   "metadata": {},
   "source": [
    "$$N > 1$$\n",
    "$$n + 1 > 1$$ \n",
    "$$ n > 0 $$"
   ]
  },
  {
   "cell_type": "code",
   "execution_count": 180,
   "id": "fff7ff5f-48be-43c4-ac8e-8e15e5d4b2be",
   "metadata": {},
   "outputs": [],
   "source": [
    "def Interpolacion(x, y, x_val):\n",
    "    if x.size == y.size:\n",
    "        \n",
    "        n = x.size - 1\n",
    "        N = n + 1\n",
    "        \n",
    "        forma = (N,N)\n",
    "        matriz = np.zeros(forma)\n",
    "        ypos = 0.0\n",
    "        yant = np.zeros((N,1))\n",
    "        termino_x = 1\n",
    "        \n",
    "        linea = \"{}\".format(\"-\" * 36)\n",
    "        columnado = \"{:^12}{:^12}{:^12}\"\n",
    "        \n",
    "        print(linea)\n",
    "        print(\"{:^36}\".format(f\"Cantidad de Puntos: {N}\"))\n",
    "        print(columnado.format(\"i\",\"Xi\",\"Yi\"))\n",
    "        print(linea)\n",
    "        \n",
    "        for i in range(N):\n",
    "            print(columnado.format(i, x[i], y[i]))\n",
    "        print(linea)\n",
    "        print(\"Interpolación para x =\", x_val)\n",
    "                \n",
    "        for i in range(N):\n",
    "            matriz[i,0] = y[i]\n",
    "        \n",
    "        for j in range(1,N):\n",
    "            for i in range(N-j):\n",
    "                matriz[i,j] = (matriz[i+1,j-1]-matriz[i,j-1]) / (x[i+j]-x[i])\n",
    "        \n",
    "        yant[0] = matriz[0,0]\n",
    "        \n",
    "        for n in range(1,N):\n",
    "            termino_x = termino_x*(x_val - x[n-1])\n",
    "            ypos = yant[n-1] + matriz[0,n]*termino_x           \n",
    "            yant[n] = ypos\n",
    "        \n",
    "        print(yant[-1])\n",
    "    else:\n",
    "        print(\"ERROR. NO COINCIDE TAMAÑO DE X y Y\")"
   ]
  },
  {
   "cell_type": "code",
   "execution_count": 182,
   "id": "43ec1b78-1564-4b09-8f59-1b3b582aedaf",
   "metadata": {},
   "outputs": [
    {
     "name": "stdout",
     "output_type": "stream",
     "text": [
      "------------------------------------\n",
      "       Cantidad de Puntos: 4        \n",
      "     i           Xi          Yi     \n",
      "------------------------------------\n",
      "     0           1           1      \n",
      "     1           2           4      \n",
      "     2           3           9      \n",
      "     3           4           16     \n",
      "------------------------------------\n",
      "Interpolación para x = 2.7\n",
      "[7.29]\n"
     ]
    }
   ],
   "source": [
    "Interpolacion(np.array([1,2,3,4]), np.array([1,4,9,16]), 2.7)"
   ]
  },
  {
   "cell_type": "markdown",
   "id": "85fe79e0-c949-48c3-bc58-052ea0a7a0c2",
   "metadata": {},
   "source": [
    "iteracion 0\n",
    "\n",
    "$f(x) = b_0$\n",
    "\n",
    "yant[0] = f_0\n",
    "\n",
    "******\n",
    "iteracion n=1\n",
    "\n",
    "$f(x) = yant[0] + b_1 (x_{val}-x_0)$\n",
    "\n",
    "yant[1] = f_1  \n",
    "\n",
    "******\n",
    "iteracion 2\n",
    "\n",
    "$f(x) = yant[1] + b_2 (x_{val}-x_1)(x_{val}-x_0)$\n",
    "\n",
    "yant[2] = f_2\n",
    "\n",
    "******\n",
    "iteracion 3\n",
    "\n",
    "$f(x) = yant[2] + b_3 (x_{val}-x_2)(x_{val}-x_1)(x_{val}-x_0)$\n",
    "\n",
    "yant[3] = f_3"
   ]
  },
  {
   "cell_type": "code",
   "execution_count": 172,
   "id": "34bac0e3-191e-4fa4-8668-4f781e076623",
   "metadata": {},
   "outputs": [
    {
     "data": {
      "text/plain": [
       "array([[0.],\n",
       "       [0.],\n",
       "       [0.],\n",
       "       [0.]])"
      ]
     },
     "execution_count": 172,
     "metadata": {},
     "output_type": "execute_result"
    }
   ],
   "source": [
    "import numpy as np\n",
    "N = 4\n",
    "yant = np.zeros((N,1))\n",
    "yant"
   ]
  },
  {
   "cell_type": "code",
   "execution_count": null,
   "id": "71d5fe3c-dd03-46b3-ab48-c598f07d6ef5",
   "metadata": {},
   "outputs": [],
   "source": []
  }
 ],
 "metadata": {
  "kernelspec": {
   "display_name": "Python 3 (ipykernel)",
   "language": "python",
   "name": "python3"
  },
  "language_info": {
   "codemirror_mode": {
    "name": "ipython",
    "version": 3
   },
   "file_extension": ".py",
   "mimetype": "text/x-python",
   "name": "python",
   "nbconvert_exporter": "python",
   "pygments_lexer": "ipython3",
   "version": "3.9.6"
  }
 },
 "nbformat": 4,
 "nbformat_minor": 5
}
