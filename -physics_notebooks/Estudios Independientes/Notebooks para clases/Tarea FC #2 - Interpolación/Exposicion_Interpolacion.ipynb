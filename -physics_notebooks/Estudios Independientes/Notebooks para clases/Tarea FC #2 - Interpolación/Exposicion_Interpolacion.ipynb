{
 "cells": [
  {
   "cell_type": "code",
   "execution_count": 1,
   "id": "53716c7a-35a0-4f26-91df-c565aebb14c8",
   "metadata": {},
   "outputs": [],
   "source": [
    "import math as m\n",
    "import numpy as np"
   ]
  },
  {
   "cell_type": "code",
   "execution_count": null,
   "id": "81a89054-cccd-452a-828c-564ee7b751c9",
   "metadata": {},
   "outputs": [],
   "source": [
    "lista1, lista2 = [1,2,3,4], [2,3,4,5]"
   ]
  },
  {
   "cell_type": "code",
   "execution_count": null,
   "id": "a4601709-9c2c-4e77-a8bb-1923834cd023",
   "metadata": {},
   "outputs": [],
   "source": [
    "lista1"
   ]
  },
  {
   "cell_type": "code",
   "execution_count": null,
   "id": "48eeb646-41c8-400c-a9a4-e507292f31a3",
   "metadata": {},
   "outputs": [],
   "source": [
    "lista2"
   ]
  },
  {
   "cell_type": "code",
   "execution_count": null,
   "id": "7085c58b-9209-415d-a9b0-8e8cc0c7faf6",
   "metadata": {},
   "outputs": [],
   "source": [
    "lista1 + lista2"
   ]
  },
  {
   "cell_type": "code",
   "execution_count": 30,
   "id": "74e8ede8-7d14-4389-8c19-6060a719a7fd",
   "metadata": {},
   "outputs": [],
   "source": [
    "vector1 = np.array(\n",
    "    [1,2,3,4]\n",
    ")\n",
    "vector2 = np.array(\n",
    "    [2,3,4,5]\n",
    ")"
   ]
  },
  {
   "cell_type": "markdown",
   "id": "e4688e67-858b-43f7-bb2d-89765ecd4ad3",
   "metadata": {},
   "source": [
    "$$f(x_1, x_2, ..., x_i) = y$$\n",
    "Los datos que son puntos coordenados, tienen la forma:\n",
    "$$(\\underbrace{x}_{abscisas}, \\underbrace{y}_{ordenadas})$$"
   ]
  },
  {
   "cell_type": "code",
   "execution_count": 101,
   "id": "c7c4b1b0-9931-4cd3-bd2c-a845922d365a",
   "metadata": {},
   "outputs": [],
   "source": [
    "def Interpolation(x, y, x_val, epsilon=1e-6):\n",
    "    if x.size == y.size:\n",
    "        \n",
    "        # N = cantidad de datos = n + 1\n",
    "        # n = cantidad de datos - 1\n",
    "        \n",
    "        n = x.size - 1\n",
    "        N = n + 1\n",
    "        \n",
    "        linea = \"{:36}\".format(\"-\" * 36) \n",
    "        columnado = \"{:^12}{:^12}{:^12}\"\n",
    "        \n",
    "        print(linea)\n",
    "        print(\"{:^36}\".format(f'Cantidad de puntos: {N}'))\n",
    "        print(columnado.format(\"i\", \"Xi\", \"Yi\"))\n",
    "        print(linea)\n",
    "        \n",
    "        for i in range(N): \n",
    "            print(columnado.format(i, x[i], y[i]))\n",
    "        print(linea)\n",
    "        \n",
    "        print(\"Interpolación para x =\", x_val)\n",
    "        \n",
    "    else:\n",
    "        \n",
    "        print(\"ERROR. EL TAMAÑO DE LOS VECTORES X E Y, NO COINCIDEN.\")"
   ]
  },
  {
   "cell_type": "code",
   "execution_count": 102,
   "id": "60205ef7-17fb-4f56-ac37-aec612f19177",
   "metadata": {},
   "outputs": [
    {
     "name": "stdout",
     "output_type": "stream",
     "text": [
      "------------------------------------\n",
      "       Cantidad de puntos: 4        \n",
      "     i           Xi          Yi     \n",
      "------------------------------------\n",
      "     0           1           1      \n",
      "     1           2           4      \n",
      "     2           3           9      \n",
      "     3           4           16     \n",
      "------------------------------------\n",
      "Interpolación para x = 2.5\n"
     ]
    }
   ],
   "source": [
    "Interpolation(np.array([1,2,3,4]), np.array([1,4,9,16]), 2.5)"
   ]
  },
  {
   "cell_type": "markdown",
   "id": "ce0c09a2-f5e9-4a35-bd93-ed5154b7e07c",
   "metadata": {},
   "source": [
    "$$N > 1$$\n",
    "$$ n + 1 > 1 $$\n",
    "$$ n > 0 $$"
   ]
  },
  {
   "cell_type": "code",
   "execution_count": null,
   "id": "a4f02567-6e3f-40ff-bdce-1bb035612806",
   "metadata": {},
   "outputs": [],
   "source": []
  }
 ],
 "metadata": {
  "kernelspec": {
   "display_name": "Python 3 (ipykernel)",
   "language": "python",
   "name": "python3"
  },
  "language_info": {
   "codemirror_mode": {
    "name": "ipython",
    "version": 3
   },
   "file_extension": ".py",
   "mimetype": "text/x-python",
   "name": "python",
   "nbconvert_exporter": "python",
   "pygments_lexer": "ipython3",
   "version": "3.9.6"
  }
 },
 "nbformat": 4,
 "nbformat_minor": 5
}
