{
 "cells": [
  {
   "cell_type": "code",
   "execution_count": 2,
   "id": "fe5febb4",
   "metadata": {},
   "outputs": [],
   "source": [
    "import math as m\n",
    "import numpy as np"
   ]
  },
  {
   "cell_type": "code",
   "execution_count": 3,
   "id": "00070a77",
   "metadata": {},
   "outputs": [],
   "source": [
    "def Interpolation(x, y, x_val, epsilon=0.000001):\n",
    "    n = len(x) - 1 \n",
    "    N = n + 1\n",
    "    \n",
    "    #Mostrar información ingresada por el usario\n",
    "    columnado = '{0:^12}{1:^12}{2:^12}'\n",
    "    linea = '{}'.format('-' * 36)\n",
    "    \n",
    "    print(linea)\n",
    "    print('{0:^36}'.format(f\"Cantidad de puntos: {N}\\n\"))\n",
    "    print(columnado.format(\"i\", \"Xi\", \"Yi\"))\n",
    "    print(linea)\n",
    "    \n",
    "    for i in range(N):\n",
    "        print(columnado.format(i, x[i], y[i]))\n",
    "    print(linea)    \n",
    "    \n",
    "    \n",
    "    "
   ]
  },
  {
   "cell_type": "markdown",
   "id": "d49fca31",
   "metadata": {},
   "source": [
    "Realizar interpolación sobre puntos que estén fuera del dominio de los puntos iniciales se denomina **extrapolación del polinomio de interpolación**.\n",
    "Por lo general el error en estos puntos fuera del dominio suelen ser muy grandes. La convergencia no está garantizada en la mayoría de los casos."
   ]
  },
  {
   "cell_type": "code",
   "execution_count": 4,
   "id": "9f118a21",
   "metadata": {},
   "outputs": [
    {
     "name": "stdout",
     "output_type": "stream",
     "text": [
      "------------------------------------\n",
      "       Cantidad de puntos: 6\n",
      "       \n",
      "     i           Xi          Yi     \n",
      "------------------------------------\n",
      "     0           0           0      \n",
      "     1           1           1      \n",
      "     2           2           4      \n",
      "     3           3           9      \n",
      "     4           4           16     \n",
      "     5           5           25     \n",
      "------------------------------------\n"
     ]
    }
   ],
   "source": [
    "Interpolation([0, 1, 2, 3, 4, 5], [0, 1, 4, 9, 16, 25], 50)"
   ]
  },
  {
   "cell_type": "code",
   "execution_count": null,
   "id": "1b2393b1",
   "metadata": {},
   "outputs": [],
   "source": []
  }
 ],
 "metadata": {
  "celltoolbar": "Raw Cell Format",
  "kernelspec": {
   "display_name": "Python 3 (ipykernel)",
   "language": "python",
   "name": "python3"
  },
  "language_info": {
   "codemirror_mode": {
    "name": "ipython",
    "version": 3
   },
   "file_extension": ".py",
   "mimetype": "text/x-python",
   "name": "python",
   "nbconvert_exporter": "python",
   "pygments_lexer": "ipython3",
   "version": "3.11.4"
  }
 },
 "nbformat": 4,
 "nbformat_minor": 5
}
