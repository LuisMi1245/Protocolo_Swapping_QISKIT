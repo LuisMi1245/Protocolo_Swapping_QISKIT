{
 "cells": [
  {
   "cell_type": "markdown",
   "metadata": {},
   "source": [
    "---\n",
    "\n",
    "# Taller: Algoritmo de Interpolación"
   ]
  },
  {
   "cell_type": "markdown",
   "metadata": {},
   "source": [
    "Carolina Álvarez Pereira,  \n",
    "Jesús Manuel Gallego Mercado,  \n",
    "Luis Miguel Patiño Buendía.\n",
    "\n",
    "---"
   ]
  },
  {
   "cell_type": "markdown",
   "metadata": {},
   "source": [
    "Crear un programa que ejecute el método de interpolación de Newton para un conjunto de datos introducidos por el usuario y resolver lo siguiente:\n",
    "\n",
    "1. Estime el logaritmo en base 10 de 10 por medio de interpolación lineal.\n",
    "\n",
    "    1.1. Interpole entre log 8 = 0.9030900 y log 12 = 1.0791812.\n",
    "    \n",
    "    1.2. Interpole entre log 9 = 0.9542425 y log 11 = 1.0413927.\n",
    "\n",
    "Calcule el error relativo porcentual verdadero para cada interpolación. \n",
    "\n",
    "2. Ajuste un polinomio de interpolación de Newton de segundo orden para estimar el log 10, con los datos anteriores en x = 8, 9 y 11. Calcule el error relativo porcentual verdadero.\n",
    "\n",
    "3. Ajuste un polinomio de interpolación de Newton de orden tres con los cuatro puntos dados anteriormente, estime de nuevo el log 10 y calcule el respectivo error relativo porcentual verdadero."
   ]
  },
  {
   "cell_type": "markdown",
   "metadata": {},
   "source": [
    "## Código:"
   ]
  },
  {
   "cell_type": "markdown",
   "metadata": {},
   "source": [
    "1. Establecemos las librerías o módulos de utilidad: "
   ]
  },
  {
   "cell_type": "code",
   "execution_count": 1,
   "metadata": {},
   "outputs": [],
   "source": [
    "import math as mt\n",
    "import numpy as np\n",
    "\n",
    "import matplotlib.pyplot as plt\n",
    "from pylab import mpl\n",
    "%matplotlib inline"
   ]
  },
  {
   "cell_type": "markdown",
   "metadata": {},
   "source": [
    "2. Definimos la subrutina o función\n",
    "Es importante enfatizar en que el ciclo **for i in range(a,b)** en Python van desde **a**, hasta **b-1**, si así se establece. Con lo cual, establecer B = b + 1, y proporcionar al ciclo el intervalo **[a,B]** corrige este detalle.  "
   ]
  },
  {
   "cell_type": "code",
   "execution_count": 2,
   "metadata": {},
   "outputs": [],
   "source": [
    "def newInterpolation(x, y, val_x, epsilon=0e-5):\n",
    "    \n",
    "    #Comprobamos que la cantidad de datos del vector X, es igual al vector Y:\n",
    "    if len(x)==len(y):\n",
    "        \n",
    "        #Establecemos los n grados de interpolación. La función len(x) nos arroja la longitud del arreglo.\n",
    "        \n",
    "        n = len(x) - 1\n",
    "        N = n + 1\n",
    "        \n",
    "        #Imprimimos los vectores X e Y en formato de tabla:\n",
    "      #  print(\"--------------------------------------------\")\n",
    "     #   print(\"Número de puntos:\", N, \"\\n\")\n",
    "     #   print('{:^12}{:^12}{:^12}'.format(\"i\",\"Xi\", \"Yi\"))\n",
    "     #   print(\"--------------------------------------------\")\n",
    "      #  for i in range(0,N):\n",
    "     #       print('{:^12}{:^12}{:^12}'.format(i, x[i], y[i]))\n",
    "      #  print(\"--------------------------------------------\\n\")\n",
    "        \n",
    "        \n",
    "        #Establecemos la forma de las matrices de las diferencias divididas \"fdd\", errores absolutos \"ea\", y los valores de la función para cada grado de interpolación \"yint\".\n",
    "        \n",
    "     #   print(\"--------------------------------------------\")\n",
    "     #   print(\"Interpolación para x =\", val_x, \"\\n\")\n",
    "        fdd = np.zeros((N,N))\n",
    "        ea = np.zeros(N)\n",
    "        yant = np.zeros(N)\n",
    "        ypos = 0.0\n",
    "        xterm = 1.0\n",
    "\n",
    "        #Asignamos al grado 0 de la matriz de las diferencias divididas,\n",
    "        # los valores de Yi proporcionados por el usuario.\n",
    "        for i in range(0,N):\n",
    "            fdd[i,0] = y[i]\n",
    "        \n",
    "        #Calculamos las diferencias divididas para los grados [1,n], y por tanto los\n",
    "        # coeficientes del polinomio de interpolación de Newton, teniendo en cuenta \n",
    "        # el funcionamiento de los ciclos for de Python.\n",
    "        for j in range(1,N):\n",
    "            for i in range(0,N-j):\n",
    "                fdd[i,j] = (fdd[i+1,j-1]-fdd[i,j-1])/(x[i+j] - x[i])\n",
    "        \n",
    "        #Asignamos el primer valor de la función para interpolación de grado 0:\"\n",
    "        yant[0] = fdd[0,0]\n",
    "        \n",
    "        #print(yant)\n",
    "        #print(ypos)\n",
    "        \n",
    "        #Calculamos los términos del polinomio para grados mayores, utilizando\n",
    "        # el valor de evaluación val_x proporcionado por el usuario.\n",
    "        for orden in range(1,N):\n",
    "            xterm = xterm*(val_x - x[orden-1])\n",
    "            ypos = yant[orden-1] + fdd[0,orden]*xterm\n",
    "          #  print(\"hola\",yant[orden-1])\n",
    "            ea[orden-1] = abs(ypos - yant[orden-1])\n",
    "            \n",
    "            #Establecemos un criterio de paro para cierta tolerancia:\n",
    "            if(ea[orden-1] <= epsilon): \n",
    "                break\n",
    "            \n",
    "            yant[orden] = ypos\n",
    "        \n",
    "        #Imprimimos los valores de la función para cada grado de interpolación\n",
    "        # con su error respectivo:\n",
    "        #print('{:^12}{:^12}{:^12}'.format(\"GRADO\",\"F(x)\", \"ERROR\"))\n",
    "        #print(\"--------------------------------------------\")\n",
    "        #for i in range(0,N):\n",
    "        #    print('{:^12}{:^12}{:^12}'.format(i, yant[i], ea[i]))\n",
    "        #print(\"--------------------------------------------\\n\")\n",
    "        \n",
    "        #El valor de la función evaluada en X, obtenido por interpolación es:\n",
    "       # print(\"F\"+\"(\"+str(val_x)+\")\"+\" =\", ypos)\n",
    "        return ypos"
   ]
  },
  {
   "cell_type": "code",
   "execution_count": 3,
   "metadata": {},
   "outputs": [],
   "source": [
    "X=[1,4,6]\n",
    "Y=[0,1.3863,1.7918]\n",
    "xs = np.linspace(np.min(X),np.max(X),1000,endpoint=True)\n",
    "ys=[]\n",
    "\n",
    "for x in xs:\n",
    "    ys.append(newInterpolation(X,Y,x))\n",
    "    \n",
    "X0=[1,4]\n",
    "Y0=[0,1.3863]\n",
    "xs0=np.linspace(np.min(X0),np.max(X0),1000,endpoint=True)\n",
    "ys0=[]\n",
    "\n",
    "for x0 in xs0:\n",
    "    ys0.append(newInterpolation(X0,Y0,x0))\n",
    "    "
   ]
  },
  {
   "cell_type": "code",
   "execution_count": 4,
   "metadata": {},
   "outputs": [
    {
     "data": {
      "image/png": "[encoded data removed]",
      "text/plain": [
       "<Figure size 432x288 with 1 Axes>"
      ]
     },
     "metadata": {
      "needs_background": "light"
     },
     "output_type": "display_data"
    }
   ],
   "source": [
    "#plt.plot(x, y_2, marker='+',color='darkblue',linestyle='-.')\n",
    "\n",
    "plt.title(\"Interpolación de Newton para datos dados\")\n",
    "\n",
    "plt.plot (X0, Y0, 's', label = \"puntos originales grado 1\") #El punto azul representa el valor original\n",
    "plt.plot (xs0, ys0, 'g', label = 'puntos interpolación grado 1') # Curva de interpolación\n",
    "\n",
    "plt.plot (X, Y, 's', label = \"puntos originales grado 2\") #El punto azul representa el valor original\n",
    "plt.plot (xs, ys, 'r', label = 'puntos de interpolación grado 2') # Curva de interpolación\n",
    "\n",
    "plt.xlabel('x')  \n",
    "plt.ylabel('y') \n",
    "plt.legend (loc = 4) # Especifique la posición de la leyenda\n",
    "\n",
    "plt.show()"
   ]
  },
  {
   "cell_type": "code",
   "execution_count": 5,
   "metadata": {},
   "outputs": [
    {
     "data": {
      "text/plain": [
       "1.64092"
      ]
     },
     "execution_count": 5,
     "metadata": {},
     "output_type": "execute_result"
    }
   ],
   "source": [
    "newInterpolation(X,Y, 5, 0e-5)"
   ]
  },
  {
   "cell_type": "markdown",
   "metadata": {},
   "source": [
    "## Solución 1:"
   ]
  },
  {
   "cell_type": "markdown",
   "metadata": {},
   "source": [
    "1.1. Para resolver, evaluamos el método anterior con los datos:"
   ]
  },
  {
   "cell_type": "markdown",
   "metadata": {},
   "source": [
    "\\begin{gather*}\n",
    "x = \\begin{bmatrix}\n",
    "    8\\\\\n",
    "    12\n",
    "    \\end{bmatrix}\\\\\n",
    "    \\quad\n",
    "y = \\begin{bmatrix}\n",
    "    0.9030900\\\\\n",
    "    1.0791812\n",
    "    \\end{bmatrix}\\\\ \n",
    "\\end{gather*}"
   ]
  },
  {
   "cell_type": "markdown",
   "metadata": {},
   "source": [
    "usando como valor de evaluación a $x=10$."
   ]
  },
  {
   "cell_type": "code",
   "execution_count": 6,
   "metadata": {},
   "outputs": [
    {
     "data": {
      "text/plain": [
       "0.9911356"
      ]
     },
     "execution_count": 6,
     "metadata": {},
     "output_type": "execute_result"
    }
   ],
   "source": [
    "newInterpolation((8,12),(0.9030900,1.0791812),10,0e-5)"
   ]
  },
  {
   "cell_type": "markdown",
   "metadata": {},
   "source": [
    "De modo que nuestra aproximación usando la interpolación es: $F(10) = 0.9911356$"
   ]
  },
  {
   "cell_type": "markdown",
   "metadata": {},
   "source": [
    "Y el error relativo porcentual es:"
   ]
  },
  {
   "cell_type": "markdown",
   "metadata": {},
   "source": [
    "\\begin{gather*}\n",
    "    E_r = \\left|\\frac{X-x}{X}\\right|*100\\% = 0.88644 \\%\n",
    "\\end{gather*}"
   ]
  },
  {
   "cell_type": "markdown",
   "metadata": {},
   "source": [
    "1.2. Hacemos lo mismo que antes:"
   ]
  },
  {
   "cell_type": "markdown",
   "metadata": {},
   "source": [
    "\\begin{gather*}\n",
    "x = \\begin{bmatrix}\n",
    "    9\\\\\n",
    "    11\n",
    "    \\end{bmatrix}\\\\\n",
    "    \\quad\n",
    "y = \\begin{bmatrix}\n",
    "    0.9542425\\\\\n",
    "    1.0413927\n",
    "    \\end{bmatrix}\\\\ \n",
    "\\end{gather*}"
   ]
  },
  {
   "cell_type": "code",
   "execution_count": 7,
   "metadata": {},
   "outputs": [
    {
     "data": {
      "text/plain": [
       "0.9978176000000001"
      ]
     },
     "execution_count": 7,
     "metadata": {},
     "output_type": "execute_result"
    }
   ],
   "source": [
    "newInterpolation((9,11),(0.9542425,1.0413927),10,0e-5)"
   ]
  },
  {
   "cell_type": "markdown",
   "metadata": {},
   "source": [
    "De modo que nuestra aproximación en este caso es: $F(10) = 0.9978176000000001$"
   ]
  },
  {
   "cell_type": "markdown",
   "metadata": {},
   "source": [
    "\\begin{gather*}\n",
    "    E_r = 0.21824 \\%\n",
    "\\end{gather*}"
   ]
  },
  {
   "cell_type": "markdown",
   "metadata": {},
   "source": [
    "## Solución 2:"
   ]
  },
  {
   "cell_type": "markdown",
   "metadata": {},
   "source": [
    "Realizamos lo mismo que en el punto anterior para $x=10$, con los siguientes datos:"
   ]
  },
  {
   "cell_type": "markdown",
   "metadata": {},
   "source": [
    "\\begin{gather*}\n",
    "x = \\begin{bmatrix}\n",
    "    8\\\\\n",
    "    9\\\\\n",
    "    11\n",
    "    \\end{bmatrix}\\\\\n",
    "    \\quad\n",
    "y = \\begin{bmatrix}\n",
    "    0.9030900\\\\\n",
    "    0.9542425\\\\\n",
    "    1.0413927\n",
    "    \\end{bmatrix}\\\\ \n",
    "\\end{gather*}"
   ]
  },
  {
   "cell_type": "code",
   "execution_count": 8,
   "metadata": {},
   "outputs": [
    {
     "data": {
      "text/plain": [
       "1.0003434"
      ]
     },
     "execution_count": 8,
     "metadata": {},
     "output_type": "execute_result"
    }
   ],
   "source": [
    "newInterpolation((8,9,11),(0.9030900,0.9542425,1.0413927), 10, 0e-5)"
   ]
  },
  {
   "cell_type": "markdown",
   "metadata": {},
   "source": [
    "De modo que nuestra aproximación en este caso es: $F(10) = 1.0003434$"
   ]
  },
  {
   "cell_type": "markdown",
   "metadata": {},
   "source": [
    "Y el error relativo porcentual es:"
   ]
  },
  {
   "cell_type": "markdown",
   "metadata": {},
   "source": [
    "\\begin{gather*}\n",
    "    E_r =  0.03434\\%\n",
    "\\end{gather*}"
   ]
  },
  {
   "cell_type": "markdown",
   "metadata": {},
   "source": [
    "## Solución 3:"
   ]
  },
  {
   "cell_type": "markdown",
   "metadata": {},
   "source": [
    "Realizamos lo mismo que en el punto anterior para $x=10$, con los siguientes datos:"
   ]
  },
  {
   "cell_type": "markdown",
   "metadata": {},
   "source": [
    "\\begin{gather*}\n",
    "x = \\begin{bmatrix}\n",
    "    8\\\\\n",
    "    9\\\\\n",
    "    11\\\\\n",
    "    12\n",
    "    \\end{bmatrix}\\\\\n",
    "    \\quad\n",
    "y = \\begin{bmatrix}\n",
    "    0.9030900\\\\\n",
    "    0.9542425\\\\\n",
    "    1.0413927\\\\\n",
    "    1.0791812\n",
    "    \\end{bmatrix}\\\\ \n",
    "\\end{gather*}"
   ]
  },
  {
   "cell_type": "code",
   "execution_count": 9,
   "metadata": {},
   "outputs": [
    {
     "data": {
      "text/plain": [
       "1.0000449333333334"
      ]
     },
     "execution_count": 9,
     "metadata": {},
     "output_type": "execute_result"
    }
   ],
   "source": [
    "newInterpolation((8,9,11,12),(0.9030900,0.9542425,1.0413927,1.0791812), 10, 0e-5)"
   ]
  },
  {
   "cell_type": "markdown",
   "metadata": {},
   "source": [
    "De modo que nuestra aproximación en este caso es: $F(10) = 1.0000449333333334$"
   ]
  },
  {
   "cell_type": "markdown",
   "metadata": {},
   "source": [
    "Y el error relativo porcentual es:"
   ]
  },
  {
   "cell_type": "markdown",
   "metadata": {},
   "source": [
    "\\begin{gather*}\n",
    "    E_r =  4.493333333*10^{-3}\\%\n",
    "\\end{gather*}"
   ]
  }
 ],
 "metadata": {
  "kernelspec": {
   "display_name": "Python 3",
   "language": "python",
   "name": "python3"
  },
  "language_info": {
   "codemirror_mode": {
    "name": "ipython",
    "version": 3
   },
   "file_extension": ".py",
   "mimetype": "text/x-python",
   "name": "python",
   "nbconvert_exporter": "python",
   "pygments_lexer": "ipython3",
   "version": "3.8.8"
  }
 },
 "nbformat": 4,
 "nbformat_minor": 4
}
