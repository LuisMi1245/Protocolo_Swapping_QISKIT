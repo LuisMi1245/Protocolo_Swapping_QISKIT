{
 "cells": [
  {
   "cell_type": "code",
   "execution_count": 1,
   "metadata": {
    "ExecuteTime": {
     "end_time": "2023-04-18T06:12:38.370623Z",
     "start_time": "2023-04-18T06:12:37.831347Z"
    }
   },
   "outputs": [
    {
     "name": "stdout",
     "output_type": "stream",
     "text": [
      "IPython console for SymPy 1.11.1 (Python 3.11.2-64-bit) (ground types: python)\n",
      "\n",
      "These commands were executed:\n",
      ">>> from sympy import *\n",
      ">>> x, y, z, t = symbols('x y z t')\n",
      ">>> k, m, n = symbols('k m n', integer=True)\n",
      ">>> f, g, h = symbols('f g h', cls=Function)\n",
      ">>> init_printing()\n",
      "\n",
      "Documentation can be found at https://docs.sympy.org/1.11.1/\n",
      "\n"
     ]
    }
   ],
   "source": [
    "from sympy import init_session\n",
    "init_session()"
   ]
  },
  {
   "cell_type": "code",
   "execution_count": 2,
   "metadata": {
    "ExecuteTime": {
     "end_time": "2023-04-18T06:12:38.573566Z",
     "start_time": "2023-04-18T06:12:38.371456Z"
    }
   },
   "outputs": [],
   "source": [
    "from sympy.physics.quantum.dagger import Dagger"
   ]
  },
  {
   "cell_type": "code",
   "execution_count": 3,
   "metadata": {
    "ExecuteTime": {
     "end_time": "2023-04-18T06:12:38.580256Z",
     "start_time": "2023-04-18T06:12:38.575626Z"
    }
   },
   "outputs": [],
   "source": [
    "A = Matrix([\n",
    "    [1, 0],\n",
    "    [1, 1]\n",
    "])"
   ]
  },
  {
   "cell_type": "code",
   "execution_count": 4,
   "metadata": {
    "ExecuteTime": {
     "end_time": "2023-04-18T06:12:38.585684Z",
     "start_time": "2023-04-18T06:12:38.582091Z"
    }
   },
   "outputs": [],
   "source": [
    "M = Dagger(A)*A"
   ]
  },
  {
   "cell_type": "code",
   "execution_count": 5,
   "metadata": {
    "ExecuteTime": {
     "end_time": "2023-04-18T06:12:38.631348Z",
     "start_time": "2023-04-18T06:12:38.630972Z"
    }
   },
   "outputs": [],
   "source": [
    "eigenvals = M.eigenvals()"
   ]
  },
  {
   "cell_type": "code",
   "execution_count": 6,
   "metadata": {
    "ExecuteTime": {
     "end_time": "2023-04-18T06:12:38.631706Z",
     "start_time": "2023-04-18T06:12:38.631077Z"
    }
   },
   "outputs": [],
   "source": [
    "eigenvecs = M.eigenvects()"
   ]
  },
  {
   "cell_type": "code",
   "execution_count": 7,
   "metadata": {
    "ExecuteTime": {
     "end_time": "2023-04-18T06:12:38.743061Z",
     "start_time": "2023-04-18T06:12:38.631267Z"
    }
   },
   "outputs": [
    {
     "data": {
      "image/png": "[encoded data removed]",
      "text/latex": [
       "$\\displaystyle \\sqrt{\\left(- \\frac{1}{2} + \\frac{\\sqrt{5}}{2}\\right)^{2} + 1}$"
      ],
      "text/plain": [
       "     _________________\n",
       "    ╱           2     \n",
       "   ╱  ⎛  1   √5⎞      \n",
       "  ╱   ⎜- ─ + ──⎟  + 1 \n",
       "╲╱    ⎝  2   2 ⎠      "
      ]
     },
     "execution_count": 7,
     "metadata": {},
     "output_type": "execute_result"
    }
   ],
   "source": [
    "eigenvecs[0][2][0].norm()"
   ]
  },
  {
   "cell_type": "code",
   "execution_count": 10,
   "metadata": {
    "ExecuteTime": {
     "end_time": "2023-04-18T06:12:51.183617Z",
     "start_time": "2023-04-18T06:12:51.174007Z"
    }
   },
   "outputs": [],
   "source": [
    "(eigenvecs[0][2][0]/(eigenvecs[0][2][0].norm())).simplify()"
   ]
  },
  {
   "cell_type": "code",
   "execution_count": null,
   "metadata": {
    "ExecuteTime": {
     "end_time": "2023-04-18T06:12:38.904583Z",
     "start_time": "2023-04-18T06:12:38.903162Z"
    }
   },
   "outputs": [],
   "source": []
  }
 ],
 "metadata": {
  "kernelspec": {
   "display_name": "Python 3 (ipykernel)",
   "language": "python",
   "name": "python3"
  },
  "language_info": {
   "codemirror_mode": {
    "name": "ipython",
    "version": 3
   },
   "file_extension": ".py",
   "mimetype": "text/x-python",
   "name": "python",
   "nbconvert_exporter": "python",
   "pygments_lexer": "ipython3",
   "version": "3.11.2"
  }
 },
 "nbformat": 4,
 "nbformat_minor": 1
}
