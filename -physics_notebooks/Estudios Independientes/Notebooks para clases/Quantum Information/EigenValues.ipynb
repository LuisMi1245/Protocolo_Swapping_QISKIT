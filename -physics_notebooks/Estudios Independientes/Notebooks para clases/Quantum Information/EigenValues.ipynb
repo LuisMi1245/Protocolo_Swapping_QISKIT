{
 "cells": [
  {
   "cell_type": "code",
   "execution_count": 1,
   "metadata": {
    "ExecuteTime": {
     "end_time": "2023-04-18T06:12:38.370623Z",
     "start_time": "2023-04-18T06:12:37.831347Z"
    }
   },
   "outputs": [
    {
     "name": "stdout",
     "output_type": "stream",
     "text": [
      "IPython console for SymPy 1.11.1 (Python 3.11.2-64-bit) (ground types: python)\n",
      "\n",
      "These commands were executed:\n",
      ">>> from sympy import *\n",
      ">>> x, y, z, t = symbols('x y z t')\n",
      ">>> k, m, n = symbols('k m n', integer=True)\n",
      ">>> f, g, h = symbols('f g h', cls=Function)\n",
      ">>> init_printing()\n",
      "\n",
      "Documentation can be found at https://docs.sympy.org/1.11.1/\n",
      "\n"
     ]
    }
   ],
   "source": [
    "from sympy import init_session\n",
    "init_session()"
   ]
  },
  {
   "cell_type": "code",
   "execution_count": 2,
   "metadata": {
    "ExecuteTime": {
     "end_time": "2023-04-18T06:12:38.573566Z",
     "start_time": "2023-04-18T06:12:38.371456Z"
    }
   },
   "outputs": [],
   "source": [
    "from sympy.physics.quantum.dagger import Dagger"
   ]
  },
  {
   "cell_type": "code",
   "execution_count": 3,
   "metadata": {
    "ExecuteTime": {
     "end_time": "2023-04-18T06:12:38.580256Z",
     "start_time": "2023-04-18T06:12:38.575626Z"
    }
   },
   "outputs": [],
   "source": [
    "A = Matrix([\n",
    "    [1, 0],\n",
    "    [1, 1]\n",
    "])"
   ]
  },
  {
   "cell_type": "code",
   "execution_count": 4,
   "metadata": {
    "ExecuteTime": {
     "end_time": "2023-04-18T06:12:38.585684Z",
     "start_time": "2023-04-18T06:12:38.582091Z"
    }
   },
   "outputs": [],
   "source": [
    "M = Dagger(A)*A"
   ]
  },
  {
   "cell_type": "code",
   "execution_count": 5,
   "metadata": {
    "ExecuteTime": {
     "end_time": "2023-04-18T06:12:38.631348Z",
     "start_time": "2023-04-18T06:12:38.630972Z"
    }
   },
   "outputs": [],
   "source": [
    "eigenvals = list(M.eigenvals().keys())"
   ]
  },
  {
   "cell_type": "code",
   "execution_count": 6,
   "metadata": {
    "ExecuteTime": {
     "end_time": "2023-04-18T06:12:38.631706Z",
     "start_time": "2023-04-18T06:12:38.631077Z"
    }
   },
   "outputs": [],
   "source": [
    "eigenvecs = M.eigenvects()"
   ]
  },
  {
   "cell_type": "code",
   "execution_count": 7,
   "metadata": {
    "ExecuteTime": {
     "end_time": "2023-04-18T06:12:38.743061Z",
     "start_time": "2023-04-18T06:12:38.631267Z"
    }
   },
   "outputs": [],
   "source": [
    "norma1 = eigenvecs[0][2][0].norm().factor()\n",
    "l1 = eigenvecs[0][2][0]/norma1"
   ]
  },
  {
   "cell_type": "code",
   "execution_count": 8,
   "metadata": {},
   "outputs": [],
   "source": [
    "norma2 = eigenvecs[1][2][0].norm().factor()\n",
    "l2 = eigenvecs[1][2][0]/norma2"
   ]
  },
  {
   "cell_type": "code",
   "execution_count": 24,
   "metadata": {},
   "outputs": [],
   "source": [
    "J = sqrt(eigenvals[0])*(l1*Dagger(l1)) + sqrt(eigenvals[1])*(l2*Dagger(l2))"
   ]
  },
  {
   "cell_type": "code",
   "execution_count": 25,
   "metadata": {},
   "outputs": [
    {
     "data": {
      "text/latex": [
       "$\\displaystyle \\left[\\begin{matrix}- \\frac{\\sqrt{30 - 10 \\sqrt{5}}}{20} + \\frac{\\sqrt{6 - 2 \\sqrt{5}}}{4} + \\frac{\\sqrt{10 \\sqrt{5} + 30}}{20} + \\frac{\\sqrt{2 \\sqrt{5} + 6}}{4} & \\frac{\\sqrt{10} \\left(- \\sqrt{3 - \\sqrt{5}} + \\sqrt{\\sqrt{5} + 3}\\right)}{10}\\\\\\frac{\\sqrt{10} \\left(- \\sqrt{3 - \\sqrt{5}} + \\sqrt{\\sqrt{5} + 3}\\right)}{10} & \\frac{\\sqrt{2} \\left(\\left(5 - \\sqrt{5}\\right) \\sqrt{\\sqrt{5} + 3} + \\sqrt{3 - \\sqrt{5}} \\left(\\sqrt{5} + 5\\right)\\right)}{\\left(5 - \\sqrt{5}\\right) \\left(\\sqrt{5} + 5\\right)}\\end{matrix}\\right]$"
      ],
      "text/plain": [
       "⎡    ____________     __________     ____________     __________             ⎛\n",
       "⎢  ╲╱ 30 - 10⋅√5    ╲╱ 6 - 2⋅√5    ╲╱ 10⋅√5 + 30    ╲╱ 2⋅√5 + 6          √10⋅⎝\n",
       "⎢- ────────────── + ──────────── + ────────────── + ────────────         ─────\n",
       "⎢        20              4               20              4                    \n",
       "⎢                                                                             \n",
       "⎢                    ⎛    ________     ________⎞                     ⎛        \n",
       "⎢                √10⋅⎝- ╲╱ 3 - √5  + ╲╱ √5 + 3 ⎠                  √2⋅⎝(5 - √5)\n",
       "⎢                ───────────────────────────────                  ────────────\n",
       "⎣                               10                                            \n",
       "\n",
       "    ________     ________⎞        ⎤\n",
       "- ╲╱ 3 - √5  + ╲╱ √5 + 3 ⎠        ⎥\n",
       "──────────────────────────        ⎥\n",
       "          10                      ⎥\n",
       "                                  ⎥\n",
       "   ________     ________         ⎞⎥\n",
       "⋅╲╱ √5 + 3  + ╲╱ 3 - √5 ⋅(√5 + 5)⎠⎥\n",
       "──────────────────────────────────⎥\n",
       "  (5 - √5)⋅(√5 + 5)               ⎦"
      ]
     },
     "execution_count": 25,
     "metadata": {},
     "output_type": "execute_result"
    }
   ],
   "source": [
    "simplify(J)"
   ]
  },
  {
   "cell_type": "code",
   "execution_count": 27,
   "metadata": {},
   "outputs": [
    {
     "data": {
      "text/latex": [
       "$\\displaystyle \\left[\\begin{matrix}\\frac{6 \\sqrt{2}}{- 2 \\sqrt{5} \\sqrt{\\sqrt{5} + 3} + 2 \\sqrt{5} \\sqrt{3 - \\sqrt{5}} + 5 \\sqrt{3 - \\sqrt{5}} + 5 \\sqrt{\\sqrt{5} + 3}} & - \\frac{3 \\sqrt{2}}{- 2 \\sqrt{5} \\sqrt{\\sqrt{5} + 3} + 2 \\sqrt{5} \\sqrt{3 - \\sqrt{5}} + 5 \\sqrt{3 - \\sqrt{5}} + 5 \\sqrt{\\sqrt{5} + 3}}\\\\\\frac{\\sqrt{10} \\left(- \\sqrt{\\sqrt{5} + 3} + \\sqrt{3 - \\sqrt{5}}\\right)}{10} & - \\frac{\\sqrt{30 - 10 \\sqrt{5}}}{20} + \\frac{\\sqrt{6 - 2 \\sqrt{5}}}{4} + \\frac{\\sqrt{10 \\sqrt{5} + 30}}{20} + \\frac{\\sqrt{2 \\sqrt{5} + 6}}{4}\\end{matrix}\\right]$"
      ],
      "text/plain": [
       "⎡                               6⋅√2                                          \n",
       "⎢─────────────────────────────────────────────────────────────────  ──────────\n",
       "⎢         ________          ________       ________       ________           _\n",
       "⎢- 2⋅√5⋅╲╱ √5 + 3  + 2⋅√5⋅╲╱ 3 - √5  + 5⋅╲╱ 3 - √5  + 5⋅╲╱ √5 + 3   - 2⋅√5⋅╲╱ \n",
       "⎢                                                                             \n",
       "⎢                     ⎛    ________     ________⎞                        _____\n",
       "⎢                 √10⋅⎝- ╲╱ √5 + 3  + ╲╱ 3 - √5 ⎠                      ╲╱ 30 -\n",
       "⎢                 ───────────────────────────────                    - ───────\n",
       "⎣                                10                                          2\n",
       "\n",
       "                    -3⋅√2                              ⎤\n",
       "───────────────────────────────────────────────────────⎥\n",
       "_______          ________       ________       ________⎥\n",
       "√5 + 3  + 2⋅√5⋅╲╱ 3 - √5  + 5⋅╲╱ 3 - √5  + 5⋅╲╱ √5 + 3 ⎥\n",
       "                                                       ⎥\n",
       "_______     __________     ____________     __________ ⎥\n",
       " 10⋅√5    ╲╱ 6 - 2⋅√5    ╲╱ 10⋅√5 + 30    ╲╱ 2⋅√5 + 6  ⎥\n",
       "─────── + ──────────── + ────────────── + ──────────── ⎥\n",
       "0              4               20              4       ⎦"
      ]
     },
     "execution_count": 27,
     "metadata": {},
     "output_type": "execute_result"
    }
   ],
   "source": [
    "simplify(J**(-1))"
   ]
  },
  {
   "cell_type": "code",
   "execution_count": null,
   "metadata": {},
   "outputs": [],
   "source": []
  }
 ],
 "metadata": {
  "kernelspec": {
   "display_name": "Python 3 (ipykernel)",
   "language": "python",
   "name": "python3"
  },
  "language_info": {
   "codemirror_mode": {
    "name": "ipython",
    "version": 3
   },
   "file_extension": ".py",
   "mimetype": "text/x-python",
   "name": "python",
   "nbconvert_exporter": "python",
   "pygments_lexer": "ipython3",
   "version": "3.11.2"
  }
 },
 "nbformat": 4,
 "nbformat_minor": 1
}
