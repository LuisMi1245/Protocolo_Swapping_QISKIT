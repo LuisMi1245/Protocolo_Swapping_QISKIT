{
 "metadata": {
  "language_info": {
   "codemirror_mode": {
    "name": "ipython",
    "version": 3
   },
   "file_extension": ".py",
   "mimetype": "text/x-python",
   "name": "python",
   "nbconvert_exporter": "python",
   "pygments_lexer": "ipython3",
   "version": "3.8.5"
  },
  "orig_nbformat": 2,
  "kernelspec": {
   "name": "python385jvsc74a57bd0ae8f55a4bd6c470c79f45b0db397696c8755b331e6f4cafc78a206a5d524def1",
   "display_name": "Python 3.8.5 64-bit ('base': conda)"
  }
 },
 "nbformat": 4,
 "nbformat_minor": 2,
 "cells": [
  {
   "cell_type": "code",
   "execution_count": 1,
   "metadata": {},
   "outputs": [
    {
     "output_type": "stream",
     "name": "stdout",
     "text": [
      "448.49491608663277 2318319\n"
     ]
    }
   ],
   "source": [
    "# Algoritmo Posicion Falsa para raices\n",
    "# busca en intervalo [a,b]\n",
    "import numpy as np\n",
    "\n",
    "# INGRESO\n",
    "fx = lambda x: (1/9)+(225**2)*((6/10)*(10**(-6))*x - ((1/2)*x)**(-1))**2 - 1\n",
    "\n",
    "a = 1\n",
    "b = 1000\n",
    "tolera = 0.000000000001\n",
    "n=0\n",
    "# PROCEDIMIENTO\n",
    "tramo = abs(b-a)\n",
    "while not(tramo<=tolera):\n",
    "    n=n+1\n",
    "    fa = fx(a)\n",
    "    fb = fx(b)\n",
    "    c = b - fb*(a-b)/(fa-fb)\n",
    "    fc = fx(c)\n",
    "    cambia = np.sign(fa)*np.sign(fc)\n",
    "    if (cambia > 0):\n",
    "        tramo = abs(c-a)\n",
    "        a = c\n",
    "    else:\n",
    "        tramo = abs(b-c)\n",
    "        b = c\n",
    "raiz = c\n",
    "\n",
    "# SALIDA\n",
    "print(raiz, n)"
   ]
  },
  {
   "cell_type": "code",
   "execution_count": null,
   "metadata": {},
   "outputs": [],
   "source": []
  }
 ]
}