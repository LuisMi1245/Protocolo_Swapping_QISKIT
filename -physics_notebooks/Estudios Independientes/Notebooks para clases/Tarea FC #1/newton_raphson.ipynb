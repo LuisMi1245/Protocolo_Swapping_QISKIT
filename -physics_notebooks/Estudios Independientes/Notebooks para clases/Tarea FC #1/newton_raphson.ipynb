{
 "metadata": {
  "language_info": {
   "codemirror_mode": {
    "name": "ipython",
    "version": 3
   },
   "file_extension": ".py",
   "mimetype": "text/x-python",
   "name": "python",
   "nbconvert_exporter": "python",
   "pygments_lexer": "ipython3",
   "version": "3.8.5"
  },
  "orig_nbformat": 2,
  "kernelspec": {
   "name": "python385jvsc74a57bd0ae8f55a4bd6c470c79f45b0db397696c8755b331e6f4cafc78a206a5d524def1",
   "display_name": "Python 3.8.5 64-bit ('base': conda)"
  }
 },
 "nbformat": 4,
 "nbformat_minor": 2,
 "cells": [
  {
   "cell_type": "code",
   "execution_count": 4,
   "metadata": {},
   "outputs": [],
   "source": [
    "def newton(f,Df,x0,epsilon,max_iter):\n",
    "\n",
    "    xn = x0\n",
    "    for n in range(0,max_iter):\n",
    "        fxn = f(xn)\n",
    "        if abs(fxn) < epsilon:\n",
    "            print('Found solution after',n,'iterations.')\n",
    "            return xn\n",
    "        Dfxn = Df(xn)\n",
    "        if Dfxn == 0:\n",
    "            print('Zero derivative. No solution found.')\n",
    "            return None\n",
    "        xn = xn - fxn/Dfxn\n",
    "    print('Exceeded maximum iterations. No solution found.')\n",
    "    return None"
   ]
  },
  {
   "cell_type": "code",
   "execution_count": 1,
   "metadata": {},
   "outputs": [],
   "source": [
    "f = lambda x: x**2 - x - 1"
   ]
  },
  {
   "cell_type": "code",
   "execution_count": 2,
   "metadata": {},
   "outputs": [],
   "source": [
    "Df = lambda x: 2*x - 1"
   ]
  },
  {
   "cell_type": "code",
   "execution_count": 5,
   "metadata": {},
   "outputs": [
    {
     "output_type": "stream",
     "name": "stdout",
     "text": [
      "Found solution after 6 iterations.\n"
     ]
    },
    {
     "output_type": "execute_result",
     "data": {
      "text/plain": [
       "1.6180339987601975"
      ]
     },
     "metadata": {},
     "execution_count": 5
    }
   ],
   "source": [
    "newton(f, Df, 8, 0.0001,10)"
   ]
  },
  {
   "cell_type": "code",
   "execution_count": null,
   "metadata": {},
   "outputs": [],
   "source": [
    " '''Approximate solution of f(x)=0 by Newton's method.\n",
    "\n",
    "    Parámetros\n",
    "    ----------\n",
    "    f: función\n",
    "         Función para la que buscamos una solución f (x) = 0.\n",
    "    Df: función\n",
    "         Derivada de f (x).\n",
    "    x0: número\n",
    "         Estimación inicial para una solución f (x) = 0.\n",
    "    épsilon: número\n",
    "         El criterio de detención es abs (f (x)) <épsilon.\n",
    "    max_iter: entero\n",
    "         Número máximo de iteraciones del método de Newton.\n",
    "\n",
    "    Valores que se re '''Approximate solution of f(x)=0 by Newton's method.\n",
    "\n",
    "    Parámetros\n",
    "    ----------\n",
    "    f: función\n",
    "         Función para la que buscamos una solución f (x) = 0.\n",
    "    Df: función\n",
    "         Derivada de f (x).\n",
    "    x0: número\n",
    "         Estimación inicial para una solución f (x) = 0.\n",
    "    épsilon: número\n",
    "         El criterio de detención es abs (f (x)) <épsilon.\n",
    "    max_iter: entero\n",
    "         Número máximo de iteraciones del método de Newton.\n",
    "\n",
    "    Valores que se retornan o devuelven al usuario\n",
    "     -------\n",
    "    xn: número\n",
    "        Implementar el método de Newton: calcular la aproximación lineal\n",
    "        de f(x) en xn y encuentre x el intercepto por la fórmula\n",
    "            x = xn - f (xn) / Df (xn)\n",
    "        Continúe hasta abs(f(xn)) < épsilon y devuelva xn.\n",
    "        Si Df(xn) == 0, devuelve Ninguno. Si el número de iteraciones\n",
    "        excede max_iter, luego devuelve None.\n",
    "\n",
    "    Ejemplos usando la consola de Python\n",
    "    --------\n",
    "    >>> f = lambda x: x**2 - x - 1\n",
    "    >>> Df = lambda x: 2*x - 1\n",
    "    >>> newton(f,Df,1,1e-8,10)\n",
    "    Encontró solución después de 5 iteraciones.\n",
    "    1.618033988749989\n",
    "    '''tornan o devuelven al usuario\n",
    "     -------\n",
    "    xn: número\n",
    "        Implementar el método de Newton: calcular la aproximación lineal\n",
    "        de f(x) en xn y encuentre x el intercepto por la fórmula\n",
    "            x = xn - f (xn) / Df (xn)\n",
    "        Continúe hasta abs(f(xn)) < épsilon y devuelva xn.\n",
    "        Si Df(xn) == 0, devuelve Ninguno. Si el número de iteraciones\n",
    "        excede max_iter, luego devuelve None.\n",
    "\n",
    "    Ejemplos usando la consola de Python\n",
    "    --------\n",
    "    >>> f = lambda x: x**2 - x - 1\n",
    "    >>> Df = lambda x: 2*x - 1\n",
    "    >>> newton(f,Df,1,1e-8,10)\n",
    "    Encontró solución después de 5 iteraciones.\n",
    "    1.618033988749989\n",
    "    '''"
   ]
  }
 ]
}