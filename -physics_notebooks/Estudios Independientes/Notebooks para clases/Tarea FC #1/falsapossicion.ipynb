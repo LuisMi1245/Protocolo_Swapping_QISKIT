{
 "metadata": {
  "language_info": {
   "codemirror_mode": {
    "name": "ipython",
    "version": 3
   },
   "file_extension": ".py",
   "mimetype": "text/x-python",
   "name": "python",
   "nbconvert_exporter": "python",
   "pygments_lexer": "ipython3",
   "version": "3.8.5"
  },
  "orig_nbformat": 2,
  "kernelspec": {
   "name": "python385jvsc74a57bd0ae8f55a4bd6c470c79f45b0db397696c8755b331e6f4cafc78a206a5d524def1",
   "display_name": "Python 3.8.5 64-bit ('base': conda)"
  }
 },
 "nbformat": 4,
 "nbformat_minor": 2,
 "cells": [
  {
   "cell_type": "code",
   "execution_count": null,
   "metadata": {},
   "outputs": [],
   "source": [
    "def bisection(f,a,b,N):\n",
    "    if f(a)*f(b) >= 0:\n",
    "            print(\"Bisection method fails.\")\n",
    "            return None\n",
    "    print(\"Paso #1: Se valida el intervalo.\")\n",
    "    print(\"x1 = \", b)\n",
    "    print(\"x0 = \", a)\n",
    "    print(\"f(x1)*f(x0) >= 0;\",f(a)*f(b),\" >= 0; La raíz se encuentra en el intervalo.\\n\\n\")\n",
    "    a_n = a\n",
    "    b_n = b\n",
    "    for n in range(1,N+1):\n",
    "        m_n = b_n - f(b_n)*(a_n-b_n)/(f(a_n)-f(b_n))\n",
    "        print(\"Iteración n =\",n, \"\\n\")\n",
    "        print(\"Paso #2: Se aproxima la raíz.\")\n",
    "        print(\"La raíz aproximada anterior es: x_r = x1 - [f(x1)(x0 - x1))]/[f(x0) - f(x1)];\", \" x_r =\",m_n, \"\\n\")\n",
    "        print(\"Paso #3: Se halla nuevo intervalo.\")\n",
    "        f_m_n = f(m_n)\n",
    "        print(\"f(x_r) = \", f_m_n)\n",
    "        if f(a_n)*f_m_n < 0:\n",
    "            print(\"f(x0) = \",f(a_n))\n",
    "            print(\"f(x0)*f(x_r) < 0; entonces: x0 = x_r\\n\\n\")            \n",
    "            b_n = m_n\n",
    "        elif f(a_n)*f_m_n > 0:\n",
    "            print(\"f(x1) = \",f(b_n))\n",
    "            print(\"f(x1)*f(x_r) < 0; entonces: x1 = x_r\\n\\n\")\n",
    "            a_n = m_n\n",
    "        elif f_m_n == 0:\n",
    "            print(\"f(x_{0,1})*f(x_r) = 0; entonces: raíz = x_r\")\n",
    "            print(\"Se encontró solución exacta.\\n\\n\")\n",
    "            return m_n\n",
    "        else:\n",
    "            print(\"El método de la bisección falló.\")\n",
    "            return None\n",
    "    print(\"Límite de iteraciones. La raíz encontrada es: \", b_n - f(b_n)*(a_n-b_n)/(f(a_n)-f(b_n)))\n",
    "    return b_n - f(b_n)*(a_n-b_n)/(f(a_n)-f(b_n))"
   ]
  },
  {
   "cell_type": "code",
   "execution_count": null,
   "metadata": {},
   "outputs": [],
   "source": [
    "f = lambda x: (1/9)+(225**2)*((6/10)*(10**(-6))*x - ((1/2)*x)**(-1))**2 - 1"
   ]
  },
  {
   "cell_type": "code",
   "execution_count": null,
   "metadata": {},
   "outputs": [],
   "source": [
    "bisection(f,1,1000,20000000)"
   ]
  },
  {
   "cell_type": "code",
   "execution_count": null,
   "metadata": {},
   "outputs": [],
   "source": []
  }
 ]
}