{
 "cells": [
  {
   "cell_type": "code",
   "execution_count": 1,
   "id": "c959e166-3ae4-4ece-9cc2-ccf944044c88",
   "metadata": {},
   "outputs": [
    {
     "name": "stdout",
     "output_type": "stream",
     "text": [
      "<class 'csv.DictReader'>\n",
      "['Number', 'Year', 'Album', 'Artist', 'Genre', 'Subgenre']\n"
     ]
    }
   ],
   "source": [
    "import csv\n",
    "\n",
    "with open(\"albumlist.csv\", \"r\") as csvfile:\n",
    "    reader = csv.DictReader(csvfile)\n",
    "    print(type(reader))\n",
    "    print(reader.fieldnames)"
   ]
  },
  {
   "cell_type": "code",
   "execution_count": 2,
   "id": "0cf3512b-f1bd-43f0-8650-e7f4a5941891",
   "metadata": {
    "tags": []
   },
   "outputs": [],
   "source": [
    "#with open(\"albumlist.csv\", \"r\") as csvfile:\n",
    "#    reader = csv.DictReader(csvfile)\n",
    "#    \n",
    "#    for row in reader:\n",
    "#        print(row)"
   ]
  },
  {
   "cell_type": "code",
   "execution_count": 3,
   "id": "b2200838-8825-4639-9fcf-cf11cf3473b2",
   "metadata": {
    "collapsed": true,
    "jupyter": {
     "outputs_hidden": true
    },
    "tags": []
   },
   "outputs": [
    {
     "name": "stdout",
     "output_type": "stream",
     "text": [
      "{'Number': '1', 'Year': '1967', 'Album': \"Sgt. Pepper's Lonely Hearts Club Band\", 'Artist': 'The Beatles', 'Genre': 'Rock', 'Subgenre': 'Rock & Roll, Psychedelic Rock'}\n",
      "{'Number': '2', 'Year': '1966', 'Album': 'Pet Sounds', 'Artist': 'The Beach Boys', 'Genre': 'Rock', 'Subgenre': 'Pop Rock, Psychedelic Rock'}\n",
      "{'Number': '3', 'Year': '1966', 'Album': 'Revolver', 'Artist': 'The Beatles', 'Genre': 'Rock', 'Subgenre': 'Psychedelic Rock, Pop Rock'}\n",
      "{'Number': '4', 'Year': '1965', 'Album': 'Highway 61 Revisited', 'Artist': 'Bob Dylan', 'Genre': 'Rock', 'Subgenre': 'Folk Rock, Blues Rock'}\n",
      "{'Number': '5', 'Year': '1965', 'Album': 'Rubber Soul', 'Artist': 'The Beatles', 'Genre': 'Rock, Pop', 'Subgenre': 'Pop Rock'}\n",
      "{'Number': '6', 'Year': '1971', 'Album': \"What's Going On\", 'Artist': 'Marvin Gaye', 'Genre': 'Funk / Soul', 'Subgenre': 'Soul'}\n",
      "{'Number': '7', 'Year': '1972', 'Album': 'Exile on Main St.', 'Artist': 'The Rolling Stones', 'Genre': 'Rock', 'Subgenre': 'Blues Rock, Rock & Roll, Classic Rock'}\n",
      "{'Number': '8', 'Year': '1979', 'Album': 'London Calling', 'Artist': 'The Clash', 'Genre': 'Rock', 'Subgenre': 'Punk, New Wave'}\n",
      "{'Number': '9', 'Year': '1966', 'Album': 'Blonde on Blonde', 'Artist': 'Bob Dylan', 'Genre': 'Rock, Blues', 'Subgenre': 'Folk Rock, Rhythm & Blues'}\n",
      "{'Number': '10', 'Year': '1968', 'Album': 'The Beatles (\"The White Album\")', 'Artist': 'The Beatles', 'Genre': 'Rock', 'Subgenre': 'Rock & Roll, Pop Rock, Psychedelic Rock, Experimental'}\n",
      "{'Number': '11', 'Year': '1976', 'Album': 'The Sun Sessions', 'Artist': 'Elvis Presley', 'Genre': 'Rock', 'Subgenre': 'Rock & Roll'}\n",
      "{'Number': '12', 'Year': '1959', 'Album': 'Kind of Blue', 'Artist': 'Miles Davis', 'Genre': 'Jazz', 'Subgenre': 'Modal'}\n",
      "{'Number': '13', 'Year': '1967', 'Album': 'The Velvet Underground & Nico', 'Artist': 'The Velvet Underground', 'Genre': 'Rock', 'Subgenre': 'Garage Rock, Art Rock, Experimental'}\n",
      "{'Number': '14', 'Year': '1969', 'Album': 'Abbey Road', 'Artist': 'The Beatles', 'Genre': 'Rock', 'Subgenre': 'Psychedelic Rock, Classic Rock, Pop Rock'}\n",
      "{'Number': '15', 'Year': '1967', 'Album': 'Are You Experienced', 'Artist': 'The Jimi Hendrix Experience', 'Genre': 'Rock, Blues', 'Subgenre': 'Blues Rock, Psychedelic Rock'}\n",
      "{'Number': '16', 'Year': '1975', 'Album': 'Blood on the Tracks', 'Artist': 'Bob Dylan', 'Genre': 'Rock', 'Subgenre': 'Folk Rock, Acoustic, Ballad'}\n",
      "{'Number': '17', 'Year': '1991', 'Album': 'Nevermind', 'Artist': 'Nirvana', 'Genre': 'Rock', 'Subgenre': 'Alternative Rock, Grunge'}\n",
      "{'Number': '18', 'Year': '1975', 'Album': 'Born to Run', 'Artist': 'Bruce Springsteen', 'Genre': 'Rock', 'Subgenre': 'Pop Rock'}\n",
      "{'Number': '19', 'Year': '1968', 'Album': 'Astral Weeks', 'Artist': 'Van Morrison', 'Genre': 'Jazz, Rock, Blues, Folk, World, & Country', 'Subgenre': 'Acoustic, Classic Rock, Free Improvisation'}\n",
      "{'Number': '20', 'Year': '1982', 'Album': 'Thriller', 'Artist': 'Michael Jackson', 'Genre': 'Funk / Soul, Pop', 'Subgenre': 'Disco'}\n",
      "{'Number': '21', 'Year': '1982', 'Album': 'The Great Twenty_Eight', 'Artist': 'Chuck Berry', 'Genre': 'Rock', 'Subgenre': 'Rock & Roll'}\n",
      "{'Number': '22', 'Year': '1990', 'Album': 'The Complete Recordings', 'Artist': 'Robert Johnson', 'Genre': 'Blues', 'Subgenre': 'Delta Blues'}\n",
      "{'Number': '23', 'Year': '1970', 'Album': 'John Lennon/Plastic Ono Band', 'Artist': 'John Lennon / Plastic Ono Band', 'Genre': 'Rock', 'Subgenre': 'Pop Rock'}\n",
      "{'Number': '24', 'Year': '1973', 'Album': 'Innervisions', 'Artist': 'Stevie Wonder', 'Genre': 'Funk / Soul', 'Subgenre': 'Soul'}\n",
      "{'Number': '25', 'Year': '1963', 'Album': 'Live at the Apollo, 1962', 'Artist': 'James Brown', 'Genre': 'Funk / Soul', 'Subgenre': 'Rhythm & Blues, Soul'}\n",
      "{'Number': '26', 'Year': '1977', 'Album': 'Rumours', 'Artist': 'Fleetwood Mac', 'Genre': 'Rock', 'Subgenre': 'Pop Rock'}\n",
      "{'Number': '27', 'Year': '1987', 'Album': 'The Joshua Tree', 'Artist': 'U2', 'Genre': 'Rock', 'Subgenre': 'Alternative Rock, Pop Rock'}\n",
      "{'Number': '28', 'Year': '1971', 'Album': \"Who's Next\", 'Artist': 'The Who', 'Genre': 'Rock', 'Subgenre': 'Hard Rock, Mod, Prog Rock, Psychedelic Rock'}\n",
      "{'Number': '29', 'Year': '1969', 'Album': 'Led Zeppelin', 'Artist': 'Led Zeppelin', 'Genre': 'Rock', 'Subgenre': 'Blues Rock, Hard Rock'}\n",
      "{'Number': '30', 'Year': '1971', 'Album': 'Blue', 'Artist': 'Joni Mitchell', 'Genre': 'Pop', 'Subgenre': 'Acoustic, Ballad, Folk'}\n",
      "{'Number': '31', 'Year': '1965', 'Album': 'Bringing It All Back Home', 'Artist': 'Bob Dylan', 'Genre': 'Rock, Folk, World, & Country', 'Subgenre': 'Folk Rock, Folk'}\n",
      "{'Number': '32', 'Year': '1969', 'Album': 'Let It Bleed', 'Artist': 'The Rolling Stones', 'Genre': 'Rock', 'Subgenre': 'Blues Rock, Hard Rock'}\n",
      "{'Number': '33', 'Year': '1976', 'Album': 'Ramones', 'Artist': 'Ramones', 'Genre': 'Rock', 'Subgenre': 'Rock & Roll, Punk'}\n",
      "{'Number': '34', 'Year': '1968', 'Album': 'Music From Big Pink', 'Artist': 'The Band', 'Genre': 'Rock', 'Subgenre': 'Folk Rock, Acoustic, Blues Rock'}\n",
      "{'Number': '35', 'Year': '1972', 'Album': 'The Rise and Fall of Ziggy Stardust and the Spiders From Mars', 'Artist': 'David Bowie', 'Genre': 'Rock', 'Subgenre': 'Classic Rock, Glam'}\n",
      "{'Number': '36', 'Year': '1971', 'Album': 'Tapestry', 'Artist': 'Carole King', 'Genre': 'Rock, Pop', 'Subgenre': 'Folk Rock, Soft Rock'}\n",
      "{'Number': '37', 'Year': '1976', 'Album': 'Hotel California', 'Artist': 'Eagles', 'Genre': 'Rock', 'Subgenre': 'Classic Rock'}\n",
      "{'Number': '38', 'Year': '2001', 'Album': 'The Anthology', 'Artist': 'Muddy Waters', 'Genre': 'Folk, World, & Country', 'Subgenre': 'Folk'}\n",
      "{'Number': '39', 'Year': '1963', 'Album': 'Please Please Me', 'Artist': 'The Beatles', 'Genre': 'Rock', 'Subgenre': 'Beat, Rock & Roll'}\n",
      "{'Number': '40', 'Year': '1967', 'Album': 'Forever Changes', 'Artist': 'Love', 'Genre': 'Rock', 'Subgenre': 'Folk Rock, Psychedelic Rock'}\n",
      "{'Number': '41', 'Year': '1977', 'Album': \"Never Mind the Bollocks Here's the Sex Pistols\", 'Artist': 'Sex Pistols', 'Genre': 'Rock', 'Subgenre': 'Punk'}\n",
      "{'Number': '42', 'Year': '1967', 'Album': 'The Doors', 'Artist': 'The Doors', 'Genre': 'Rock', 'Subgenre': 'Psychedelic Rock'}\n",
      "{'Number': '43', 'Year': '1973', 'Album': 'The Dark Side of the Moon', 'Artist': 'Pink Floyd', 'Genre': 'Rock', 'Subgenre': 'Prog Rock'}\n",
      "{'Number': '44', 'Year': '1975', 'Album': 'Horses', 'Artist': 'Patti Smith', 'Genre': 'Rock', 'Subgenre': 'Art Rock'}\n",
      "{'Number': '45', 'Year': '1969', 'Album': 'The Band (\"The Brown Album\")', 'Artist': 'The Band', 'Genre': 'Classical, Stage & Screen', 'Subgenre': 'Soundtrack, Modern Classical, Contemporary, Score'}\n",
      "{'Number': '46', 'Year': '1984', 'Album': 'Legend: The Best of Bob Marley and The Wailers', 'Artist': 'Bob Marley & The Wailers', 'Genre': 'Reggae', 'Subgenre': 'Reggae, Roots Reggae'}\n",
      "{'Number': '47', 'Year': '1965', 'Album': 'A Love Supreme', 'Artist': 'John Coltrane', 'Genre': 'Jazz', 'Subgenre': 'Free Jazz, Hard Bop, Modal'}\n",
      "{'Number': '48', 'Year': '1988', 'Album': 'It Takes a Nation of Millions to Hold Us Back', 'Artist': 'Public Enemy', 'Genre': 'Hip Hop', 'Subgenre': 'Conscious'}\n",
      "{'Number': '49', 'Year': '1971', 'Album': 'At Fillmore East', 'Artist': 'The Allman Brothers Band', 'Genre': 'Rock, Blues', 'Subgenre': 'Blues Rock'}\n",
      "{'Number': '50', 'Year': '1957', 'Album': \"Here's Little Richard\", 'Artist': 'Little Richard', 'Genre': 'Rock, Blues', 'Subgenre': 'Rock & Roll, Rhythm & Blues'}\n",
      "{'Number': '51', 'Year': '1970', 'Album': 'Bridge Over Troubled Water', 'Artist': 'Simon & Garfunkel', 'Genre': 'Rock', 'Subgenre': 'Folk Rock, Classic Rock'}\n",
      "{'Number': '52', 'Year': '1975', 'Album': 'Greatest Hits', 'Artist': 'Al Green', 'Genre': 'Funk / Soul', 'Subgenre': 'Soul'}\n",
      "{'Number': '53', 'Year': '1964', 'Album': 'Meet The Beatles!', 'Artist': 'The Beatles', 'Genre': 'Rock', 'Subgenre': 'Beat, Rock & Roll'}\n",
      "{'Number': '54', 'Year': '1991', 'Album': 'The Birth of Soul', 'Artist': 'Ray Charles', 'Genre': 'Jazz, Funk / Soul', 'Subgenre': 'Rhythm & Blues, Big Band, Soul, Soul-Jazz'}\n",
      "{'Number': '55', 'Year': '1968', 'Album': 'Electric Ladyland', 'Artist': 'The Jimi Hendrix Experience', 'Genre': 'Rock, Blues', 'Subgenre': 'Electric Blues, Psychedelic Rock'}\n",
      "{'Number': '56', 'Year': '1956', 'Album': 'Elvis Presley', 'Artist': 'Elvis Presley', 'Genre': 'Rock', 'Subgenre': 'Rock & Roll, Rockabilly'}\n",
      "{'Number': '57', 'Year': '1976', 'Album': 'Songs in the Key of Life', 'Artist': 'Stevie Wonder', 'Genre': 'Funk / Soul', 'Subgenre': 'Soul, Disco'}\n",
      "{'Number': '58', 'Year': '1968', 'Album': 'Beggars Banquet', 'Artist': 'The Rolling Stones', 'Genre': 'Rock, Funk / Soul, Pop', 'Subgenre': 'Blues Rock, Southern Rock, Classic Rock'}\n",
      "{'Number': '59', 'Year': '1976', 'Album': 'Chronicle: The 20 Greatest Hits', 'Artist': 'Creedence Clearwater Revival', 'Genre': 'Rock', 'Subgenre': 'None'}\n",
      "{'Number': '60', 'Year': '1969', 'Album': 'Trout Mask Replica', 'Artist': 'Captain Beefheart & His Magic Band', 'Genre': 'Rock, Blues', 'Subgenre': 'Dialogue, Field Recording, Avantgarde, Electric Blues, Psychedelic Rock, Experimental'}\n",
      "{'Number': '61', 'Year': '1970', 'Album': 'Greatest Hits', 'Artist': 'Sly & The Family Stone', 'Genre': 'Funk / Soul', 'Subgenre': 'Rhythm & Blues, Funk'}\n",
      "{'Number': '62', 'Year': '1987', 'Album': 'Appetite for Destruction', 'Artist': \"Guns N' Roses\", 'Genre': 'Rock', 'Subgenre': 'Hard Rock, Heavy Metal'}\n",
      "{'Number': '63', 'Year': '1991', 'Album': 'Achtung Baby', 'Artist': 'U2', 'Genre': 'Electronic, Rock', 'Subgenre': 'Pop Rock, Synth-pop, Alternative Rock, Arena Rock'}\n",
      "{'Number': '64', 'Year': '1971', 'Album': 'Sticky Fingers', 'Artist': 'The Rolling Stones', 'Genre': 'Rock', 'Subgenre': 'Classic Rock'}\n",
      "{'Number': '65', 'Year': '1991', 'Album': 'Back to Mono (1958-1969)', 'Artist': 'Phil Spector', 'Genre': 'Rock, Funk / Soul, Pop', 'Subgenre': 'Doo Wop, Pop Rock, Ballad, Rhythm & Blues'}\n",
      "{'Number': '66', 'Year': '1970', 'Album': 'Moondance', 'Artist': 'Van Morrison', 'Genre': 'Jazz, Rock, Funk / Soul, Folk, World, & Country', 'Subgenre': 'Folk Rock, Rhythm & Blues, Classic Rock, Contemporary Jazz'}\n",
      "{'Number': '67', 'Year': '2000', 'Album': 'Kid A', 'Artist': 'Radiohead', 'Genre': 'Electronic, Rock', 'Subgenre': 'Alternative Rock, IDM, Experimental'}\n",
      "{'Number': '68', 'Year': '1979', 'Album': 'Off the Wall', 'Artist': 'Michael Jackson', 'Genre': 'Funk / Soul, Pop', 'Subgenre': 'Disco, Soul, Ballad'}\n",
      "{'Number': '69', 'Year': '1971', 'Album': '[Led Zeppelin IV]', 'Artist': 'Led Zeppelin', 'Genre': 'Rock', 'Subgenre': 'Hard Rock, Classic Rock, Blues Rock'}\n",
      "{'Number': '70', 'Year': '1977', 'Album': 'The Stranger', 'Artist': 'Billy Joel', 'Genre': 'Rock', 'Subgenre': 'Pop Rock'}\n",
      "{'Number': '71', 'Year': '1986', 'Album': 'Graceland', 'Artist': 'Paul Simon', 'Genre': 'Jazz, Rock, Funk / Soul, Pop, Folk, World, & Country', 'Subgenre': 'Folk Rock, Pop Rock, African, Afrobeat, Zydeco, Funk, Rhythm & Blues'}\n",
      "{'Number': '72', 'Year': '1972', 'Album': 'Superfly', 'Artist': 'Curtis Mayfield', 'Genre': 'Funk / Soul, Stage & Screen', 'Subgenre': 'Soundtrack, Soul'}\n",
      "{'Number': '73', 'Year': '1975', 'Album': 'Physical Graffiti', 'Artist': 'Led Zeppelin', 'Genre': 'Rock', 'Subgenre': 'Classic Rock'}\n",
      "{'Number': '74', 'Year': '1970', 'Album': 'After the Gold Rush', 'Artist': 'Neil Young', 'Genre': 'Rock', 'Subgenre': 'Rock & Roll, Country Rock'}\n",
      "{'Number': '75', 'Year': '1991', 'Album': 'Star Time', 'Artist': 'James Brown', 'Genre': 'Funk / Soul', 'Subgenre': 'Soul, Funk, Disco'}\n",
      "{'Number': '76', 'Year': '1984', 'Album': 'Purple Rain', 'Artist': 'Prince and the Revolution', 'Genre': 'Electronic, Rock, Funk / Soul, Stage & Screen', 'Subgenre': 'Pop Rock, Funk, Soundtrack, Synth-pop'}\n",
      "{'Number': '77', 'Year': '1980', 'Album': 'Back in Black', 'Artist': 'AC/DC', 'Genre': 'Rock', 'Subgenre': 'Hard Rock'}\n",
      "{'Number': '78', 'Year': '1965', 'Album': 'Otis Blue: Otis Redding Sings Soul', 'Artist': 'Otis Redding', 'Genre': 'Funk / Soul', 'Subgenre': 'Soul'}\n",
      "{'Number': '79', 'Year': '1969', 'Album': 'Led Zeppelin II', 'Artist': 'Led Zeppelin', 'Genre': 'Rock', 'Subgenre': 'Blues Rock, Classic Rock, Hard Rock'}\n",
      "{'Number': '80', 'Year': '1971', 'Album': 'Imagine', 'Artist': 'John Lennon', 'Genre': 'Rock', 'Subgenre': 'Pop Rock'}\n",
      "{'Number': '81', 'Year': '1977', 'Album': 'The Clash', 'Artist': 'The Clash', 'Genre': 'Rock', 'Subgenre': 'Punk'}\n",
      "{'Number': '82', 'Year': '1972', 'Album': 'Harvest', 'Artist': 'Neil Young', 'Genre': 'Rock', 'Subgenre': 'Folk Rock, Country Rock, Classic Rock'}\n",
      "{'Number': '83', 'Year': '1967', 'Album': 'Axis: Bold as Love', 'Artist': 'The Jimi Hendrix Experience', 'Genre': 'Rock', 'Subgenre': 'Psychedelic Rock, Electric Blues'}\n",
      "{'Number': '84', 'Year': '1967', 'Album': 'I Never Loved a Man the Way I Love You', 'Artist': 'Aretha Franklin', 'Genre': 'Funk / Soul', 'Subgenre': 'Soul'}\n",
      "{'Number': '85', 'Year': '1968', 'Album': 'Lady Soul', 'Artist': 'Aretha Franklin', 'Genre': 'Funk / Soul', 'Subgenre': 'Soul'}\n",
      "{'Number': '86', 'Year': '1984', 'Album': 'Born in the U.S.A.', 'Artist': 'Bruce Springsteen', 'Genre': 'Rock', 'Subgenre': 'Pop Rock'}\n",
      "{'Number': '87', 'Year': '1979', 'Album': 'The Wall', 'Artist': 'Pink Floyd', 'Genre': 'Rock', 'Subgenre': 'Alternative Rock, Prog Rock'}\n",
      "{'Number': '88', 'Year': '1968', 'Album': 'At Folsom Prison', 'Artist': 'Johnny Cash', 'Genre': 'Folk, World, & Country', 'Subgenre': 'Country'}\n",
      "{'Number': '89', 'Year': '1969', 'Album': 'Dusty in Memphis', 'Artist': 'Dusty Springfield', 'Genre': 'Rock, Funk / Soul', 'Subgenre': 'Pop Rock, Soul'}\n",
      "{'Number': '90', 'Year': '1972', 'Album': 'Talking Book', 'Artist': 'Stevie Wonder', 'Genre': 'Funk / Soul', 'Subgenre': 'Soul, Funk'}\n",
      "{'Number': '91', 'Year': '1973', 'Album': 'Goodbye Yellow Brick Road', 'Artist': 'Elton John', 'Genre': 'Rock', 'Subgenre': 'Pop Rock, Classic Rock'}\n",
      "{'Number': '92', 'Year': '1978', 'Album': '20 Golden Greats', 'Artist': 'Buddy Holly', 'Genre': 'Rock', 'Subgenre': 'Rock & Roll'}\n",
      "{'Number': '93', 'Year': '1987', 'Album': 'Sign \"Peace\" the Times', 'Artist': 'Prince', 'Genre': 'Rock, Reggae', 'Subgenre': 'Ska, Reggae-Pop'}\n",
      "{'Number': '94', 'Year': '1984', 'Album': '40 Greatest Hits', 'Artist': 'Hank Williams', 'Genre': 'Folk, World, & Country', 'Subgenre': 'Country'}\n",
      "{'Number': '95', 'Year': '1970', 'Album': 'Bitches Brew', 'Artist': 'Miles Davis', 'Genre': 'Jazz', 'Subgenre': 'Fusion'}\n",
      "{'Number': '96', 'Year': '1969', 'Album': 'Tommy', 'Artist': 'The Who', 'Genre': 'Rock', 'Subgenre': 'Psychedelic Rock'}\n",
      "{'Number': '97', 'Year': '1963', 'Album': \"The Freewheelin' Bob Dylan\", 'Artist': 'Bob Dylan', 'Genre': 'Folk, World, & Country', 'Subgenre': 'Folk'}\n",
      "{'Number': '98', 'Year': '1978', 'Album': \"This Year's Model\", 'Artist': 'Elvis Costello', 'Genre': 'Rock', 'Subgenre': 'New Wave'}\n",
      "{'Number': '99', 'Year': '1971', 'Album': \"There's a Riot Goin' On\", 'Artist': 'Sly & The Family Stone', 'Genre': 'Funk / Soul', 'Subgenre': 'Rhythm & Blues, Funk'}\n",
      "{'Number': '100', 'Year': '1968', 'Album': 'Odessey and Oracle', 'Artist': 'The Zombies', 'Genre': 'Rock', 'Subgenre': 'Psychedelic Rock'}\n"
     ]
    }
   ],
   "source": [
    "with open(\"albumlist.csv\", \"r\") as csvfile:\n",
    "    reader = csv.DictReader(csvfile)\n",
    "    \n",
    "    rows = 101\n",
    "    for row in reader: \n",
    "        rows -= 1\n",
    "        if rows > 0: \n",
    "            print(row)\n",
    "        else:\n",
    "            break"
   ]
  },
  {
   "cell_type": "code",
   "execution_count": 4,
   "id": "a269196d-6111-410f-ab13-d92f1d4edd6d",
   "metadata": {},
   "outputs": [
    {
     "name": "stdout",
     "output_type": "stream",
     "text": [
      "Number albums:  100\n"
     ]
    }
   ],
   "source": [
    "with open(\"albumlist.csv\", \"r\") as cvsfile:\n",
    "    reader = csv.DictReader(cvsfile)\n",
    "    \n",
    "    albums = []\n",
    "        \n",
    "    rows = 101\n",
    "    for row in reader: \n",
    "        rows -= 1\n",
    "        if rows > 0: \n",
    "            albums.append(row)\n",
    "        else:\n",
    "            break\n",
    "            \n",
    "    print(\"Number albums: \", len(albums))"
   ]
  },
  {
   "cell_type": "code",
   "execution_count": 5,
   "id": "4223f02f-9b27-4daa-bf25-666f9645da1a",
   "metadata": {},
   "outputs": [
    {
     "name": "stdout",
     "output_type": "stream",
     "text": [
      "number of albums in 1979:  3\n"
     ]
    }
   ],
   "source": [
    "albums_1979 = [row for row in albums if row[\"Year\"] == \"1979\"]\n",
    "print(\"number of albums in 1979: \", len(albums_1979))"
   ]
  },
  {
   "cell_type": "code",
   "execution_count": 6,
   "id": "635e9791-7f01-447b-9247-042cafc9d7b7",
   "metadata": {},
   "outputs": [
    {
     "name": "stdout",
     "output_type": "stream",
     "text": [
      "London Calling by The Clash\n",
      "Off the Wall by Michael Jackson\n",
      "The Wall by Pink Floyd\n"
     ]
    }
   ],
   "source": [
    "for album in albums_1979:\n",
    "    print(album[\"Album\"], \"by\", album[\"Artist\"])"
   ]
  },
  {
   "cell_type": "code",
   "execution_count": 7,
   "id": "d3f91532-4993-4888-9763-455feaa8c558",
   "metadata": {
    "tags": []
   },
   "outputs": [
    {
     "name": "stdout",
     "output_type": "stream",
     "text": [
      "[{'Number': '8', 'Year': '1979', 'Album': 'London Calling', 'Artist': 'The Clash', 'Genre': 'Rock', 'Subgenre': 'Punk, New Wave'}, {'Number': '68', 'Year': '1979', 'Album': 'Off the Wall', 'Artist': 'Michael Jackson', 'Genre': 'Funk / Soul, Pop', 'Subgenre': 'Disco, Soul, Ballad'}, {'Number': '87', 'Year': '1979', 'Album': 'The Wall', 'Artist': 'Pink Floyd', 'Genre': 'Rock', 'Subgenre': 'Alternative Rock, Prog Rock'}]\n"
     ]
    }
   ],
   "source": [
    "print([row for row in albums if row[\"Year\"] == \"1979\"][:3])"
   ]
  },
  {
   "cell_type": "code",
   "execution_count": 8,
   "id": "4a487b48-db0b-4dee-88c2-400044abfeda",
   "metadata": {
    "collapsed": true,
    "jupyter": {
     "outputs_hidden": true
    },
    "tags": []
   },
   "outputs": [
    {
     "name": "stdout",
     "output_type": "stream",
     "text": [
      "[{'Number': '2', 'Year': '1966', 'Album': 'Pet Sounds', 'Artist': 'The Beach Boys', 'Genre': 'Rock', 'Subgenre': 'Pop Rock, Psychedelic Rock'}, {'Number': '3', 'Year': '1966', 'Album': 'Revolver', 'Artist': 'The Beatles', 'Genre': 'Rock', 'Subgenre': 'Psychedelic Rock, Pop Rock'}, {'Number': '10', 'Year': '1968', 'Album': 'The Beatles (\"The White Album\")', 'Artist': 'The Beatles', 'Genre': 'Rock', 'Subgenre': 'Rock & Roll, Pop Rock, Psychedelic Rock, Experimental'}, {'Number': '14', 'Year': '1969', 'Album': 'Abbey Road', 'Artist': 'The Beatles', 'Genre': 'Rock', 'Subgenre': 'Psychedelic Rock, Classic Rock, Pop Rock'}, {'Number': '18', 'Year': '1975', 'Album': 'Born to Run', 'Artist': 'Bruce Springsteen', 'Genre': 'Rock', 'Subgenre': 'Pop Rock'}, {'Number': '23', 'Year': '1970', 'Album': 'John Lennon/Plastic Ono Band', 'Artist': 'John Lennon / Plastic Ono Band', 'Genre': 'Rock', 'Subgenre': 'Pop Rock'}, {'Number': '26', 'Year': '1977', 'Album': 'Rumours', 'Artist': 'Fleetwood Mac', 'Genre': 'Rock', 'Subgenre': 'Pop Rock'}, {'Number': '27', 'Year': '1987', 'Album': 'The Joshua Tree', 'Artist': 'U2', 'Genre': 'Rock', 'Subgenre': 'Alternative Rock, Pop Rock'}, {'Number': '70', 'Year': '1977', 'Album': 'The Stranger', 'Artist': 'Billy Joel', 'Genre': 'Rock', 'Subgenre': 'Pop Rock'}, {'Number': '80', 'Year': '1971', 'Album': 'Imagine', 'Artist': 'John Lennon', 'Genre': 'Rock', 'Subgenre': 'Pop Rock'}, {'Number': '86', 'Year': '1984', 'Album': 'Born in the U.S.A.', 'Artist': 'Bruce Springsteen', 'Genre': 'Rock', 'Subgenre': 'Pop Rock'}, {'Number': '91', 'Year': '1973', 'Album': 'Goodbye Yellow Brick Road', 'Artist': 'Elton John', 'Genre': 'Rock', 'Subgenre': 'Pop Rock, Classic Rock'}]\n"
     ]
    }
   ],
   "source": [
    "rock_albums = [row for row in albums if (row[\"Genre\"] == \"Rock\" \n",
    "                and (\"Pop Rock\" in row[\"Subgenre\"] or \"Fusion\" in row[\"Subgenre\"]))\n",
    "              ]\n",
    "print(rock_albums)"
   ]
  },
  {
   "cell_type": "code",
   "execution_count": 9,
   "id": "bc78ae97-9852-4aef-a572-e3aea04d7ab9",
   "metadata": {
    "tags": []
   },
   "outputs": [
    {
     "name": "stdout",
     "output_type": "stream",
     "text": [
      "Pet Sounds The Beach Boys Rock Pop Rock, Psychedelic Rock\n",
      "Revolver The Beatles Rock Psychedelic Rock, Pop Rock\n",
      "The Beatles (\"The White Album\") The Beatles Rock Rock & Roll, Pop Rock, Psychedelic Rock, Experimental\n",
      "Abbey Road The Beatles Rock Psychedelic Rock, Classic Rock, Pop Rock\n",
      "Born to Run Bruce Springsteen Rock Pop Rock\n",
      "John Lennon/Plastic Ono Band John Lennon / Plastic Ono Band Rock Pop Rock\n",
      "Rumours Fleetwood Mac Rock Pop Rock\n",
      "The Joshua Tree U2 Rock Alternative Rock, Pop Rock\n",
      "The Stranger Billy Joel Rock Pop Rock\n",
      "Imagine John Lennon Rock Pop Rock\n",
      "Born in the U.S.A. Bruce Springsteen Rock Pop Rock\n",
      "Goodbye Yellow Brick Road Elton John Rock Pop Rock, Classic Rock\n"
     ]
    }
   ],
   "source": [
    "for album in rock_albums:\n",
    "    print(album[\"Album\"], album[\"Artist\"], album[\"Genre\"], album[\"Subgenre\"])"
   ]
  },
  {
   "cell_type": "code",
   "execution_count": 10,
   "id": "584d9b96-be0c-4451-a864-83f7cc0f4d84",
   "metadata": {},
   "outputs": [],
   "source": [
    "def is_valid_year(string):\n",
    "    try: \n",
    "        year = int(string) #Intentar convertir un string dado a entero\n",
    "        \n",
    "    except ValueError:\n",
    "        return False #Retorna faso si se genera un error de tipo ValueError\n",
    "    \n",
    "    else:\n",
    "        return year #Se retorna algún valor definido si no se generó un error,"
   ]
  },
  {
   "cell_type": "code",
   "execution_count": 11,
   "id": "46a47d18-e696-435b-a5be-24b31825ef06",
   "metadata": {
    "tags": []
   },
   "outputs": [
    {
     "name": "stdout",
     "output_type": "stream",
     "text": [
      "[1967, 1966, 1966, 1965, 1965, 1971, 1972, 1979, 1966, 1968, 1976, 1959, 1967, 1969, 1967, 1975, 1991, 1975, 1968, 1982, 1982, 1990, 1970, 1973, 1963, 1977, 1987, 1971, 1969, 1971, 1965, 1969, 1976, 1968, 1972, 1971, 1976, 2001, 1963, 1967, 1977, 1967, 1973, 1975, 1969, 1984, 1965, 1988, 1971, 1957, 1970, 1975, 1964, 1991, 1968, 1956, 1976, 1968, 1976, 1969, 1970, 1987, 1991, 1971, 1991, 1970, 2000, 1979, 1971, 1977, 1986, 1972, 1975, 1970, 1991, 1984, 1980, 1965, 1969, 1971, 1977, 1972, 1967, 1967, 1968, 1984, 1979, 1968, 1969, 1972, 1973, 1978, 1987, 1984, 1970, 1969, 1963, 1978, 1971, 1968]\n"
     ]
    }
   ],
   "source": [
    "release_years = [int(row[\"Year\"]) for row in albums if is_valid_year(row[\"Year\"])] \n",
    "print(release_years) "
   ]
  },
  {
   "cell_type": "code",
   "execution_count": 12,
   "id": "534007fc-0655-4227-994e-622c3c786965",
   "metadata": {},
   "outputs": [
    {
     "name": "stdout",
     "output_type": "stream",
     "text": [
      "1956\n"
     ]
    }
   ],
   "source": [
    "min_release_years = min(release_years)\n",
    "print(min_release_years)"
   ]
  },
  {
   "cell_type": "code",
   "execution_count": 13,
   "id": "76d205d5-295c-4432-a9bf-2c2aff15e480",
   "metadata": {},
   "outputs": [],
   "source": [
    "albums_sorted = sorted(albums, key = lambda row: row[\"Artist\"]) #La función lambda  recibirá como parámetro un elemento del iterable album para usarlo como comparador"
   ]
  },
  {
   "cell_type": "code",
   "execution_count": 14,
   "id": "fa4e8248-fc6f-42fa-b991-1084b09b4aee",
   "metadata": {
    "collapsed": true,
    "jupyter": {
     "outputs_hidden": true
    },
    "tags": []
   },
   "outputs": [
    {
     "name": "stdout",
     "output_type": "stream",
     "text": [
      "[{'Number': '77', 'Year': '1980', 'Album': 'Back in Black', 'Artist': 'AC/DC', 'Genre': 'Rock', 'Subgenre': 'Hard Rock'}, {'Number': '52', 'Year': '1975', 'Album': 'Greatest Hits', 'Artist': 'Al Green', 'Genre': 'Funk / Soul', 'Subgenre': 'Soul'}, {'Number': '84', 'Year': '1967', 'Album': 'I Never Loved a Man the Way I Love You', 'Artist': 'Aretha Franklin', 'Genre': 'Funk / Soul', 'Subgenre': 'Soul'}, {'Number': '85', 'Year': '1968', 'Album': 'Lady Soul', 'Artist': 'Aretha Franklin', 'Genre': 'Funk / Soul', 'Subgenre': 'Soul'}, {'Number': '70', 'Year': '1977', 'Album': 'The Stranger', 'Artist': 'Billy Joel', 'Genre': 'Rock', 'Subgenre': 'Pop Rock'}, {'Number': '4', 'Year': '1965', 'Album': 'Highway 61 Revisited', 'Artist': 'Bob Dylan', 'Genre': 'Rock', 'Subgenre': 'Folk Rock, Blues Rock'}, {'Number': '9', 'Year': '1966', 'Album': 'Blonde on Blonde', 'Artist': 'Bob Dylan', 'Genre': 'Rock, Blues', 'Subgenre': 'Folk Rock, Rhythm & Blues'}, {'Number': '16', 'Year': '1975', 'Album': 'Blood on the Tracks', 'Artist': 'Bob Dylan', 'Genre': 'Rock', 'Subgenre': 'Folk Rock, Acoustic, Ballad'}, {'Number': '31', 'Year': '1965', 'Album': 'Bringing It All Back Home', 'Artist': 'Bob Dylan', 'Genre': 'Rock, Folk, World, & Country', 'Subgenre': 'Folk Rock, Folk'}, {'Number': '97', 'Year': '1963', 'Album': \"The Freewheelin' Bob Dylan\", 'Artist': 'Bob Dylan', 'Genre': 'Folk, World, & Country', 'Subgenre': 'Folk'}, {'Number': '46', 'Year': '1984', 'Album': 'Legend: The Best of Bob Marley and The Wailers', 'Artist': 'Bob Marley & The Wailers', 'Genre': 'Reggae', 'Subgenre': 'Reggae, Roots Reggae'}, {'Number': '18', 'Year': '1975', 'Album': 'Born to Run', 'Artist': 'Bruce Springsteen', 'Genre': 'Rock', 'Subgenre': 'Pop Rock'}, {'Number': '86', 'Year': '1984', 'Album': 'Born in the U.S.A.', 'Artist': 'Bruce Springsteen', 'Genre': 'Rock', 'Subgenre': 'Pop Rock'}, {'Number': '92', 'Year': '1978', 'Album': '20 Golden Greats', 'Artist': 'Buddy Holly', 'Genre': 'Rock', 'Subgenre': 'Rock & Roll'}, {'Number': '60', 'Year': '1969', 'Album': 'Trout Mask Replica', 'Artist': 'Captain Beefheart & His Magic Band', 'Genre': 'Rock, Blues', 'Subgenre': 'Dialogue, Field Recording, Avantgarde, Electric Blues, Psychedelic Rock, Experimental'}, {'Number': '36', 'Year': '1971', 'Album': 'Tapestry', 'Artist': 'Carole King', 'Genre': 'Rock, Pop', 'Subgenre': 'Folk Rock, Soft Rock'}, {'Number': '21', 'Year': '1982', 'Album': 'The Great Twenty_Eight', 'Artist': 'Chuck Berry', 'Genre': 'Rock', 'Subgenre': 'Rock & Roll'}, {'Number': '59', 'Year': '1976', 'Album': 'Chronicle: The 20 Greatest Hits', 'Artist': 'Creedence Clearwater Revival', 'Genre': 'Rock', 'Subgenre': 'None'}, {'Number': '72', 'Year': '1972', 'Album': 'Superfly', 'Artist': 'Curtis Mayfield', 'Genre': 'Funk / Soul, Stage & Screen', 'Subgenre': 'Soundtrack, Soul'}, {'Number': '35', 'Year': '1972', 'Album': 'The Rise and Fall of Ziggy Stardust and the Spiders From Mars', 'Artist': 'David Bowie', 'Genre': 'Rock', 'Subgenre': 'Classic Rock, Glam'}, {'Number': '89', 'Year': '1969', 'Album': 'Dusty in Memphis', 'Artist': 'Dusty Springfield', 'Genre': 'Rock, Funk / Soul', 'Subgenre': 'Pop Rock, Soul'}, {'Number': '37', 'Year': '1976', 'Album': 'Hotel California', 'Artist': 'Eagles', 'Genre': 'Rock', 'Subgenre': 'Classic Rock'}, {'Number': '91', 'Year': '1973', 'Album': 'Goodbye Yellow Brick Road', 'Artist': 'Elton John', 'Genre': 'Rock', 'Subgenre': 'Pop Rock, Classic Rock'}, {'Number': '98', 'Year': '1978', 'Album': \"This Year's Model\", 'Artist': 'Elvis Costello', 'Genre': 'Rock', 'Subgenre': 'New Wave'}, {'Number': '11', 'Year': '1976', 'Album': 'The Sun Sessions', 'Artist': 'Elvis Presley', 'Genre': 'Rock', 'Subgenre': 'Rock & Roll'}, {'Number': '56', 'Year': '1956', 'Album': 'Elvis Presley', 'Artist': 'Elvis Presley', 'Genre': 'Rock', 'Subgenre': 'Rock & Roll, Rockabilly'}, {'Number': '26', 'Year': '1977', 'Album': 'Rumours', 'Artist': 'Fleetwood Mac', 'Genre': 'Rock', 'Subgenre': 'Pop Rock'}, {'Number': '62', 'Year': '1987', 'Album': 'Appetite for Destruction', 'Artist': \"Guns N' Roses\", 'Genre': 'Rock', 'Subgenre': 'Hard Rock, Heavy Metal'}, {'Number': '94', 'Year': '1984', 'Album': '40 Greatest Hits', 'Artist': 'Hank Williams', 'Genre': 'Folk, World, & Country', 'Subgenre': 'Country'}, {'Number': '25', 'Year': '1963', 'Album': 'Live at the Apollo, 1962', 'Artist': 'James Brown', 'Genre': 'Funk / Soul', 'Subgenre': 'Rhythm & Blues, Soul'}, {'Number': '75', 'Year': '1991', 'Album': 'Star Time', 'Artist': 'James Brown', 'Genre': 'Funk / Soul', 'Subgenre': 'Soul, Funk, Disco'}, {'Number': '47', 'Year': '1965', 'Album': 'A Love Supreme', 'Artist': 'John Coltrane', 'Genre': 'Jazz', 'Subgenre': 'Free Jazz, Hard Bop, Modal'}, {'Number': '80', 'Year': '1971', 'Album': 'Imagine', 'Artist': 'John Lennon', 'Genre': 'Rock', 'Subgenre': 'Pop Rock'}, {'Number': '23', 'Year': '1970', 'Album': 'John Lennon/Plastic Ono Band', 'Artist': 'John Lennon / Plastic Ono Band', 'Genre': 'Rock', 'Subgenre': 'Pop Rock'}, {'Number': '88', 'Year': '1968', 'Album': 'At Folsom Prison', 'Artist': 'Johnny Cash', 'Genre': 'Folk, World, & Country', 'Subgenre': 'Country'}, {'Number': '30', 'Year': '1971', 'Album': 'Blue', 'Artist': 'Joni Mitchell', 'Genre': 'Pop', 'Subgenre': 'Acoustic, Ballad, Folk'}, {'Number': '29', 'Year': '1969', 'Album': 'Led Zeppelin', 'Artist': 'Led Zeppelin', 'Genre': 'Rock', 'Subgenre': 'Blues Rock, Hard Rock'}, {'Number': '69', 'Year': '1971', 'Album': '[Led Zeppelin IV]', 'Artist': 'Led Zeppelin', 'Genre': 'Rock', 'Subgenre': 'Hard Rock, Classic Rock, Blues Rock'}, {'Number': '73', 'Year': '1975', 'Album': 'Physical Graffiti', 'Artist': 'Led Zeppelin', 'Genre': 'Rock', 'Subgenre': 'Classic Rock'}, {'Number': '79', 'Year': '1969', 'Album': 'Led Zeppelin II', 'Artist': 'Led Zeppelin', 'Genre': 'Rock', 'Subgenre': 'Blues Rock, Classic Rock, Hard Rock'}, {'Number': '50', 'Year': '1957', 'Album': \"Here's Little Richard\", 'Artist': 'Little Richard', 'Genre': 'Rock, Blues', 'Subgenre': 'Rock & Roll, Rhythm & Blues'}, {'Number': '40', 'Year': '1967', 'Album': 'Forever Changes', 'Artist': 'Love', 'Genre': 'Rock', 'Subgenre': 'Folk Rock, Psychedelic Rock'}, {'Number': '6', 'Year': '1971', 'Album': \"What's Going On\", 'Artist': 'Marvin Gaye', 'Genre': 'Funk / Soul', 'Subgenre': 'Soul'}, {'Number': '20', 'Year': '1982', 'Album': 'Thriller', 'Artist': 'Michael Jackson', 'Genre': 'Funk / Soul, Pop', 'Subgenre': 'Disco'}, {'Number': '68', 'Year': '1979', 'Album': 'Off the Wall', 'Artist': 'Michael Jackson', 'Genre': 'Funk / Soul, Pop', 'Subgenre': 'Disco, Soul, Ballad'}, {'Number': '12', 'Year': '1959', 'Album': 'Kind of Blue', 'Artist': 'Miles Davis', 'Genre': 'Jazz', 'Subgenre': 'Modal'}, {'Number': '95', 'Year': '1970', 'Album': 'Bitches Brew', 'Artist': 'Miles Davis', 'Genre': 'Jazz', 'Subgenre': 'Fusion'}, {'Number': '38', 'Year': '2001', 'Album': 'The Anthology', 'Artist': 'Muddy Waters', 'Genre': 'Folk, World, & Country', 'Subgenre': 'Folk'}, {'Number': '74', 'Year': '1970', 'Album': 'After the Gold Rush', 'Artist': 'Neil Young', 'Genre': 'Rock', 'Subgenre': 'Rock & Roll, Country Rock'}, {'Number': '82', 'Year': '1972', 'Album': 'Harvest', 'Artist': 'Neil Young', 'Genre': 'Rock', 'Subgenre': 'Folk Rock, Country Rock, Classic Rock'}, {'Number': '17', 'Year': '1991', 'Album': 'Nevermind', 'Artist': 'Nirvana', 'Genre': 'Rock', 'Subgenre': 'Alternative Rock, Grunge'}, {'Number': '78', 'Year': '1965', 'Album': 'Otis Blue: Otis Redding Sings Soul', 'Artist': 'Otis Redding', 'Genre': 'Funk / Soul', 'Subgenre': 'Soul'}, {'Number': '44', 'Year': '1975', 'Album': 'Horses', 'Artist': 'Patti Smith', 'Genre': 'Rock', 'Subgenre': 'Art Rock'}, {'Number': '71', 'Year': '1986', 'Album': 'Graceland', 'Artist': 'Paul Simon', 'Genre': 'Jazz, Rock, Funk / Soul, Pop, Folk, World, & Country', 'Subgenre': 'Folk Rock, Pop Rock, African, Afrobeat, Zydeco, Funk, Rhythm & Blues'}, {'Number': '65', 'Year': '1991', 'Album': 'Back to Mono (1958-1969)', 'Artist': 'Phil Spector', 'Genre': 'Rock, Funk / Soul, Pop', 'Subgenre': 'Doo Wop, Pop Rock, Ballad, Rhythm & Blues'}, {'Number': '43', 'Year': '1973', 'Album': 'The Dark Side of the Moon', 'Artist': 'Pink Floyd', 'Genre': 'Rock', 'Subgenre': 'Prog Rock'}, {'Number': '87', 'Year': '1979', 'Album': 'The Wall', 'Artist': 'Pink Floyd', 'Genre': 'Rock', 'Subgenre': 'Alternative Rock, Prog Rock'}, {'Number': '93', 'Year': '1987', 'Album': 'Sign \"Peace\" the Times', 'Artist': 'Prince', 'Genre': 'Rock, Reggae', 'Subgenre': 'Ska, Reggae-Pop'}, {'Number': '76', 'Year': '1984', 'Album': 'Purple Rain', 'Artist': 'Prince and the Revolution', 'Genre': 'Electronic, Rock, Funk / Soul, Stage & Screen', 'Subgenre': 'Pop Rock, Funk, Soundtrack, Synth-pop'}, {'Number': '48', 'Year': '1988', 'Album': 'It Takes a Nation of Millions to Hold Us Back', 'Artist': 'Public Enemy', 'Genre': 'Hip Hop', 'Subgenre': 'Conscious'}, {'Number': '67', 'Year': '2000', 'Album': 'Kid A', 'Artist': 'Radiohead', 'Genre': 'Electronic, Rock', 'Subgenre': 'Alternative Rock, IDM, Experimental'}, {'Number': '33', 'Year': '1976', 'Album': 'Ramones', 'Artist': 'Ramones', 'Genre': 'Rock', 'Subgenre': 'Rock & Roll, Punk'}, {'Number': '54', 'Year': '1991', 'Album': 'The Birth of Soul', 'Artist': 'Ray Charles', 'Genre': 'Jazz, Funk / Soul', 'Subgenre': 'Rhythm & Blues, Big Band, Soul, Soul-Jazz'}, {'Number': '22', 'Year': '1990', 'Album': 'The Complete Recordings', 'Artist': 'Robert Johnson', 'Genre': 'Blues', 'Subgenre': 'Delta Blues'}, {'Number': '41', 'Year': '1977', 'Album': \"Never Mind the Bollocks Here's the Sex Pistols\", 'Artist': 'Sex Pistols', 'Genre': 'Rock', 'Subgenre': 'Punk'}, {'Number': '51', 'Year': '1970', 'Album': 'Bridge Over Troubled Water', 'Artist': 'Simon & Garfunkel', 'Genre': 'Rock', 'Subgenre': 'Folk Rock, Classic Rock'}, {'Number': '61', 'Year': '1970', 'Album': 'Greatest Hits', 'Artist': 'Sly & The Family Stone', 'Genre': 'Funk / Soul', 'Subgenre': 'Rhythm & Blues, Funk'}, {'Number': '99', 'Year': '1971', 'Album': \"There's a Riot Goin' On\", 'Artist': 'Sly & The Family Stone', 'Genre': 'Funk / Soul', 'Subgenre': 'Rhythm & Blues, Funk'}, {'Number': '24', 'Year': '1973', 'Album': 'Innervisions', 'Artist': 'Stevie Wonder', 'Genre': 'Funk / Soul', 'Subgenre': 'Soul'}, {'Number': '57', 'Year': '1976', 'Album': 'Songs in the Key of Life', 'Artist': 'Stevie Wonder', 'Genre': 'Funk / Soul', 'Subgenre': 'Soul, Disco'}, {'Number': '90', 'Year': '1972', 'Album': 'Talking Book', 'Artist': 'Stevie Wonder', 'Genre': 'Funk / Soul', 'Subgenre': 'Soul, Funk'}, {'Number': '49', 'Year': '1971', 'Album': 'At Fillmore East', 'Artist': 'The Allman Brothers Band', 'Genre': 'Rock, Blues', 'Subgenre': 'Blues Rock'}, {'Number': '34', 'Year': '1968', 'Album': 'Music From Big Pink', 'Artist': 'The Band', 'Genre': 'Rock', 'Subgenre': 'Folk Rock, Acoustic, Blues Rock'}, {'Number': '45', 'Year': '1969', 'Album': 'The Band (\"The Brown Album\")', 'Artist': 'The Band', 'Genre': 'Classical, Stage & Screen', 'Subgenre': 'Soundtrack, Modern Classical, Contemporary, Score'}, {'Number': '2', 'Year': '1966', 'Album': 'Pet Sounds', 'Artist': 'The Beach Boys', 'Genre': 'Rock', 'Subgenre': 'Pop Rock, Psychedelic Rock'}, {'Number': '1', 'Year': '1967', 'Album': \"Sgt. Pepper's Lonely Hearts Club Band\", 'Artist': 'The Beatles', 'Genre': 'Rock', 'Subgenre': 'Rock & Roll, Psychedelic Rock'}, {'Number': '3', 'Year': '1966', 'Album': 'Revolver', 'Artist': 'The Beatles', 'Genre': 'Rock', 'Subgenre': 'Psychedelic Rock, Pop Rock'}, {'Number': '5', 'Year': '1965', 'Album': 'Rubber Soul', 'Artist': 'The Beatles', 'Genre': 'Rock, Pop', 'Subgenre': 'Pop Rock'}, {'Number': '10', 'Year': '1968', 'Album': 'The Beatles (\"The White Album\")', 'Artist': 'The Beatles', 'Genre': 'Rock', 'Subgenre': 'Rock & Roll, Pop Rock, Psychedelic Rock, Experimental'}, {'Number': '14', 'Year': '1969', 'Album': 'Abbey Road', 'Artist': 'The Beatles', 'Genre': 'Rock', 'Subgenre': 'Psychedelic Rock, Classic Rock, Pop Rock'}, {'Number': '39', 'Year': '1963', 'Album': 'Please Please Me', 'Artist': 'The Beatles', 'Genre': 'Rock', 'Subgenre': 'Beat, Rock & Roll'}, {'Number': '53', 'Year': '1964', 'Album': 'Meet The Beatles!', 'Artist': 'The Beatles', 'Genre': 'Rock', 'Subgenre': 'Beat, Rock & Roll'}, {'Number': '8', 'Year': '1979', 'Album': 'London Calling', 'Artist': 'The Clash', 'Genre': 'Rock', 'Subgenre': 'Punk, New Wave'}, {'Number': '81', 'Year': '1977', 'Album': 'The Clash', 'Artist': 'The Clash', 'Genre': 'Rock', 'Subgenre': 'Punk'}, {'Number': '42', 'Year': '1967', 'Album': 'The Doors', 'Artist': 'The Doors', 'Genre': 'Rock', 'Subgenre': 'Psychedelic Rock'}, {'Number': '15', 'Year': '1967', 'Album': 'Are You Experienced', 'Artist': 'The Jimi Hendrix Experience', 'Genre': 'Rock, Blues', 'Subgenre': 'Blues Rock, Psychedelic Rock'}, {'Number': '55', 'Year': '1968', 'Album': 'Electric Ladyland', 'Artist': 'The Jimi Hendrix Experience', 'Genre': 'Rock, Blues', 'Subgenre': 'Electric Blues, Psychedelic Rock'}, {'Number': '83', 'Year': '1967', 'Album': 'Axis: Bold as Love', 'Artist': 'The Jimi Hendrix Experience', 'Genre': 'Rock', 'Subgenre': 'Psychedelic Rock, Electric Blues'}, {'Number': '7', 'Year': '1972', 'Album': 'Exile on Main St.', 'Artist': 'The Rolling Stones', 'Genre': 'Rock', 'Subgenre': 'Blues Rock, Rock & Roll, Classic Rock'}, {'Number': '32', 'Year': '1969', 'Album': 'Let It Bleed', 'Artist': 'The Rolling Stones', 'Genre': 'Rock', 'Subgenre': 'Blues Rock, Hard Rock'}, {'Number': '58', 'Year': '1968', 'Album': 'Beggars Banquet', 'Artist': 'The Rolling Stones', 'Genre': 'Rock, Funk / Soul, Pop', 'Subgenre': 'Blues Rock, Southern Rock, Classic Rock'}, {'Number': '64', 'Year': '1971', 'Album': 'Sticky Fingers', 'Artist': 'The Rolling Stones', 'Genre': 'Rock', 'Subgenre': 'Classic Rock'}, {'Number': '13', 'Year': '1967', 'Album': 'The Velvet Underground & Nico', 'Artist': 'The Velvet Underground', 'Genre': 'Rock', 'Subgenre': 'Garage Rock, Art Rock, Experimental'}, {'Number': '28', 'Year': '1971', 'Album': \"Who's Next\", 'Artist': 'The Who', 'Genre': 'Rock', 'Subgenre': 'Hard Rock, Mod, Prog Rock, Psychedelic Rock'}, {'Number': '96', 'Year': '1969', 'Album': 'Tommy', 'Artist': 'The Who', 'Genre': 'Rock', 'Subgenre': 'Psychedelic Rock'}, {'Number': '100', 'Year': '1968', 'Album': 'Odessey and Oracle', 'Artist': 'The Zombies', 'Genre': 'Rock', 'Subgenre': 'Psychedelic Rock'}, {'Number': '27', 'Year': '1987', 'Album': 'The Joshua Tree', 'Artist': 'U2', 'Genre': 'Rock', 'Subgenre': 'Alternative Rock, Pop Rock'}, {'Number': '63', 'Year': '1991', 'Album': 'Achtung Baby', 'Artist': 'U2', 'Genre': 'Electronic, Rock', 'Subgenre': 'Pop Rock, Synth-pop, Alternative Rock, Arena Rock'}, {'Number': '19', 'Year': '1968', 'Album': 'Astral Weeks', 'Artist': 'Van Morrison', 'Genre': 'Jazz, Rock, Blues, Folk, World, & Country', 'Subgenre': 'Acoustic, Classic Rock, Free Improvisation'}, {'Number': '66', 'Year': '1970', 'Album': 'Moondance', 'Artist': 'Van Morrison', 'Genre': 'Jazz, Rock, Funk / Soul, Folk, World, & Country', 'Subgenre': 'Folk Rock, Rhythm & Blues, Classic Rock, Contemporary Jazz'}]\n"
     ]
    }
   ],
   "source": [
    "print(albums_sorted)"
   ]
  },
  {
   "cell_type": "code",
   "execution_count": 15,
   "id": "9981dc18-ec58-4790-b4f3-5735ebcdb36b",
   "metadata": {},
   "outputs": [
    {
     "data": {
      "text/plain": [
       "\u001b[0;31mSignature:\u001b[0m \u001b[0msorted\u001b[0m\u001b[0;34m(\u001b[0m\u001b[0miterable\u001b[0m\u001b[0;34m,\u001b[0m \u001b[0;34m/\u001b[0m\u001b[0;34m,\u001b[0m \u001b[0;34m*\u001b[0m\u001b[0;34m,\u001b[0m \u001b[0mkey\u001b[0m\u001b[0;34m=\u001b[0m\u001b[0;32mNone\u001b[0m\u001b[0;34m,\u001b[0m \u001b[0mreverse\u001b[0m\u001b[0;34m=\u001b[0m\u001b[0;32mFalse\u001b[0m\u001b[0;34m)\u001b[0m\u001b[0;34m\u001b[0m\u001b[0;34m\u001b[0m\u001b[0m\n",
       "\u001b[0;31mDocstring:\u001b[0m\n",
       "Return a new list containing all items from the iterable in ascending order.\n",
       "\n",
       "A custom key function can be supplied to customize the sort order, and the\n",
       "reverse flag can be set to request the result in descending order.\n",
       "\u001b[0;31mType:\u001b[0m      builtin_function_or_method\n"
      ]
     },
     "metadata": {},
     "output_type": "display_data"
    }
   ],
   "source": [
    "sorted?"
   ]
  },
  {
   "cell_type": "code",
   "execution_count": 17,
   "id": "f082c08d-6448-4c39-9efe-767dfff68575",
   "metadata": {},
   "outputs": [
    {
     "name": "stdout",
     "output_type": "stream",
     "text": [
      "The Anthology Muddy Waters 2001\n"
     ]
    }
   ],
   "source": [
    "valid_albums = [row for row in albums if(is_valid_year(row[\"Year\"]))]\n",
    "album_max = max(valid_albums, key=lambda x: x[\"Year\"])\n",
    "print(album_max[\"Album\"], album_max[\"Artist\"], album_max[\"Year\"])"
   ]
  },
  {
   "cell_type": "code",
   "execution_count": 45,
   "id": "f266d7be-9050-4d37-b317-33c881361605",
   "metadata": {},
   "outputs": [
    {
     "name": "stdout",
     "output_type": "stream",
     "text": [
      "[{'first name': 'Olivia', 'last name': 'James', 'birthdate': '1998-05-09'}, {'first name': 'Rachel', 'last name': 'Reynolds', 'birthdate': '1996-01-07'}, {'first name': 'Caroline', 'last name': 'Warrison', 'birthdate': '1997-03-02'}]\n"
     ]
    }
   ],
   "source": [
    "student_info = [{'first name':'Caroline', 'last name':'Warrison', 'birthdate':'1997-03-02'}, {'first name':'Rachel', 'last name':'Reynolds', 'birthdate':'1996-01-07'}, {'first name':'Olivia', 'last name':'James', 'birthdate':'1998-05-09'}]\n",
    "student_info.sort(key=lambda x: x['last name'])\n",
    "print(student_info)"
   ]
  },
  {
   "cell_type": "code",
   "execution_count": 28,
   "id": "eabdf043-f1ad-471a-ae78-2d12b6e8b3eb",
   "metadata": {},
   "outputs": [
    {
     "data": {
      "text/plain": [
       "\u001b[0;31mSignature:\u001b[0m \u001b[0mlist\u001b[0m\u001b[0;34m.\u001b[0m\u001b[0msort\u001b[0m\u001b[0;34m(\u001b[0m\u001b[0mself\u001b[0m\u001b[0;34m,\u001b[0m \u001b[0;34m/\u001b[0m\u001b[0;34m,\u001b[0m \u001b[0;34m*\u001b[0m\u001b[0;34m,\u001b[0m \u001b[0mkey\u001b[0m\u001b[0;34m=\u001b[0m\u001b[0;32mNone\u001b[0m\u001b[0;34m,\u001b[0m \u001b[0mreverse\u001b[0m\u001b[0;34m=\u001b[0m\u001b[0;32mFalse\u001b[0m\u001b[0;34m)\u001b[0m\u001b[0;34m\u001b[0m\u001b[0;34m\u001b[0m\u001b[0m\n",
       "\u001b[0;31mDocstring:\u001b[0m\n",
       "Sort the list in ascending order and return None.\n",
       "\n",
       "The sort is in-place (i.e. the list itself is modified) and stable (i.e. the\n",
       "order of two equal elements is maintained).\n",
       "\n",
       "If a key function is given, apply it once to each list item and sort them,\n",
       "ascending or descending, according to their function values.\n",
       "\n",
       "The reverse flag can be set to sort in descending order.\n",
       "\u001b[0;31mType:\u001b[0m      method_descriptor\n"
      ]
     },
     "metadata": {},
     "output_type": "display_data"
    }
   ],
   "source": [
    "list.sort?"
   ]
  },
  {
   "cell_type": "code",
   "execution_count": 2,
   "id": "10a0a3aa-90d9-45eb-8747-dcf90271d3a4",
   "metadata": {},
   "outputs": [
    {
     "data": {
      "text/plain": [
       "True"
      ]
     },
     "execution_count": 2,
     "metadata": {},
     "output_type": "execute_result"
    }
   ],
   "source": [
    "dict2 = {\"a\":\"rock\", \"b\":\"metal\"}\n",
    "\"rock\" in dict2[\"a\"]"
   ]
  },
  {
   "cell_type": "code",
   "execution_count": 3,
   "id": "45515d80-35f4-4a41-bee7-24f597309005",
   "metadata": {},
   "outputs": [
    {
     "data": {
      "text/plain": [
       "1"
      ]
     },
     "execution_count": 3,
     "metadata": {},
     "output_type": "execute_result"
    }
   ],
   "source": [
    "a = (1,2,3)\n",
    "a[0]"
   ]
  },
  {
   "cell_type": "code",
   "execution_count": null,
   "id": "e82abbb6-1ce3-49be-821b-830c8af62d65",
   "metadata": {},
   "outputs": [],
   "source": [
    "w, h = 8, 5;\n",
    "Matrix = [[0 for x in range(w)] for y in range(h)] \n",
    "Matriz"
   ]
  }
 ],
 "metadata": {
  "kernelspec": {
   "display_name": "Python 3 (ipykernel)",
   "language": "python",
   "name": "python3"
  },
  "language_info": {
   "codemirror_mode": {
    "name": "ipython",
    "version": 3
   },
   "file_extension": ".py",
   "mimetype": "text/x-python",
   "name": "python",
   "nbconvert_exporter": "python",
   "pygments_lexer": "ipython3",
   "version": "3.9.9"
  }
 },
 "nbformat": 4,
 "nbformat_minor": 5
}
