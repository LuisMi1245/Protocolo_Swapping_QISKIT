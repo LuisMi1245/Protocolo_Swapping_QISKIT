{
 "cells": [
  {
   "cell_type": "code",
   "execution_count": 2,
   "id": "80a50118-1a3b-456e-8807-b5240aba60f6",
   "metadata": {},
   "outputs": [],
   "source": [
    "import csv"
   ]
  },
  {
   "cell_type": "code",
   "execution_count": 6,
   "id": "3073208b-962c-4250-b8e9-72eef2bb1676",
   "metadata": {},
   "outputs": [],
   "source": [
    "with open('file.csv', 'r') as csvfile:\n",
    "    reader = csv.DictReader(csvfile)"
   ]
  },
  {
   "cell_type": "code",
   "execution_count": 8,
   "id": "ddaa4de6-25ba-4acd-9668-451df98fe38e",
   "metadata": {},
   "outputs": [
    {
     "name": "stdout",
     "output_type": "stream",
     "text": [
      "Luis\n",
      "19\n",
      "15\n"
     ]
    }
   ],
   "source": [
    "person = {\n",
    "'name':'Luis',\n",
    "'age':'19',\n",
    "'height': 6*12 + 2\n",
    "}\n",
    "print(person.get(\"name\"))\n",
    "print(person[\"age\"])\n",
    "print(person.get(\"width\", 15))"
   ]
  },
  {
   "cell_type": "code",
   "execution_count": 9,
   "id": "e62641bd-17db-486e-bf75-2b375c7ede2f",
   "metadata": {},
   "outputs": [
    {
     "name": "stdout",
     "output_type": "stream",
     "text": [
      "{'name': 'Luis', 'age': '19', 'height': 74, 'college': False, 'city': 'Montería'}\n"
     ]
    }
   ],
   "source": [
    "person[\"college\"] = False\n",
    "person[\"city\"] = \"Montería\"\n",
    "print(person)"
   ]
  },
  {
   "cell_type": "code",
   "execution_count": 10,
   "id": "b5708ec1-6f98-481a-bf28-1ac85b6d18aa",
   "metadata": {},
   "outputs": [
    {
     "name": "stdout",
     "output_type": "stream",
     "text": [
      "True\n",
      "False\n"
     ]
    }
   ],
   "source": [
    "print(\"college\" in person)\n",
    "print(\"state\" in person)"
   ]
  },
  {
   "cell_type": "code",
   "execution_count": 14,
   "id": "af439d2c-a4b0-4564-8b7f-8e6a8b2070bf",
   "metadata": {},
   "outputs": [
    {
     "name": "stdout",
     "output_type": "stream",
     "text": [
      "{'name': 'Luis', 'age': '19', 'height': 74, 'college': True}\n"
     ]
    }
   ],
   "source": [
    "del person[\"city\"]\n",
    "print(person)"
   ]
  },
  {
   "cell_type": "code",
   "execution_count": 15,
   "id": "05d5ffaf-807c-4cc3-90a8-7a04bc04a486",
   "metadata": {},
   "outputs": [
    {
     "name": "stdout",
     "output_type": "stream",
     "text": [
      "{'name': 'Luis', 'age': '19', 'height': 74, 'college': True, 'siblings': ['Cory']}\n"
     ]
    }
   ],
   "source": [
    "person[\"siblings\"] = [\"Cory\"]\n",
    "print(person)"
   ]
  },
  {
   "cell_type": "code",
   "execution_count": 16,
   "id": "83861584-e8e7-4cc5-88a8-143fd22f14f8",
   "metadata": {},
   "outputs": [
    {
     "name": "stdout",
     "output_type": "stream",
     "text": [
      "{'name': 'Luis', 'age': '19', 'height': 74, 'college': True, 'siblings': ['Cory', 'Betsy']}\n"
     ]
    }
   ],
   "source": [
    "person[\"siblings\"].append(\"Betsy\")\n",
    "print(person)"
   ]
  },
  {
   "cell_type": "code",
   "execution_count": 21,
   "id": "3c07ceec-07a8-4c22-b4d8-cc8c3c815977",
   "metadata": {},
   "outputs": [
    {
     "name": "stdout",
     "output_type": "stream",
     "text": [
      "{'name': 'Luis', 'age': '19', 'height': 74, 'college': True, 'siblings': ['Cory', 'Betsy'], 'marital': 'married', 'children': 3}\n"
     ]
    }
   ],
   "source": [
    "person_attributes = {\"marital\":\"married\", \"children\": 3}\n",
    "person.update(person_attributes)\n",
    "print(person)"
   ]
  },
  {
   "cell_type": "code",
   "execution_count": 22,
   "id": "26906a96-9db7-4298-8600-f395eef3080c",
   "metadata": {},
   "outputs": [
    {
     "name": "stdout",
     "output_type": "stream",
     "text": [
      "{'FISICA': 'Electricidad', 'MATEMATICAS': 'metodos'}\n"
     ]
    }
   ],
   "source": [
    "courses = {}\n",
    "courses[\"FISICA\"] = \"Electricidad\"\n",
    "courses.update({\"MATEMATICAS\": \"metodos\"})\n",
    "print(courses)"
   ]
  },
  {
   "cell_type": "code",
   "execution_count": 23,
   "id": "07e6a40f-e1cb-4b52-828e-4e55ccb870b8",
   "metadata": {},
   "outputs": [
    {
     "name": "stdout",
     "output_type": "stream",
     "text": [
      "{1: 'one', 2: 'two', 3: 'three'}\n"
     ]
    }
   ],
   "source": [
    "translate = dict([(1, \"one\"),(2, \"two\"),(3, \"three\")])\n",
    "print(translate)"
   ]
  },
  {
   "cell_type": "code",
   "execution_count": 24,
   "id": "a1ba145a-dc9e-4d2e-90fb-43edf1a96e06",
   "metadata": {},
   "outputs": [
    {
     "data": {
      "text/plain": [
       "'one'"
      ]
     },
     "execution_count": 24,
     "metadata": {},
     "output_type": "execute_result"
    }
   ],
   "source": [
    "translate.get(1)"
   ]
  },
  {
   "cell_type": "code",
   "execution_count": 27,
   "id": "5c393f00-b90c-4eae-bf63-dffbb552d0ba",
   "metadata": {},
   "outputs": [
    {
     "name": "stdout",
     "output_type": "stream",
     "text": [
      "{'name': 'luis', 'age': 19, 'skin': 'brown'}\n"
     ]
    }
   ],
   "source": [
    "keys = [\"name\",\"age\",\"skin\"]\n",
    "values = [\"luis\", 19, \"brown\"]\n",
    "zipped = zip(keys, values)\n",
    "\n",
    "person1 = dict(zipped)\n",
    "print(person1)"
   ]
  },
  {
   "cell_type": "code",
   "execution_count": 13,
   "id": "409f7803-5bbb-42ad-b581-f31628f33bc9",
   "metadata": {},
   "outputs": [
    {
     "data": {
      "text/plain": [
       "\u001b[0;31mSignature:\u001b[0m \u001b[0mdict\u001b[0m\u001b[0;34m.\u001b[0m\u001b[0mget\u001b[0m\u001b[0;34m(\u001b[0m\u001b[0mself\u001b[0m\u001b[0;34m,\u001b[0m \u001b[0mkey\u001b[0m\u001b[0;34m,\u001b[0m \u001b[0mdefault\u001b[0m\u001b[0;34m=\u001b[0m\u001b[0;32mNone\u001b[0m\u001b[0;34m,\u001b[0m \u001b[0;34m/\u001b[0m\u001b[0;34m)\u001b[0m\u001b[0;34m\u001b[0m\u001b[0;34m\u001b[0m\u001b[0m\n",
       "\u001b[0;31mDocstring:\u001b[0m Return the value for key if key is in the dictionary, else default.\n",
       "\u001b[0;31mType:\u001b[0m      method_descriptor\n"
      ]
     },
     "metadata": {},
     "output_type": "display_data"
    }
   ],
   "source": [
    "dict.get?"
   ]
  },
  {
   "cell_type": "code",
   "execution_count": 14,
   "id": "2ebb7ff3-a8d8-441d-bfa8-f766edccba6b",
   "metadata": {},
   "outputs": [],
   "source": [
    "my = open('albulist.csv', 'w')"
   ]
  },
  {
   "cell_type": "code",
   "execution_count": 5,
   "id": "2f71cf25-16ee-401c-b903-f3fe992a868b",
   "metadata": {},
   "outputs": [
    {
     "data": {
      "text/plain": [
       "5"
      ]
     },
     "execution_count": 5,
     "metadata": {},
     "output_type": "execute_result"
    }
   ],
   "source": [
    "keys = [1,2,3,4,5]\n",
    "keys[-1]"
   ]
  },
  {
   "cell_type": "code",
   "execution_count": 11,
   "id": "74262638-b5f2-4bbc-a707-058b6d66a363",
   "metadata": {},
   "outputs": [
    {
     "name": "stdout",
     "output_type": "stream",
     "text": [
      "Object `items` not found.\n"
     ]
    }
   ],
   "source": [
    "items?"
   ]
  },
  {
   "cell_type": "code",
   "execution_count": null,
   "id": "dad3c5d0-cddb-4678-a1ce-c44d31e92643",
   "metadata": {},
   "outputs": [],
   "source": []
  }
 ],
 "metadata": {
  "kernelspec": {
   "display_name": "Python 3 (ipykernel)",
   "language": "python",
   "name": "python3"
  },
  "language_info": {
   "codemirror_mode": {
    "name": "ipython",
    "version": 3
   },
   "file_extension": ".py",
   "mimetype": "text/x-python",
   "name": "python",
   "nbconvert_exporter": "python",
   "pygments_lexer": "ipython3",
   "version": "3.9.7"
  }
 },
 "nbformat": 4,
 "nbformat_minor": 5
}
