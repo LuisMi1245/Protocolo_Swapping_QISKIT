{
 "cells": [
  {
   "cell_type": "code",
   "execution_count": 1,
   "id": "d26b7c09",
   "metadata": {},
   "outputs": [
    {
     "name": "stdout",
     "output_type": "stream",
     "text": [
      "IPython console for SymPy 1.11.1 (Python 3.11.2-64-bit) (ground types: python)\n",
      "\n",
      "These commands were executed:\n",
      ">>> from sympy import *\n",
      ">>> x, y, z, t = symbols('x y z t')\n",
      ">>> k, m, n = symbols('k m n', integer=True)\n",
      ">>> f, g, h = symbols('f g h', cls=Function)\n",
      ">>> init_printing()\n",
      "\n",
      "Documentation can be found at https://docs.sympy.org/1.11.1/\n",
      "\n"
     ]
    }
   ],
   "source": [
    "from sympy import init_session\n",
    "init_session()"
   ]
  },
  {
   "cell_type": "code",
   "execution_count": 2,
   "id": "cc875103",
   "metadata": {},
   "outputs": [],
   "source": [
    "A = Matrix([\n",
    "    [1,0],\n",
    "    [1,1]\n",
    "]) \n",
    "\n",
    "M = A*A.T"
   ]
  },
  {
   "cell_type": "code",
   "execution_count": 3,
   "id": "ce6f4459",
   "metadata": {},
   "outputs": [
    {
     "data": {
      "text/latex": [
       "$\\displaystyle \\left( \\left[\\begin{matrix}- \\frac{\\sqrt{5}}{2} - \\frac{1}{2} & - \\frac{1}{2} + \\frac{\\sqrt{5}}{2}\\\\1 & 1\\end{matrix}\\right], \\  \\left[\\begin{matrix}\\frac{3}{2} - \\frac{\\sqrt{5}}{2} & 0\\\\0 & \\frac{\\sqrt{5}}{2} + \\frac{3}{2}\\end{matrix}\\right]\\right)$"
      ],
      "text/plain": [
       "⎛                      ⎡3   √5        ⎤⎞\n",
       "⎜⎡  √5   1    1   √5⎤  ⎢─ - ──    0   ⎥⎟\n",
       "⎜⎢- ── - ─  - ─ + ──⎥  ⎢2   2         ⎥⎟\n",
       "⎜⎢  2    2    2   2 ⎥, ⎢              ⎥⎟\n",
       "⎜⎢                  ⎥  ⎢        √5   3⎥⎟\n",
       "⎜⎣   1         1    ⎦  ⎢  0     ── + ─⎥⎟\n",
       "⎝                      ⎣        2    2⎦⎠"
      ]
     },
     "execution_count": 3,
     "metadata": {},
     "output_type": "execute_result"
    }
   ],
   "source": [
    "M.diagonalize()"
   ]
  },
  {
   "cell_type": "code",
   "execution_count": 4,
   "id": "cb86d7e0",
   "metadata": {},
   "outputs": [],
   "source": [
    "norma1 = sqrt(((-Rational(1/2))+(sqrt(5)/2))**2+(1)**2)\n",
    "norma2 = sqrt(((-Rational(1/2))-(sqrt(5)/2))**2+(1)**2)"
   ]
  },
  {
   "cell_type": "code",
   "execution_count": 5,
   "id": "b7f8da83",
   "metadata": {},
   "outputs": [],
   "source": [
    "L1 = Matrix([\n",
    "    [(-Rational(1/2))+(sqrt(5)/2)],\n",
    "    [1]\n",
    "])\n",
    "L2 = Matrix([\n",
    "    [(-Rational(1/2))-(sqrt(5)/2)],\n",
    "    [1]\n",
    "])"
   ]
  },
  {
   "cell_type": "code",
   "execution_count": 6,
   "id": "61e933f9",
   "metadata": {},
   "outputs": [],
   "source": [
    "L1N = L1/norma1\n",
    "L2N = L2/norma2"
   ]
  },
  {
   "cell_type": "code",
   "execution_count": 7,
   "id": "426f3c62",
   "metadata": {},
   "outputs": [
    {
     "data": {
      "text/latex": [
       "$\\displaystyle \\left[\\begin{matrix}\\frac{- \\sqrt{2} + \\sqrt{10}}{2 \\sqrt{5 - \\sqrt{5}}}\\\\\\frac{\\sqrt{2}}{\\sqrt{5 - \\sqrt{5}}}\\end{matrix}\\right]$"
      ],
      "text/plain": [
       "⎡ -√2 + √10  ⎤\n",
       "⎢────────────⎥\n",
       "⎢    ________⎥\n",
       "⎢2⋅╲╱ 5 - √5 ⎥\n",
       "⎢            ⎥\n",
       "⎢     √2     ⎥\n",
       "⎢ ────────── ⎥\n",
       "⎢   ________ ⎥\n",
       "⎣ ╲╱ 5 - √5  ⎦"
      ]
     },
     "execution_count": 7,
     "metadata": {},
     "output_type": "execute_result"
    }
   ],
   "source": [
    "expand(L1N).simplify()"
   ]
  },
  {
   "cell_type": "code",
   "execution_count": 8,
   "id": "2b4069e1",
   "metadata": {},
   "outputs": [
    {
     "data": {
      "text/latex": [
       "$\\displaystyle \\left[\\begin{matrix}\\frac{- \\sqrt{10} - \\sqrt{2}}{2 \\sqrt{\\sqrt{5} + 5}}\\\\\\frac{\\sqrt{2}}{\\sqrt{\\sqrt{5} + 5}}\\end{matrix}\\right]$"
      ],
      "text/plain": [
       "⎡ -√10 - √2  ⎤\n",
       "⎢────────────⎥\n",
       "⎢    ________⎥\n",
       "⎢2⋅╲╱ √5 + 5 ⎥\n",
       "⎢            ⎥\n",
       "⎢     √2     ⎥\n",
       "⎢ ────────── ⎥\n",
       "⎢   ________ ⎥\n",
       "⎣ ╲╱ √5 + 5  ⎦"
      ]
     },
     "execution_count": 8,
     "metadata": {},
     "output_type": "execute_result"
    }
   ],
   "source": [
    "expand(L2N).simplify()"
   ]
  },
  {
   "cell_type": "code",
   "execution_count": 9,
   "id": "d9d8af56",
   "metadata": {},
   "outputs": [],
   "source": [
    "L1_val = (3+sqrt(5))/2\n",
    "L2_val = (3-sqrt(5))/2"
   ]
  },
  {
   "cell_type": "code",
   "execution_count": 10,
   "id": "a1634839",
   "metadata": {},
   "outputs": [],
   "source": [
    "K = sqrt(L1_val)*(L1N*L1N.T)+sqrt(L2_val)*(L2N*L2N.T)"
   ]
  },
  {
   "cell_type": "code",
   "execution_count": 12,
   "id": "cb23500f",
   "metadata": {},
   "outputs": [
    {
     "data": {
      "text/latex": [
       "$\\displaystyle \\left[\\begin{matrix}0.894427190999916 & 0.447213595499958\\\\0.447213595499958 & 1.34164078649987\\end{matrix}\\right]$"
      ],
      "text/plain": [
       "⎡0.894427190999916  0.447213595499958⎤\n",
       "⎢                                    ⎥\n",
       "⎣0.447213595499958  1.34164078649987 ⎦"
      ]
     },
     "execution_count": 12,
     "metadata": {},
     "output_type": "execute_result"
    }
   ],
   "source": [
    "N(K)"
   ]
  },
  {
   "cell_type": "code",
   "execution_count": 13,
   "id": "bc53966e",
   "metadata": {},
   "outputs": [],
   "source": [
    "U = K**(-1)*A"
   ]
  },
  {
   "cell_type": "code",
   "execution_count": 14,
   "id": "7c3d2be9",
   "metadata": {},
   "outputs": [],
   "source": [
    "A = K*U"
   ]
  },
  {
   "cell_type": "code",
   "execution_count": 16,
   "id": "8d617b3b",
   "metadata": {},
   "outputs": [
    {
     "data": {
      "text/latex": [
       "$\\displaystyle \\left[\\begin{matrix}1.0 & 6.0 \\cdot 10^{-126}\\\\1.0 & 1.0\\end{matrix}\\right]$"
      ],
      "text/plain": [
       "⎡1.0  0.e-125⎤\n",
       "⎢            ⎥\n",
       "⎣1.0    1.0  ⎦"
      ]
     },
     "execution_count": 16,
     "metadata": {},
     "output_type": "execute_result"
    }
   ],
   "source": [
    "N(A)"
   ]
  },
  {
   "cell_type": "code",
   "execution_count": 18,
   "id": "5b7b5196",
   "metadata": {},
   "outputs": [
    {
     "data": {
      "text/latex": [
       "$\\displaystyle \\left[\\begin{matrix}0.894427190999916 & -0.447213595499958\\\\0.447213595499958 & 0.894427190999916\\end{matrix}\\right]$"
      ],
      "text/plain": [
       "⎡0.894427190999916  -0.447213595499958⎤\n",
       "⎢                                     ⎥\n",
       "⎣0.447213595499958  0.894427190999916 ⎦"
      ]
     },
     "execution_count": 18,
     "metadata": {},
     "output_type": "execute_result"
    }
   ],
   "source": [
    "N(U)"
   ]
  },
  {
   "cell_type": "code",
   "execution_count": null,
   "id": "fbd3090c",
   "metadata": {},
   "outputs": [],
   "source": []
  }
 ],
 "metadata": {
  "kernelspec": {
   "display_name": "Python 3 (ipykernel)",
   "language": "python",
   "name": "python3"
  },
  "language_info": {
   "codemirror_mode": {
    "name": "ipython",
    "version": 3
   },
   "file_extension": ".py",
   "mimetype": "text/x-python",
   "name": "python",
   "nbconvert_exporter": "python",
   "pygments_lexer": "ipython3",
   "version": "3.11.4"
  }
 },
 "nbformat": 4,
 "nbformat_minor": 5
}
