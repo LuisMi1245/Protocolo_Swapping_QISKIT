{
 "cells": [
  {
   "cell_type": "markdown",
   "id": "dc9f5c2d-4da6-4032-8118-5a8af8dd6f14",
   "metadata": {},
   "source": [
    "# Instalación de Python y Qiskit en MacOS"
   ]
  },
  {
   "cell_type": "markdown",
   "id": "7bc0063b-5c2b-49bd-a36b-2f1d0d526662",
   "metadata": {},
   "source": [
    "Profe, quería dejarle el paso a paso para trabajar con Qiskit y las bibliotecas de Python en general.\n",
    "Hágalo cuando pueda y tenga el tiempo profe.\n",
    "Por cierto, no suelo sugerir usar el entorno científico Anaconda porque algunos paquetes (y Qiskit) no se encuentran en sus repositorios."
   ]
  },
  {
   "cell_type": "markdown",
   "id": "b6d3a84a-1ad5-4b89-ac64-e18478ad5979",
   "metadata": {},
   "source": [
    "## Paso a Paso:"
   ]
  },
  {
   "cell_type": "markdown",
   "id": "b373f194-44c4-4f45-928d-9aab4edd327b",
   "metadata": {},
   "source": [
    "Si ya instaló python, omita los pasos 1, 2 y 3.\n",
    "\n",
    "1. En su ordenador Mac, el sistema operativo por defecto trae una versión vieja de Python instalada pero que ya no es soportada para proyectos nuevos. Por ende, descarga el instalador del sitio oficial: https://www.python.org/downloads/macos/\n",
    "2. Durante la instalación, presiona sucesivas veces hasta llegar a <u>Tipo de Instalación</u>. Allí, presione <u>Instalación Personalizada</u> y asegúrese que esté seleccionada la opción <u>Instalar o Actualizar PIP</u>. Y listo, solo resta darle a \"Instalar\".\n",
    "3. Para verificar la instalación, use su Spotlight o buscador de aplicaciones para abrir la aplicación \"Terminal.app\". Dentro de su terminal escriba lo siguiente:\n",
    "\n",
    "    > python3 --version\n",
    "    \n",
    "    * Obtendrá la versión de python 3 que descargó e instaló en el ordenador.\n",
    "\n",
    "4. Dado que no deseamos modificar las bibliotecas python que usa su ordenador de forma nativa en el sistema operativo, usaremos un **Entorno Virtual** (un entorno virtual es una carpeta que se creará en un directorio que usted escoja y que contiene las bibliotecas python que usted requiera para desarrollar miniproyectos individuales; la ventaja de los entornos virtuales radica en evitar los conflictos con los paquetes python del sistema operativo o de otros proyectos). Para crear un entorno virtual, debemos instalar la biblioteca **virtualenv** así:\n",
    "    \n",
    "    * Primero actualizamos pip:\n",
    "    \n",
    "    > python3 -m pip install --user --upgrade pip\n",
    "    \n",
    "    * Luego, instalamos **virtualenv**:\n",
    "    \n",
    "    > python3 -m pip install --user virtualenv\n",
    "    \n",
    "    * Ahora, vamos a crear un miniproyecto donde se trabajará todo lo relacionado con Qiskit y el semillero. Sugiero crear una carpeta en su escritorio con el nombre \"Qiskit_Semillero\" como ejemplo. Para crear un entorno virtual dentro de dicha carpeta, usaremos el siguiente comando:\n",
    "    \n",
    "    > python3 -m venv /Users/[NOMBRE_USARIO]/Desktop/Qiskit_Semillero/env\n",
    "    \n",
    "    * (Sustituya [NOMBRE_USUARIO] por su usuario). Este comando creará una carpeta llamada \"env\" con bibliotecas python dentro de la carpeta \"Qiskit_Semillero\".\n",
    "\n",
    "5. Ya tenemos todo listo, solo falta activar el entorno virtual (por activar se refiere a que la terminal de su Mac tomará en cuenta los ejecutables y las bibliotecas de el entorno virtual de su proyecto y no los del sistema), con los siguientes comandos:\n",
    "\n",
    "    * (Con este comando entrará a la carpeta Qiskit_Semillero que se creó)\n",
    "    \n",
    "    > cd /Users/[NOMBRE_USARIO]/Desktop/Qiskit_Semillero/\n",
    "    \n",
    "    * (Activamos el entorno virtual)\n",
    "    \n",
    "    > source env/bin/activate\n",
    "    \n",
    "    * Para corroborar que lo hicimos bien:\n",
    "    \n",
    "    > which python\n",
    "    \n",
    "    * Deberá arrojar como salida la ruta: */Users/[NOMBRE_USUARIO]/Desktop/Qiskit_Semillero/env/bin/python*\n",
    "    * (Recuerde que activar un entorno virtual es temporal, cada vez que se cierre la terminal habrá que activar nuevamente el entorno virtual) \n",
    "    \n",
    "6. Instale Qiskit en su entorno virtual así:\n",
    "\n",
    "    > python3 -m pip install qiskit\n",
    "    \n",
    "    * (Este comando instalará el soporte para la visualización en Jupyterlab) \n",
    "    \n",
    "    > python3 -m pip install qiskit[visualization]\n",
    "    \n",
    "7. Instale Jupyterlab en su entorno virtual así:\n",
    "\n",
    "    > python3 -m pip install jupyterlab\n",
    "    \n",
    "8. Para comprobar que instaló Jupyterlab y Qiskit, ejecute:\n",
    "\n",
    "    > python3 -m pip list\n",
    "    \n",
    "    * En el listado de bibliotecas deberá aparecer Qiskit y Jupyterlab.\n",
    "    \n",
    "9. Para usar Qiskit y probar que todo se instaló y funciona correctamente, (con su entorno virtual activado siempre) ejecute:\n",
    "\n",
    "    > python3 -m jupyterlab\n",
    "    \n",
    "    * Se le abrirá una pestaña en su navegador web (Safari o Chrome) con el entorno de programación Jupyterlab. En Jupyter, vaya a la pestaña \"File/New/Notebook\". Se le creará un notebook de python.\n",
    "    \n",
    "10. En su notebook de python, en la primera celda, pegue este código:"
   ]
  },
  {
   "cell_type": "code",
   "execution_count": 1,
   "id": "76431ccb-8826-4b55-90d6-25402e1a915e",
   "metadata": {},
   "outputs": [
    {
     "name": "stdout",
     "output_type": "stream",
     "text": [
      "Este código funciona!\n"
     ]
    },
    {
     "data": {
      "text/html": [
       "<pre style=\"word-wrap: normal;white-space: pre;background: #fff0;line-height: 1.1;font-family: &quot;Courier New&quot;,Courier,monospace\">        ┌───┐      ░ ┌─┐   \n",
       "   q_0: ┤ H ├──■───░─┤M├───\n",
       "        └───┘┌─┴─┐ ░ └╥┘┌─┐\n",
       "   q_1: ─────┤ X ├─░──╫─┤M├\n",
       "             └───┘ ░  ║ └╥┘\n",
       "meas: 2/══════════════╩══╩═\n",
       "                      0  1 </pre>"
      ],
      "text/plain": [
       "        ┌───┐      ░ ┌─┐   \n",
       "   q_0: ┤ H ├──■───░─┤M├───\n",
       "        └───┘┌─┴─┐ ░ └╥┘┌─┐\n",
       "   q_1: ─────┤ X ├─░──╫─┤M├\n",
       "             └───┘ ░  ║ └╥┘\n",
       "meas: 2/══════════════╩══╩═\n",
       "                      0  1 "
      ]
     },
     "execution_count": 1,
     "metadata": {},
     "output_type": "execute_result"
    }
   ],
   "source": [
    "print(\"Este código funciona!\")\n",
    "from qiskit import QuantumCircuit\n",
    "qc = QuantumCircuit(2) # Crea un circuito cuántico con 2 qúbits.\n",
    "qc.h(0)    # Aplica la puerta Hadamard en el qúbit q0\n",
    "qc.cx(0,1) # Aplica la puerta CNOT en el qúbit q1 controlado por q0\n",
    "qc.measure_all() # Medir\n",
    "qc.draw() # Pintar el circuito"
   ]
  },
  {
   "cell_type": "markdown",
   "id": "0275db70-7618-4a4e-abb3-abf28894ffb1",
   "metadata": {},
   "source": [
    "Como salida obtendrá el circuito cuántico en caracteres unicode."
   ]
  }
 ],
 "metadata": {
  "kernelspec": {
   "display_name": "Python 3 (ipykernel)",
   "language": "python",
   "name": "python3"
  },
  "language_info": {
   "codemirror_mode": {
    "name": "ipython",
    "version": 3
   },
   "file_extension": ".py",
   "mimetype": "text/x-python",
   "name": "python",
   "nbconvert_exporter": "python",
   "pygments_lexer": "ipython3",
   "version": "3.9.9"
  }
 },
 "nbformat": 4,
 "nbformat_minor": 5
}
