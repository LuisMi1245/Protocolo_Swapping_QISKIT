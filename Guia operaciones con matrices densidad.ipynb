{
 "cells": [
  {
   "cell_type": "code",
   "execution_count": 1,
   "id": "59a8d4ef",
   "metadata": {},
   "outputs": [
    {
     "name": "stdout",
     "output_type": "stream",
     "text": [
      "IPython console for SymPy 1.12 (Python 3.11.3-64-bit) (ground types: python)\n",
      "\n",
      "These commands were executed:\n",
      ">>> from sympy import *\n",
      ">>> x, y, z, t = symbols('x y z t')\n",
      ">>> k, m, n = symbols('k m n', integer=True)\n",
      ">>> f, g, h = symbols('f g h', cls=Function)\n",
      ">>> init_printing()\n",
      "\n",
      "Documentation can be found at https://docs.sympy.org/1.12/\n",
      "\n"
     ]
    }
   ],
   "source": [
    "from sympy import init_session\n",
    "init_session() #importar session"
   ]
  },
  {
   "cell_type": "code",
   "execution_count": null,
   "id": "d9e422f8",
   "metadata": {},
   "outputs": [],
   "source": [
    "from sympy.physics.quantum import TensorProduct"
   ]
  },
  {
   "cell_type": "code",
   "execution_count": null,
   "id": "00032c81",
   "metadata": {},
   "outputs": [],
   "source": [
    "I = Matrix([\n",
    "    [1, 0],\n",
    "    [0, 1]\n",
    "])"
   ]
  },
  {
   "cell_type": "code",
   "execution_count": null,
   "id": "536917c9",
   "metadata": {},
   "outputs": [],
   "source": [
    "TensorProduct(I,I)"
   ]
  },
  {
   "cell_type": "code",
   "execution_count": null,
   "id": "01713cfa",
   "metadata": {},
   "outputs": [],
   "source": [
    "I.norm()"
   ]
  },
  {
   "cell_type": "code",
   "execution_count": null,
   "id": "28026dce",
   "metadata": {},
   "outputs": [],
   "source": [
    "TensorProduct(I/I.norm(),I/I.norm())"
   ]
  },
  {
   "cell_type": "code",
   "execution_count": null,
   "id": "d55b781d",
   "metadata": {},
   "outputs": [],
   "source": [
    "ket_0 = Matrix([[1],[0]])\n",
    "ket_1 = Matrix([[0],[1]])"
   ]
  },
  {
   "cell_type": "code",
   "execution_count": null,
   "id": "506f203f",
   "metadata": {},
   "outputs": [],
   "source": [
    "ket_0*ket_0.T"
   ]
  },
  {
   "cell_type": "code",
   "execution_count": null,
   "id": "9f1aa117",
   "metadata": {},
   "outputs": [],
   "source": [
    "from qiskit.quantum_info import partial_trace\n",
    "from qiskit.quantum_info import DensityMatrix\n",
    "((1/2)*ket_0*ket_0.T+(1/2)*ket_1*ket_1.T).trace()"
   ]
  },
  {
   "cell_type": "code",
   "execution_count": null,
   "id": "cd73b800",
   "metadata": {},
   "outputs": [],
   "source": [
    "bell_00 = (1/sqrt(2))*(TensorProduct(ket_0,ket_0)+TensorProduct(ket_1,ket_1))"
   ]
  },
  {
   "cell_type": "code",
   "execution_count": null,
   "id": "addf0e34",
   "metadata": {},
   "outputs": [],
   "source": [
    "from sympy.physics.quantum.dagger import Dagger\n",
    "import numpy as np"
   ]
  },
  {
   "cell_type": "code",
   "execution_count": null,
   "id": "819331de",
   "metadata": {},
   "outputs": [],
   "source": [
    "rho_00 = DensityMatrix(np.asarray(bell_00*Dagger(bell_00)))"
   ]
  },
  {
   "cell_type": "code",
   "execution_count": null,
   "id": "3b7e5d5b",
   "metadata": {},
   "outputs": [],
   "source": [
    "rhoA = partial_trace(rho_00, [0])\n",
    "rhoB = partial_trace(rho_00, [1])"
   ]
  },
  {
   "cell_type": "code",
   "execution_count": null,
   "id": "a24c5e48",
   "metadata": {},
   "outputs": [],
   "source": [
    "TensorProduct(np.asarray(rhoA),np.asarray(rhoB))"
   ]
  },
  {
   "cell_type": "code",
   "execution_count": null,
   "id": "5767150b",
   "metadata": {
    "scrolled": true
   },
   "outputs": [],
   "source": [
    "rho_00"
   ]
  },
  {
   "cell_type": "code",
   "execution_count": 2,
   "id": "d87d6820",
   "metadata": {},
   "outputs": [],
   "source": [
    "alpha, theta, nx, ny, nz = symbols(\"alpha theta n_x n_y n_z\", real=True)"
   ]
  },
  {
   "cell_type": "code",
   "execution_count": 3,
   "id": "5fead35c-7e92-45bd-9f34-b06e9669beda",
   "metadata": {},
   "outputs": [],
   "source": [
    "Eq1 = Eq(exp(I*alpha)*(cos(theta/2)-I*nz*sin(theta/2)), 0) #(1,1)\n",
    "Eq2 = Eq(exp(I*alpha)*(cos(theta/2)+I*nz*sin(theta/2)), 0) #(2,2)\n",
    "Eq3 = Eq(-exp(I*alpha)*I*sin(theta/2)*(nx-I*ny), 1) #(1,2)\n",
    "Eq4 = Eq(-exp(I*alpha)*I*sin(theta/2)*(nx+I*ny), 1) #(2,1)\n",
    "Eq5 = Eq(nx**2 + ny**2 + nz**2, 1)"
   ]
  },
  {
   "cell_type": "code",
   "execution_count": 4,
   "id": "4aaa1b92-1c6e-409e-9aa7-6aa5fea08f23",
   "metadata": {},
   "outputs": [
    {
     "data": {
      "text/latex": [
       "$\\displaystyle \\left[\\begin{matrix}1.5707963267949\\\\3.14159265358979\\\\1.0\\\\-1.8550820777812 \\cdot 10^{-28}\\\\-1.85508201098374 \\cdot 10^{-28}\\end{matrix}\\right]$"
      ],
      "text/plain": [
       "⎡   1.5707963267949   ⎤\n",
       "⎢                     ⎥\n",
       "⎢  3.14159265358979   ⎥\n",
       "⎢                     ⎥\n",
       "⎢         1.0         ⎥\n",
       "⎢                     ⎥\n",
       "⎢-1.8550820777812e-28 ⎥\n",
       "⎢                     ⎥\n",
       "⎣-1.85508201098374e-28⎦"
      ]
     },
     "execution_count": 4,
     "metadata": {},
     "output_type": "execute_result"
    }
   ],
   "source": [
    "re(nsolve((Eq1,Eq2,Eq3,Eq4,Eq5), (alpha, theta, nx, ny, nz), (0.5,0.5,0.5,0.5,0.5)))"
   ]
  },
  {
   "cell_type": "code",
   "execution_count": null,
   "id": "4144bf9c-4dcb-4a26-9f56-ca2f2ca2289d",
   "metadata": {},
   "outputs": [],
   "source": []
  }
 ],
 "metadata": {
  "kernelspec": {
   "display_name": "Python 3 (ipykernel)",
   "language": "python",
   "name": "python3"
  },
  "language_info": {
   "codemirror_mode": {
    "name": "ipython",
    "version": 3
   },
   "file_extension": ".py",
   "mimetype": "text/x-python",
   "name": "python",
   "nbconvert_exporter": "python",
   "pygments_lexer": "ipython3",
   "version": "3.11.3"
  }
 },
 "nbformat": 4,
 "nbformat_minor": 5
}
