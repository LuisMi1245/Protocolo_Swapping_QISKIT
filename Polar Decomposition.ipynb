{
 "cells": [
  {
   "cell_type": "code",
   "execution_count": 2,
   "id": "fea593ba",
   "metadata": {},
   "outputs": [],
   "source": [
    "import numpy as np\n",
    "from scipy.linalg import polar"
   ]
  },
  {
   "cell_type": "code",
   "execution_count": 3,
   "id": "0f25e945",
   "metadata": {},
   "outputs": [],
   "source": [
    "A = np.array([[1, 0], [1, 1]])"
   ]
  },
  {
   "cell_type": "code",
   "execution_count": 5,
   "id": "948286ab",
   "metadata": {},
   "outputs": [],
   "source": [
    "P, U = polar(A, side='left')"
   ]
  },
  {
   "cell_type": "code",
   "execution_count": 6,
   "id": "4bf042b4",
   "metadata": {},
   "outputs": [
    {
     "data": {
      "text/plain": [
       "array([[ 0.89442719, -0.4472136 ],\n",
       "       [ 0.4472136 ,  0.89442719]])"
      ]
     },
     "execution_count": 6,
     "metadata": {},
     "output_type": "execute_result"
    }
   ],
   "source": [
    "P"
   ]
  },
  {
   "cell_type": "code",
   "execution_count": 7,
   "id": "4cdb38d8",
   "metadata": {},
   "outputs": [
    {
     "data": {
      "text/plain": [
       "array([[0.89442719, 0.4472136 ],\n",
       "       [0.4472136 , 1.34164079]])"
      ]
     },
     "execution_count": 7,
     "metadata": {},
     "output_type": "execute_result"
    }
   ],
   "source": [
    "U"
   ]
  },
  {
   "cell_type": "code",
   "execution_count": 6,
   "id": "df8db663",
   "metadata": {},
   "outputs": [
    {
     "data": {
      "text/latex": [
       "$\\displaystyle \\left[\\begin{matrix}-268125 & -826875 & -271875\\\\3158125 & 3256875 & 3153125\\\\2359375 & 2109375 & 2365625\\end{matrix}\\right]$"
      ],
      "text/plain": [
       "⎡-268125  -826875  -271875⎤\n",
       "⎢                         ⎥\n",
       "⎢3158125  3256875  3153125⎥\n",
       "⎢                         ⎥\n",
       "⎣2359375  2109375  2365625⎦"
      ]
     },
     "execution_count": 6,
     "metadata": {},
     "output_type": "execute_result"
    }
   ],
   "source": [
    "u*d*u.T*a"
   ]
  },
  {
   "cell_type": "code",
   "execution_count": 5,
   "id": "04547d42",
   "metadata": {},
   "outputs": [],
   "source": [
    "from qiskit import QuantumCircuit, Aer, execute\n",
    "\n",
    "qc = QuantumCircuit(2)\n",
    "qc.cx(1, 0)\n",
    "\n",
    "# Crear un simulador de matriz unitaria\n",
    "simulator = Aer.get_backend('unitary_simulator')\n",
    "# Ejecutar el circuito en el simulador\n",
    "job = execute(qc, simulator)\n",
    "# Obtener la matriz unitaria resultante\n",
    "result = job.result()\n",
    "unitary_matrix = result.get_unitary()"
   ]
  },
  {
   "cell_type": "code",
   "execution_count": 6,
   "id": "0582a261-2589-4b60-a91f-e0be4793594d",
   "metadata": {},
   "outputs": [
    {
     "data": {
      "text/plain": [
       "Operator([[1.+0.j, 0.+0.j, 0.+0.j, 0.+0.j],\n",
       "          [0.+0.j, 1.+0.j, 0.+0.j, 0.+0.j],\n",
       "          [0.+0.j, 0.+0.j, 0.+0.j, 1.+0.j],\n",
       "          [0.+0.j, 0.+0.j, 1.+0.j, 0.+0.j]],\n",
       "         input_dims=(2, 2), output_dims=(2, 2))"
      ]
     },
     "execution_count": 6,
     "metadata": {},
     "output_type": "execute_result"
    }
   ],
   "source": [
    "unitary_matrix"
   ]
  },
  {
   "cell_type": "code",
   "execution_count": 7,
   "id": "914cf460-49c7-4e59-b014-c58ccf7a3df6",
   "metadata": {},
   "outputs": [
    {
     "data": {
      "image/png": "[encoded data removed]",
      "text/plain": [
       "<Figure size 203.683x200.667 with 1 Axes>"
      ]
     },
     "execution_count": 7,
     "metadata": {},
     "output_type": "execute_result"
    }
   ],
   "source": [
    "qc.draw(\"mpl\")"
   ]
  },
  {
   "cell_type": "code",
   "execution_count": 8,
   "id": "4040d696-e23b-4d37-8db8-8779162ce84f",
   "metadata": {},
   "outputs": [
    {
     "data": {
      "text/latex": [
       "$$\n",
       "\n",
       "\\begin{bmatrix}\n",
       "1 & 0 & 0 & 0  \\\\\n",
       " 0 & 1 & 0 & 0  \\\\\n",
       " 0 & 0 & 0 & 1  \\\\\n",
       " 0 & 0 & 1 & 0  \\\\\n",
       " \\end{bmatrix}\n",
       "$$"
      ],
      "text/plain": [
       "<IPython.core.display.Latex object>"
      ]
     },
     "execution_count": 8,
     "metadata": {},
     "output_type": "execute_result"
    }
   ],
   "source": [
    "from qiskit.visualization import array_to_latex\n",
    "array_to_latex(unitary_matrix)"
   ]
  },
  {
   "cell_type": "code",
   "execution_count": 25,
   "id": "643e039a-c3cb-4f63-955e-bea9f21b5a03",
   "metadata": {},
   "outputs": [],
   "source": [
    "import numpy as np\n",
    "CX = np.array([\n",
    "    [1., 0., 0., 0.],\n",
    "    [0., 0., 0., 1.],\n",
    "    [0., 0., 1., 0.],\n",
    "    [0., 1., 0., 0.]\n",
    "])"
   ]
  },
  {
   "cell_type": "code",
   "execution_count": 28,
   "id": "62c3a7a0-8c73-4cba-8454-e9ed0bae50f0",
   "metadata": {},
   "outputs": [],
   "source": [
    "state = np.array([\n",
    "    [0],[1],[0],[0]\n",
    "])"
   ]
  },
  {
   "cell_type": "code",
   "execution_count": 29,
   "id": "9dfb352f-a2b3-4455-85b1-b30beb3a50fa",
   "metadata": {},
   "outputs": [
    {
     "data": {
      "text/plain": [
       "array([[0.],\n",
       "       [0.],\n",
       "       [0.],\n",
       "       [1.]])"
      ]
     },
     "execution_count": 29,
     "metadata": {},
     "output_type": "execute_result"
    }
   ],
   "source": [
    "CX@state"
   ]
  },
  {
   "cell_type": "code",
   "execution_count": null,
   "id": "361e82bf-5926-4dd6-ab6f-323109c89a07",
   "metadata": {},
   "outputs": [],
   "source": []
  }
 ],
 "metadata": {
  "kernelspec": {
   "display_name": "Python 3 (ipykernel)",
   "language": "python",
   "name": "python3"
  },
  "language_info": {
   "codemirror_mode": {
    "name": "ipython",
    "version": 3
   },
   "file_extension": ".py",
   "mimetype": "text/x-python",
   "name": "python",
   "nbconvert_exporter": "python",
   "pygments_lexer": "ipython3",
   "version": "3.11.3"
  }
 },
 "nbformat": 4,
 "nbformat_minor": 5
}
